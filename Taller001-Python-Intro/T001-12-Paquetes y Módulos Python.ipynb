{
 "cells": [
  {
   "cell_type": "markdown",
   "metadata": {},
   "source": [
    "# 12. Paquetes y Módulos de Python\n",
    "\n",
    "El lenguaje de programación cuenta con una amplia variedad de módulos y paquetes incorporados para facilitar el desarrollo de diferentes tareas:\n",
    "\n",
    "1. Manipulación de archivos\n",
    "2. Acceso a la red\n",
    "3. Base de datos SQLite3\n",
    "4. Gestión de texto\n",
    "5. Matemáticas y números\n",
    "6. Programación funcional\n",
    "7. Compresión de archivos\n",
    "8. Manipulación de archivos CSV\n",
    "9. Criptografía"
   ]
  },
  {
   "cell_type": "code",
   "execution_count": null,
   "metadata": {},
   "outputs": [],
   "source": []
  }
 ],
 "metadata": {
  "kernelspec": {
   "display_name": "Python 3",
   "language": "python",
   "name": "python3"
  },
  "language_info": {
   "codemirror_mode": {
    "name": "ipython",
    "version": 3
   },
   "file_extension": ".py",
   "mimetype": "text/x-python",
   "name": "python",
   "nbconvert_exporter": "python",
   "pygments_lexer": "ipython3",
   "version": "3.8.3"
  }
 },
 "nbformat": 4,
 "nbformat_minor": 4
}
