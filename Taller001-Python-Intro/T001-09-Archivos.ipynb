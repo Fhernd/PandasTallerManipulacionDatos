{
 "cells": [
  {
   "cell_type": "markdown",
   "metadata": {},
   "source": [
    "# 9. Archivos"
   ]
  },
  {
   "cell_type": "markdown",
   "metadata": {},
   "source": [
    "## 9.1 ¿Qué es un archivo?\n",
    "\n",
    "Un archivo es un contenedor de información. En un archivo la información se almacena como un conjunto de bytes consecutivos. En el interior del archivo, la información se organiza acorde a un formato concreto (texto, binario, executable, etc.).\n",
    "\n",
    "Los archivos se representan como series de unos (1) y ceros (0) para ser procesador por el sistema (computador)."
   ]
  },
  {
   "cell_type": "markdown",
   "metadata": {},
   "source": [
    "Un archivo se organiza en tres partes:\n",
    "\n",
    "1. Encabezado - tiene la metadata del contenido del archivo (nombre, tamaño, tipo, etc).\n",
    "2. Datos - contenido del archivo\n",
    "3. Fin del archivo - EOF (End-Of-File)."
   ]
  },
  {
   "cell_type": "markdown",
   "metadata": {},
   "source": [
    "## 9.2 Operaciones básicas sobre un archivo"
   ]
  },
  {
   "cell_type": "markdown",
   "metadata": {},
   "source": [
    "Ejemplo 9.2.1: Obtener la ruta actual del archivo en edición."
   ]
  },
  {
   "cell_type": "code",
   "execution_count": null,
   "metadata": {},
   "outputs": [],
   "source": [
    "import pathlib\n",
    "\n",
    "resultado = pathlib.Path().resolve()\n",
    "\n",
    "resultado"
   ]
  },
  {
   "cell_type": "markdown",
   "metadata": {},
   "source": [
    "Ejemplo 9.2.2: Obtener el nombre del archivo actual."
   ]
  },
  {
   "cell_type": "code",
   "execution_count": null,
   "metadata": {},
   "outputs": [],
   "source": [
    "%%javascript\n",
    "IPython.notebook.kernel.execute(`notebookname = '${window.document.getElementById(\"notebook_name\").innerHTML}'`)"
   ]
  },
  {
   "cell_type": "code",
   "execution_count": null,
   "metadata": {},
   "outputs": [],
   "source": [
    "notebookname"
   ]
  },
  {
   "cell_type": "code",
   "execution_count": null,
   "metadata": {},
   "outputs": [],
   "source": [
    "nombre_archivo = notebookname + '.ipynb'\n",
    "\n",
    "nombre_archivo"
   ]
  },
  {
   "cell_type": "markdown",
   "metadata": {},
   "source": [
    "Ejemplo 9.2.3: Preguntar si un archivo existe."
   ]
  },
  {
   "cell_type": "code",
   "execution_count": null,
   "metadata": {},
   "outputs": [],
   "source": [
    "dir(resultado)"
   ]
  },
  {
   "cell_type": "code",
   "execution_count": null,
   "metadata": {},
   "outputs": [],
   "source": [
    "resultado.absolute"
   ]
  },
  {
   "cell_type": "code",
   "execution_count": null,
   "metadata": {},
   "outputs": [],
   "source": [
    "resultado.absolute()"
   ]
  },
  {
   "cell_type": "code",
   "execution_count": null,
   "metadata": {},
   "outputs": [],
   "source": [
    "resultado = str(resultado)"
   ]
  },
  {
   "cell_type": "code",
   "execution_count": null,
   "metadata": {},
   "outputs": [],
   "source": [
    "resultado = str(resultado)\n",
    "\n",
    "resultado"
   ]
  },
  {
   "cell_type": "code",
   "execution_count": null,
   "metadata": {},
   "outputs": [],
   "source": [
    "nombre_archivo"
   ]
  },
  {
   "cell_type": "code",
   "execution_count": null,
   "metadata": {},
   "outputs": [],
   "source": [
    "import os"
   ]
  },
  {
   "cell_type": "code",
   "execution_count": null,
   "metadata": {},
   "outputs": [],
   "source": [
    "ruta_absoluta = os.path.join(resultado, nombre_archivo)\n",
    "\n",
    "ruta_absoluta"
   ]
  },
  {
   "cell_type": "code",
   "execution_count": null,
   "metadata": {},
   "outputs": [],
   "source": [
    "os.path.exists(ruta_absoluta)"
   ]
  },
  {
   "cell_type": "code",
   "execution_count": null,
   "metadata": {},
   "outputs": [],
   "source": [
    "ruta_absoluta_no_existente = os.path.join(resultado, 'taller01_archivos.ipynb')\n",
    "\n",
    "ruta_absoluta_no_existente"
   ]
  },
  {
   "cell_type": "code",
   "execution_count": null,
   "metadata": {},
   "outputs": [],
   "source": [
    "os.path.exists(ruta_absoluta_no_existente)"
   ]
  },
  {
   "cell_type": "markdown",
   "metadata": {},
   "source": [
    "**Ejemplo 9.2.4**:\n",
    "\n",
    "Leer el contenido de un archivo."
   ]
  },
  {
   "cell_type": "code",
   "execution_count": null,
   "metadata": {},
   "outputs": [],
   "source": [
    "ruta_absoluta"
   ]
  },
  {
   "cell_type": "code",
   "execution_count": null,
   "metadata": {},
   "outputs": [],
   "source": [
    "def leer_contenido_archivo(ruta_archivo):\n",
    "    \"\"\"\n",
    "    Lee el contenido de un archivo especificado en un ruta.\n",
    "    \n",
    "    :param ruta_archivo:string: Ruta del archivo a leer.\n",
    "    :return NoneType.\n",
    "    \"\"\"\n",
    "    if os.path.exists(ruta_archivo):\n",
    "        if os.path.isfile(ruta_archivo):\n",
    "            with open(ruta_archivo, 'rt', encoding='utf-8') as f:\n",
    "                for l in f.readlines():\n",
    "                    print(l)\n",
    "        else:\n",
    "            print('ERROR: La ruta indicada no corresponde a un archivo.')\n",
    "    else:\n",
    "        print('ERROR: El archivo no existe.')"
   ]
  },
  {
   "cell_type": "code",
   "execution_count": null,
   "metadata": {},
   "outputs": [],
   "source": [
    "help(leer_contenido_archivo)"
   ]
  },
  {
   "cell_type": "code",
   "execution_count": null,
   "metadata": {},
   "outputs": [],
   "source": [
    "leer_contenido_archivo(ruta_absoluta_no_existente)"
   ]
  },
  {
   "cell_type": "code",
   "execution_count": null,
   "metadata": {},
   "outputs": [],
   "source": [
    "leer_contenido_archivo(resultado)"
   ]
  },
  {
   "cell_type": "code",
   "execution_count": null,
   "metadata": {},
   "outputs": [],
   "source": [
    "leer_contenido_archivo(ruta_absoluta)"
   ]
  },
  {
   "cell_type": "markdown",
   "metadata": {},
   "source": [
    "**Ejemplo 9.2.5**\n",
    "\n",
    "Acceder al contenido de un archivo de texto plano ya existente."
   ]
  },
  {
   "cell_type": "code",
   "execution_count": null,
   "metadata": {},
   "outputs": [],
   "source": [
    "ruta_archivo_paises = 'T001-09-paises.txt'"
   ]
  },
  {
   "cell_type": "code",
   "execution_count": null,
   "metadata": {},
   "outputs": [],
   "source": [
    "ruta_archivo_paises"
   ]
  },
  {
   "cell_type": "code",
   "execution_count": null,
   "metadata": {},
   "outputs": [],
   "source": [
    "os.path.exists(ruta_archivo_paises)"
   ]
  },
  {
   "cell_type": "code",
   "execution_count": null,
   "metadata": {},
   "outputs": [],
   "source": [
    "os.path.isdir(ruta_archivo_paises)"
   ]
  },
  {
   "cell_type": "code",
   "execution_count": null,
   "metadata": {},
   "outputs": [],
   "source": [
    "os.path.isfile(ruta_archivo_paises)"
   ]
  },
  {
   "cell_type": "code",
   "execution_count": null,
   "metadata": {},
   "outputs": [],
   "source": [
    "with open(ruta_archivo_paises, 'rt', encoding='utf-8') as f:\n",
    "    for l in f.readlines():\n",
    "        print(l, end='')"
   ]
  },
  {
   "cell_type": "markdown",
   "metadata": {},
   "source": [
    "## 9.3 Proceso de escritura de archivos"
   ]
  },
  {
   "cell_type": "markdown",
   "metadata": {},
   "source": [
    "**Ejemplo 9.3.1**\n",
    "\n",
    "Solicitar al usuario el ingreso de diez números y guardarlos en una lista. Después de capturados esos valores procederemos a guardar ese contenido en un archivo de texto plano."
   ]
  },
  {
   "cell_type": "code",
   "execution_count": null,
   "metadata": {},
   "outputs": [],
   "source": [
    "numeros = []\n",
    "\n",
    "for i in range(10):\n",
    "    while True:\n",
    "        try:\n",
    "            numero = float(input('Digite un número: '))\n",
    "            break\n",
    "        except:\n",
    "            print()\n",
    "            print('MENSAJE: Debe digitar un valor que corresponda con un número.')\n",
    "            print()\n",
    "    \n",
    "    print()\n",
    "    \n",
    "    numeros.append(numero)\n",
    "\n",
    "print()\n",
    "\n",
    "ruta_archivo_numeros = 'T001-09-numeros.txt'\n",
    "\n",
    "with open(ruta_archivo_numeros, 'wt', encoding='utf-8') as f:\n",
    "    for n in numeros:\n",
    "        f.write(f'{n}\\n')\n"
   ]
  },
  {
   "cell_type": "code",
   "execution_count": null,
   "metadata": {},
   "outputs": [],
   "source": [
    "with open(ruta_archivo_numeros, 'rt', encoding='utf-8') as f:\n",
    "    for l in f.readlines():\n",
    "        print(l, end='')"
   ]
  },
  {
   "cell_type": "code",
   "execution_count": null,
   "metadata": {},
   "outputs": [],
   "source": [
    "with open(ruta_archivo_numeros, 'rt', encoding='utf-8') as f:\n",
    "    linea = f.readline()\n",
    "    print(linea, end='')"
   ]
  },
  {
   "cell_type": "code",
   "execution_count": null,
   "metadata": {},
   "outputs": [],
   "source": [
    "with open(ruta_archivo_numeros, 'rt', encoding='utf-8') as f:\n",
    "    linea = f.readline()\n",
    "    print(linea, end='')\n",
    "    \n",
    "    print()\n",
    "    \n",
    "    linea = f.readline()\n",
    "    print(linea, end='')\n",
    "    \n",
    "    \n",
    "    print()\n",
    "    \n",
    "    linea = f.readline()\n",
    "    print(linea, end='')\n",
    "    \n",
    "    print()\n",
    "    \n",
    "    linea = f.readline()\n",
    "    print(linea, end='')\n",
    "    \n",
    "    print()\n",
    "    \n",
    "    linea = f.readline()\n",
    "    print(linea, end='')\n",
    "    \n",
    "    print()\n",
    "    \n",
    "    linea = f.readline()\n",
    "    print(linea, end='')\n",
    "    \n",
    "    print()\n",
    "    \n",
    "    linea = f.readline()\n",
    "    print(linea, end='')\n",
    "    \n",
    "    print()\n",
    "    \n",
    "    linea = f.readline()\n",
    "    print(linea, end='')\n",
    "    \n",
    "    print()\n",
    "    \n",
    "    linea = f.readline()\n",
    "    print(linea, end='')\n",
    "    \n",
    "    print()\n",
    "    \n",
    "    linea = f.readline()\n",
    "    print(linea, end='')\n",
    "    \n",
    "    print()\n",
    "    \n",
    "    linea = f.readline()\n",
    "    print(linea, end='')\n",
    "    \n",
    "    print()\n",
    "    \n",
    "    linea = f.readline()\n",
    "    print(linea, end='')\n",
    "    \n",
    "    print()\n",
    "    \n",
    "    linea = f.readline()\n",
    "    print(linea, end='')\n",
    "    \n",
    "    print()\n",
    "    \n",
    "    linea = f.readline()\n",
    "    print(linea, end='')\n",
    "    \n",
    "    print()\n",
    "    \n",
    "    linea = f.readline()\n",
    "    print(linea, end='')"
   ]
  },
  {
   "cell_type": "code",
   "execution_count": null,
   "metadata": {},
   "outputs": [],
   "source": [
    "len(linea)"
   ]
  },
  {
   "cell_type": "markdown",
   "metadata": {},
   "source": [
    "**Ejemplo 9.3.2**\n",
    "\n",
    "Sumar el contenido del archivo que contiene número (`T001-09-numeros.txt`)."
   ]
  },
  {
   "cell_type": "code",
   "execution_count": null,
   "metadata": {},
   "outputs": [],
   "source": [
    "def leer_contenido_archivo(ruta_archivo):\n",
    "    \"\"\"\n",
    "    Lee el contenido de un archivo.\n",
    "    \n",
    "    :param ruta_archivo:str: Ruta absoluta o relativa del archivo a leer.\n",
    "    :return list: Contenido del archivo.\n",
    "    \"\"\"\n",
    "    contenido = []\n",
    "    \n",
    "    with open(ruta_archivo, 'rt', encoding='utf-8') as f:\n",
    "        for l in f.readlines():\n",
    "            contenido.append(l.strip())\n",
    "    \n",
    "    return contenido"
   ]
  },
  {
   "cell_type": "code",
   "execution_count": null,
   "metadata": {},
   "outputs": [],
   "source": [
    "help(leer_contenido_archivo)"
   ]
  },
  {
   "cell_type": "code",
   "execution_count": null,
   "metadata": {},
   "outputs": [],
   "source": [
    "ruta_archivo_numeros"
   ]
  },
  {
   "cell_type": "code",
   "execution_count": null,
   "metadata": {},
   "outputs": [],
   "source": [
    "resultado = leer_contenido_archivo(ruta_archivo_numeros)"
   ]
  },
  {
   "cell_type": "code",
   "execution_count": null,
   "metadata": {},
   "outputs": [],
   "source": [
    "resultado"
   ]
  },
  {
   "cell_type": "code",
   "execution_count": null,
   "metadata": {},
   "outputs": [],
   "source": [
    "help(sum)"
   ]
  },
  {
   "cell_type": "code",
   "execution_count": null,
   "metadata": {},
   "outputs": [],
   "source": [
    "# suma_numeros = sum(resultado) # TypeError"
   ]
  },
  {
   "cell_type": "code",
   "execution_count": null,
   "metadata": {},
   "outputs": [],
   "source": [
    "type(resultado[0])"
   ]
  },
  {
   "cell_type": "code",
   "execution_count": null,
   "metadata": {},
   "outputs": [],
   "source": [
    "type(resultado[-1])"
   ]
  },
  {
   "cell_type": "code",
   "execution_count": null,
   "metadata": {},
   "outputs": [],
   "source": [
    "suma_numeros = sum(float(e) for e in resultado)"
   ]
  },
  {
   "cell_type": "code",
   "execution_count": null,
   "metadata": {},
   "outputs": [],
   "source": [
    "suma_numeros"
   ]
  },
  {
   "cell_type": "code",
   "execution_count": null,
   "metadata": {},
   "outputs": [],
   "source": [
    "type(suma_numeros)"
   ]
  },
  {
   "cell_type": "markdown",
   "metadata": {},
   "source": [
    "**Ejemplo 9.3.3**\n",
    "\n",
    "Solicitar al usuario que digite nombres de países de cualquier parte del mundo.\n",
    "\n",
    "El programa termina cuando el usuario haya escrito la palabra `FIN`.\n",
    "\n",
    "Después de esa tarea crearemos un archivo para guardar todos los países que el usuario digitó."
   ]
  },
  {
   "cell_type": "code",
   "execution_count": null,
   "metadata": {},
   "outputs": [],
   "source": [
    "paises = []\n",
    "\n",
    "pais = ''\n",
    "\n",
    "while pais != 'FIN':\n",
    "    while True:\n",
    "        pais = input('Digite el nombre de un país (FIN para terminar): ')\n",
    "        \n",
    "        pais = pais.strip()\n",
    "        \n",
    "        if len(pais):\n",
    "            break\n",
    "        else:\n",
    "            print()\n",
    "            print('MENSAJE: Debe escribir una cadena que no contenga sólo espacios.')\n",
    "            print()\n",
    "    \n",
    "    if pais != 'FIN':\n",
    "        paises.append(pais)\n",
    "    \n",
    "    print()"
   ]
  },
  {
   "cell_type": "code",
   "execution_count": null,
   "metadata": {},
   "outputs": [],
   "source": [
    "paises"
   ]
  },
  {
   "cell_type": "code",
   "execution_count": null,
   "metadata": {},
   "outputs": [],
   "source": [
    "len(paises)"
   ]
  },
  {
   "cell_type": "code",
   "execution_count": null,
   "metadata": {},
   "outputs": [],
   "source": [
    "archivo_paises = 'T001-09-paises.txt'\n",
    "\n",
    "with open(archivo_paises, 'wt', encoding='utf-8') as f:\n",
    "    for p in paises:\n",
    "        f.write(f'{p}\\n')"
   ]
  },
  {
   "cell_type": "code",
   "execution_count": null,
   "metadata": {},
   "outputs": [],
   "source": [
    "with open(archivo_paises, 'rt', encoding='utf-8', newline='') as f:\n",
    "    for l in f.readlines():\n",
    "        # print(l.replace('\\n', ''))\n",
    "        print(l, end='')"
   ]
  },
  {
   "cell_type": "code",
   "execution_count": null,
   "metadata": {},
   "outputs": [],
   "source": [
    "help(open)"
   ]
  },
  {
   "cell_type": "code",
   "execution_count": null,
   "metadata": {},
   "outputs": [],
   "source": [
    "# El modo de trabajo por defecto al abrir o escribir un archivo es de texto (t):\n",
    "with open(archivo_paises, 'r', encoding='utf-8', newline='') as f:\n",
    "    for l in f.readlines():\n",
    "        print(l, end='')"
   ]
  },
  {
   "cell_type": "code",
   "execution_count": null,
   "metadata": {},
   "outputs": [],
   "source": [
    "otros_paises = ['Guatemala', 'España', 'India', 'Grecia', 'El Congo', 'Sur África', 'Panamá', 'Uruguay', 'Canadá']\n",
    "\n",
    "otros_paises"
   ]
  },
  {
   "cell_type": "code",
   "execution_count": null,
   "metadata": {},
   "outputs": [],
   "source": [
    "len(otros_paises)"
   ]
  },
  {
   "cell_type": "code",
   "execution_count": null,
   "metadata": {},
   "outputs": [],
   "source": [
    "archivo_paises"
   ]
  },
  {
   "cell_type": "code",
   "execution_count": null,
   "metadata": {},
   "outputs": [],
   "source": [
    "with open(archivo_paises, 'at', encoding='utf-8') as f:\n",
    "    for p in otros_paises:\n",
    "        f.write(f'{p}\\n')"
   ]
  },
  {
   "cell_type": "markdown",
   "metadata": {},
   "source": [
    "**Ejemplo 9.3.4**\n",
    "\n",
    "Seleccionar un directorio del sistema (o una carpeta de archivos), y guardar el listado de archivos y carpetas (directorios) en un archivo de texto plano."
   ]
  },
  {
   "cell_type": "code",
   "execution_count": null,
   "metadata": {},
   "outputs": [],
   "source": [
    "help(os.listdir)"
   ]
  },
  {
   "cell_type": "code",
   "execution_count": null,
   "metadata": {},
   "outputs": [],
   "source": [
    "os.listdir()"
   ]
  },
  {
   "cell_type": "code",
   "execution_count": null,
   "metadata": {},
   "outputs": [],
   "source": [
    "ruta_directorio = r'C:\\Windows'\n",
    "ruta_archivos_directorio = 'T001-09-archivos.txt'\n",
    "\n",
    "if os.path.exists(ruta_directorio):\n",
    "    with open(ruta_archivos_directorio, 'wt', encoding='utf-8') as f:\n",
    "        for a in os.listdir(ruta_directorio):\n",
    "            f.write(f'{a}\\n')"
   ]
  },
  {
   "cell_type": "markdown",
   "metadata": {},
   "source": [
    "**Ejemplo 9.3.5**\n",
    "\n",
    "Leer las n primeras líneas de un archivo de texto. Se debe crear una función."
   ]
  },
  {
   "cell_type": "code",
   "execution_count": null,
   "metadata": {},
   "outputs": [],
   "source": [
    "from itertools import islice\n",
    "\n",
    "def leer_n_lineas_archivo(ruta_archivo, n):\n",
    "    \"\"\"\n",
    "    Lee una cantidad arbitraria de líneas de un archivo de texto plano.\n",
    "    \n",
    "    ruta_archivo: Ruta del archivo a leer.\n",
    "    n: cantidad de líneas a leer.\n",
    "    \"\"\"\n",
    "    with open(ruta_archivo, 'rt', encoding='utf-8') as f:\n",
    "        for l in islice(f, n):\n",
    "            print(l)\n",
    "\n",
    "help(leer_n_lineas_archivo)"
   ]
  },
  {
   "cell_type": "code",
   "execution_count": null,
   "metadata": {},
   "outputs": [],
   "source": [
    "ruta_archivos_directorio"
   ]
  },
  {
   "cell_type": "code",
   "execution_count": null,
   "metadata": {},
   "outputs": [],
   "source": [
    "leer_n_lineas_archivo(ruta_archivos_directorio, 5)"
   ]
  },
  {
   "cell_type": "code",
   "execution_count": null,
   "metadata": {},
   "outputs": [],
   "source": [
    "leer_n_lineas_archivo(archivo_paises, 3)"
   ]
  },
  {
   "cell_type": "code",
   "execution_count": null,
   "metadata": {},
   "outputs": [],
   "source": [
    "leer_n_lineas_archivo(archivo_paises, 10)"
   ]
  },
  {
   "cell_type": "code",
   "execution_count": null,
   "metadata": {},
   "outputs": [],
   "source": [
    "leer_n_lineas_archivo(ruta_archivos_directorio, 20)"
   ]
  },
  {
   "cell_type": "markdown",
   "metadata": {},
   "source": [
    "**Ejemplo 9.3.6**\n",
    "\n",
    "Leer las n últimas líneas de un archivo de texto. Se debe definir una función."
   ]
  },
  {
   "cell_type": "code",
   "execution_count": null,
   "metadata": {},
   "outputs": [],
   "source": [
    "import os\n",
    "\n",
    "def leer_n_ultimas_lineas(ruta_archivo, n):\n",
    "    \"\"\"\n",
    "    Lee una cantidad arbitraria de líneas de un archivo de texto plano. Se leen las n últimas líneas.\n",
    "    \n",
    "    ruta_archivo: Ruta del archivo a leer.\n",
    "    n: cantidad de líneas a leer.\n",
    "    \"\"\"\n",
    "    tamagnio_bufer = 8192\n",
    "    tamagnio_archivo = os.stat(ruta_archivo).st_size\n",
    "    \n",
    "    contador = 0\n",
    "    \n",
    "    datos = []\n",
    "    \n",
    "    with open(ruta_archivo, 'rt', encoding='utf-8') as f:\n",
    "        if tamagnio_bufer > tamagnio_archivo:\n",
    "            tamagnio_bufer = tamagnio_archivo - 1\n",
    "            \n",
    "            while True:\n",
    "                contador += 1\n",
    "                f.seek(tamagnio_archivo - tamagnio_bufer * contador)\n",
    "                datos.extend(f.readlines())\n",
    "                \n",
    "                if len(datos) >= n or f.tell() == 0:\n",
    "                    break\n",
    "    \n",
    "    return datos[-n:]"
   ]
  },
  {
   "cell_type": "code",
   "execution_count": null,
   "metadata": {},
   "outputs": [],
   "source": [
    "help(leer_n_ultimas_lineas)"
   ]
  },
  {
   "cell_type": "code",
   "execution_count": null,
   "metadata": {},
   "outputs": [],
   "source": [
    "resultado = leer_n_ultimas_lineas(ruta_archivos_directorio, 5)"
   ]
  },
  {
   "cell_type": "code",
   "execution_count": null,
   "metadata": {},
   "outputs": [],
   "source": [
    "resultado = [r.strip() for r in resultado]\n",
    "\n",
    "resultado"
   ]
  },
  {
   "cell_type": "code",
   "execution_count": null,
   "metadata": {},
   "outputs": [],
   "source": [
    "resultado = leer_n_ultimas_lineas(archivo_paises, 5)\n",
    "\n",
    "resultado = [r.strip() for r in resultado]\n",
    "\n",
    "resultado"
   ]
  },
  {
   "cell_type": "markdown",
   "metadata": {},
   "source": [
    "**Ejemplo 9.3.7**\n",
    "\n",
    "Leer un archivo de palabras y determinar cuál es la palabra más extensa (mayor número de caracteres)."
   ]
  },
  {
   "cell_type": "code",
   "execution_count": null,
   "metadata": {},
   "outputs": [],
   "source": [
    "def palabra_mas_extensa(ruta_archivo):\n",
    "    \"\"\"\n",
    "    Obtiene la palabra más extensa en un archivo de texto.\n",
    "    \n",
    "    ruta_archivo: Ruta del archivo a leer.\n",
    "    \n",
    "    return: La palabra más larga. Si el archivo no existe, retorna None.\n",
    "    \"\"\"\n",
    "    if os.path.exists(ruta_archivo):\n",
    "        if os.path.isfile(ruta_archivo):\n",
    "            with open(ruta_archivo, 'rt', encoding='utf-8') as f:\n",
    "                palabras = f.read().split('\\n')\n",
    "            \n",
    "            mayor_longitud = len(max(palabras, key=len))\n",
    "            \n",
    "            return [p for p in palabras if len(p) == mayor_longitud]\n",
    "        else:\n",
    "            return None\n",
    "    else:\n",
    "        return None"
   ]
  },
  {
   "cell_type": "code",
   "execution_count": null,
   "metadata": {},
   "outputs": [],
   "source": [
    "help(palabra_mas_extensa)"
   ]
  },
  {
   "cell_type": "code",
   "execution_count": null,
   "metadata": {},
   "outputs": [],
   "source": [
    "archivo_paises"
   ]
  },
  {
   "cell_type": "code",
   "execution_count": null,
   "metadata": {},
   "outputs": [],
   "source": [
    "resultado = palabra_mas_extensa(archivo_paises)"
   ]
  },
  {
   "cell_type": "code",
   "execution_count": null,
   "metadata": {},
   "outputs": [],
   "source": [
    "resultado"
   ]
  },
  {
   "cell_type": "markdown",
   "metadata": {},
   "source": [
    "**Ejemplo 9.3.8**\n",
    "\n",
    "Escribir una función para obtener el tamaño (en bytes) de un archivo de texto plano."
   ]
  },
  {
   "cell_type": "code",
   "execution_count": null,
   "metadata": {},
   "outputs": [],
   "source": [
    "import os\n",
    "\n",
    "def obtener_tamagnio_archivo(ruta_archivo):\n",
    "    \"\"\"\n",
    "    Obtiene la cantidad de bytes que ocupa un archivo.\n",
    "    \n",
    "    ruta_archivo: Ruta del archivo.\n",
    "    return: Cantidad bytes que ocupa el archivo.\n",
    "    \"\"\"\n",
    "    if os.path.exists(ruta_archivo):\n",
    "        if os.path.isfile(ruta_archivo):\n",
    "            metadata_archivo = os.stat(ruta_archivo)\n",
    "            \n",
    "            return metadata_archivo.st_size\n",
    "        else:\n",
    "            return None\n",
    "    else:\n",
    "        return None"
   ]
  },
  {
   "cell_type": "code",
   "execution_count": null,
   "metadata": {},
   "outputs": [],
   "source": [
    "help(obtener_tamagnio_archivo)"
   ]
  },
  {
   "cell_type": "code",
   "execution_count": null,
   "metadata": {},
   "outputs": [],
   "source": [
    "obtener_tamagnio_archivo(archivo_paises)"
   ]
  },
  {
   "cell_type": "code",
   "execution_count": null,
   "metadata": {},
   "outputs": [],
   "source": [
    "obtener_tamagnio_archivo(ruta_archivos_directorio)"
   ]
  },
  {
   "cell_type": "markdown",
   "metadata": {},
   "source": [
    "## 9.4 Escritura y lectura de archivos binarios con el módulo `pickle`"
   ]
  },
  {
   "cell_type": "markdown",
   "metadata": {},
   "source": [
    "El módulo `pickle` nos permite escribir datos en una representación binaria."
   ]
  },
  {
   "cell_type": "markdown",
   "metadata": {},
   "source": [
    "**Ejemplo 9.4.1**\n",
    "\n",
    "Crear un diccionario con nombres de países (llaves) y sus respectivas capitales (valores).\n",
    "\n",
    "Luego crear un archivo binario utilizando el módulo `pickle`.\n",
    "\n",
    "Al final se debe leer ese archivo para reestablecer el contenido del diccionario `paises`."
   ]
  },
  {
   "cell_type": "code",
   "execution_count": 2,
   "metadata": {},
   "outputs": [],
   "source": [
    "paises = {\n",
    "    'Colombia': 'Bogotá',\n",
    "    'Perú': 'Lima',\n",
    "    'Alemania': 'Berlín',\n",
    "    'Argentina': 'Buenos Aires',\n",
    "    'Estados Unidos': 'Washington',\n",
    "    'Rusia': 'Moscú',\n",
    "    'Ecuador': 'Quito'\n",
    "}"
   ]
  },
  {
   "cell_type": "code",
   "execution_count": 3,
   "metadata": {},
   "outputs": [
    {
     "data": {
      "text/plain": [
       "dict"
      ]
     },
     "execution_count": 3,
     "metadata": {},
     "output_type": "execute_result"
    }
   ],
   "source": [
    "type(paises)"
   ]
  },
  {
   "cell_type": "code",
   "execution_count": 4,
   "metadata": {},
   "outputs": [
    {
     "data": {
      "text/plain": [
       "7"
      ]
     },
     "execution_count": 4,
     "metadata": {},
     "output_type": "execute_result"
    }
   ],
   "source": [
    "len(paises)"
   ]
  },
  {
   "cell_type": "code",
   "execution_count": 5,
   "metadata": {},
   "outputs": [
    {
     "data": {
      "text/plain": [
       "{'Colombia': 'Bogotá',\n",
       " 'Perú': 'Lima',\n",
       " 'Alemania': 'Berlín',\n",
       " 'Argentina': 'Buenos Aires',\n",
       " 'Estados Unidos': 'Washington',\n",
       " 'Rusia': 'Moscú',\n",
       " 'Ecuador': 'Quito'}"
      ]
     },
     "execution_count": 5,
     "metadata": {},
     "output_type": "execute_result"
    }
   ],
   "source": [
    "paises"
   ]
  },
  {
   "cell_type": "code",
   "execution_count": 6,
   "metadata": {},
   "outputs": [],
   "source": [
    "def es_ruta_valida(ruta):\n",
    "    \"\"\"\n",
    "    Verfica si una ruta especifica es válida.\n",
    "    \n",
    "    ruta: Ruta a validar.\n",
    "    return: True si la ruta es válida, False en caso contrario.\n",
    "    \"\"\"\n",
    "    try:\n",
    "        archivo = open(ruta, 'w')\n",
    "        archivo.close()\n",
    "        return True\n",
    "    except IOError:\n",
    "        return False"
   ]
  },
  {
   "cell_type": "code",
   "execution_count": 7,
   "metadata": {},
   "outputs": [],
   "source": [
    "import os\n",
    "import pickle\n",
    "\n",
    "def guardar_datos_archivo_binario(ruta_archivo, contenido):\n",
    "    \"\"\"\n",
    "    Guardar los datos de un objeto Python en un archivo.\n",
    "    \n",
    "    ruta_archivo: Ruta del archivo donde se van a guardar los datos.\n",
    "    contenido: Objeto Python con la información a escribir.\n",
    "    \n",
    "    return: True cuando el contenido se haya escrito en el disco.\n",
    "    \n",
    "    raises: Cuando la ruta no corresponde con un archivo\n",
    "    \"\"\"\n",
    "    if es_ruta_valida(ruta_archivo):\n",
    "        with open(ruta_archivo, 'wb') as f:\n",
    "            pickle.dump(contenido, f)\n",
    "        return True\n",
    "    else:\n",
    "        raise Exception(f'La ruta ({ruta_archivo}) no corresponde con un archivo.')"
   ]
  },
  {
   "cell_type": "code",
   "execution_count": 8,
   "metadata": {},
   "outputs": [
    {
     "name": "stdout",
     "output_type": "stream",
     "text": [
      "Help on function guardar_datos_archivo_binario in module __main__:\n",
      "\n",
      "guardar_datos_archivo_binario(ruta_archivo, contenido)\n",
      "    Guardar los datos de un objeto Python en un archivo.\n",
      "    \n",
      "    ruta_archivo: Ruta del archivo donde se van a guardar los datos.\n",
      "    contenido: Objeto Python con la información a escribir.\n",
      "    \n",
      "    return: True cuando el contenido se haya escrito en el disco.\n",
      "    \n",
      "    raises: Cuando la ruta no corresponde con un archivo\n",
      "\n"
     ]
    }
   ],
   "source": [
    "help(guardar_datos_archivo_binario)"
   ]
  },
  {
   "cell_type": "code",
   "execution_count": 9,
   "metadata": {},
   "outputs": [],
   "source": [
    "archivo_objeto_paises = 'T001-09-objeto-paises.pkl'"
   ]
  },
  {
   "cell_type": "code",
   "execution_count": 10,
   "metadata": {},
   "outputs": [
    {
     "data": {
      "text/plain": [
       "True"
      ]
     },
     "execution_count": 10,
     "metadata": {},
     "output_type": "execute_result"
    }
   ],
   "source": [
    "guardar_datos_archivo_binario(archivo_objeto_paises, paises)"
   ]
  },
  {
   "cell_type": "code",
   "execution_count": 16,
   "metadata": {},
   "outputs": [],
   "source": [
    "import pickle\n",
    "\n",
    "def leer_contenido_archivo_binario(ruta_archivo):\n",
    "    \"\"\"\n",
    "    Lee el contenido de un archivo binario.\n",
    "    \n",
    "    ruta_archivo: Ruta del archivo binario a leer.\n",
    "    \n",
    "    return: Objeto Python recuperado desde un archivo binario.\n",
    "    \"\"\"\n",
    "    if os.path.exists(ruta_archivo):\n",
    "        if os.path.isfile(ruta_archivo):\n",
    "            with open(ruta_archivo, 'rb') as f:\n",
    "                return pickle.load(f)\n",
    "        else:\n",
    "            return None\n",
    "    else:\n",
    "        return None"
   ]
  },
  {
   "cell_type": "code",
   "execution_count": 13,
   "metadata": {},
   "outputs": [
    {
     "name": "stdout",
     "output_type": "stream",
     "text": [
      "Help on function leer_contenido_archivo_binario in module __main__:\n",
      "\n",
      "leer_contenido_archivo_binario(ruta_archivo)\n",
      "    Lee el contenido de un archivo binario.\n",
      "    \n",
      "    ruta_archivo: Ruta del archivo binario a leer.\n",
      "    \n",
      "    return: Objeto Python recuperado desde un archivo binario.\n",
      "\n"
     ]
    }
   ],
   "source": [
    "help(leer_contenido_archivo_binario)"
   ]
  },
  {
   "cell_type": "code",
   "execution_count": 14,
   "metadata": {},
   "outputs": [
    {
     "data": {
      "text/plain": [
       "'T001-09-objeto-paises.pkl'"
      ]
     },
     "execution_count": 14,
     "metadata": {},
     "output_type": "execute_result"
    }
   ],
   "source": [
    "archivo_objeto_paises"
   ]
  },
  {
   "cell_type": "code",
   "execution_count": 17,
   "metadata": {},
   "outputs": [],
   "source": [
    "resultado = leer_contenido_archivo_binario(archivo_objeto_paises)"
   ]
  },
  {
   "cell_type": "code",
   "execution_count": 18,
   "metadata": {},
   "outputs": [
    {
     "data": {
      "text/plain": [
       "dict"
      ]
     },
     "execution_count": 18,
     "metadata": {},
     "output_type": "execute_result"
    }
   ],
   "source": [
    "type(resultado)"
   ]
  },
  {
   "cell_type": "code",
   "execution_count": 19,
   "metadata": {},
   "outputs": [
    {
     "data": {
      "text/plain": [
       "7"
      ]
     },
     "execution_count": 19,
     "metadata": {},
     "output_type": "execute_result"
    }
   ],
   "source": [
    "len(resultado)"
   ]
  },
  {
   "cell_type": "code",
   "execution_count": 20,
   "metadata": {},
   "outputs": [
    {
     "data": {
      "text/plain": [
       "{'Colombia': 'Bogotá',\n",
       " 'Perú': 'Lima',\n",
       " 'Alemania': 'Berlín',\n",
       " 'Argentina': 'Buenos Aires',\n",
       " 'Estados Unidos': 'Washington',\n",
       " 'Rusia': 'Moscú',\n",
       " 'Ecuador': 'Quito'}"
      ]
     },
     "execution_count": 20,
     "metadata": {},
     "output_type": "execute_result"
    }
   ],
   "source": [
    "resultado"
   ]
  },
  {
   "cell_type": "markdown",
   "metadata": {},
   "source": [
    "## 9.5 Lectura y Escritura de Archivos CSV"
   ]
  },
  {
   "cell_type": "markdown",
   "metadata": {},
   "source": [
    "En un archivo CSV (*Comma Separated Values*) el contenido (a los registros o filas) se encuentro estructurado u organizado con la especificación de un carácter de separación de los diferentes datos que integran un registro (fila).\n",
    "\n",
    "id;marca;cpu;ram;ssd<br>\n",
    "1001;MSi;Intel;32;500<br>\n",
    "1002;Apple;Intel;16;720<br>\n",
    "1003;Clone;Intel;128;10000"
   ]
  },
  {
   "cell_type": "markdown",
   "metadata": {},
   "source": [
    "### 9.5.1 Lectura de un archivo CSV"
   ]
  },
  {
   "cell_type": "markdown",
   "metadata": {},
   "source": [
    "Un archivo CSV se puede abrir directamente con la función `open()` y explorar el contenido por medio de un cilo `for` invocando la función `readlines()`."
   ]
  },
  {
   "cell_type": "code",
   "execution_count": 21,
   "metadata": {},
   "outputs": [],
   "source": [
    "archivo_computadores = 'T001-09-computadores.csv'"
   ]
  },
  {
   "cell_type": "code",
   "execution_count": 22,
   "metadata": {},
   "outputs": [
    {
     "name": "stdout",
     "output_type": "stream",
     "text": [
      "id;marca;cpu;ram;ssd\n",
      "1001;MSi;Intel;32;500\n",
      "1002;Apple;Intel;16;720\n",
      "1003;Clone;Intel;128;10000\n"
     ]
    }
   ],
   "source": [
    "with open(archivo_computadores, 'rt', encoding='utf-8') as f:\n",
    "    for l in f.readlines():\n",
    "        print(l, end='')"
   ]
  },
  {
   "cell_type": "code",
   "execution_count": 25,
   "metadata": {},
   "outputs": [
    {
     "name": "stdout",
     "output_type": "stream",
     "text": [
      "['id', 'marca', 'cpu', 'ram', 'ssd']\n",
      "['1001', 'MSi', 'Intel', '32', '500']\n",
      "['1002', 'Apple', 'Intel', '16', '720']\n",
      "['1003', 'Clone', 'Intel', '128', '10000']\n"
     ]
    }
   ],
   "source": [
    "import csv\n",
    "\n",
    "with open(archivo_computadores, 'rt', encoding='utf-8') as f:\n",
    "    archivo_csv = csv.reader(f, delimiter=';')\n",
    "    \n",
    "    for r in archivo_csv:\n",
    "        print(r)"
   ]
  },
  {
   "cell_type": "markdown",
   "metadata": {},
   "source": [
    "Lectura de un archivo CSV con la clase `DictReader`:"
   ]
  },
  {
   "cell_type": "code",
   "execution_count": 29,
   "metadata": {},
   "outputs": [
    {
     "name": "stdout",
     "output_type": "stream",
     "text": [
      "1001 MSi\n",
      "1002 Apple\n",
      "1003 Clone\n"
     ]
    }
   ],
   "source": [
    "import csv\n",
    "\n",
    "with open(archivo_computadores, 'rt', encoding='utf-8') as f:\n",
    "    registros = csv.DictReader(f, delimiter=';')\n",
    "    \n",
    "    for r in registros:\n",
    "        print(r['id'], r['marca'])"
   ]
  },
  {
   "cell_type": "code",
   "execution_count": 34,
   "metadata": {},
   "outputs": [
    {
     "name": "stdout",
     "output_type": "stream",
     "text": [
      "Almacenamiento total entre los tres computadores: 11220 GB.\n"
     ]
    }
   ],
   "source": [
    "import csv\n",
    "\n",
    "with open(archivo_computadores, 'rt', encoding='utf-8') as f:\n",
    "    registros = csv.DictReader(f, delimiter=';')\n",
    "    \n",
    "    total_ssd = 0\n",
    "    for r in registros:\n",
    "        total_ssd += int(r['ssd'])\n",
    "    \n",
    "    print('Almacenamiento total entre los tres computadores:', total_ssd, 'GB.')"
   ]
  },
  {
   "cell_type": "markdown",
   "metadata": {},
   "source": [
    "### 9.5.2 Uso del argumento `quotechar` de la función `csv.reader()`\n",
    "\n",
    "El argumento `quotechar` permite especificar el cáracter que encierra texto que incluya el cáracter delimitador.\n",
    "\n",
    "documento,nombre_completo,direccion<br>\n",
    "123456789,Daniela Ortiz,Carrera 10 #75-43, Casa 38<br>\n",
    "654987321,Julio Ordoñez,Vereda El Mortiño"
   ]
  },
  {
   "cell_type": "code",
   "execution_count": 35,
   "metadata": {},
   "outputs": [],
   "source": [
    "encabezado = ['documento','nombre_completo','direccion']\n",
    "datos =[\n",
    "    ['123456789','Daniela Ortiz','Carrera 10 #75-43, Casa 38'],\n",
    "    ['654987321','Julio Ordoñez','Vereda El Mortiño']\n",
    "]"
   ]
  },
  {
   "cell_type": "markdown",
   "metadata": {},
   "source": [
    "Escribir el contenido de varias listas sobre un archivo CSV:"
   ]
  },
  {
   "cell_type": "code",
   "execution_count": 38,
   "metadata": {},
   "outputs": [],
   "source": [
    "import csv\n",
    "\n",
    "personas = 'T001-09-personas.csv'\n",
    "\n",
    "with open(personas, 'wt', encoding='utf-8', newline='') as f:\n",
    "    escritura_csv = csv.writer(f, delimiter=',')\n",
    "    \n",
    "    escritura_csv.writerow(encabezado)\n",
    "    \n",
    "    for d in datos:\n",
    "        escritura_csv.writerow(d)"
   ]
  },
  {
   "cell_type": "markdown",
   "metadata": {},
   "source": [
    "Abrir el archivo CSV recién creado:"
   ]
  },
  {
   "cell_type": "code",
   "execution_count": 43,
   "metadata": {},
   "outputs": [
    {
     "name": "stdout",
     "output_type": "stream",
     "text": [
      "{'documento': '123456789', 'nombre_completo': 'Daniela Ortiz', 'direccion': 'Carrera 10 #75-43, Casa 38'}\n",
      "{'documento': '654987321', 'nombre_completo': 'Julio Ordoñez', 'direccion': 'Vereda El Mortiño'}\n"
     ]
    }
   ],
   "source": [
    "with open(personas, 'rt', encoding='utf-8') as f:\n",
    "    registros = csv.DictReader(f, quotechar='\"')\n",
    "    \n",
    "    for r in registros:\n",
    "        print(r)"
   ]
  },
  {
   "cell_type": "markdown",
   "metadata": {},
   "source": [
    "## 9.6 Lectura de archivos CSV con la librería Pandas."
   ]
  },
  {
   "cell_type": "code",
   "execution_count": 44,
   "metadata": {},
   "outputs": [],
   "source": [
    "import pandas as pd"
   ]
  },
  {
   "cell_type": "code",
   "execution_count": 45,
   "metadata": {},
   "outputs": [
    {
     "data": {
      "text/plain": [
       "'1.0.5'"
      ]
     },
     "execution_count": 45,
     "metadata": {},
     "output_type": "execute_result"
    }
   ],
   "source": [
    "pd.__version__"
   ]
  },
  {
   "cell_type": "code",
   "execution_count": 46,
   "metadata": {},
   "outputs": [
    {
     "name": "stdout",
     "output_type": "stream",
     "text": [
      "Help on function read_csv in module pandas.io.parsers:\n",
      "\n",
      "read_csv(filepath_or_buffer: Union[str, pathlib.Path, IO[~AnyStr]], sep=',', delimiter=None, header='infer', names=None, index_col=None, usecols=None, squeeze=False, prefix=None, mangle_dupe_cols=True, dtype=None, engine=None, converters=None, true_values=None, false_values=None, skipinitialspace=False, skiprows=None, skipfooter=0, nrows=None, na_values=None, keep_default_na=True, na_filter=True, verbose=False, skip_blank_lines=True, parse_dates=False, infer_datetime_format=False, keep_date_col=False, date_parser=None, dayfirst=False, cache_dates=True, iterator=False, chunksize=None, compression='infer', thousands=None, decimal: str = '.', lineterminator=None, quotechar='\"', quoting=0, doublequote=True, escapechar=None, comment=None, encoding=None, dialect=None, error_bad_lines=True, warn_bad_lines=True, delim_whitespace=False, low_memory=True, memory_map=False, float_precision=None)\n",
      "    Read a comma-separated values (csv) file into DataFrame.\n",
      "    \n",
      "    Also supports optionally iterating or breaking of the file\n",
      "    into chunks.\n",
      "    \n",
      "    Additional help can be found in the online docs for\n",
      "    `IO Tools <https://pandas.pydata.org/pandas-docs/stable/user_guide/io.html>`_.\n",
      "    \n",
      "    Parameters\n",
      "    ----------\n",
      "    filepath_or_buffer : str, path object or file-like object\n",
      "        Any valid string path is acceptable. The string could be a URL. Valid\n",
      "        URL schemes include http, ftp, s3, and file. For file URLs, a host is\n",
      "        expected. A local file could be: file://localhost/path/to/table.csv.\n",
      "    \n",
      "        If you want to pass in a path object, pandas accepts any ``os.PathLike``.\n",
      "    \n",
      "        By file-like object, we refer to objects with a ``read()`` method, such as\n",
      "        a file handler (e.g. via builtin ``open`` function) or ``StringIO``.\n",
      "    sep : str, default ','\n",
      "        Delimiter to use. If sep is None, the C engine cannot automatically detect\n",
      "        the separator, but the Python parsing engine can, meaning the latter will\n",
      "        be used and automatically detect the separator by Python's builtin sniffer\n",
      "        tool, ``csv.Sniffer``. In addition, separators longer than 1 character and\n",
      "        different from ``'\\s+'`` will be interpreted as regular expressions and\n",
      "        will also force the use of the Python parsing engine. Note that regex\n",
      "        delimiters are prone to ignoring quoted data. Regex example: ``'\\r\\t'``.\n",
      "    delimiter : str, default ``None``\n",
      "        Alias for sep.\n",
      "    header : int, list of int, default 'infer'\n",
      "        Row number(s) to use as the column names, and the start of the\n",
      "        data.  Default behavior is to infer the column names: if no names\n",
      "        are passed the behavior is identical to ``header=0`` and column\n",
      "        names are inferred from the first line of the file, if column\n",
      "        names are passed explicitly then the behavior is identical to\n",
      "        ``header=None``. Explicitly pass ``header=0`` to be able to\n",
      "        replace existing names. The header can be a list of integers that\n",
      "        specify row locations for a multi-index on the columns\n",
      "        e.g. [0,1,3]. Intervening rows that are not specified will be\n",
      "        skipped (e.g. 2 in this example is skipped). Note that this\n",
      "        parameter ignores commented lines and empty lines if\n",
      "        ``skip_blank_lines=True``, so ``header=0`` denotes the first line of\n",
      "        data rather than the first line of the file.\n",
      "    names : array-like, optional\n",
      "        List of column names to use. If the file contains a header row,\n",
      "        then you should explicitly pass ``header=0`` to override the column names.\n",
      "        Duplicates in this list are not allowed.\n",
      "    index_col : int, str, sequence of int / str, or False, default ``None``\n",
      "      Column(s) to use as the row labels of the ``DataFrame``, either given as\n",
      "      string name or column index. If a sequence of int / str is given, a\n",
      "      MultiIndex is used.\n",
      "    \n",
      "      Note: ``index_col=False`` can be used to force pandas to *not* use the first\n",
      "      column as the index, e.g. when you have a malformed file with delimiters at\n",
      "      the end of each line.\n",
      "    usecols : list-like or callable, optional\n",
      "        Return a subset of the columns. If list-like, all elements must either\n",
      "        be positional (i.e. integer indices into the document columns) or strings\n",
      "        that correspond to column names provided either by the user in `names` or\n",
      "        inferred from the document header row(s). For example, a valid list-like\n",
      "        `usecols` parameter would be ``[0, 1, 2]`` or ``['foo', 'bar', 'baz']``.\n",
      "        Element order is ignored, so ``usecols=[0, 1]`` is the same as ``[1, 0]``.\n",
      "        To instantiate a DataFrame from ``data`` with element order preserved use\n",
      "        ``pd.read_csv(data, usecols=['foo', 'bar'])[['foo', 'bar']]`` for columns\n",
      "        in ``['foo', 'bar']`` order or\n",
      "        ``pd.read_csv(data, usecols=['foo', 'bar'])[['bar', 'foo']]``\n",
      "        for ``['bar', 'foo']`` order.\n",
      "    \n",
      "        If callable, the callable function will be evaluated against the column\n",
      "        names, returning names where the callable function evaluates to True. An\n",
      "        example of a valid callable argument would be ``lambda x: x.upper() in\n",
      "        ['AAA', 'BBB', 'DDD']``. Using this parameter results in much faster\n",
      "        parsing time and lower memory usage.\n",
      "    squeeze : bool, default False\n",
      "        If the parsed data only contains one column then return a Series.\n",
      "    prefix : str, optional\n",
      "        Prefix to add to column numbers when no header, e.g. 'X' for X0, X1, ...\n",
      "    mangle_dupe_cols : bool, default True\n",
      "        Duplicate columns will be specified as 'X', 'X.1', ...'X.N', rather than\n",
      "        'X'...'X'. Passing in False will cause data to be overwritten if there\n",
      "        are duplicate names in the columns.\n",
      "    dtype : Type name or dict of column -> type, optional\n",
      "        Data type for data or columns. E.g. {'a': np.float64, 'b': np.int32,\n",
      "        'c': 'Int64'}\n",
      "        Use `str` or `object` together with suitable `na_values` settings\n",
      "        to preserve and not interpret dtype.\n",
      "        If converters are specified, they will be applied INSTEAD\n",
      "        of dtype conversion.\n",
      "    engine : {'c', 'python'}, optional\n",
      "        Parser engine to use. The C engine is faster while the python engine is\n",
      "        currently more feature-complete.\n",
      "    converters : dict, optional\n",
      "        Dict of functions for converting values in certain columns. Keys can either\n",
      "        be integers or column labels.\n",
      "    true_values : list, optional\n",
      "        Values to consider as True.\n",
      "    false_values : list, optional\n",
      "        Values to consider as False.\n",
      "    skipinitialspace : bool, default False\n",
      "        Skip spaces after delimiter.\n",
      "    skiprows : list-like, int or callable, optional\n",
      "        Line numbers to skip (0-indexed) or number of lines to skip (int)\n",
      "        at the start of the file.\n",
      "    \n",
      "        If callable, the callable function will be evaluated against the row\n",
      "        indices, returning True if the row should be skipped and False otherwise.\n",
      "        An example of a valid callable argument would be ``lambda x: x in [0, 2]``.\n",
      "    skipfooter : int, default 0\n",
      "        Number of lines at bottom of file to skip (Unsupported with engine='c').\n",
      "    nrows : int, optional\n",
      "        Number of rows of file to read. Useful for reading pieces of large files.\n",
      "    na_values : scalar, str, list-like, or dict, optional\n",
      "        Additional strings to recognize as NA/NaN. If dict passed, specific\n",
      "        per-column NA values.  By default the following values are interpreted as\n",
      "        NaN: '', '#N/A', '#N/A N/A', '#NA', '-1.#IND', '-1.#QNAN', '-NaN', '-nan',\n",
      "        '1.#IND', '1.#QNAN', '<NA>', 'N/A', 'NA', 'NULL', 'NaN', 'n/a',\n",
      "        'nan', 'null'.\n",
      "    keep_default_na : bool, default True\n",
      "        Whether or not to include the default NaN values when parsing the data.\n",
      "        Depending on whether `na_values` is passed in, the behavior is as follows:\n",
      "    \n",
      "        * If `keep_default_na` is True, and `na_values` are specified, `na_values`\n",
      "          is appended to the default NaN values used for parsing.\n",
      "        * If `keep_default_na` is True, and `na_values` are not specified, only\n",
      "          the default NaN values are used for parsing.\n",
      "        * If `keep_default_na` is False, and `na_values` are specified, only\n",
      "          the NaN values specified `na_values` are used for parsing.\n",
      "        * If `keep_default_na` is False, and `na_values` are not specified, no\n",
      "          strings will be parsed as NaN.\n",
      "    \n",
      "        Note that if `na_filter` is passed in as False, the `keep_default_na` and\n",
      "        `na_values` parameters will be ignored.\n",
      "    na_filter : bool, default True\n",
      "        Detect missing value markers (empty strings and the value of na_values). In\n",
      "        data without any NAs, passing na_filter=False can improve the performance\n",
      "        of reading a large file.\n",
      "    verbose : bool, default False\n",
      "        Indicate number of NA values placed in non-numeric columns.\n",
      "    skip_blank_lines : bool, default True\n",
      "        If True, skip over blank lines rather than interpreting as NaN values.\n",
      "    parse_dates : bool or list of int or names or list of lists or dict, default False\n",
      "        The behavior is as follows:\n",
      "    \n",
      "        * boolean. If True -> try parsing the index.\n",
      "        * list of int or names. e.g. If [1, 2, 3] -> try parsing columns 1, 2, 3\n",
      "          each as a separate date column.\n",
      "        * list of lists. e.g.  If [[1, 3]] -> combine columns 1 and 3 and parse as\n",
      "          a single date column.\n",
      "        * dict, e.g. {'foo' : [1, 3]} -> parse columns 1, 3 as date and call\n",
      "          result 'foo'\n",
      "    \n",
      "        If a column or index cannot be represented as an array of datetimes,\n",
      "        say because of an unparseable value or a mixture of timezones, the column\n",
      "        or index will be returned unaltered as an object data type. For\n",
      "        non-standard datetime parsing, use ``pd.to_datetime`` after\n",
      "        ``pd.read_csv``. To parse an index or column with a mixture of timezones,\n",
      "        specify ``date_parser`` to be a partially-applied\n",
      "        :func:`pandas.to_datetime` with ``utc=True``. See\n",
      "        :ref:`io.csv.mixed_timezones` for more.\n",
      "    \n",
      "        Note: A fast-path exists for iso8601-formatted dates.\n",
      "    infer_datetime_format : bool, default False\n",
      "        If True and `parse_dates` is enabled, pandas will attempt to infer the\n",
      "        format of the datetime strings in the columns, and if it can be inferred,\n",
      "        switch to a faster method of parsing them. In some cases this can increase\n",
      "        the parsing speed by 5-10x.\n",
      "    keep_date_col : bool, default False\n",
      "        If True and `parse_dates` specifies combining multiple columns then\n",
      "        keep the original columns.\n",
      "    date_parser : function, optional\n",
      "        Function to use for converting a sequence of string columns to an array of\n",
      "        datetime instances. The default uses ``dateutil.parser.parser`` to do the\n",
      "        conversion. Pandas will try to call `date_parser` in three different ways,\n",
      "        advancing to the next if an exception occurs: 1) Pass one or more arrays\n",
      "        (as defined by `parse_dates`) as arguments; 2) concatenate (row-wise) the\n",
      "        string values from the columns defined by `parse_dates` into a single array\n",
      "        and pass that; and 3) call `date_parser` once for each row using one or\n",
      "        more strings (corresponding to the columns defined by `parse_dates`) as\n",
      "        arguments.\n",
      "    dayfirst : bool, default False\n",
      "        DD/MM format dates, international and European format.\n",
      "    cache_dates : bool, default True\n",
      "        If True, use a cache of unique, converted dates to apply the datetime\n",
      "        conversion. May produce significant speed-up when parsing duplicate\n",
      "        date strings, especially ones with timezone offsets.\n",
      "    \n",
      "        .. versionadded:: 0.25.0\n",
      "    iterator : bool, default False\n",
      "        Return TextFileReader object for iteration or getting chunks with\n",
      "        ``get_chunk()``.\n",
      "    chunksize : int, optional\n",
      "        Return TextFileReader object for iteration.\n",
      "        See the `IO Tools docs\n",
      "        <https://pandas.pydata.org/pandas-docs/stable/io.html#io-chunking>`_\n",
      "        for more information on ``iterator`` and ``chunksize``.\n",
      "    compression : {'infer', 'gzip', 'bz2', 'zip', 'xz', None}, default 'infer'\n",
      "        For on-the-fly decompression of on-disk data. If 'infer' and\n",
      "        `filepath_or_buffer` is path-like, then detect compression from the\n",
      "        following extensions: '.gz', '.bz2', '.zip', or '.xz' (otherwise no\n",
      "        decompression). If using 'zip', the ZIP file must contain only one data\n",
      "        file to be read in. Set to None for no decompression.\n",
      "    thousands : str, optional\n",
      "        Thousands separator.\n",
      "    decimal : str, default '.'\n",
      "        Character to recognize as decimal point (e.g. use ',' for European data).\n",
      "    lineterminator : str (length 1), optional\n",
      "        Character to break file into lines. Only valid with C parser.\n",
      "    quotechar : str (length 1), optional\n",
      "        The character used to denote the start and end of a quoted item. Quoted\n",
      "        items can include the delimiter and it will be ignored.\n",
      "    quoting : int or csv.QUOTE_* instance, default 0\n",
      "        Control field quoting behavior per ``csv.QUOTE_*`` constants. Use one of\n",
      "        QUOTE_MINIMAL (0), QUOTE_ALL (1), QUOTE_NONNUMERIC (2) or QUOTE_NONE (3).\n",
      "    doublequote : bool, default ``True``\n",
      "       When quotechar is specified and quoting is not ``QUOTE_NONE``, indicate\n",
      "       whether or not to interpret two consecutive quotechar elements INSIDE a\n",
      "       field as a single ``quotechar`` element.\n",
      "    escapechar : str (length 1), optional\n",
      "        One-character string used to escape other characters.\n",
      "    comment : str, optional\n",
      "        Indicates remainder of line should not be parsed. If found at the beginning\n",
      "        of a line, the line will be ignored altogether. This parameter must be a\n",
      "        single character. Like empty lines (as long as ``skip_blank_lines=True``),\n",
      "        fully commented lines are ignored by the parameter `header` but not by\n",
      "        `skiprows`. For example, if ``comment='#'``, parsing\n",
      "        ``#empty\\na,b,c\\n1,2,3`` with ``header=0`` will result in 'a,b,c' being\n",
      "        treated as the header.\n",
      "    encoding : str, optional\n",
      "        Encoding to use for UTF when reading/writing (ex. 'utf-8'). `List of Python\n",
      "        standard encodings\n",
      "        <https://docs.python.org/3/library/codecs.html#standard-encodings>`_ .\n",
      "    dialect : str or csv.Dialect, optional\n",
      "        If provided, this parameter will override values (default or not) for the\n",
      "        following parameters: `delimiter`, `doublequote`, `escapechar`,\n",
      "        `skipinitialspace`, `quotechar`, and `quoting`. If it is necessary to\n",
      "        override values, a ParserWarning will be issued. See csv.Dialect\n",
      "        documentation for more details.\n",
      "    error_bad_lines : bool, default True\n",
      "        Lines with too many fields (e.g. a csv line with too many commas) will by\n",
      "        default cause an exception to be raised, and no DataFrame will be returned.\n",
      "        If False, then these \"bad lines\" will dropped from the DataFrame that is\n",
      "        returned.\n",
      "    warn_bad_lines : bool, default True\n",
      "        If error_bad_lines is False, and warn_bad_lines is True, a warning for each\n",
      "        \"bad line\" will be output.\n",
      "    delim_whitespace : bool, default False\n",
      "        Specifies whether or not whitespace (e.g. ``' '`` or ``'    '``) will be\n",
      "        used as the sep. Equivalent to setting ``sep='\\s+'``. If this option\n",
      "        is set to True, nothing should be passed in for the ``delimiter``\n",
      "        parameter.\n",
      "    low_memory : bool, default True\n",
      "        Internally process the file in chunks, resulting in lower memory use\n",
      "        while parsing, but possibly mixed type inference.  To ensure no mixed\n",
      "        types either set False, or specify the type with the `dtype` parameter.\n",
      "        Note that the entire file is read into a single DataFrame regardless,\n",
      "        use the `chunksize` or `iterator` parameter to return the data in chunks.\n",
      "        (Only valid with C parser).\n",
      "    memory_map : bool, default False\n",
      "        If a filepath is provided for `filepath_or_buffer`, map the file object\n",
      "        directly onto memory and access the data directly from there. Using this\n",
      "        option can improve performance because there is no longer any I/O overhead.\n",
      "    float_precision : str, optional\n",
      "        Specifies which converter the C engine should use for floating-point\n",
      "        values. The options are `None` for the ordinary converter,\n",
      "        `high` for the high-precision converter, and `round_trip` for the\n",
      "        round-trip converter.\n",
      "    \n",
      "    Returns\n",
      "    -------\n",
      "    DataFrame or TextParser\n",
      "        A comma-separated values (csv) file is returned as two-dimensional\n",
      "        data structure with labeled axes.\n",
      "    \n",
      "    See Also\n",
      "    --------\n",
      "    to_csv : Write DataFrame to a comma-separated values (csv) file.\n",
      "    read_csv : Read a comma-separated values (csv) file into DataFrame.\n",
      "    read_fwf : Read a table of fixed-width formatted lines into DataFrame.\n",
      "    \n",
      "    Examples\n",
      "    --------\n",
      "    >>> pd.read_csv('data.csv')  # doctest: +SKIP\n",
      "\n"
     ]
    }
   ],
   "source": [
    "help(pd.read_csv)"
   ]
  },
  {
   "cell_type": "code",
   "execution_count": 47,
   "metadata": {},
   "outputs": [],
   "source": [
    "df = pd.read_csv(personas)"
   ]
  },
  {
   "cell_type": "code",
   "execution_count": 48,
   "metadata": {},
   "outputs": [
    {
     "data": {
      "text/html": [
       "<div>\n",
       "<style scoped>\n",
       "    .dataframe tbody tr th:only-of-type {\n",
       "        vertical-align: middle;\n",
       "    }\n",
       "\n",
       "    .dataframe tbody tr th {\n",
       "        vertical-align: top;\n",
       "    }\n",
       "\n",
       "    .dataframe thead th {\n",
       "        text-align: right;\n",
       "    }\n",
       "</style>\n",
       "<table border=\"1\" class=\"dataframe\">\n",
       "  <thead>\n",
       "    <tr style=\"text-align: right;\">\n",
       "      <th></th>\n",
       "      <th>documento</th>\n",
       "      <th>nombre_completo</th>\n",
       "      <th>direccion</th>\n",
       "    </tr>\n",
       "  </thead>\n",
       "  <tbody>\n",
       "    <tr>\n",
       "      <th>0</th>\n",
       "      <td>123456789</td>\n",
       "      <td>Daniela Ortiz</td>\n",
       "      <td>Carrera 10 #75-43, Casa 38</td>\n",
       "    </tr>\n",
       "    <tr>\n",
       "      <th>1</th>\n",
       "      <td>654987321</td>\n",
       "      <td>Julio Ordoñez</td>\n",
       "      <td>Vereda El Mortiño</td>\n",
       "    </tr>\n",
       "  </tbody>\n",
       "</table>\n",
       "</div>"
      ],
      "text/plain": [
       "   documento nombre_completo                   direccion\n",
       "0  123456789   Daniela Ortiz  Carrera 10 #75-43, Casa 38\n",
       "1  654987321   Julio Ordoñez           Vereda El Mortiño"
      ]
     },
     "execution_count": 48,
     "metadata": {},
     "output_type": "execute_result"
    }
   ],
   "source": [
    "df"
   ]
  },
  {
   "cell_type": "code",
   "execution_count": 49,
   "metadata": {},
   "outputs": [
    {
     "name": "stdout",
     "output_type": "stream",
     "text": [
      "<class 'pandas.core.frame.DataFrame'>\n",
      "RangeIndex: 2 entries, 0 to 1\n",
      "Data columns (total 3 columns):\n",
      " #   Column           Non-Null Count  Dtype \n",
      "---  ------           --------------  ----- \n",
      " 0   documento        2 non-null      int64 \n",
      " 1   nombre_completo  2 non-null      object\n",
      " 2   direccion        2 non-null      object\n",
      "dtypes: int64(1), object(2)\n",
      "memory usage: 176.0+ bytes\n"
     ]
    }
   ],
   "source": [
    "df.info()"
   ]
  },
  {
   "cell_type": "code",
   "execution_count": 50,
   "metadata": {},
   "outputs": [],
   "source": [
    "df = pd.read_csv(archivo_computadores)"
   ]
  },
  {
   "cell_type": "code",
   "execution_count": 51,
   "metadata": {},
   "outputs": [
    {
     "data": {
      "text/html": [
       "<div>\n",
       "<style scoped>\n",
       "    .dataframe tbody tr th:only-of-type {\n",
       "        vertical-align: middle;\n",
       "    }\n",
       "\n",
       "    .dataframe tbody tr th {\n",
       "        vertical-align: top;\n",
       "    }\n",
       "\n",
       "    .dataframe thead th {\n",
       "        text-align: right;\n",
       "    }\n",
       "</style>\n",
       "<table border=\"1\" class=\"dataframe\">\n",
       "  <thead>\n",
       "    <tr style=\"text-align: right;\">\n",
       "      <th></th>\n",
       "      <th>id;marca;cpu;ram;ssd</th>\n",
       "    </tr>\n",
       "  </thead>\n",
       "  <tbody>\n",
       "    <tr>\n",
       "      <th>0</th>\n",
       "      <td>1001;MSi;Intel;32;500</td>\n",
       "    </tr>\n",
       "    <tr>\n",
       "      <th>1</th>\n",
       "      <td>1002;Apple;Intel;16;720</td>\n",
       "    </tr>\n",
       "    <tr>\n",
       "      <th>2</th>\n",
       "      <td>1003;Clone;Intel;128;10000</td>\n",
       "    </tr>\n",
       "  </tbody>\n",
       "</table>\n",
       "</div>"
      ],
      "text/plain": [
       "         id;marca;cpu;ram;ssd\n",
       "0       1001;MSi;Intel;32;500\n",
       "1     1002;Apple;Intel;16;720\n",
       "2  1003;Clone;Intel;128;10000"
      ]
     },
     "execution_count": 51,
     "metadata": {},
     "output_type": "execute_result"
    }
   ],
   "source": [
    "df"
   ]
  },
  {
   "cell_type": "code",
   "execution_count": 52,
   "metadata": {},
   "outputs": [
    {
     "name": "stderr",
     "output_type": "stream",
     "text": [
      "<ipython-input-52-08b6fdbf2538>:1: ParserWarning: Falling back to the 'python' engine because the 'c' engine does not support sep=None with delim_whitespace=False; you can avoid this warning by specifying engine='python'.\n",
      "  df = pd.read_csv(archivo_computadores, sep=None)\n"
     ]
    },
    {
     "data": {
      "text/html": [
       "<div>\n",
       "<style scoped>\n",
       "    .dataframe tbody tr th:only-of-type {\n",
       "        vertical-align: middle;\n",
       "    }\n",
       "\n",
       "    .dataframe tbody tr th {\n",
       "        vertical-align: top;\n",
       "    }\n",
       "\n",
       "    .dataframe thead th {\n",
       "        text-align: right;\n",
       "    }\n",
       "</style>\n",
       "<table border=\"1\" class=\"dataframe\">\n",
       "  <thead>\n",
       "    <tr style=\"text-align: right;\">\n",
       "      <th></th>\n",
       "      <th>id</th>\n",
       "      <th>marca</th>\n",
       "      <th>cpu</th>\n",
       "      <th>ram</th>\n",
       "      <th>ssd</th>\n",
       "    </tr>\n",
       "  </thead>\n",
       "  <tbody>\n",
       "    <tr>\n",
       "      <th>0</th>\n",
       "      <td>1001</td>\n",
       "      <td>MSi</td>\n",
       "      <td>Intel</td>\n",
       "      <td>32</td>\n",
       "      <td>500</td>\n",
       "    </tr>\n",
       "    <tr>\n",
       "      <th>1</th>\n",
       "      <td>1002</td>\n",
       "      <td>Apple</td>\n",
       "      <td>Intel</td>\n",
       "      <td>16</td>\n",
       "      <td>720</td>\n",
       "    </tr>\n",
       "    <tr>\n",
       "      <th>2</th>\n",
       "      <td>1003</td>\n",
       "      <td>Clone</td>\n",
       "      <td>Intel</td>\n",
       "      <td>128</td>\n",
       "      <td>10000</td>\n",
       "    </tr>\n",
       "  </tbody>\n",
       "</table>\n",
       "</div>"
      ],
      "text/plain": [
       "     id  marca    cpu  ram    ssd\n",
       "0  1001    MSi  Intel   32    500\n",
       "1  1002  Apple  Intel   16    720\n",
       "2  1003  Clone  Intel  128  10000"
      ]
     },
     "execution_count": 52,
     "metadata": {},
     "output_type": "execute_result"
    }
   ],
   "source": [
    "df = pd.read_csv(archivo_computadores, sep=None)\n",
    "\n",
    "df"
   ]
  },
  {
   "cell_type": "code",
   "execution_count": 53,
   "metadata": {},
   "outputs": [],
   "source": [
    "df = pd.read_csv(archivo_computadores, sep=';')"
   ]
  },
  {
   "cell_type": "code",
   "execution_count": 54,
   "metadata": {},
   "outputs": [
    {
     "data": {
      "text/html": [
       "<div>\n",
       "<style scoped>\n",
       "    .dataframe tbody tr th:only-of-type {\n",
       "        vertical-align: middle;\n",
       "    }\n",
       "\n",
       "    .dataframe tbody tr th {\n",
       "        vertical-align: top;\n",
       "    }\n",
       "\n",
       "    .dataframe thead th {\n",
       "        text-align: right;\n",
       "    }\n",
       "</style>\n",
       "<table border=\"1\" class=\"dataframe\">\n",
       "  <thead>\n",
       "    <tr style=\"text-align: right;\">\n",
       "      <th></th>\n",
       "      <th>id</th>\n",
       "      <th>marca</th>\n",
       "      <th>cpu</th>\n",
       "      <th>ram</th>\n",
       "      <th>ssd</th>\n",
       "    </tr>\n",
       "  </thead>\n",
       "  <tbody>\n",
       "    <tr>\n",
       "      <th>0</th>\n",
       "      <td>1001</td>\n",
       "      <td>MSi</td>\n",
       "      <td>Intel</td>\n",
       "      <td>32</td>\n",
       "      <td>500</td>\n",
       "    </tr>\n",
       "    <tr>\n",
       "      <th>1</th>\n",
       "      <td>1002</td>\n",
       "      <td>Apple</td>\n",
       "      <td>Intel</td>\n",
       "      <td>16</td>\n",
       "      <td>720</td>\n",
       "    </tr>\n",
       "    <tr>\n",
       "      <th>2</th>\n",
       "      <td>1003</td>\n",
       "      <td>Clone</td>\n",
       "      <td>Intel</td>\n",
       "      <td>128</td>\n",
       "      <td>10000</td>\n",
       "    </tr>\n",
       "  </tbody>\n",
       "</table>\n",
       "</div>"
      ],
      "text/plain": [
       "     id  marca    cpu  ram    ssd\n",
       "0  1001    MSi  Intel   32    500\n",
       "1  1002  Apple  Intel   16    720\n",
       "2  1003  Clone  Intel  128  10000"
      ]
     },
     "execution_count": 54,
     "metadata": {},
     "output_type": "execute_result"
    }
   ],
   "source": [
    "df"
   ]
  },
  {
   "cell_type": "code",
   "execution_count": null,
   "metadata": {},
   "outputs": [],
   "source": []
  }
 ],
 "metadata": {
  "kernelspec": {
   "display_name": "Python 3",
   "language": "python",
   "name": "python3"
  },
  "language_info": {
   "codemirror_mode": {
    "name": "ipython",
    "version": 3
   },
   "file_extension": ".py",
   "mimetype": "text/x-python",
   "name": "python",
   "nbconvert_exporter": "python",
   "pygments_lexer": "ipython3",
   "version": "3.8.3"
  }
 },
 "nbformat": 4,
 "nbformat_minor": 4
}
