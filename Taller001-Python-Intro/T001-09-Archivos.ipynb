{
 "cells": [
  {
   "cell_type": "markdown",
   "metadata": {},
   "source": [
    "# 9. Archivos"
   ]
  },
  {
   "cell_type": "markdown",
   "metadata": {},
   "source": [
    "## 9.1 ¿Qué es un archivo?\n",
    "\n",
    "Un archivo es un contenedor de información. En un archivo la información se almacena como un conjunto de bytes consecutivos. En el interior del archivo, la información se organiza acorde a un formato concreto (texto, binario, executable, etc.).\n",
    "\n",
    "Los archivos se representan como series de unos (1) y ceros (0) para ser procesador por el sistema (computador)."
   ]
  },
  {
   "cell_type": "markdown",
   "metadata": {},
   "source": [
    "Un archivo se organiza en tres partes:\n",
    "\n",
    "1. Encabezado - tiene la metadata del contenido del archivo (nombre, tamaño, tipo, etc).\n",
    "2. Datos - contenido del archivo\n",
    "3. Fin del archivo - EOF (End-Of-File)."
   ]
  },
  {
   "cell_type": "markdown",
   "metadata": {},
   "source": [
    "## 9.2 Operaciones básicas sobre un archivo"
   ]
  },
  {
   "cell_type": "markdown",
   "metadata": {},
   "source": [
    "Ejemplo 9.2.1: Obtener la ruta actual del archivo en edición."
   ]
  },
  {
   "cell_type": "code",
   "execution_count": null,
   "metadata": {},
   "outputs": [],
   "source": [
    "import pathlib\n",
    "\n",
    "resultado = pathlib.Path().resolve()\n",
    "\n",
    "resultado"
   ]
  },
  {
   "cell_type": "markdown",
   "metadata": {},
   "source": [
    "Ejemplo 9.2.2: Obtener el nombre del archivo actual."
   ]
  },
  {
   "cell_type": "code",
   "execution_count": null,
   "metadata": {},
   "outputs": [],
   "source": [
    "%%javascript\n",
    "IPython.notebook.kernel.execute(`notebookname = '${window.document.getElementById(\"notebook_name\").innerHTML}'`)"
   ]
  },
  {
   "cell_type": "code",
   "execution_count": null,
   "metadata": {},
   "outputs": [],
   "source": [
    "notebookname"
   ]
  },
  {
   "cell_type": "code",
   "execution_count": null,
   "metadata": {},
   "outputs": [],
   "source": [
    "nombre_archivo = notebookname + '.ipynb'\n",
    "\n",
    "nombre_archivo"
   ]
  },
  {
   "cell_type": "markdown",
   "metadata": {},
   "source": [
    "Ejemplo 9.2.3: Preguntar si un archivo existe."
   ]
  },
  {
   "cell_type": "code",
   "execution_count": null,
   "metadata": {},
   "outputs": [],
   "source": [
    "dir(resultado)"
   ]
  },
  {
   "cell_type": "code",
   "execution_count": null,
   "metadata": {},
   "outputs": [],
   "source": [
    "resultado.absolute"
   ]
  },
  {
   "cell_type": "code",
   "execution_count": null,
   "metadata": {},
   "outputs": [],
   "source": [
    "resultado.absolute()"
   ]
  },
  {
   "cell_type": "code",
   "execution_count": null,
   "metadata": {},
   "outputs": [],
   "source": [
    "resultado = str(resultado)"
   ]
  },
  {
   "cell_type": "code",
   "execution_count": null,
   "metadata": {},
   "outputs": [],
   "source": [
    "resultado = str(resultado)\n",
    "\n",
    "resultado"
   ]
  },
  {
   "cell_type": "code",
   "execution_count": null,
   "metadata": {},
   "outputs": [],
   "source": [
    "nombre_archivo"
   ]
  },
  {
   "cell_type": "code",
   "execution_count": null,
   "metadata": {},
   "outputs": [],
   "source": [
    "import os"
   ]
  },
  {
   "cell_type": "code",
   "execution_count": null,
   "metadata": {},
   "outputs": [],
   "source": [
    "ruta_absoluta = os.path.join(resultado, nombre_archivo)\n",
    "\n",
    "ruta_absoluta"
   ]
  },
  {
   "cell_type": "code",
   "execution_count": null,
   "metadata": {},
   "outputs": [],
   "source": [
    "os.path.exists(ruta_absoluta)"
   ]
  },
  {
   "cell_type": "code",
   "execution_count": null,
   "metadata": {},
   "outputs": [],
   "source": [
    "ruta_absoluta_no_existente = os.path.join(resultado, 'taller01_archivos.ipynb')\n",
    "\n",
    "ruta_absoluta_no_existente"
   ]
  },
  {
   "cell_type": "code",
   "execution_count": null,
   "metadata": {},
   "outputs": [],
   "source": [
    "os.path.exists(ruta_absoluta_no_existente)"
   ]
  },
  {
   "cell_type": "markdown",
   "metadata": {},
   "source": [
    "**Ejemplo 9.2.4**:\n",
    "\n",
    "Leer el contenido de un archivo."
   ]
  },
  {
   "cell_type": "code",
   "execution_count": null,
   "metadata": {},
   "outputs": [],
   "source": [
    "ruta_absoluta"
   ]
  },
  {
   "cell_type": "code",
   "execution_count": null,
   "metadata": {},
   "outputs": [],
   "source": [
    "def leer_contenido_archivo(ruta_archivo):\n",
    "    \"\"\"\n",
    "    Lee el contenido de un archivo especificado en un ruta.\n",
    "    \n",
    "    :param ruta_archivo:string: Ruta del archivo a leer.\n",
    "    :return NoneType.\n",
    "    \"\"\"\n",
    "    if os.path.exists(ruta_archivo):\n",
    "        if os.path.isfile(ruta_archivo):\n",
    "            with open(ruta_archivo, 'rt', encoding='utf-8') as f:\n",
    "                for l in f.readlines():\n",
    "                    print(l)\n",
    "        else:\n",
    "            print('ERROR: La ruta indicada no corresponde a un archivo.')\n",
    "    else:\n",
    "        print('ERROR: El archivo no existe.')"
   ]
  },
  {
   "cell_type": "code",
   "execution_count": null,
   "metadata": {},
   "outputs": [],
   "source": [
    "help(leer_contenido_archivo)"
   ]
  },
  {
   "cell_type": "code",
   "execution_count": null,
   "metadata": {},
   "outputs": [],
   "source": [
    "leer_contenido_archivo(ruta_absoluta_no_existente)"
   ]
  },
  {
   "cell_type": "code",
   "execution_count": null,
   "metadata": {},
   "outputs": [],
   "source": [
    "leer_contenido_archivo(resultado)"
   ]
  },
  {
   "cell_type": "code",
   "execution_count": null,
   "metadata": {},
   "outputs": [],
   "source": [
    "leer_contenido_archivo(ruta_absoluta)"
   ]
  },
  {
   "cell_type": "markdown",
   "metadata": {},
   "source": [
    "**Ejemplo 9.2.5**\n",
    "\n",
    "Acceder al contenido de un archivo de texto plano ya existente."
   ]
  },
  {
   "cell_type": "code",
   "execution_count": null,
   "metadata": {},
   "outputs": [],
   "source": [
    "ruta_archivo_paises = 'T001-09-paises.txt'"
   ]
  },
  {
   "cell_type": "code",
   "execution_count": null,
   "metadata": {},
   "outputs": [],
   "source": [
    "ruta_archivo_paises"
   ]
  },
  {
   "cell_type": "code",
   "execution_count": null,
   "metadata": {},
   "outputs": [],
   "source": [
    "os.path.exists(ruta_archivo_paises)"
   ]
  },
  {
   "cell_type": "code",
   "execution_count": null,
   "metadata": {},
   "outputs": [],
   "source": [
    "os.path.isdir(ruta_archivo_paises)"
   ]
  },
  {
   "cell_type": "code",
   "execution_count": null,
   "metadata": {},
   "outputs": [],
   "source": [
    "os.path.isfile(ruta_archivo_paises)"
   ]
  },
  {
   "cell_type": "code",
   "execution_count": null,
   "metadata": {},
   "outputs": [],
   "source": [
    "with open(ruta_archivo_paises, 'rt', encoding='utf-8') as f:\n",
    "    for l in f.readlines():\n",
    "        print(l, end='')"
   ]
  },
  {
   "cell_type": "markdown",
   "metadata": {},
   "source": [
    "## 9.3 Proceso de escritura de archivos"
   ]
  },
  {
   "cell_type": "markdown",
   "metadata": {},
   "source": [
    "**Ejemplo 9.3.1**\n",
    "\n",
    "Solicitar al usuario el ingreso de diez números y guardarlos en una lista. Después de capturados esos valores procederemos a guardar ese contenido en un archivo de texto plano."
   ]
  },
  {
   "cell_type": "code",
   "execution_count": null,
   "metadata": {},
   "outputs": [],
   "source": [
    "numeros = []\n",
    "\n",
    "for i in range(10):\n",
    "    while True:\n",
    "        try:\n",
    "            numero = float(input('Digite un número: '))\n",
    "            break\n",
    "        except:\n",
    "            print()\n",
    "            print('MENSAJE: Debe digitar un valor que corresponda con un número.')\n",
    "            print()\n",
    "    \n",
    "    print()\n",
    "    \n",
    "    numeros.append(numero)\n",
    "\n",
    "print()\n",
    "\n",
    "ruta_archivo_numeros = 'T001-09-numeros.txt'\n",
    "\n",
    "with open(ruta_archivo_numeros, 'wt', encoding='utf-8') as f:\n",
    "    for n in numeros:\n",
    "        f.write(f'{n}\\n')\n"
   ]
  },
  {
   "cell_type": "code",
   "execution_count": null,
   "metadata": {},
   "outputs": [],
   "source": [
    "with open(ruta_archivo_numeros, 'rt', encoding='utf-8') as f:\n",
    "    for l in f.readlines():\n",
    "        print(l, end='')"
   ]
  },
  {
   "cell_type": "code",
   "execution_count": null,
   "metadata": {},
   "outputs": [],
   "source": [
    "with open(ruta_archivo_numeros, 'rt', encoding='utf-8') as f:\n",
    "    linea = f.readline()\n",
    "    print(linea, end='')"
   ]
  },
  {
   "cell_type": "code",
   "execution_count": null,
   "metadata": {},
   "outputs": [],
   "source": [
    "with open(ruta_archivo_numeros, 'rt', encoding='utf-8') as f:\n",
    "    linea = f.readline()\n",
    "    print(linea, end='')\n",
    "    \n",
    "    print()\n",
    "    \n",
    "    linea = f.readline()\n",
    "    print(linea, end='')\n",
    "    \n",
    "    \n",
    "    print()\n",
    "    \n",
    "    linea = f.readline()\n",
    "    print(linea, end='')\n",
    "    \n",
    "    print()\n",
    "    \n",
    "    linea = f.readline()\n",
    "    print(linea, end='')\n",
    "    \n",
    "    print()\n",
    "    \n",
    "    linea = f.readline()\n",
    "    print(linea, end='')\n",
    "    \n",
    "    print()\n",
    "    \n",
    "    linea = f.readline()\n",
    "    print(linea, end='')\n",
    "    \n",
    "    print()\n",
    "    \n",
    "    linea = f.readline()\n",
    "    print(linea, end='')\n",
    "    \n",
    "    print()\n",
    "    \n",
    "    linea = f.readline()\n",
    "    print(linea, end='')\n",
    "    \n",
    "    print()\n",
    "    \n",
    "    linea = f.readline()\n",
    "    print(linea, end='')\n",
    "    \n",
    "    print()\n",
    "    \n",
    "    linea = f.readline()\n",
    "    print(linea, end='')\n",
    "    \n",
    "    print()\n",
    "    \n",
    "    linea = f.readline()\n",
    "    print(linea, end='')\n",
    "    \n",
    "    print()\n",
    "    \n",
    "    linea = f.readline()\n",
    "    print(linea, end='')\n",
    "    \n",
    "    print()\n",
    "    \n",
    "    linea = f.readline()\n",
    "    print(linea, end='')\n",
    "    \n",
    "    print()\n",
    "    \n",
    "    linea = f.readline()\n",
    "    print(linea, end='')\n",
    "    \n",
    "    print()\n",
    "    \n",
    "    linea = f.readline()\n",
    "    print(linea, end='')"
   ]
  },
  {
   "cell_type": "code",
   "execution_count": null,
   "metadata": {},
   "outputs": [],
   "source": [
    "len(linea)"
   ]
  },
  {
   "cell_type": "markdown",
   "metadata": {},
   "source": [
    "**Ejemplo 9.3.2**\n",
    "\n",
    "Sumar el contenido del archivo que contiene número (`T001-09-numeros.txt`)."
   ]
  },
  {
   "cell_type": "code",
   "execution_count": null,
   "metadata": {},
   "outputs": [],
   "source": [
    "def leer_contenido_archivo(ruta_archivo):\n",
    "    \"\"\"\n",
    "    Lee el contenido de un archivo.\n",
    "    \n",
    "    :param ruta_archivo:str: Ruta absoluta o relativa del archivo a leer.\n",
    "    :return list: Contenido del archivo.\n",
    "    \"\"\"\n",
    "    contenido = []\n",
    "    \n",
    "    with open(ruta_archivo, 'rt', encoding='utf-8') as f:\n",
    "        for l in f.readlines():\n",
    "            contenido.append(l.strip())\n",
    "    \n",
    "    return contenido"
   ]
  },
  {
   "cell_type": "code",
   "execution_count": null,
   "metadata": {},
   "outputs": [],
   "source": [
    "help(leer_contenido_archivo)"
   ]
  },
  {
   "cell_type": "code",
   "execution_count": null,
   "metadata": {},
   "outputs": [],
   "source": [
    "ruta_archivo_numeros"
   ]
  },
  {
   "cell_type": "code",
   "execution_count": null,
   "metadata": {},
   "outputs": [],
   "source": [
    "resultado = leer_contenido_archivo(ruta_archivo_numeros)"
   ]
  },
  {
   "cell_type": "code",
   "execution_count": null,
   "metadata": {},
   "outputs": [],
   "source": [
    "resultado"
   ]
  },
  {
   "cell_type": "code",
   "execution_count": null,
   "metadata": {},
   "outputs": [],
   "source": [
    "help(sum)"
   ]
  },
  {
   "cell_type": "code",
   "execution_count": null,
   "metadata": {},
   "outputs": [],
   "source": [
    "# suma_numeros = sum(resultado) # TypeError"
   ]
  },
  {
   "cell_type": "code",
   "execution_count": null,
   "metadata": {},
   "outputs": [],
   "source": [
    "type(resultado[0])"
   ]
  },
  {
   "cell_type": "code",
   "execution_count": null,
   "metadata": {},
   "outputs": [],
   "source": [
    "type(resultado[-1])"
   ]
  },
  {
   "cell_type": "code",
   "execution_count": null,
   "metadata": {},
   "outputs": [],
   "source": [
    "suma_numeros = sum(float(e) for e in resultado)"
   ]
  },
  {
   "cell_type": "code",
   "execution_count": null,
   "metadata": {},
   "outputs": [],
   "source": [
    "suma_numeros"
   ]
  },
  {
   "cell_type": "code",
   "execution_count": null,
   "metadata": {},
   "outputs": [],
   "source": [
    "type(suma_numeros)"
   ]
  },
  {
   "cell_type": "markdown",
   "metadata": {},
   "source": [
    "**Ejemplo 9.3.3**\n",
    "\n",
    "Solicitar al usuario que digite nombres de países de cualquier parte del mundo.\n",
    "\n",
    "El programa termina cuando el usuario haya escrito la palabra `FIN`.\n",
    "\n",
    "Después de esa tarea crearemos un archivo para guardar todos los países que el usuario digitó."
   ]
  },
  {
   "cell_type": "code",
   "execution_count": null,
   "metadata": {},
   "outputs": [],
   "source": [
    "paises = []\n",
    "\n",
    "pais = ''\n",
    "\n",
    "while pais != 'FIN':\n",
    "    while True:\n",
    "        pais = input('Digite el nombre de un país (FIN para terminar): ')\n",
    "        \n",
    "        pais = pais.strip()\n",
    "        \n",
    "        if len(pais):\n",
    "            break\n",
    "        else:\n",
    "            print()\n",
    "            print('MENSAJE: Debe escribir una cadena que no contenga sólo espacios.')\n",
    "            print()\n",
    "    \n",
    "    if pais != 'FIN':\n",
    "        paises.append(pais)\n",
    "    \n",
    "    print()"
   ]
  },
  {
   "cell_type": "code",
   "execution_count": null,
   "metadata": {},
   "outputs": [],
   "source": [
    "paises"
   ]
  },
  {
   "cell_type": "code",
   "execution_count": null,
   "metadata": {},
   "outputs": [],
   "source": [
    "len(paises)"
   ]
  },
  {
   "cell_type": "code",
   "execution_count": null,
   "metadata": {},
   "outputs": [],
   "source": [
    "archivo_paises = 'T001-09-paises.txt'\n",
    "\n",
    "with open(archivo_paises, 'wt', encoding='utf-8') as f:\n",
    "    for p in paises:\n",
    "        f.write(f'{p}\\n')"
   ]
  },
  {
   "cell_type": "code",
   "execution_count": null,
   "metadata": {},
   "outputs": [],
   "source": [
    "with open(archivo_paises, 'rt', encoding='utf-8', newline='') as f:\n",
    "    for l in f.readlines():\n",
    "        # print(l.replace('\\n', ''))\n",
    "        print(l, end='')"
   ]
  },
  {
   "cell_type": "code",
   "execution_count": null,
   "metadata": {},
   "outputs": [],
   "source": [
    "help(open)"
   ]
  },
  {
   "cell_type": "code",
   "execution_count": null,
   "metadata": {},
   "outputs": [],
   "source": [
    "# El modo de trabajo por defecto al abrir o escribir un archivo es de texto (t):\n",
    "with open(archivo_paises, 'r', encoding='utf-8', newline='') as f:\n",
    "    for l in f.readlines():\n",
    "        print(l, end='')"
   ]
  },
  {
   "cell_type": "code",
   "execution_count": null,
   "metadata": {},
   "outputs": [],
   "source": [
    "otros_paises = ['Guatemala', 'España', 'India', 'Grecia', 'El Congo', 'Sur África', 'Panamá', 'Uruguay', 'Canadá']\n",
    "\n",
    "otros_paises"
   ]
  },
  {
   "cell_type": "code",
   "execution_count": null,
   "metadata": {},
   "outputs": [],
   "source": [
    "len(otros_paises)"
   ]
  },
  {
   "cell_type": "code",
   "execution_count": null,
   "metadata": {},
   "outputs": [],
   "source": [
    "archivo_paises"
   ]
  },
  {
   "cell_type": "code",
   "execution_count": null,
   "metadata": {},
   "outputs": [],
   "source": [
    "with open(archivo_paises, 'at', encoding='utf-8') as f:\n",
    "    for p in otros_paises:\n",
    "        f.write(f'{p}\\n')"
   ]
  },
  {
   "cell_type": "markdown",
   "metadata": {},
   "source": [
    "**Ejemplo 9.3.4**\n",
    "\n",
    "Seleccionar un directorio del sistema (o una carpeta de archivos), y guardar el listado de archivos y carpetas (directorios) en un archivo de texto plano."
   ]
  },
  {
   "cell_type": "code",
   "execution_count": null,
   "metadata": {},
   "outputs": [],
   "source": [
    "help(os.listdir)"
   ]
  },
  {
   "cell_type": "code",
   "execution_count": null,
   "metadata": {},
   "outputs": [],
   "source": [
    "os.listdir()"
   ]
  },
  {
   "cell_type": "code",
   "execution_count": null,
   "metadata": {},
   "outputs": [],
   "source": [
    "ruta_directorio = r'C:\\Windows'\n",
    "ruta_archivos_directorio = 'T001-09-archivos.txt'\n",
    "\n",
    "if os.path.exists(ruta_directorio):\n",
    "    with open(ruta_archivos_directorio, 'wt', encoding='utf-8') as f:\n",
    "        for a in os.listdir(ruta_directorio):\n",
    "            f.write(f'{a}\\n')"
   ]
  },
  {
   "cell_type": "markdown",
   "metadata": {},
   "source": [
    "**Ejemplo 9.3.5**\n",
    "\n",
    "Leer las n primeras líneas de un archivo de texto. Se debe crear una función."
   ]
  },
  {
   "cell_type": "code",
   "execution_count": null,
   "metadata": {},
   "outputs": [],
   "source": [
    "from itertools import islice\n",
    "\n",
    "def leer_n_lineas_archivo(ruta_archivo, n):\n",
    "    \"\"\"\n",
    "    Lee una cantidad arbitraria de líneas de un archivo de texto plano.\n",
    "    \n",
    "    ruta_archivo: Ruta del archivo a leer.\n",
    "    n: cantidad de líneas a leer.\n",
    "    \"\"\"\n",
    "    with open(ruta_archivo, 'rt', encoding='utf-8') as f:\n",
    "        for l in islice(f, n):\n",
    "            print(l)\n",
    "\n",
    "help(leer_n_lineas_archivo)"
   ]
  },
  {
   "cell_type": "code",
   "execution_count": null,
   "metadata": {},
   "outputs": [],
   "source": [
    "ruta_archivos_directorio"
   ]
  },
  {
   "cell_type": "code",
   "execution_count": null,
   "metadata": {},
   "outputs": [],
   "source": [
    "leer_n_lineas_archivo(ruta_archivos_directorio, 5)"
   ]
  },
  {
   "cell_type": "code",
   "execution_count": null,
   "metadata": {},
   "outputs": [],
   "source": [
    "leer_n_lineas_archivo(archivo_paises, 3)"
   ]
  },
  {
   "cell_type": "code",
   "execution_count": null,
   "metadata": {},
   "outputs": [],
   "source": [
    "leer_n_lineas_archivo(archivo_paises, 10)"
   ]
  },
  {
   "cell_type": "code",
   "execution_count": null,
   "metadata": {},
   "outputs": [],
   "source": [
    "leer_n_lineas_archivo(ruta_archivos_directorio, 20)"
   ]
  },
  {
   "cell_type": "markdown",
   "metadata": {},
   "source": [
    "**Ejemplo 9.3.6**\n",
    "\n",
    "Leer las n últimas líneas de un archivo de texto. Se debe definir una función."
   ]
  },
  {
   "cell_type": "code",
   "execution_count": null,
   "metadata": {},
   "outputs": [],
   "source": [
    "import os\n",
    "\n",
    "def leer_n_ultimas_lineas(ruta_archivo, n):\n",
    "    \"\"\"\n",
    "    Lee una cantidad arbitraria de líneas de un archivo de texto plano. Se leen las n últimas líneas.\n",
    "    \n",
    "    ruta_archivo: Ruta del archivo a leer.\n",
    "    n: cantidad de líneas a leer.\n",
    "    \"\"\"\n",
    "    tamagnio_bufer = 8192\n",
    "    tamagnio_archivo = os.stat(ruta_archivo).st_size\n",
    "    \n",
    "    contador = 0\n",
    "    \n",
    "    datos = []\n",
    "    \n",
    "    with open(ruta_archivo, 'rt', encoding='utf-8') as f:\n",
    "        if tamagnio_bufer > tamagnio_archivo:\n",
    "            tamagnio_bufer = tamagnio_archivo - 1\n",
    "            \n",
    "            while True:\n",
    "                contador += 1\n",
    "                f.seek(tamagnio_archivo - tamagnio_bufer * contador)\n",
    "                datos.extend(f.readlines())\n",
    "                \n",
    "                if len(datos) >= n or f.tell() == 0:\n",
    "                    break\n",
    "    \n",
    "    return datos[-n:]"
   ]
  },
  {
   "cell_type": "code",
   "execution_count": null,
   "metadata": {},
   "outputs": [],
   "source": [
    "help(leer_n_ultimas_lineas)"
   ]
  },
  {
   "cell_type": "code",
   "execution_count": null,
   "metadata": {},
   "outputs": [],
   "source": [
    "resultado = leer_n_ultimas_lineas(ruta_archivos_directorio, 5)"
   ]
  },
  {
   "cell_type": "code",
   "execution_count": null,
   "metadata": {},
   "outputs": [],
   "source": [
    "resultado = [r.strip() for r in resultado]\n",
    "\n",
    "resultado"
   ]
  },
  {
   "cell_type": "code",
   "execution_count": null,
   "metadata": {},
   "outputs": [],
   "source": [
    "resultado = leer_n_ultimas_lineas(archivo_paises, 5)\n",
    "\n",
    "resultado = [r.strip() for r in resultado]\n",
    "\n",
    "resultado"
   ]
  },
  {
   "cell_type": "markdown",
   "metadata": {},
   "source": [
    "**Ejemplo 9.3.7**\n",
    "\n",
    "Leer un archivo de palabras y determinar cuál es la palabra más extensa (mayor número de caracteres)."
   ]
  },
  {
   "cell_type": "code",
   "execution_count": null,
   "metadata": {},
   "outputs": [],
   "source": [
    "def palabra_mas_extensa(ruta_archivo):\n",
    "    \"\"\"\n",
    "    Obtiene la palabra más extensa en un archivo de texto.\n",
    "    \n",
    "    ruta_archivo: Ruta del archivo a leer.\n",
    "    \n",
    "    return: La palabra más larga. Si el archivo no existe, retorna None.\n",
    "    \"\"\"\n",
    "    if os.path.exists(ruta_archivo):\n",
    "        if os.path.isfile(ruta_archivo):\n",
    "            with open(ruta_archivo, 'rt', encoding='utf-8') as f:\n",
    "                palabras = f.read().split('\\n')\n",
    "            \n",
    "            mayor_longitud = len(max(palabras, key=len))\n",
    "            \n",
    "            return [p for p in palabras if len(p) == mayor_longitud]\n",
    "        else:\n",
    "            return None\n",
    "    else:\n",
    "        return None"
   ]
  },
  {
   "cell_type": "code",
   "execution_count": null,
   "metadata": {},
   "outputs": [],
   "source": [
    "help(palabra_mas_extensa)"
   ]
  },
  {
   "cell_type": "code",
   "execution_count": null,
   "metadata": {},
   "outputs": [],
   "source": [
    "archivo_paises"
   ]
  },
  {
   "cell_type": "code",
   "execution_count": null,
   "metadata": {},
   "outputs": [],
   "source": [
    "resultado = palabra_mas_extensa(archivo_paises)"
   ]
  },
  {
   "cell_type": "code",
   "execution_count": null,
   "metadata": {},
   "outputs": [],
   "source": [
    "resultado"
   ]
  },
  {
   "cell_type": "markdown",
   "metadata": {},
   "source": [
    "**Ejemplo 9.3.8**\n",
    "\n",
    "Escribir una función para obtener el tamaño (en bytes) de un archivo de texto plano."
   ]
  },
  {
   "cell_type": "code",
   "execution_count": null,
   "metadata": {},
   "outputs": [],
   "source": [
    "import os\n",
    "\n",
    "def obtener_tamagnio_archivo(ruta_archivo):\n",
    "    \"\"\"\n",
    "    Obtiene la cantidad de bytes que ocupa un archivo.\n",
    "    \n",
    "    ruta_archivo: Ruta del archivo.\n",
    "    return: Cantidad bytes que ocupa el archivo.\n",
    "    \"\"\"\n",
    "    if os.path.exists(ruta_archivo):\n",
    "        if os.path.isfile(ruta_archivo):\n",
    "            metadata_archivo = os.stat(ruta_archivo)\n",
    "            \n",
    "            return metadata_archivo.st_size\n",
    "        else:\n",
    "            return None\n",
    "    else:\n",
    "        return None"
   ]
  },
  {
   "cell_type": "code",
   "execution_count": null,
   "metadata": {},
   "outputs": [],
   "source": [
    "help(obtener_tamagnio_archivo)"
   ]
  },
  {
   "cell_type": "code",
   "execution_count": null,
   "metadata": {},
   "outputs": [],
   "source": [
    "obtener_tamagnio_archivo(archivo_paises)"
   ]
  },
  {
   "cell_type": "code",
   "execution_count": null,
   "metadata": {},
   "outputs": [],
   "source": [
    "obtener_tamagnio_archivo(ruta_archivos_directorio)"
   ]
  },
  {
   "cell_type": "markdown",
   "metadata": {},
   "source": [
    "## 9.4 Escritura y lectura de archivos binarios con el módulo `pickle`"
   ]
  },
  {
   "cell_type": "markdown",
   "metadata": {},
   "source": [
    "El módulo `pickle` nos permite escribir datos en una representación binaria."
   ]
  },
  {
   "cell_type": "markdown",
   "metadata": {},
   "source": [
    "**Ejemplo 9.4.1**\n",
    "\n",
    "Crear un diccionario con nombres de países (llaves) y sus respectivas capitales (valores).\n",
    "\n",
    "Luego crear un archivo binario utilizando el módulo `pickle`.\n",
    "\n",
    "Al final se debe leer ese archivo para reestablecer el contenido del diccionario `paises`."
   ]
  },
  {
   "cell_type": "code",
   "execution_count": 2,
   "metadata": {},
   "outputs": [],
   "source": [
    "paises = {\n",
    "    'Colombia': 'Bogotá',\n",
    "    'Perú': 'Lima',\n",
    "    'Alemania': 'Berlín',\n",
    "    'Argentina': 'Buenos Aires',\n",
    "    'Estados Unidos': 'Washington',\n",
    "    'Rusia': 'Moscú',\n",
    "    'Ecuador': 'Quito'\n",
    "}"
   ]
  },
  {
   "cell_type": "code",
   "execution_count": 3,
   "metadata": {},
   "outputs": [
    {
     "data": {
      "text/plain": [
       "dict"
      ]
     },
     "execution_count": 3,
     "metadata": {},
     "output_type": "execute_result"
    }
   ],
   "source": [
    "type(paises)"
   ]
  },
  {
   "cell_type": "code",
   "execution_count": 4,
   "metadata": {},
   "outputs": [
    {
     "data": {
      "text/plain": [
       "7"
      ]
     },
     "execution_count": 4,
     "metadata": {},
     "output_type": "execute_result"
    }
   ],
   "source": [
    "len(paises)"
   ]
  },
  {
   "cell_type": "code",
   "execution_count": 5,
   "metadata": {},
   "outputs": [
    {
     "data": {
      "text/plain": [
       "{'Colombia': 'Bogotá',\n",
       " 'Perú': 'Lima',\n",
       " 'Alemania': 'Berlín',\n",
       " 'Argentina': 'Buenos Aires',\n",
       " 'Estados Unidos': 'Washington',\n",
       " 'Rusia': 'Moscú',\n",
       " 'Ecuador': 'Quito'}"
      ]
     },
     "execution_count": 5,
     "metadata": {},
     "output_type": "execute_result"
    }
   ],
   "source": [
    "paises"
   ]
  },
  {
   "cell_type": "code",
   "execution_count": 6,
   "metadata": {},
   "outputs": [],
   "source": [
    "def es_ruta_valida(ruta):\n",
    "    \"\"\"\n",
    "    Verfica si una ruta especifica es válida.\n",
    "    \n",
    "    ruta: Ruta a validar.\n",
    "    return: True si la ruta es válida, False en caso contrario.\n",
    "    \"\"\"\n",
    "    try:\n",
    "        archivo = open(ruta, 'w')\n",
    "        archivo.close()\n",
    "        return True\n",
    "    except IOError:\n",
    "        return False"
   ]
  },
  {
   "cell_type": "code",
   "execution_count": 7,
   "metadata": {},
   "outputs": [],
   "source": [
    "import os\n",
    "import pickle\n",
    "\n",
    "def guardar_datos_archivo_binario(ruta_archivo, contenido):\n",
    "    \"\"\"\n",
    "    Guardar los datos de un objeto Python en un archivo.\n",
    "    \n",
    "    ruta_archivo: Ruta del archivo donde se van a guardar los datos.\n",
    "    contenido: Objeto Python con la información a escribir.\n",
    "    \n",
    "    return: True cuando el contenido se haya escrito en el disco.\n",
    "    \n",
    "    raises: Cuando la ruta no corresponde con un archivo\n",
    "    \"\"\"\n",
    "    if es_ruta_valida(ruta_archivo):\n",
    "        with open(ruta_archivo, 'wb') as f:\n",
    "            pickle.dump(contenido, f)\n",
    "        return True\n",
    "    else:\n",
    "        raise Exception(f'La ruta ({ruta_archivo}) no corresponde con un archivo.')"
   ]
  },
  {
   "cell_type": "code",
   "execution_count": 8,
   "metadata": {},
   "outputs": [
    {
     "name": "stdout",
     "output_type": "stream",
     "text": [
      "Help on function guardar_datos_archivo_binario in module __main__:\n",
      "\n",
      "guardar_datos_archivo_binario(ruta_archivo, contenido)\n",
      "    Guardar los datos de un objeto Python en un archivo.\n",
      "    \n",
      "    ruta_archivo: Ruta del archivo donde se van a guardar los datos.\n",
      "    contenido: Objeto Python con la información a escribir.\n",
      "    \n",
      "    return: True cuando el contenido se haya escrito en el disco.\n",
      "    \n",
      "    raises: Cuando la ruta no corresponde con un archivo\n",
      "\n"
     ]
    }
   ],
   "source": [
    "help(guardar_datos_archivo_binario)"
   ]
  },
  {
   "cell_type": "code",
   "execution_count": 9,
   "metadata": {},
   "outputs": [],
   "source": [
    "archivo_objeto_paises = 'T001-09-objeto-paises.pkl'"
   ]
  },
  {
   "cell_type": "code",
   "execution_count": 10,
   "metadata": {},
   "outputs": [
    {
     "data": {
      "text/plain": [
       "True"
      ]
     },
     "execution_count": 10,
     "metadata": {},
     "output_type": "execute_result"
    }
   ],
   "source": [
    "guardar_datos_archivo_binario(archivo_objeto_paises, paises)"
   ]
  },
  {
   "cell_type": "code",
   "execution_count": 16,
   "metadata": {},
   "outputs": [],
   "source": [
    "import pickle\n",
    "\n",
    "def leer_contenido_archivo_binario(ruta_archivo):\n",
    "    \"\"\"\n",
    "    Lee el contenido de un archivo binario.\n",
    "    \n",
    "    ruta_archivo: Ruta del archivo binario a leer.\n",
    "    \n",
    "    return: Objeto Python recuperado desde un archivo binario.\n",
    "    \"\"\"\n",
    "    if os.path.exists(ruta_archivo):\n",
    "        if os.path.isfile(ruta_archivo):\n",
    "            with open(ruta_archivo, 'rb') as f:\n",
    "                return pickle.load(f)\n",
    "        else:\n",
    "            return None\n",
    "    else:\n",
    "        return None"
   ]
  },
  {
   "cell_type": "code",
   "execution_count": 13,
   "metadata": {},
   "outputs": [
    {
     "name": "stdout",
     "output_type": "stream",
     "text": [
      "Help on function leer_contenido_archivo_binario in module __main__:\n",
      "\n",
      "leer_contenido_archivo_binario(ruta_archivo)\n",
      "    Lee el contenido de un archivo binario.\n",
      "    \n",
      "    ruta_archivo: Ruta del archivo binario a leer.\n",
      "    \n",
      "    return: Objeto Python recuperado desde un archivo binario.\n",
      "\n"
     ]
    }
   ],
   "source": [
    "help(leer_contenido_archivo_binario)"
   ]
  },
  {
   "cell_type": "code",
   "execution_count": 14,
   "metadata": {},
   "outputs": [
    {
     "data": {
      "text/plain": [
       "'T001-09-objeto-paises.pkl'"
      ]
     },
     "execution_count": 14,
     "metadata": {},
     "output_type": "execute_result"
    }
   ],
   "source": [
    "archivo_objeto_paises"
   ]
  },
  {
   "cell_type": "code",
   "execution_count": 17,
   "metadata": {},
   "outputs": [],
   "source": [
    "resultado = leer_contenido_archivo_binario(archivo_objeto_paises)"
   ]
  },
  {
   "cell_type": "code",
   "execution_count": 18,
   "metadata": {},
   "outputs": [
    {
     "data": {
      "text/plain": [
       "dict"
      ]
     },
     "execution_count": 18,
     "metadata": {},
     "output_type": "execute_result"
    }
   ],
   "source": [
    "type(resultado)"
   ]
  },
  {
   "cell_type": "code",
   "execution_count": 19,
   "metadata": {},
   "outputs": [
    {
     "data": {
      "text/plain": [
       "7"
      ]
     },
     "execution_count": 19,
     "metadata": {},
     "output_type": "execute_result"
    }
   ],
   "source": [
    "len(resultado)"
   ]
  },
  {
   "cell_type": "code",
   "execution_count": 20,
   "metadata": {},
   "outputs": [
    {
     "data": {
      "text/plain": [
       "{'Colombia': 'Bogotá',\n",
       " 'Perú': 'Lima',\n",
       " 'Alemania': 'Berlín',\n",
       " 'Argentina': 'Buenos Aires',\n",
       " 'Estados Unidos': 'Washington',\n",
       " 'Rusia': 'Moscú',\n",
       " 'Ecuador': 'Quito'}"
      ]
     },
     "execution_count": 20,
     "metadata": {},
     "output_type": "execute_result"
    }
   ],
   "source": [
    "resultado"
   ]
  },
  {
   "cell_type": "code",
   "execution_count": null,
   "metadata": {},
   "outputs": [],
   "source": []
  }
 ],
 "metadata": {
  "kernelspec": {
   "display_name": "Python 3",
   "language": "python",
   "name": "python3"
  },
  "language_info": {
   "codemirror_mode": {
    "name": "ipython",
    "version": 3
   },
   "file_extension": ".py",
   "mimetype": "text/x-python",
   "name": "python",
   "nbconvert_exporter": "python",
   "pygments_lexer": "ipython3",
   "version": "3.8.3"
  }
 },
 "nbformat": 4,
 "nbformat_minor": 4
}
