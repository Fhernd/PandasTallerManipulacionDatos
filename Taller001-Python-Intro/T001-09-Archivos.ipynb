{
 "cells": [
  {
   "cell_type": "markdown",
   "metadata": {},
   "source": [
    "# 9. Archivos"
   ]
  },
  {
   "cell_type": "markdown",
   "metadata": {},
   "source": [
    "## 9.1 ¿Qué es un archivo?\n",
    "\n",
    "Un archivo es un contenedor de información. En un archivo la información se almacena como un conjunto de bytes consecutivos. En el interior del archivo, la información se organiza acorde a un formato concreto (texto, binario, executable, etc.).\n",
    "\n",
    "Los archivos se representan como series de unos (1) y ceros (0) para ser procesador por el sistema (computador)."
   ]
  },
  {
   "cell_type": "markdown",
   "metadata": {},
   "source": [
    "Un archivo se organiza en tres partes:\n",
    "\n",
    "1. Encabezado - tiene la metadata del contenido del archivo (nombre, tamaño, tipo, etc).\n",
    "2. Datos - contenido del archivo\n",
    "3. Fin del archivo - EOF (End-Of-File)."
   ]
  },
  {
   "cell_type": "markdown",
   "metadata": {},
   "source": [
    "## 9.2 Operaciones básicas sobre un archivo"
   ]
  },
  {
   "cell_type": "markdown",
   "metadata": {},
   "source": [
    "Ejemplo 9.2.1: Obtener la ruta actual del archivo en edición."
   ]
  },
  {
   "cell_type": "code",
   "execution_count": 2,
   "metadata": {},
   "outputs": [
    {
     "data": {
      "text/plain": [
       "WindowsPath('G:/Dropbox/Pro/Talleres/PandasTallerManipulacionDatos/Taller001-Python-Intro')"
      ]
     },
     "execution_count": 2,
     "metadata": {},
     "output_type": "execute_result"
    }
   ],
   "source": [
    "import pathlib\n",
    "\n",
    "resultado = pathlib.Path().resolve()\n",
    "\n",
    "resultado"
   ]
  },
  {
   "cell_type": "markdown",
   "metadata": {},
   "source": [
    "Ejemplo 9.2.2: Obtener el nombre del archivo actual."
   ]
  },
  {
   "cell_type": "code",
   "execution_count": 3,
   "metadata": {},
   "outputs": [
    {
     "data": {
      "application/javascript": [
       "IPython.notebook.kernel.execute(`notebookname = '${window.document.getElementById(\"notebook_name\").innerHTML}'`)\n"
      ],
      "text/plain": [
       "<IPython.core.display.Javascript object>"
      ]
     },
     "metadata": {},
     "output_type": "display_data"
    }
   ],
   "source": [
    "%%javascript\n",
    "IPython.notebook.kernel.execute(`notebookname = '${window.document.getElementById(\"notebook_name\").innerHTML}'`)"
   ]
  },
  {
   "cell_type": "code",
   "execution_count": 4,
   "metadata": {},
   "outputs": [
    {
     "data": {
      "text/plain": [
       "'T001-09-Archivos'"
      ]
     },
     "execution_count": 4,
     "metadata": {},
     "output_type": "execute_result"
    }
   ],
   "source": [
    "notebookname"
   ]
  },
  {
   "cell_type": "code",
   "execution_count": 5,
   "metadata": {},
   "outputs": [
    {
     "data": {
      "text/plain": [
       "'T001-09-Archivos.ipynb'"
      ]
     },
     "execution_count": 5,
     "metadata": {},
     "output_type": "execute_result"
    }
   ],
   "source": [
    "nombre_archivo = notebookname + '.ipynb'\n",
    "\n",
    "nombre_archivo"
   ]
  },
  {
   "cell_type": "markdown",
   "metadata": {},
   "source": [
    "Ejemplo 9.2.3: Preguntar si un archivo existe."
   ]
  },
  {
   "cell_type": "code",
   "execution_count": 6,
   "metadata": {},
   "outputs": [
    {
     "data": {
      "text/plain": [
       "['__bytes__',\n",
       " '__class__',\n",
       " '__delattr__',\n",
       " '__dir__',\n",
       " '__doc__',\n",
       " '__enter__',\n",
       " '__eq__',\n",
       " '__exit__',\n",
       " '__format__',\n",
       " '__fspath__',\n",
       " '__ge__',\n",
       " '__getattribute__',\n",
       " '__gt__',\n",
       " '__hash__',\n",
       " '__init__',\n",
       " '__init_subclass__',\n",
       " '__le__',\n",
       " '__lt__',\n",
       " '__module__',\n",
       " '__ne__',\n",
       " '__new__',\n",
       " '__reduce__',\n",
       " '__reduce_ex__',\n",
       " '__repr__',\n",
       " '__rtruediv__',\n",
       " '__setattr__',\n",
       " '__sizeof__',\n",
       " '__slots__',\n",
       " '__str__',\n",
       " '__subclasshook__',\n",
       " '__truediv__',\n",
       " '_accessor',\n",
       " '_cached_cparts',\n",
       " '_closed',\n",
       " '_cparts',\n",
       " '_drv',\n",
       " '_flavour',\n",
       " '_format_parsed_parts',\n",
       " '_from_parsed_parts',\n",
       " '_from_parts',\n",
       " '_hash',\n",
       " '_init',\n",
       " '_make_child',\n",
       " '_make_child_relpath',\n",
       " '_opener',\n",
       " '_parse_args',\n",
       " '_parts',\n",
       " '_pparts',\n",
       " '_raise_closed',\n",
       " '_raw_open',\n",
       " '_root',\n",
       " '_str',\n",
       " 'absolute',\n",
       " 'anchor',\n",
       " 'as_posix',\n",
       " 'as_uri',\n",
       " 'chmod',\n",
       " 'cwd',\n",
       " 'drive',\n",
       " 'exists',\n",
       " 'expanduser',\n",
       " 'glob',\n",
       " 'group',\n",
       " 'home',\n",
       " 'is_absolute',\n",
       " 'is_block_device',\n",
       " 'is_char_device',\n",
       " 'is_dir',\n",
       " 'is_fifo',\n",
       " 'is_file',\n",
       " 'is_mount',\n",
       " 'is_reserved',\n",
       " 'is_socket',\n",
       " 'is_symlink',\n",
       " 'iterdir',\n",
       " 'joinpath',\n",
       " 'lchmod',\n",
       " 'link_to',\n",
       " 'lstat',\n",
       " 'match',\n",
       " 'mkdir',\n",
       " 'name',\n",
       " 'open',\n",
       " 'owner',\n",
       " 'parent',\n",
       " 'parents',\n",
       " 'parts',\n",
       " 'read_bytes',\n",
       " 'read_text',\n",
       " 'relative_to',\n",
       " 'rename',\n",
       " 'replace',\n",
       " 'resolve',\n",
       " 'rglob',\n",
       " 'rmdir',\n",
       " 'root',\n",
       " 'samefile',\n",
       " 'stat',\n",
       " 'stem',\n",
       " 'suffix',\n",
       " 'suffixes',\n",
       " 'symlink_to',\n",
       " 'touch',\n",
       " 'unlink',\n",
       " 'with_name',\n",
       " 'with_suffix',\n",
       " 'write_bytes',\n",
       " 'write_text']"
      ]
     },
     "execution_count": 6,
     "metadata": {},
     "output_type": "execute_result"
    }
   ],
   "source": [
    "dir(resultado)"
   ]
  },
  {
   "cell_type": "code",
   "execution_count": 7,
   "metadata": {},
   "outputs": [
    {
     "data": {
      "text/plain": [
       "<bound method Path.absolute of WindowsPath('G:/Dropbox/Pro/Talleres/PandasTallerManipulacionDatos/Taller001-Python-Intro')>"
      ]
     },
     "execution_count": 7,
     "metadata": {},
     "output_type": "execute_result"
    }
   ],
   "source": [
    "resultado.absolute"
   ]
  },
  {
   "cell_type": "code",
   "execution_count": 8,
   "metadata": {},
   "outputs": [
    {
     "data": {
      "text/plain": [
       "WindowsPath('G:/Dropbox/Pro/Talleres/PandasTallerManipulacionDatos/Taller001-Python-Intro')"
      ]
     },
     "execution_count": 8,
     "metadata": {},
     "output_type": "execute_result"
    }
   ],
   "source": [
    "resultado.absolute()"
   ]
  },
  {
   "cell_type": "code",
   "execution_count": 9,
   "metadata": {},
   "outputs": [
    {
     "data": {
      "text/plain": [
       "'G:\\\\Dropbox\\\\Pro\\\\Talleres\\\\PandasTallerManipulacionDatos\\\\Taller001-Python-Intro'"
      ]
     },
     "execution_count": 9,
     "metadata": {},
     "output_type": "execute_result"
    }
   ],
   "source": [
    "resultado = str(resultado)"
   ]
  },
  {
   "cell_type": "code",
   "execution_count": 10,
   "metadata": {},
   "outputs": [
    {
     "data": {
      "text/plain": [
       "'G:\\\\Dropbox\\\\Pro\\\\Talleres\\\\PandasTallerManipulacionDatos\\\\Taller001-Python-Intro'"
      ]
     },
     "execution_count": 10,
     "metadata": {},
     "output_type": "execute_result"
    }
   ],
   "source": [
    "resultado = str(resultado)\n",
    "\n",
    "resultado"
   ]
  },
  {
   "cell_type": "code",
   "execution_count": 11,
   "metadata": {},
   "outputs": [
    {
     "data": {
      "text/plain": [
       "'T001-09-Archivos.ipynb'"
      ]
     },
     "execution_count": 11,
     "metadata": {},
     "output_type": "execute_result"
    }
   ],
   "source": [
    "nombre_archivo"
   ]
  },
  {
   "cell_type": "code",
   "execution_count": 12,
   "metadata": {},
   "outputs": [],
   "source": [
    "import os"
   ]
  },
  {
   "cell_type": "code",
   "execution_count": 13,
   "metadata": {},
   "outputs": [
    {
     "data": {
      "text/plain": [
       "'G:\\\\Dropbox\\\\Pro\\\\Talleres\\\\PandasTallerManipulacionDatos\\\\Taller001-Python-Intro\\\\T001-09-Archivos.ipynb'"
      ]
     },
     "execution_count": 13,
     "metadata": {},
     "output_type": "execute_result"
    }
   ],
   "source": [
    "ruta_absoluta = os.path.join(resultado, nombre_archivo)\n",
    "\n",
    "ruta_absoluta"
   ]
  },
  {
   "cell_type": "code",
   "execution_count": 14,
   "metadata": {},
   "outputs": [
    {
     "data": {
      "text/plain": [
       "True"
      ]
     },
     "execution_count": 14,
     "metadata": {},
     "output_type": "execute_result"
    }
   ],
   "source": [
    "os.path.exists(ruta_absoluta)"
   ]
  },
  {
   "cell_type": "code",
   "execution_count": 15,
   "metadata": {},
   "outputs": [
    {
     "data": {
      "text/plain": [
       "'G:\\\\Dropbox\\\\Pro\\\\Talleres\\\\PandasTallerManipulacionDatos\\\\Taller001-Python-Intro\\\\taller01_archivos.ipynb'"
      ]
     },
     "execution_count": 15,
     "metadata": {},
     "output_type": "execute_result"
    }
   ],
   "source": [
    "ruta_absoluta_no_existente = os.path.join(resultado, 'taller01_archivos.ipynb')\n",
    "\n",
    "ruta_absoluta_no_existente"
   ]
  },
  {
   "cell_type": "code",
   "execution_count": 16,
   "metadata": {},
   "outputs": [
    {
     "data": {
      "text/plain": [
       "False"
      ]
     },
     "execution_count": 16,
     "metadata": {},
     "output_type": "execute_result"
    }
   ],
   "source": [
    "os.path.exists(ruta_absoluta_no_existente)"
   ]
  },
  {
   "cell_type": "markdown",
   "metadata": {},
   "source": [
    "**Ejemplo 9.2.4**:\n",
    "\n",
    "Leer el contenido de un archivo."
   ]
  },
  {
   "cell_type": "code",
   "execution_count": 17,
   "metadata": {},
   "outputs": [
    {
     "data": {
      "text/plain": [
       "'G:\\\\Dropbox\\\\Pro\\\\Talleres\\\\PandasTallerManipulacionDatos\\\\Taller001-Python-Intro\\\\T001-09-Archivos.ipynb'"
      ]
     },
     "execution_count": 17,
     "metadata": {},
     "output_type": "execute_result"
    }
   ],
   "source": [
    "ruta_absoluta"
   ]
  },
  {
   "cell_type": "code",
   "execution_count": 23,
   "metadata": {},
   "outputs": [],
   "source": [
    "def leer_contenido_archivo(ruta_archivo):\n",
    "    \"\"\"\n",
    "    Lee el contenido de un archivo especificado en un ruta.\n",
    "    \n",
    "    :param ruta_archivo:string: Ruta del archivo a leer.\n",
    "    :return NoneType.\n",
    "    \"\"\"\n",
    "    if os.path.exists(ruta_archivo):\n",
    "        if os.path.isfile(ruta_archivo):\n",
    "            with open(ruta_archivo, 'rt', encoding='utf-8') as f:\n",
    "                for l in f.readlines():\n",
    "                    print(l)\n",
    "        else:\n",
    "            print('ERROR: La ruta indicada no corresponde a un archivo.')\n",
    "    else:\n",
    "        print('ERROR: El archivo no existe.')"
   ]
  },
  {
   "cell_type": "code",
   "execution_count": 19,
   "metadata": {},
   "outputs": [
    {
     "name": "stdout",
     "output_type": "stream",
     "text": [
      "Help on function leer_contenido_archivo in module __main__:\n",
      "\n",
      "leer_contenido_archivo(ruta_archivo)\n",
      "    Lee el contenido de un archivo especificado en un ruta.\n",
      "    \n",
      "    :param ruta_archivo:string: Ruta del archivo a leer.\n",
      "    :return NoneType.\n",
      "\n"
     ]
    }
   ],
   "source": [
    "help(leer_contenido_archivo)"
   ]
  },
  {
   "cell_type": "code",
   "execution_count": 20,
   "metadata": {},
   "outputs": [
    {
     "name": "stdout",
     "output_type": "stream",
     "text": [
      "ERROR: El archivo no existe.\n"
     ]
    }
   ],
   "source": [
    "leer_contenido_archivo(ruta_absoluta_no_existente)"
   ]
  },
  {
   "cell_type": "code",
   "execution_count": 21,
   "metadata": {},
   "outputs": [
    {
     "name": "stdout",
     "output_type": "stream",
     "text": [
      "ERROR: La ruta indicada no corresponde a un archivo.\n"
     ]
    }
   ],
   "source": [
    "leer_contenido_archivo(resultado)"
   ]
  },
  {
   "cell_type": "code",
   "execution_count": 24,
   "metadata": {},
   "outputs": [
    {
     "name": "stdout",
     "output_type": "stream",
     "text": [
      "{\n",
      "\n",
      " \"cells\": [\n",
      "\n",
      "  {\n",
      "\n",
      "   \"cell_type\": \"markdown\",\n",
      "\n",
      "   \"metadata\": {},\n",
      "\n",
      "   \"source\": [\n",
      "\n",
      "    \"# 9. Archivos\"\n",
      "\n",
      "   ]\n",
      "\n",
      "  },\n",
      "\n",
      "  {\n",
      "\n",
      "   \"cell_type\": \"markdown\",\n",
      "\n",
      "   \"metadata\": {},\n",
      "\n",
      "   \"source\": [\n",
      "\n",
      "    \"## 9.1 ¿Qué es un archivo?\\n\",\n",
      "\n",
      "    \"\\n\",\n",
      "\n",
      "    \"Un archivo es un contenedor de información. En un archivo la información se almacena como un conjunto de bytes consecutivos. En el interior del archivo, la información se organiza acorde a un formato concreto (texto, binario, executable, etc.).\\n\",\n",
      "\n",
      "    \"\\n\",\n",
      "\n",
      "    \"Los archivos se representan como series de unos (1) y ceros (0) para ser procesador por el sistema (computador).\"\n",
      "\n",
      "   ]\n",
      "\n",
      "  },\n",
      "\n",
      "  {\n",
      "\n",
      "   \"cell_type\": \"markdown\",\n",
      "\n",
      "   \"metadata\": {},\n",
      "\n",
      "   \"source\": [\n",
      "\n",
      "    \"Un archivo se organiza en tres partes:\\n\",\n",
      "\n",
      "    \"\\n\",\n",
      "\n",
      "    \"1. Encabezado - tiene la metadata del contenido del archivo (nombre, tamaño, tipo, etc).\\n\",\n",
      "\n",
      "    \"2. Datos - contenido del archivo\\n\",\n",
      "\n",
      "    \"3. Fin del archivo - EOF (End-Of-File).\"\n",
      "\n",
      "   ]\n",
      "\n",
      "  },\n",
      "\n",
      "  {\n",
      "\n",
      "   \"cell_type\": \"markdown\",\n",
      "\n",
      "   \"metadata\": {},\n",
      "\n",
      "   \"source\": [\n",
      "\n",
      "    \"## 9.2 Operaciones básicas sobre un archivo\"\n",
      "\n",
      "   ]\n",
      "\n",
      "  },\n",
      "\n",
      "  {\n",
      "\n",
      "   \"cell_type\": \"markdown\",\n",
      "\n",
      "   \"metadata\": {},\n",
      "\n",
      "   \"source\": [\n",
      "\n",
      "    \"Ejemplo 9.2.1: Obtener la ruta actual del archivo en edición.\"\n",
      "\n",
      "   ]\n",
      "\n",
      "  },\n",
      "\n",
      "  {\n",
      "\n",
      "   \"cell_type\": \"code\",\n",
      "\n",
      "   \"execution_count\": 2,\n",
      "\n",
      "   \"metadata\": {},\n",
      "\n",
      "   \"outputs\": [\n",
      "\n",
      "    {\n",
      "\n",
      "     \"data\": {\n",
      "\n",
      "      \"text/plain\": [\n",
      "\n",
      "       \"WindowsPath('G:/Dropbox/Pro/Talleres/PandasTallerManipulacionDatos/Taller001-Python-Intro')\"\n",
      "\n",
      "      ]\n",
      "\n",
      "     },\n",
      "\n",
      "     \"execution_count\": 2,\n",
      "\n",
      "     \"metadata\": {},\n",
      "\n",
      "     \"output_type\": \"execute_result\"\n",
      "\n",
      "    }\n",
      "\n",
      "   ],\n",
      "\n",
      "   \"source\": [\n",
      "\n",
      "    \"import pathlib\\n\",\n",
      "\n",
      "    \"\\n\",\n",
      "\n",
      "    \"resultado = pathlib.Path().resolve()\\n\",\n",
      "\n",
      "    \"\\n\",\n",
      "\n",
      "    \"resultado\"\n",
      "\n",
      "   ]\n",
      "\n",
      "  },\n",
      "\n",
      "  {\n",
      "\n",
      "   \"cell_type\": \"markdown\",\n",
      "\n",
      "   \"metadata\": {},\n",
      "\n",
      "   \"source\": [\n",
      "\n",
      "    \"Ejemplo 9.2.2: Obtener el nombre del archivo actual.\"\n",
      "\n",
      "   ]\n",
      "\n",
      "  },\n",
      "\n",
      "  {\n",
      "\n",
      "   \"cell_type\": \"code\",\n",
      "\n",
      "   \"execution_count\": 3,\n",
      "\n",
      "   \"metadata\": {},\n",
      "\n",
      "   \"outputs\": [\n",
      "\n",
      "    {\n",
      "\n",
      "     \"data\": {\n",
      "\n",
      "      \"application/javascript\": [\n",
      "\n",
      "       \"IPython.notebook.kernel.execute(`notebookname = '${window.document.getElementById(\\\"notebook_name\\\").innerHTML}'`)\\n\"\n",
      "\n",
      "      ],\n",
      "\n",
      "      \"text/plain\": [\n",
      "\n",
      "       \"<IPython.core.display.Javascript object>\"\n",
      "\n",
      "      ]\n",
      "\n",
      "     },\n",
      "\n",
      "     \"metadata\": {},\n",
      "\n",
      "     \"output_type\": \"display_data\"\n",
      "\n",
      "    }\n",
      "\n",
      "   ],\n",
      "\n",
      "   \"source\": [\n",
      "\n",
      "    \"%%javascript\\n\",\n",
      "\n",
      "    \"IPython.notebook.kernel.execute(`notebookname = '${window.document.getElementById(\\\"notebook_name\\\").innerHTML}'`)\"\n",
      "\n",
      "   ]\n",
      "\n",
      "  },\n",
      "\n",
      "  {\n",
      "\n",
      "   \"cell_type\": \"code\",\n",
      "\n",
      "   \"execution_count\": 4,\n",
      "\n",
      "   \"metadata\": {},\n",
      "\n",
      "   \"outputs\": [\n",
      "\n",
      "    {\n",
      "\n",
      "     \"data\": {\n",
      "\n",
      "      \"text/plain\": [\n",
      "\n",
      "       \"'T001-09-Archivos'\"\n",
      "\n",
      "      ]\n",
      "\n",
      "     },\n",
      "\n",
      "     \"execution_count\": 4,\n",
      "\n",
      "     \"metadata\": {},\n",
      "\n",
      "     \"output_type\": \"execute_result\"\n",
      "\n",
      "    }\n",
      "\n",
      "   ],\n",
      "\n",
      "   \"source\": [\n",
      "\n",
      "    \"notebookname\"\n",
      "\n",
      "   ]\n",
      "\n",
      "  },\n",
      "\n",
      "  {\n",
      "\n",
      "   \"cell_type\": \"code\",\n",
      "\n",
      "   \"execution_count\": 5,\n",
      "\n",
      "   \"metadata\": {},\n",
      "\n",
      "   \"outputs\": [\n",
      "\n",
      "    {\n",
      "\n",
      "     \"data\": {\n",
      "\n",
      "      \"text/plain\": [\n",
      "\n",
      "       \"'T001-09-Archivos.ipynb'\"\n",
      "\n",
      "      ]\n",
      "\n",
      "     },\n",
      "\n",
      "     \"execution_count\": 5,\n",
      "\n",
      "     \"metadata\": {},\n",
      "\n",
      "     \"output_type\": \"execute_result\"\n",
      "\n",
      "    }\n",
      "\n",
      "   ],\n",
      "\n",
      "   \"source\": [\n",
      "\n",
      "    \"nombre_archivo = notebookname + '.ipynb'\\n\",\n",
      "\n",
      "    \"\\n\",\n",
      "\n",
      "    \"nombre_archivo\"\n",
      "\n",
      "   ]\n",
      "\n",
      "  },\n",
      "\n",
      "  {\n",
      "\n",
      "   \"cell_type\": \"markdown\",\n",
      "\n",
      "   \"metadata\": {},\n",
      "\n",
      "   \"source\": [\n",
      "\n",
      "    \"Ejemplo 9.2.3: Preguntar si un archivo existe.\"\n",
      "\n",
      "   ]\n",
      "\n",
      "  },\n",
      "\n",
      "  {\n",
      "\n",
      "   \"cell_type\": \"code\",\n",
      "\n",
      "   \"execution_count\": 6,\n",
      "\n",
      "   \"metadata\": {},\n",
      "\n",
      "   \"outputs\": [\n",
      "\n",
      "    {\n",
      "\n",
      "     \"data\": {\n",
      "\n",
      "      \"text/plain\": [\n",
      "\n",
      "       \"['__bytes__',\\n\",\n",
      "\n",
      "       \" '__class__',\\n\",\n",
      "\n",
      "       \" '__delattr__',\\n\",\n",
      "\n",
      "       \" '__dir__',\\n\",\n",
      "\n",
      "       \" '__doc__',\\n\",\n",
      "\n",
      "       \" '__enter__',\\n\",\n",
      "\n",
      "       \" '__eq__',\\n\",\n",
      "\n",
      "       \" '__exit__',\\n\",\n",
      "\n",
      "       \" '__format__',\\n\",\n",
      "\n",
      "       \" '__fspath__',\\n\",\n",
      "\n",
      "       \" '__ge__',\\n\",\n",
      "\n",
      "       \" '__getattribute__',\\n\",\n",
      "\n",
      "       \" '__gt__',\\n\",\n",
      "\n",
      "       \" '__hash__',\\n\",\n",
      "\n",
      "       \" '__init__',\\n\",\n",
      "\n",
      "       \" '__init_subclass__',\\n\",\n",
      "\n",
      "       \" '__le__',\\n\",\n",
      "\n",
      "       \" '__lt__',\\n\",\n",
      "\n",
      "       \" '__module__',\\n\",\n",
      "\n",
      "       \" '__ne__',\\n\",\n",
      "\n",
      "       \" '__new__',\\n\",\n",
      "\n",
      "       \" '__reduce__',\\n\",\n",
      "\n",
      "       \" '__reduce_ex__',\\n\",\n",
      "\n",
      "       \" '__repr__',\\n\",\n",
      "\n",
      "       \" '__rtruediv__',\\n\",\n",
      "\n",
      "       \" '__setattr__',\\n\",\n",
      "\n",
      "       \" '__sizeof__',\\n\",\n",
      "\n",
      "       \" '__slots__',\\n\",\n",
      "\n",
      "       \" '__str__',\\n\",\n",
      "\n",
      "       \" '__subclasshook__',\\n\",\n",
      "\n",
      "       \" '__truediv__',\\n\",\n",
      "\n",
      "       \" '_accessor',\\n\",\n",
      "\n",
      "       \" '_cached_cparts',\\n\",\n",
      "\n",
      "       \" '_closed',\\n\",\n",
      "\n",
      "       \" '_cparts',\\n\",\n",
      "\n",
      "       \" '_drv',\\n\",\n",
      "\n",
      "       \" '_flavour',\\n\",\n",
      "\n",
      "       \" '_format_parsed_parts',\\n\",\n",
      "\n",
      "       \" '_from_parsed_parts',\\n\",\n",
      "\n",
      "       \" '_from_parts',\\n\",\n",
      "\n",
      "       \" '_hash',\\n\",\n",
      "\n",
      "       \" '_init',\\n\",\n",
      "\n",
      "       \" '_make_child',\\n\",\n",
      "\n",
      "       \" '_make_child_relpath',\\n\",\n",
      "\n",
      "       \" '_opener',\\n\",\n",
      "\n",
      "       \" '_parse_args',\\n\",\n",
      "\n",
      "       \" '_parts',\\n\",\n",
      "\n",
      "       \" '_pparts',\\n\",\n",
      "\n",
      "       \" '_raise_closed',\\n\",\n",
      "\n",
      "       \" '_raw_open',\\n\",\n",
      "\n",
      "       \" '_root',\\n\",\n",
      "\n",
      "       \" '_str',\\n\",\n",
      "\n",
      "       \" 'absolute',\\n\",\n",
      "\n",
      "       \" 'anchor',\\n\",\n",
      "\n",
      "       \" 'as_posix',\\n\",\n",
      "\n",
      "       \" 'as_uri',\\n\",\n",
      "\n",
      "       \" 'chmod',\\n\",\n",
      "\n",
      "       \" 'cwd',\\n\",\n",
      "\n",
      "       \" 'drive',\\n\",\n",
      "\n",
      "       \" 'exists',\\n\",\n",
      "\n",
      "       \" 'expanduser',\\n\",\n",
      "\n",
      "       \" 'glob',\\n\",\n",
      "\n",
      "       \" 'group',\\n\",\n",
      "\n",
      "       \" 'home',\\n\",\n",
      "\n",
      "       \" 'is_absolute',\\n\",\n",
      "\n",
      "       \" 'is_block_device',\\n\",\n",
      "\n",
      "       \" 'is_char_device',\\n\",\n",
      "\n",
      "       \" 'is_dir',\\n\",\n",
      "\n",
      "       \" 'is_fifo',\\n\",\n",
      "\n",
      "       \" 'is_file',\\n\",\n",
      "\n",
      "       \" 'is_mount',\\n\",\n",
      "\n",
      "       \" 'is_reserved',\\n\",\n",
      "\n",
      "       \" 'is_socket',\\n\",\n",
      "\n",
      "       \" 'is_symlink',\\n\",\n",
      "\n",
      "       \" 'iterdir',\\n\",\n",
      "\n",
      "       \" 'joinpath',\\n\",\n",
      "\n",
      "       \" 'lchmod',\\n\",\n",
      "\n",
      "       \" 'link_to',\\n\",\n",
      "\n",
      "       \" 'lstat',\\n\",\n",
      "\n",
      "       \" 'match',\\n\",\n",
      "\n",
      "       \" 'mkdir',\\n\",\n",
      "\n",
      "       \" 'name',\\n\",\n",
      "\n",
      "       \" 'open',\\n\",\n",
      "\n",
      "       \" 'owner',\\n\",\n",
      "\n",
      "       \" 'parent',\\n\",\n",
      "\n",
      "       \" 'parents',\\n\",\n",
      "\n",
      "       \" 'parts',\\n\",\n",
      "\n",
      "       \" 'read_bytes',\\n\",\n",
      "\n",
      "       \" 'read_text',\\n\",\n",
      "\n",
      "       \" 'relative_to',\\n\",\n",
      "\n",
      "       \" 'rename',\\n\",\n",
      "\n",
      "       \" 'replace',\\n\",\n",
      "\n",
      "       \" 'resolve',\\n\",\n",
      "\n",
      "       \" 'rglob',\\n\",\n",
      "\n",
      "       \" 'rmdir',\\n\",\n",
      "\n",
      "       \" 'root',\\n\",\n",
      "\n",
      "       \" 'samefile',\\n\",\n",
      "\n",
      "       \" 'stat',\\n\",\n",
      "\n",
      "       \" 'stem',\\n\",\n",
      "\n",
      "       \" 'suffix',\\n\",\n",
      "\n",
      "       \" 'suffixes',\\n\",\n",
      "\n",
      "       \" 'symlink_to',\\n\",\n",
      "\n",
      "       \" 'touch',\\n\",\n",
      "\n",
      "       \" 'unlink',\\n\",\n",
      "\n",
      "       \" 'with_name',\\n\",\n",
      "\n",
      "       \" 'with_suffix',\\n\",\n",
      "\n",
      "       \" 'write_bytes',\\n\",\n",
      "\n",
      "       \" 'write_text']\"\n",
      "\n",
      "      ]\n",
      "\n",
      "     },\n",
      "\n",
      "     \"execution_count\": 6,\n",
      "\n",
      "     \"metadata\": {},\n",
      "\n",
      "     \"output_type\": \"execute_result\"\n",
      "\n",
      "    }\n",
      "\n",
      "   ],\n",
      "\n",
      "   \"source\": [\n",
      "\n",
      "    \"dir(resultado)\"\n",
      "\n",
      "   ]\n",
      "\n",
      "  },\n",
      "\n",
      "  {\n",
      "\n",
      "   \"cell_type\": \"code\",\n",
      "\n",
      "   \"execution_count\": 7,\n",
      "\n",
      "   \"metadata\": {},\n",
      "\n",
      "   \"outputs\": [\n",
      "\n",
      "    {\n",
      "\n",
      "     \"data\": {\n",
      "\n",
      "      \"text/plain\": [\n",
      "\n",
      "       \"<bound method Path.absolute of WindowsPath('G:/Dropbox/Pro/Talleres/PandasTallerManipulacionDatos/Taller001-Python-Intro')>\"\n",
      "\n",
      "      ]\n",
      "\n",
      "     },\n",
      "\n",
      "     \"execution_count\": 7,\n",
      "\n",
      "     \"metadata\": {},\n",
      "\n",
      "     \"output_type\": \"execute_result\"\n",
      "\n",
      "    }\n",
      "\n",
      "   ],\n",
      "\n",
      "   \"source\": [\n",
      "\n",
      "    \"resultado.absolute\"\n",
      "\n",
      "   ]\n",
      "\n",
      "  },\n",
      "\n",
      "  {\n",
      "\n",
      "   \"cell_type\": \"code\",\n",
      "\n",
      "   \"execution_count\": 8,\n",
      "\n",
      "   \"metadata\": {},\n",
      "\n",
      "   \"outputs\": [\n",
      "\n",
      "    {\n",
      "\n",
      "     \"data\": {\n",
      "\n",
      "      \"text/plain\": [\n",
      "\n",
      "       \"WindowsPath('G:/Dropbox/Pro/Talleres/PandasTallerManipulacionDatos/Taller001-Python-Intro')\"\n",
      "\n",
      "      ]\n",
      "\n",
      "     },\n",
      "\n",
      "     \"execution_count\": 8,\n",
      "\n",
      "     \"metadata\": {},\n",
      "\n",
      "     \"output_type\": \"execute_result\"\n",
      "\n",
      "    }\n",
      "\n",
      "   ],\n",
      "\n",
      "   \"source\": [\n",
      "\n",
      "    \"resultado.absolute()\"\n",
      "\n",
      "   ]\n",
      "\n",
      "  },\n",
      "\n",
      "  {\n",
      "\n",
      "   \"cell_type\": \"code\",\n",
      "\n",
      "   \"execution_count\": 9,\n",
      "\n",
      "   \"metadata\": {},\n",
      "\n",
      "   \"outputs\": [\n",
      "\n",
      "    {\n",
      "\n",
      "     \"data\": {\n",
      "\n",
      "      \"text/plain\": [\n",
      "\n",
      "       \"'G:\\\\\\\\Dropbox\\\\\\\\Pro\\\\\\\\Talleres\\\\\\\\PandasTallerManipulacionDatos\\\\\\\\Taller001-Python-Intro'\"\n",
      "\n",
      "      ]\n",
      "\n",
      "     },\n",
      "\n",
      "     \"execution_count\": 9,\n",
      "\n",
      "     \"metadata\": {},\n",
      "\n",
      "     \"output_type\": \"execute_result\"\n",
      "\n",
      "    }\n",
      "\n",
      "   ],\n",
      "\n",
      "   \"source\": [\n",
      "\n",
      "    \"resultado = str(resultado)\"\n",
      "\n",
      "   ]\n",
      "\n",
      "  },\n",
      "\n",
      "  {\n",
      "\n",
      "   \"cell_type\": \"code\",\n",
      "\n",
      "   \"execution_count\": 10,\n",
      "\n",
      "   \"metadata\": {},\n",
      "\n",
      "   \"outputs\": [\n",
      "\n",
      "    {\n",
      "\n",
      "     \"data\": {\n",
      "\n",
      "      \"text/plain\": [\n",
      "\n",
      "       \"'G:\\\\\\\\Dropbox\\\\\\\\Pro\\\\\\\\Talleres\\\\\\\\PandasTallerManipulacionDatos\\\\\\\\Taller001-Python-Intro'\"\n",
      "\n",
      "      ]\n",
      "\n",
      "     },\n",
      "\n",
      "     \"execution_count\": 10,\n",
      "\n",
      "     \"metadata\": {},\n",
      "\n",
      "     \"output_type\": \"execute_result\"\n",
      "\n",
      "    }\n",
      "\n",
      "   ],\n",
      "\n",
      "   \"source\": [\n",
      "\n",
      "    \"resultado = str(resultado)\\n\",\n",
      "\n",
      "    \"\\n\",\n",
      "\n",
      "    \"resultado\"\n",
      "\n",
      "   ]\n",
      "\n",
      "  },\n",
      "\n",
      "  {\n",
      "\n",
      "   \"cell_type\": \"code\",\n",
      "\n",
      "   \"execution_count\": 11,\n",
      "\n",
      "   \"metadata\": {},\n",
      "\n",
      "   \"outputs\": [\n",
      "\n",
      "    {\n",
      "\n",
      "     \"data\": {\n",
      "\n",
      "      \"text/plain\": [\n",
      "\n",
      "       \"'T001-09-Archivos.ipynb'\"\n",
      "\n",
      "      ]\n",
      "\n",
      "     },\n",
      "\n",
      "     \"execution_count\": 11,\n",
      "\n",
      "     \"metadata\": {},\n",
      "\n",
      "     \"output_type\": \"execute_result\"\n",
      "\n",
      "    }\n",
      "\n",
      "   ],\n",
      "\n",
      "   \"source\": [\n",
      "\n",
      "    \"nombre_archivo\"\n",
      "\n",
      "   ]\n",
      "\n",
      "  },\n",
      "\n",
      "  {\n",
      "\n",
      "   \"cell_type\": \"code\",\n",
      "\n",
      "   \"execution_count\": 12,\n",
      "\n",
      "   \"metadata\": {},\n",
      "\n",
      "   \"outputs\": [],\n",
      "\n",
      "   \"source\": [\n",
      "\n",
      "    \"import os\"\n",
      "\n",
      "   ]\n",
      "\n",
      "  },\n",
      "\n",
      "  {\n",
      "\n",
      "   \"cell_type\": \"code\",\n",
      "\n",
      "   \"execution_count\": 13,\n",
      "\n",
      "   \"metadata\": {},\n",
      "\n",
      "   \"outputs\": [\n",
      "\n",
      "    {\n",
      "\n",
      "     \"data\": {\n",
      "\n",
      "      \"text/plain\": [\n",
      "\n",
      "       \"'G:\\\\\\\\Dropbox\\\\\\\\Pro\\\\\\\\Talleres\\\\\\\\PandasTallerManipulacionDatos\\\\\\\\Taller001-Python-Intro\\\\\\\\T001-09-Archivos.ipynb'\"\n",
      "\n",
      "      ]\n",
      "\n",
      "     },\n",
      "\n",
      "     \"execution_count\": 13,\n",
      "\n",
      "     \"metadata\": {},\n",
      "\n",
      "     \"output_type\": \"execute_result\"\n",
      "\n",
      "    }\n",
      "\n",
      "   ],\n",
      "\n",
      "   \"source\": [\n",
      "\n",
      "    \"ruta_absoluta = os.path.join(resultado, nombre_archivo)\\n\",\n",
      "\n",
      "    \"\\n\",\n",
      "\n",
      "    \"ruta_absoluta\"\n",
      "\n",
      "   ]\n",
      "\n",
      "  },\n",
      "\n",
      "  {\n",
      "\n",
      "   \"cell_type\": \"code\",\n",
      "\n",
      "   \"execution_count\": 14,\n",
      "\n",
      "   \"metadata\": {},\n",
      "\n",
      "   \"outputs\": [\n",
      "\n",
      "    {\n",
      "\n",
      "     \"data\": {\n",
      "\n",
      "      \"text/plain\": [\n",
      "\n",
      "       \"True\"\n",
      "\n",
      "      ]\n",
      "\n",
      "     },\n",
      "\n",
      "     \"execution_count\": 14,\n",
      "\n",
      "     \"metadata\": {},\n",
      "\n",
      "     \"output_type\": \"execute_result\"\n",
      "\n",
      "    }\n",
      "\n",
      "   ],\n",
      "\n",
      "   \"source\": [\n",
      "\n",
      "    \"os.path.exists(ruta_absoluta)\"\n",
      "\n",
      "   ]\n",
      "\n",
      "  },\n",
      "\n",
      "  {\n",
      "\n",
      "   \"cell_type\": \"code\",\n",
      "\n",
      "   \"execution_count\": 15,\n",
      "\n",
      "   \"metadata\": {},\n",
      "\n",
      "   \"outputs\": [\n",
      "\n",
      "    {\n",
      "\n",
      "     \"data\": {\n",
      "\n",
      "      \"text/plain\": [\n",
      "\n",
      "       \"'G:\\\\\\\\Dropbox\\\\\\\\Pro\\\\\\\\Talleres\\\\\\\\PandasTallerManipulacionDatos\\\\\\\\Taller001-Python-Intro\\\\\\\\taller01_archivos.ipynb'\"\n",
      "\n",
      "      ]\n",
      "\n",
      "     },\n",
      "\n",
      "     \"execution_count\": 15,\n",
      "\n",
      "     \"metadata\": {},\n",
      "\n",
      "     \"output_type\": \"execute_result\"\n",
      "\n",
      "    }\n",
      "\n",
      "   ],\n",
      "\n",
      "   \"source\": [\n",
      "\n",
      "    \"ruta_absoluta_no_existente = os.path.join(resultado, 'taller01_archivos.ipynb')\\n\",\n",
      "\n",
      "    \"\\n\",\n",
      "\n",
      "    \"ruta_absoluta_no_existente\"\n",
      "\n",
      "   ]\n",
      "\n",
      "  },\n",
      "\n",
      "  {\n",
      "\n",
      "   \"cell_type\": \"code\",\n",
      "\n",
      "   \"execution_count\": 16,\n",
      "\n",
      "   \"metadata\": {},\n",
      "\n",
      "   \"outputs\": [\n",
      "\n",
      "    {\n",
      "\n",
      "     \"data\": {\n",
      "\n",
      "      \"text/plain\": [\n",
      "\n",
      "       \"False\"\n",
      "\n",
      "      ]\n",
      "\n",
      "     },\n",
      "\n",
      "     \"execution_count\": 16,\n",
      "\n",
      "     \"metadata\": {},\n",
      "\n",
      "     \"output_type\": \"execute_result\"\n",
      "\n",
      "    }\n",
      "\n",
      "   ],\n",
      "\n",
      "   \"source\": [\n",
      "\n",
      "    \"os.path.exists(ruta_absoluta_no_existente)\"\n",
      "\n",
      "   ]\n",
      "\n",
      "  },\n",
      "\n",
      "  {\n",
      "\n",
      "   \"cell_type\": \"markdown\",\n",
      "\n",
      "   \"metadata\": {},\n",
      "\n",
      "   \"source\": [\n",
      "\n",
      "    \"**Ejemplo 9.2.4**:\\n\",\n",
      "\n",
      "    \"\\n\",\n",
      "\n",
      "    \"Leer el contenido de un archivo.\"\n",
      "\n",
      "   ]\n",
      "\n",
      "  },\n",
      "\n",
      "  {\n",
      "\n",
      "   \"cell_type\": \"code\",\n",
      "\n",
      "   \"execution_count\": 17,\n",
      "\n",
      "   \"metadata\": {},\n",
      "\n",
      "   \"outputs\": [\n",
      "\n",
      "    {\n",
      "\n",
      "     \"data\": {\n",
      "\n",
      "      \"text/plain\": [\n",
      "\n",
      "       \"'G:\\\\\\\\Dropbox\\\\\\\\Pro\\\\\\\\Talleres\\\\\\\\PandasTallerManipulacionDatos\\\\\\\\Taller001-Python-Intro\\\\\\\\T001-09-Archivos.ipynb'\"\n",
      "\n",
      "      ]\n",
      "\n",
      "     },\n",
      "\n",
      "     \"execution_count\": 17,\n",
      "\n",
      "     \"metadata\": {},\n",
      "\n",
      "     \"output_type\": \"execute_result\"\n",
      "\n",
      "    }\n",
      "\n",
      "   ],\n",
      "\n",
      "   \"source\": [\n",
      "\n",
      "    \"ruta_absoluta\"\n",
      "\n",
      "   ]\n",
      "\n",
      "  },\n",
      "\n",
      "  {\n",
      "\n",
      "   \"cell_type\": \"code\",\n",
      "\n",
      "   \"execution_count\": 23,\n",
      "\n",
      "   \"metadata\": {},\n",
      "\n",
      "   \"outputs\": [],\n",
      "\n",
      "   \"source\": [\n",
      "\n",
      "    \"def leer_contenido_archivo(ruta_archivo):\\n\",\n",
      "\n",
      "    \"    \\\"\\\"\\\"\\n\",\n",
      "\n",
      "    \"    Lee el contenido de un archivo especificado en un ruta.\\n\",\n",
      "\n",
      "    \"    \\n\",\n",
      "\n",
      "    \"    :param ruta_archivo:string: Ruta del archivo a leer.\\n\",\n",
      "\n",
      "    \"    :return NoneType.\\n\",\n",
      "\n",
      "    \"    \\\"\\\"\\\"\\n\",\n",
      "\n",
      "    \"    if os.path.exists(ruta_archivo):\\n\",\n",
      "\n",
      "    \"        if os.path.isfile(ruta_archivo):\\n\",\n",
      "\n",
      "    \"            with open(ruta_archivo, 'rt', encoding='utf-8') as f:\\n\",\n",
      "\n",
      "    \"                for l in f.readlines():\\n\",\n",
      "\n",
      "    \"                    print(l)\\n\",\n",
      "\n",
      "    \"        else:\\n\",\n",
      "\n",
      "    \"            print('ERROR: La ruta indicada no corresponde a un archivo.')\\n\",\n",
      "\n",
      "    \"    else:\\n\",\n",
      "\n",
      "    \"        print('ERROR: El archivo no existe.')\"\n",
      "\n",
      "   ]\n",
      "\n",
      "  },\n",
      "\n",
      "  {\n",
      "\n",
      "   \"cell_type\": \"code\",\n",
      "\n",
      "   \"execution_count\": 19,\n",
      "\n",
      "   \"metadata\": {},\n",
      "\n",
      "   \"outputs\": [\n",
      "\n",
      "    {\n",
      "\n",
      "     \"name\": \"stdout\",\n",
      "\n",
      "     \"output_type\": \"stream\",\n",
      "\n",
      "     \"text\": [\n",
      "\n",
      "      \"Help on function leer_contenido_archivo in module __main__:\\n\",\n",
      "\n",
      "      \"\\n\",\n",
      "\n",
      "      \"leer_contenido_archivo(ruta_archivo)\\n\",\n",
      "\n",
      "      \"    Lee el contenido de un archivo especificado en un ruta.\\n\",\n",
      "\n",
      "      \"    \\n\",\n",
      "\n",
      "      \"    :param ruta_archivo:string: Ruta del archivo a leer.\\n\",\n",
      "\n",
      "      \"    :return NoneType.\\n\",\n",
      "\n",
      "      \"\\n\"\n",
      "\n",
      "     ]\n",
      "\n",
      "    }\n",
      "\n",
      "   ],\n",
      "\n",
      "   \"source\": [\n",
      "\n",
      "    \"help(leer_contenido_archivo)\"\n",
      "\n",
      "   ]\n",
      "\n",
      "  },\n",
      "\n",
      "  {\n",
      "\n",
      "   \"cell_type\": \"code\",\n",
      "\n",
      "   \"execution_count\": 20,\n",
      "\n",
      "   \"metadata\": {},\n",
      "\n",
      "   \"outputs\": [\n",
      "\n",
      "    {\n",
      "\n",
      "     \"name\": \"stdout\",\n",
      "\n",
      "     \"output_type\": \"stream\",\n",
      "\n",
      "     \"text\": [\n",
      "\n",
      "      \"ERROR: El archivo no existe.\\n\"\n",
      "\n",
      "     ]\n",
      "\n",
      "    }\n",
      "\n",
      "   ],\n",
      "\n",
      "   \"source\": [\n",
      "\n",
      "    \"leer_contenido_archivo(ruta_absoluta_no_existente)\"\n",
      "\n",
      "   ]\n",
      "\n",
      "  },\n",
      "\n",
      "  {\n",
      "\n",
      "   \"cell_type\": \"code\",\n",
      "\n",
      "   \"execution_count\": 21,\n",
      "\n",
      "   \"metadata\": {},\n",
      "\n",
      "   \"outputs\": [\n",
      "\n",
      "    {\n",
      "\n",
      "     \"name\": \"stdout\",\n",
      "\n",
      "     \"output_type\": \"stream\",\n",
      "\n",
      "     \"text\": [\n",
      "\n",
      "      \"ERROR: La ruta indicada no corresponde a un archivo.\\n\"\n",
      "\n",
      "     ]\n",
      "\n",
      "    }\n",
      "\n",
      "   ],\n",
      "\n",
      "   \"source\": [\n",
      "\n",
      "    \"leer_contenido_archivo(resultado)\"\n",
      "\n",
      "   ]\n",
      "\n",
      "  },\n",
      "\n",
      "  {\n",
      "\n",
      "   \"cell_type\": \"code\",\n",
      "\n",
      "   \"execution_count\": 22,\n",
      "\n",
      "   \"metadata\": {},\n",
      "\n",
      "   \"outputs\": [\n",
      "\n",
      "    {\n",
      "\n",
      "     \"name\": \"stdout\",\n",
      "\n",
      "     \"output_type\": \"stream\",\n",
      "\n",
      "     \"text\": [\n",
      "\n",
      "      \"{\\n\",\n",
      "\n",
      "      \"\\n\",\n",
      "\n",
      "      \"\\n\"\n",
      "\n",
      "     ]\n",
      "\n",
      "    }\n",
      "\n",
      "   ],\n",
      "\n",
      "   \"source\": [\n",
      "\n",
      "    \"leer_contenido_archivo(ruta_absoluta)\"\n",
      "\n",
      "   ]\n",
      "\n",
      "  },\n",
      "\n",
      "  {\n",
      "\n",
      "   \"cell_type\": \"code\",\n",
      "\n",
      "   \"execution_count\": null,\n",
      "\n",
      "   \"metadata\": {},\n",
      "\n",
      "   \"outputs\": [],\n",
      "\n",
      "   \"source\": []\n",
      "\n",
      "  }\n",
      "\n",
      " ],\n",
      "\n",
      " \"metadata\": {\n",
      "\n",
      "  \"kernelspec\": {\n",
      "\n",
      "   \"display_name\": \"Python 3\",\n",
      "\n",
      "   \"language\": \"python\",\n",
      "\n",
      "   \"name\": \"python3\"\n",
      "\n",
      "  },\n",
      "\n",
      "  \"language_info\": {\n",
      "\n",
      "   \"codemirror_mode\": {\n",
      "\n",
      "    \"name\": \"ipython\",\n",
      "\n",
      "    \"version\": 3\n",
      "\n",
      "   },\n",
      "\n",
      "   \"file_extension\": \".py\",\n",
      "\n",
      "   \"mimetype\": \"text/x-python\",\n",
      "\n",
      "   \"name\": \"python\",\n",
      "\n",
      "   \"nbconvert_exporter\": \"python\",\n",
      "\n",
      "   \"pygments_lexer\": \"ipython3\",\n",
      "\n",
      "   \"version\": \"3.8.3\"\n",
      "\n",
      "  }\n",
      "\n",
      " },\n",
      "\n",
      " \"nbformat\": 4,\n",
      "\n",
      " \"nbformat_minor\": 4\n",
      "\n",
      "}\n",
      "\n"
     ]
    }
   ],
   "source": [
    "leer_contenido_archivo(ruta_absoluta)"
   ]
  },
  {
   "cell_type": "markdown",
   "metadata": {},
   "source": [
    "**Ejemplo 9.2.5**\n",
    "\n",
    "Acceder al contenido de un archivo de texto plano ya existente."
   ]
  },
  {
   "cell_type": "code",
   "execution_count": 25,
   "metadata": {},
   "outputs": [],
   "source": [
    "ruta_archivo_paises = 'T001-09-paises.txt'"
   ]
  },
  {
   "cell_type": "code",
   "execution_count": 26,
   "metadata": {},
   "outputs": [
    {
     "data": {
      "text/plain": [
       "'T001-09-paises.txt'"
      ]
     },
     "execution_count": 26,
     "metadata": {},
     "output_type": "execute_result"
    }
   ],
   "source": [
    "ruta_archivo_paises"
   ]
  },
  {
   "cell_type": "code",
   "execution_count": 27,
   "metadata": {},
   "outputs": [
    {
     "data": {
      "text/plain": [
       "True"
      ]
     },
     "execution_count": 27,
     "metadata": {},
     "output_type": "execute_result"
    }
   ],
   "source": [
    "os.path.exists(ruta_archivo_paises)"
   ]
  },
  {
   "cell_type": "code",
   "execution_count": 28,
   "metadata": {},
   "outputs": [
    {
     "data": {
      "text/plain": [
       "False"
      ]
     },
     "execution_count": 28,
     "metadata": {},
     "output_type": "execute_result"
    }
   ],
   "source": [
    "os.path.isdir(ruta_archivo_paises)"
   ]
  },
  {
   "cell_type": "code",
   "execution_count": 29,
   "metadata": {},
   "outputs": [
    {
     "data": {
      "text/plain": [
       "True"
      ]
     },
     "execution_count": 29,
     "metadata": {},
     "output_type": "execute_result"
    }
   ],
   "source": [
    "os.path.isfile(ruta_archivo_paises)"
   ]
  },
  {
   "cell_type": "code",
   "execution_count": 32,
   "metadata": {},
   "outputs": [
    {
     "name": "stdout",
     "output_type": "stream",
     "text": [
      "Colombia\n",
      "Bolivia\n",
      "Perú\n",
      "Argentina\n",
      "Ecuador\n",
      "Venezuela\n",
      "Paraguay\n",
      "Uruguay\n",
      "Chile\n",
      "Brasil"
     ]
    }
   ],
   "source": [
    "with open(ruta_archivo_paises, 'rt', encoding='utf-8') as f:\n",
    "    for l in f.readlines():\n",
    "        print(l, end='')"
   ]
  },
  {
   "cell_type": "markdown",
   "metadata": {},
   "source": [
    "## 9.3 Proceso de escritura de archivos"
   ]
  },
  {
   "cell_type": "markdown",
   "metadata": {},
   "source": [
    "**Ejemplo 9.3.1**\n",
    "\n",
    "Solicitar al usuario el ingreso de diez números y guardarlos en una lista. Después de capturados esos valores procederemos a guardar ese contenido en un archivo de texto plano."
   ]
  },
  {
   "cell_type": "code",
   "execution_count": 33,
   "metadata": {},
   "outputs": [
    {
     "name": "stdout",
     "output_type": "stream",
     "text": [
      "Digite un número: 2\n",
      "\n",
      "Digite un número: 7\n",
      "\n",
      "Digite un número: 5\n",
      "\n",
      "Digite un número: 11\n",
      "\n",
      "Digite un número: 3\n",
      "\n",
      "Digite un número: 19\n",
      "\n",
      "Digite un número: 23\n",
      "\n",
      "Digite un número: 29\n",
      "\n",
      "Digite un número: 31\n",
      "\n",
      "Digite un número: 43\n",
      "\n",
      "\n"
     ]
    }
   ],
   "source": [
    "numeros = []\n",
    "\n",
    "for i in range(10):\n",
    "    while True:\n",
    "        try:\n",
    "            numero = float(input('Digite un número: '))\n",
    "            break\n",
    "        except:\n",
    "            print()\n",
    "            print('MENSAJE: Debe digitar un valor que corresponda con un número.')\n",
    "            print()\n",
    "    \n",
    "    print()\n",
    "    \n",
    "    numeros.append(numero)\n",
    "\n",
    "print()\n",
    "\n",
    "ruta_archivo_numeros = 'T001-09-numeros.txt'\n",
    "\n",
    "with open(ruta_archivo_numeros, 'wt', encoding='utf-8') as f:\n",
    "    for n in numeros:\n",
    "        f.write(f'{n}\\n')\n"
   ]
  },
  {
   "cell_type": "code",
   "execution_count": 35,
   "metadata": {},
   "outputs": [
    {
     "name": "stdout",
     "output_type": "stream",
     "text": [
      "2.0\n",
      "7.0\n",
      "5.0\n",
      "11.0\n",
      "3.0\n",
      "19.0\n",
      "23.0\n",
      "29.0\n",
      "31.0\n",
      "43.0\n"
     ]
    }
   ],
   "source": [
    "with open(ruta_archivo_numeros, 'rt', encoding='utf-8') as f:\n",
    "    for l in f.readlines():\n",
    "        print(l, end='')"
   ]
  },
  {
   "cell_type": "code",
   "execution_count": 37,
   "metadata": {},
   "outputs": [
    {
     "name": "stdout",
     "output_type": "stream",
     "text": [
      "2.0\n"
     ]
    }
   ],
   "source": [
    "with open(ruta_archivo_numeros, 'rt', encoding='utf-8') as f:\n",
    "    linea = f.readline()\n",
    "    print(linea, end='')"
   ]
  },
  {
   "cell_type": "code",
   "execution_count": 43,
   "metadata": {},
   "outputs": [
    {
     "name": "stdout",
     "output_type": "stream",
     "text": [
      "2.0\n",
      "\n",
      "7.0\n",
      "\n",
      "5.0\n",
      "\n",
      "11.0\n",
      "\n",
      "3.0\n",
      "\n",
      "19.0\n",
      "\n",
      "23.0\n",
      "\n",
      "29.0\n",
      "\n",
      "31.0\n",
      "\n",
      "43.0\n",
      "\n",
      "\n",
      "\n",
      "\n",
      "\n"
     ]
    }
   ],
   "source": [
    "with open(ruta_archivo_numeros, 'rt', encoding='utf-8') as f:\n",
    "    linea = f.readline()\n",
    "    print(linea, end='')\n",
    "    \n",
    "    print()\n",
    "    \n",
    "    linea = f.readline()\n",
    "    print(linea, end='')\n",
    "    \n",
    "    \n",
    "    print()\n",
    "    \n",
    "    linea = f.readline()\n",
    "    print(linea, end='')\n",
    "    \n",
    "    print()\n",
    "    \n",
    "    linea = f.readline()\n",
    "    print(linea, end='')\n",
    "    \n",
    "    print()\n",
    "    \n",
    "    linea = f.readline()\n",
    "    print(linea, end='')\n",
    "    \n",
    "    print()\n",
    "    \n",
    "    linea = f.readline()\n",
    "    print(linea, end='')\n",
    "    \n",
    "    print()\n",
    "    \n",
    "    linea = f.readline()\n",
    "    print(linea, end='')\n",
    "    \n",
    "    print()\n",
    "    \n",
    "    linea = f.readline()\n",
    "    print(linea, end='')\n",
    "    \n",
    "    print()\n",
    "    \n",
    "    linea = f.readline()\n",
    "    print(linea, end='')\n",
    "    \n",
    "    print()\n",
    "    \n",
    "    linea = f.readline()\n",
    "    print(linea, end='')\n",
    "    \n",
    "    print()\n",
    "    \n",
    "    linea = f.readline()\n",
    "    print(linea, end='')\n",
    "    \n",
    "    print()\n",
    "    \n",
    "    linea = f.readline()\n",
    "    print(linea, end='')\n",
    "    \n",
    "    print()\n",
    "    \n",
    "    linea = f.readline()\n",
    "    print(linea, end='')\n",
    "    \n",
    "    print()\n",
    "    \n",
    "    linea = f.readline()\n",
    "    print(linea, end='')\n",
    "    \n",
    "    print()\n",
    "    \n",
    "    linea = f.readline()\n",
    "    print(linea, end='')"
   ]
  },
  {
   "cell_type": "code",
   "execution_count": 44,
   "metadata": {},
   "outputs": [
    {
     "data": {
      "text/plain": [
       "0"
      ]
     },
     "execution_count": 44,
     "metadata": {},
     "output_type": "execute_result"
    }
   ],
   "source": [
    "len(linea)"
   ]
  },
  {
   "cell_type": "markdown",
   "metadata": {},
   "source": [
    "**Ejemplo 9.3.2**\n",
    "\n",
    "Sumar el contenido del archivo que contiene número (`T001-09-numeros.txt`)."
   ]
  },
  {
   "cell_type": "code",
   "execution_count": 45,
   "metadata": {},
   "outputs": [],
   "source": [
    "def leer_contenido_archivo(ruta_archivo):\n",
    "    \"\"\"\n",
    "    Lee el contenido de un archivo.\n",
    "    \n",
    "    :param ruta_archivo:str: Ruta absoluta o relativa del archivo a leer.\n",
    "    :return list: Contenido del archivo.\n",
    "    \"\"\"\n",
    "    contenido = []\n",
    "    \n",
    "    with open(ruta_archivo, 'rt', encoding='utf-8') as f:\n",
    "        for l in f.readlines():\n",
    "            contenido.append(l.strip())\n",
    "    \n",
    "    return contenido"
   ]
  },
  {
   "cell_type": "code",
   "execution_count": 46,
   "metadata": {},
   "outputs": [
    {
     "name": "stdout",
     "output_type": "stream",
     "text": [
      "Help on function leer_contenido_archivo in module __main__:\n",
      "\n",
      "leer_contenido_archivo(ruta_archivo)\n",
      "    Lee el contenido de un archivo.\n",
      "    \n",
      "    :param ruta_archivo:str: Ruta absoluta o relativa del archivo a leer.\n",
      "    :return list: Contenido del archivo.\n",
      "\n"
     ]
    }
   ],
   "source": [
    "help(leer_contenido_archivo)"
   ]
  },
  {
   "cell_type": "code",
   "execution_count": 47,
   "metadata": {},
   "outputs": [
    {
     "data": {
      "text/plain": [
       "'T001-09-numeros.txt'"
      ]
     },
     "execution_count": 47,
     "metadata": {},
     "output_type": "execute_result"
    }
   ],
   "source": [
    "ruta_archivo_numeros"
   ]
  },
  {
   "cell_type": "code",
   "execution_count": 48,
   "metadata": {},
   "outputs": [],
   "source": [
    "resultado = leer_contenido_archivo(ruta_archivo_numeros)"
   ]
  },
  {
   "cell_type": "code",
   "execution_count": 49,
   "metadata": {},
   "outputs": [
    {
     "data": {
      "text/plain": [
       "['2.0', '7.0', '5.0', '11.0', '3.0', '19.0', '23.0', '29.0', '31.0', '43.0']"
      ]
     },
     "execution_count": 49,
     "metadata": {},
     "output_type": "execute_result"
    }
   ],
   "source": [
    "resultado"
   ]
  },
  {
   "cell_type": "code",
   "execution_count": 50,
   "metadata": {},
   "outputs": [
    {
     "name": "stdout",
     "output_type": "stream",
     "text": [
      "Help on built-in function sum in module builtins:\n",
      "\n",
      "sum(iterable, /, start=0)\n",
      "    Return the sum of a 'start' value (default: 0) plus an iterable of numbers\n",
      "    \n",
      "    When the iterable is empty, return the start value.\n",
      "    This function is intended specifically for use with numeric values and may\n",
      "    reject non-numeric types.\n",
      "\n"
     ]
    }
   ],
   "source": [
    "help(sum)"
   ]
  },
  {
   "cell_type": "code",
   "execution_count": 51,
   "metadata": {},
   "outputs": [
    {
     "ename": "TypeError",
     "evalue": "unsupported operand type(s) for +: 'int' and 'str'",
     "output_type": "error",
     "traceback": [
      "\u001b[1;31m---------------------------------------------------------------------------\u001b[0m",
      "\u001b[1;31mTypeError\u001b[0m                                 Traceback (most recent call last)",
      "\u001b[1;32m<ipython-input-51-cd2532d7624c>\u001b[0m in \u001b[0;36m<module>\u001b[1;34m\u001b[0m\n\u001b[1;32m----> 1\u001b[1;33m \u001b[0msuma_numeros\u001b[0m \u001b[1;33m=\u001b[0m \u001b[0msum\u001b[0m\u001b[1;33m(\u001b[0m\u001b[0mresultado\u001b[0m\u001b[1;33m)\u001b[0m\u001b[1;33m\u001b[0m\u001b[1;33m\u001b[0m\u001b[0m\n\u001b[0m",
      "\u001b[1;31mTypeError\u001b[0m: unsupported operand type(s) for +: 'int' and 'str'"
     ]
    }
   ],
   "source": [
    "# suma_numeros = sum(resultado) # TypeError"
   ]
  },
  {
   "cell_type": "code",
   "execution_count": 52,
   "metadata": {},
   "outputs": [
    {
     "data": {
      "text/plain": [
       "str"
      ]
     },
     "execution_count": 52,
     "metadata": {},
     "output_type": "execute_result"
    }
   ],
   "source": [
    "type(resultado[0])"
   ]
  },
  {
   "cell_type": "code",
   "execution_count": 53,
   "metadata": {},
   "outputs": [
    {
     "data": {
      "text/plain": [
       "str"
      ]
     },
     "execution_count": 53,
     "metadata": {},
     "output_type": "execute_result"
    }
   ],
   "source": [
    "type(resultado[-1])"
   ]
  },
  {
   "cell_type": "code",
   "execution_count": 54,
   "metadata": {},
   "outputs": [],
   "source": [
    "suma_numeros = sum(float(e) for e in resultado)"
   ]
  },
  {
   "cell_type": "code",
   "execution_count": 56,
   "metadata": {},
   "outputs": [
    {
     "data": {
      "text/plain": [
       "173.0"
      ]
     },
     "execution_count": 56,
     "metadata": {},
     "output_type": "execute_result"
    }
   ],
   "source": [
    "suma_numeros"
   ]
  },
  {
   "cell_type": "code",
   "execution_count": 57,
   "metadata": {},
   "outputs": [
    {
     "data": {
      "text/plain": [
       "float"
      ]
     },
     "execution_count": 57,
     "metadata": {},
     "output_type": "execute_result"
    }
   ],
   "source": [
    "type(suma_numeros)"
   ]
  },
  {
   "cell_type": "markdown",
   "metadata": {},
   "source": [
    "**Ejemplo 9.3.3**\n",
    "\n",
    "Solicitar al usuario que digite nombres de países de cualquier parte del mundo.\n",
    "\n",
    "El programa termina cuando el usuario haya escrito la palabra `FIN`.\n",
    "\n",
    "Después de esa tarea crearemos un archivo para guardar todos los países que el usuario digitó."
   ]
  },
  {
   "cell_type": "code",
   "execution_count": 58,
   "metadata": {},
   "outputs": [
    {
     "name": "stdout",
     "output_type": "stream",
     "text": [
      "Digite el nombre de un país (FIN para terminar): Colombia\n",
      "\n",
      "Digite el nombre de un país (FIN para terminar):             \n",
      "\n",
      "MENSAJE: Debe escribir una cadena que no contenga sólo espacios.\n",
      "\n",
      "Digite el nombre de un país (FIN para terminar): Perú\n",
      "\n",
      "Digite el nombre de un país (FIN para terminar): Alemania\n",
      "\n",
      "Digite el nombre de un país (FIN para terminar): Rusia\n",
      "\n",
      "Digite el nombre de un país (FIN para terminar): Estados Unidos\n",
      "\n",
      "Digite el nombre de un país (FIN para terminar): Argentina\n",
      "\n",
      "Digite el nombre de un país (FIN para terminar): Chile\n",
      "\n",
      "Digite el nombre de un país (FIN para terminar): Egipto\n",
      "\n",
      "Digite el nombre de un país (FIN para terminar): China\n",
      "\n",
      "Digite el nombre de un país (FIN para terminar): Japón\n",
      "\n",
      "Digite el nombre de un país (FIN para terminar): México\n",
      "\n",
      "Digite el nombre de un país (FIN para terminar): FIN\n",
      "\n"
     ]
    }
   ],
   "source": [
    "paises = []\n",
    "\n",
    "pais = ''\n",
    "\n",
    "while pais != 'FIN':\n",
    "    while True:\n",
    "        pais = input('Digite el nombre de un país (FIN para terminar): ')\n",
    "        \n",
    "        pais = pais.strip()\n",
    "        \n",
    "        if len(pais):\n",
    "            break\n",
    "        else:\n",
    "            print()\n",
    "            print('MENSAJE: Debe escribir una cadena que no contenga sólo espacios.')\n",
    "            print()\n",
    "    \n",
    "    if pais != 'FIN':\n",
    "        paises.append(pais)\n",
    "    \n",
    "    print()"
   ]
  },
  {
   "cell_type": "code",
   "execution_count": 59,
   "metadata": {},
   "outputs": [
    {
     "data": {
      "text/plain": [
       "['Colombia',\n",
       " 'Perú',\n",
       " 'Alemania',\n",
       " 'Rusia',\n",
       " 'Estados Unidos',\n",
       " 'Argentina',\n",
       " 'Chile',\n",
       " 'Egipto',\n",
       " 'China',\n",
       " 'Japón',\n",
       " 'México']"
      ]
     },
     "execution_count": 59,
     "metadata": {},
     "output_type": "execute_result"
    }
   ],
   "source": [
    "paises"
   ]
  },
  {
   "cell_type": "code",
   "execution_count": 60,
   "metadata": {},
   "outputs": [
    {
     "data": {
      "text/plain": [
       "11"
      ]
     },
     "execution_count": 60,
     "metadata": {},
     "output_type": "execute_result"
    }
   ],
   "source": [
    "len(paises)"
   ]
  },
  {
   "cell_type": "code",
   "execution_count": 62,
   "metadata": {},
   "outputs": [],
   "source": [
    "archivo_paises = 'T001-09-paises.txt'\n",
    "\n",
    "with open(archivo_paises, 'wt', encoding='utf-8') as f:\n",
    "    for p in paises:\n",
    "        f.write(f'{p}\\n')"
   ]
  },
  {
   "cell_type": "code",
   "execution_count": null,
   "metadata": {},
   "outputs": [],
   "source": []
  }
 ],
 "metadata": {
  "kernelspec": {
   "display_name": "Python 3",
   "language": "python",
   "name": "python3"
  },
  "language_info": {
   "codemirror_mode": {
    "name": "ipython",
    "version": 3
   },
   "file_extension": ".py",
   "mimetype": "text/x-python",
   "name": "python",
   "nbconvert_exporter": "python",
   "pygments_lexer": "ipython3",
   "version": "3.8.3"
  }
 },
 "nbformat": 4,
 "nbformat_minor": 4
}
