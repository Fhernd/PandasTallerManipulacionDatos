{
 "cells": [
  {
   "cell_type": "markdown",
   "metadata": {
    "collapsed": true
   },
   "source": [
    "# Examen 3 de python\n",
    "\n",
    "Los ejercicios de este Parcial se deben hacer de manera individual y se debe subir el notebook (.ipynb) al cvirtual. __Únicamente se calificarán los notebooks subidos al cvirtual.__ \n"
   ]
  },
  {
   "cell_type": "code",
   "execution_count": 1,
   "metadata": {},
   "outputs": [],
   "source": [
    "import numpy as np\n",
    "import matplotlib.pyplot as plt\n",
    "import pandas as pd"
   ]
  },
  {
   "cell_type": "markdown",
   "metadata": {},
   "source": [
    "## Ejercicio 1\n",
    "\n",
    "Cargar el archivo `csvExamen.csv` en un DataFrame con pandas (los índices son la columna 0) y responder las siguientes preguntas"
   ]
  },
  {
   "cell_type": "code",
   "execution_count": 4,
   "metadata": {},
   "outputs": [
    {
     "data": {
      "text/html": [
       "<div>\n",
       "<style scoped>\n",
       "    .dataframe tbody tr th:only-of-type {\n",
       "        vertical-align: middle;\n",
       "    }\n",
       "\n",
       "    .dataframe tbody tr th {\n",
       "        vertical-align: top;\n",
       "    }\n",
       "\n",
       "    .dataframe thead th {\n",
       "        text-align: right;\n",
       "    }\n",
       "</style>\n",
       "<table border=\"1\" class=\"dataframe\">\n",
       "  <thead>\n",
       "    <tr style=\"text-align: right;\">\n",
       "      <th></th>\n",
       "      <th>dato</th>\n",
       "      <th>col1</th>\n",
       "      <th>col2</th>\n",
       "      <th>col3</th>\n",
       "      <th>col4</th>\n",
       "      <th>col5</th>\n",
       "    </tr>\n",
       "  </thead>\n",
       "  <tbody>\n",
       "    <tr>\n",
       "      <th>0</th>\n",
       "      <td>0</td>\n",
       "      <td>773</td>\n",
       "      <td>49</td>\n",
       "      <td>1145</td>\n",
       "      <td>4707</td>\n",
       "      <td>4299</td>\n",
       "    </tr>\n",
       "    <tr>\n",
       "      <th>1</th>\n",
       "      <td>1</td>\n",
       "      <td>841</td>\n",
       "      <td>1647</td>\n",
       "      <td>448</td>\n",
       "      <td>830</td>\n",
       "      <td>234</td>\n",
       "    </tr>\n",
       "    <tr>\n",
       "      <th>2</th>\n",
       "      <td>2</td>\n",
       "      <td>1790</td>\n",
       "      <td>2353</td>\n",
       "      <td>3311</td>\n",
       "      <td>2917</td>\n",
       "      <td>2645</td>\n",
       "    </tr>\n",
       "    <tr>\n",
       "      <th>3</th>\n",
       "      <td>3</td>\n",
       "      <td>2936</td>\n",
       "      <td>1209</td>\n",
       "      <td>682</td>\n",
       "      <td>487</td>\n",
       "      <td>1766</td>\n",
       "    </tr>\n",
       "    <tr>\n",
       "      <th>4</th>\n",
       "      <td>4</td>\n",
       "      <td>4147</td>\n",
       "      <td>953</td>\n",
       "      <td>1773</td>\n",
       "      <td>2531</td>\n",
       "      <td>1798</td>\n",
       "    </tr>\n",
       "    <tr>\n",
       "      <th>5</th>\n",
       "      <td>5</td>\n",
       "      <td>2417</td>\n",
       "      <td>2297</td>\n",
       "      <td>930</td>\n",
       "      <td>781</td>\n",
       "      <td>2289</td>\n",
       "    </tr>\n",
       "    <tr>\n",
       "      <th>6</th>\n",
       "      <td>6</td>\n",
       "      <td>3975</td>\n",
       "      <td>4955</td>\n",
       "      <td>3210</td>\n",
       "      <td>465</td>\n",
       "      <td>1158</td>\n",
       "    </tr>\n",
       "    <tr>\n",
       "      <th>7</th>\n",
       "      <td>7</td>\n",
       "      <td>4332</td>\n",
       "      <td>3002</td>\n",
       "      <td>4485</td>\n",
       "      <td>3871</td>\n",
       "      <td>1767</td>\n",
       "    </tr>\n",
       "    <tr>\n",
       "      <th>8</th>\n",
       "      <td>8</td>\n",
       "      <td>2970</td>\n",
       "      <td>1441</td>\n",
       "      <td>2811</td>\n",
       "      <td>1755</td>\n",
       "      <td>1137</td>\n",
       "    </tr>\n",
       "    <tr>\n",
       "      <th>9</th>\n",
       "      <td>9</td>\n",
       "      <td>4506</td>\n",
       "      <td>3280</td>\n",
       "      <td>4278</td>\n",
       "      <td>511</td>\n",
       "      <td>3395</td>\n",
       "    </tr>\n",
       "    <tr>\n",
       "      <th>10</th>\n",
       "      <td>10</td>\n",
       "      <td>122</td>\n",
       "      <td>2082</td>\n",
       "      <td>9</td>\n",
       "      <td>3643</td>\n",
       "      <td>2664</td>\n",
       "    </tr>\n",
       "    <tr>\n",
       "      <th>11</th>\n",
       "      <td>11</td>\n",
       "      <td>793</td>\n",
       "      <td>1306</td>\n",
       "      <td>2687</td>\n",
       "      <td>620</td>\n",
       "      <td>3137</td>\n",
       "    </tr>\n",
       "    <tr>\n",
       "      <th>12</th>\n",
       "      <td>12</td>\n",
       "      <td>3376</td>\n",
       "      <td>2984</td>\n",
       "      <td>4102</td>\n",
       "      <td>3756</td>\n",
       "      <td>645</td>\n",
       "    </tr>\n",
       "    <tr>\n",
       "      <th>13</th>\n",
       "      <td>13</td>\n",
       "      <td>3123</td>\n",
       "      <td>4922</td>\n",
       "      <td>1532</td>\n",
       "      <td>1252</td>\n",
       "      <td>1538</td>\n",
       "    </tr>\n",
       "    <tr>\n",
       "      <th>14</th>\n",
       "      <td>14</td>\n",
       "      <td>2356</td>\n",
       "      <td>2050</td>\n",
       "      <td>759</td>\n",
       "      <td>4896</td>\n",
       "      <td>2391</td>\n",
       "    </tr>\n",
       "  </tbody>\n",
       "</table>\n",
       "</div>"
      ],
      "text/plain": [
       "    dato  col1  col2  col3  col4  col5\n",
       "0      0   773    49  1145  4707  4299\n",
       "1      1   841  1647   448   830   234\n",
       "2      2  1790  2353  3311  2917  2645\n",
       "3      3  2936  1209   682   487  1766\n",
       "4      4  4147   953  1773  2531  1798\n",
       "5      5  2417  2297   930   781  2289\n",
       "6      6  3975  4955  3210   465  1158\n",
       "7      7  4332  3002  4485  3871  1767\n",
       "8      8  2970  1441  2811  1755  1137\n",
       "9      9  4506  3280  4278   511  3395\n",
       "10    10   122  2082     9  3643  2664\n",
       "11    11   793  1306  2687   620  3137\n",
       "12    12  3376  2984  4102  3756   645\n",
       "13    13  3123  4922  1532  1252  1538\n",
       "14    14  2356  2050   759  4896  2391"
      ]
     },
     "execution_count": 4,
     "metadata": {},
     "output_type": "execute_result"
    }
   ],
   "source": [
    "#Celda para cargar el archivo en un dataframe\n",
    "archivo = 'csvExamen.csv'\n",
    "\n",
    "df = pd.read_csv(archivo)\n",
    "\n",
    "df"
   ]
  },
  {
   "cell_type": "markdown",
   "metadata": {},
   "source": [
    "### Estimar los siguientes valores con numpy:\n",
    "\n",
    "1. ¿Cuál es el valor promedio de la columna 3?\n",
    "2. ¿Cuál es el valor más grande de la fila 13?\n",
    "3. ¿Cuál es el valor promedio de los elementos de las 5 primeras filas y las primeras 2 columnas?\n",
    "4. ¿Cuánto suman los elementos al cuadrado de la fila 0?\n",
    "5. ¿Qué columna al sumar todos sus elementos, suma el valor más grande?"
   ]
  },
  {
   "cell_type": "code",
   "execution_count": 3,
   "metadata": {},
   "outputs": [
    {
     "data": {
      "text/plain": [
       "2144.133333333333"
      ]
     },
     "execution_count": 3,
     "metadata": {},
     "output_type": "execute_result"
    }
   ],
   "source": [
    "#Celda para solución del ejercicio\n",
    "# 1:\n",
    "df['col3'].mean()"
   ]
  },
  {
   "cell_type": "code",
   "execution_count": 26,
   "metadata": {},
   "outputs": [
    {
     "data": {
      "text/plain": [
       "4922"
      ]
     },
     "execution_count": 26,
     "metadata": {},
     "output_type": "execute_result"
    }
   ],
   "source": [
    "# 2:\n",
    "df.iloc[13,1:].max()"
   ]
  },
  {
   "cell_type": "code",
   "execution_count": 30,
   "metadata": {},
   "outputs": [
    {
     "data": {
      "text/plain": [
       "1669.8"
      ]
     },
     "execution_count": 30,
     "metadata": {},
     "output_type": "execute_result"
    }
   ],
   "source": [
    "# 3:\n",
    "df.iloc[0:5,1:3].sum().sum() / 10"
   ]
  },
  {
   "cell_type": "code",
   "execution_count": 33,
   "metadata": {},
   "outputs": [
    {
     "data": {
      "text/plain": [
       "42548205"
      ]
     },
     "execution_count": 33,
     "metadata": {},
     "output_type": "execute_result"
    }
   ],
   "source": [
    "# 4:\n",
    "df.iloc[0,1:].apply(lambda x: x ** 2).sum()"
   ]
  },
  {
   "cell_type": "code",
   "execution_count": 37,
   "metadata": {},
   "outputs": [
    {
     "data": {
      "text/plain": [
       "38457"
      ]
     },
     "execution_count": 37,
     "metadata": {},
     "output_type": "execute_result"
    }
   ],
   "source": [
    "# 5:\n",
    "df.iloc[:,1:].sum().max()"
   ]
  },
  {
   "cell_type": "markdown",
   "metadata": {},
   "source": [
    "## Para ejercicio 2, 3 y 4\n",
    "\n",
    "Sean $P_1$ y $P_2$ dos puntos en dos dimensiones, es decir, $P_1 = (x_1,y_1)$ y $P_2 = (x_2,y_2)$\n",
    "\n",
    "La distancia euclidiana entre dos puntos $P_1$ y $P_2$  (en 2 dimensiones) está dada por:\n",
    "\n",
    "$$d_E(P_1,P_2) = \\sqrt{\\left(\\left(x_2-x_1\\right)^2+\\left(y_2-y_1\\right)^2\\right)} $$\n",
    "\n",
    "En las siguiente celda debe crear tres puntos de dimensión 2."
   ]
  },
  {
   "cell_type": "code",
   "execution_count": null,
   "metadata": {},
   "outputs": [],
   "source": [
    "#Celda para crear los tres puntos en dos dimensiones\n",
    "punto_1 = "
   ]
  },
  {
   "cell_type": "markdown",
   "metadata": {},
   "source": [
    "## Ejercicio 2 \n",
    "\n",
    "Grafique con matplotlib los tres puntos previamente generados en el plano cartesiano"
   ]
  },
  {
   "cell_type": "code",
   "execution_count": null,
   "metadata": {},
   "outputs": [],
   "source": [
    "# Celda para solución del ejercicio\n"
   ]
  },
  {
   "cell_type": "markdown",
   "metadata": {},
   "source": [
    "## Ejercicio 3 \n",
    "\n",
    "Calcule las distancias entre los tres puntos y almacene los resultados en una matriz, que tenga la siguiente forma:\n",
    "\n",
    "$$\\left[\\begin{matrix} d_E(P_1,P_1) & d_E(P_1,P_2) & d_E(P_1,P_3) \\\\ d_E(P_2,P_1) & d_E(P_2,P_2) & d_E(P_2,P_3) \\\\ d_E(P_3,P_1) & d_E(P_3,P_2) & d_E(P_3,P_3)\\end{matrix}\\right]$$"
   ]
  },
  {
   "cell_type": "code",
   "execution_count": null,
   "metadata": {},
   "outputs": [],
   "source": [
    "#Celda para solución del ejercicio\n"
   ]
  },
  {
   "cell_type": "markdown",
   "metadata": {},
   "source": [
    "## Ejercicio 4\n",
    "\n",
    "Calcular la distancia de cada uno de los tres puntos al origen y almacenarlas en un diccionario"
   ]
  },
  {
   "cell_type": "code",
   "execution_count": null,
   "metadata": {},
   "outputs": [],
   "source": [
    "#Celda para solución del ejercicio\n"
   ]
  }
 ],
 "metadata": {
  "kernelspec": {
   "display_name": "Python 3",
   "language": "python",
   "name": "python3"
  },
  "language_info": {
   "codemirror_mode": {
    "name": "ipython",
    "version": 3
   },
   "file_extension": ".py",
   "mimetype": "text/x-python",
   "name": "python",
   "nbconvert_exporter": "python",
   "pygments_lexer": "ipython3",
   "version": "3.8.3"
  }
 },
 "nbformat": 4,
 "nbformat_minor": 2
}
