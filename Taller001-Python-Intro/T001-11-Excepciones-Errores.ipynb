{
 "cells": [
  {
   "cell_type": "markdown",
   "metadata": {},
   "source": [
    "# 11. Excepciones y Errores\n",
    "\n",
    "Un programa o un código puede presentar situaciones anómalas durante su ejecución.\n",
    "\n",
    "El programador debe ser capaz de gestionar esas situaciones (excepciones y errores). Con esa habilidad, el programador podrá crear aplicaciones o soluciones software robustas."
   ]
  },
  {
   "cell_type": "markdown",
   "metadata": {},
   "source": [
    "## 11.1 Introducción a las Excepciones y Errores"
   ]
  },
  {
   "cell_type": "code",
   "execution_count": 1,
   "metadata": {},
   "outputs": [
    {
     "name": "stdout",
     "output_type": "stream",
     "text": [
      "Digite un número entero positivo: 10\n"
     ]
    }
   ],
   "source": [
    "numero = input('Digite un número entero positivo: ')"
   ]
  },
  {
   "cell_type": "code",
   "execution_count": 2,
   "metadata": {},
   "outputs": [
    {
     "data": {
      "text/plain": [
       "'10'"
      ]
     },
     "execution_count": 2,
     "metadata": {},
     "output_type": "execute_result"
    }
   ],
   "source": [
    "numero"
   ]
  },
  {
   "cell_type": "code",
   "execution_count": 3,
   "metadata": {},
   "outputs": [
    {
     "data": {
      "text/plain": [
       "str"
      ]
     },
     "execution_count": 3,
     "metadata": {},
     "output_type": "execute_result"
    }
   ],
   "source": [
    "type(numero)"
   ]
  },
  {
   "cell_type": "code",
   "execution_count": 4,
   "metadata": {},
   "outputs": [
    {
     "name": "stdout",
     "output_type": "stream",
     "text": [
      "Digite un número entero positivo: 10\n"
     ]
    }
   ],
   "source": [
    "numero = int(input('Digite un número entero positivo: '))"
   ]
  },
  {
   "cell_type": "code",
   "execution_count": 5,
   "metadata": {},
   "outputs": [
    {
     "data": {
      "text/plain": [
       "10"
      ]
     },
     "execution_count": 5,
     "metadata": {},
     "output_type": "execute_result"
    }
   ],
   "source": [
    "numero"
   ]
  },
  {
   "cell_type": "code",
   "execution_count": 6,
   "metadata": {},
   "outputs": [
    {
     "data": {
      "text/plain": [
       "int"
      ]
     },
     "execution_count": 6,
     "metadata": {},
     "output_type": "execute_result"
    }
   ],
   "source": [
    "type(numero)"
   ]
  },
  {
   "cell_type": "code",
   "execution_count": 7,
   "metadata": {},
   "outputs": [
    {
     "name": "stdout",
     "output_type": "stream",
     "text": [
      "Digite un número entero positivo: 10a\n"
     ]
    },
    {
     "ename": "ValueError",
     "evalue": "invalid literal for int() with base 10: '10a'",
     "output_type": "error",
     "traceback": [
      "\u001b[1;31m---------------------------------------------------------------------------\u001b[0m",
      "\u001b[1;31mValueError\u001b[0m                                Traceback (most recent call last)",
      "\u001b[1;32m<ipython-input-7-e456dbd82ccb>\u001b[0m in \u001b[0;36m<module>\u001b[1;34m\u001b[0m\n\u001b[1;32m----> 1\u001b[1;33m \u001b[0mnumero\u001b[0m \u001b[1;33m=\u001b[0m \u001b[0mint\u001b[0m\u001b[1;33m(\u001b[0m\u001b[0minput\u001b[0m\u001b[1;33m(\u001b[0m\u001b[1;34m'Digite un número entero positivo: '\u001b[0m\u001b[1;33m)\u001b[0m\u001b[1;33m)\u001b[0m\u001b[1;33m\u001b[0m\u001b[1;33m\u001b[0m\u001b[0m\n\u001b[0m",
      "\u001b[1;31mValueError\u001b[0m: invalid literal for int() with base 10: '10a'"
     ]
    }
   ],
   "source": [
    "numero = int(input('Digite un número entero positivo: '))"
   ]
  },
  {
   "cell_type": "markdown",
   "metadata": {},
   "source": [
    "El bloque `try...except` nos ayuda a gestionar (tratar/capturar) un error. El programador será capaz de ejecutar una operación ante el problema generado:\n",
    "\n",
    "- Mostrar un mensaje al usuario\n",
    "- Guardar el mensaje en un soporte de almacenamiento (archivo, base de datos, etc.)\n",
    "- Reintentar las operaciones que han generado el error.\n",
    "\n",
    "Las acciones que se tomen frente al error hacen que el software (código) se robusto."
   ]
  },
  {
   "cell_type": "code",
   "execution_count": 8,
   "metadata": {},
   "outputs": [
    {
     "name": "stdout",
     "output_type": "stream",
     "text": [
      "Digite un número entero positivo: 10a\n",
      "Debe escribir un valor numérico entero válido.\n"
     ]
    }
   ],
   "source": [
    "try:\n",
    "    numero = int(input('Digite un número entero positivo: '))\n",
    "except:\n",
    "    print('Debe escribir un valor numérico entero válido.')"
   ]
  },
  {
   "cell_type": "code",
   "execution_count": 9,
   "metadata": {},
   "outputs": [
    {
     "data": {
      "text/plain": [
       "10"
      ]
     },
     "execution_count": 9,
     "metadata": {},
     "output_type": "execute_result"
    }
   ],
   "source": [
    "numero"
   ]
  },
  {
   "cell_type": "code",
   "execution_count": 10,
   "metadata": {},
   "outputs": [
    {
     "data": {
      "text/plain": [
       "int"
      ]
     },
     "execution_count": 10,
     "metadata": {},
     "output_type": "execute_result"
    }
   ],
   "source": [
    "type(numero)"
   ]
  },
  {
   "cell_type": "code",
   "execution_count": 11,
   "metadata": {},
   "outputs": [
    {
     "name": "stdout",
     "output_type": "stream",
     "text": [
      "Digite un número entero positivo: 10\n"
     ]
    }
   ],
   "source": [
    "try:\n",
    "    numero = int(input('Digite un número entero positivo: '))\n",
    "except:\n",
    "    print('Debe escribir un valor numérico entero válido.')"
   ]
  },
  {
   "cell_type": "code",
   "execution_count": 12,
   "metadata": {},
   "outputs": [
    {
     "name": "stdout",
     "output_type": "stream",
     "text": [
      "Digite un número entero positivo: 10\n",
      "Se introdujo el valor 10.\n"
     ]
    }
   ],
   "source": [
    "try:\n",
    "    numero = int(input('Digite un número entero positivo: '))\n",
    "except:\n",
    "    print('Debe escribir un valor numérico entero válido.')\n",
    "\n",
    "print(f'Se introdujo el valor {numero}.')"
   ]
  },
  {
   "cell_type": "code",
   "execution_count": 13,
   "metadata": {},
   "outputs": [
    {
     "name": "stdout",
     "output_type": "stream",
     "text": [
      "Digite un número entero positivo: 10\n",
      "Se introdujo el valor 10.\n"
     ]
    }
   ],
   "source": [
    "try:\n",
    "    numero = int(input('Digite un número entero positivo: '))\n",
    "except:\n",
    "    print('Debe escribir un valor numérico entero válido.')\n",
    "\n",
    "print(f'Se introdujo el valor {numero}.')"
   ]
  },
  {
   "cell_type": "code",
   "execution_count": 14,
   "metadata": {},
   "outputs": [
    {
     "name": "stdout",
     "output_type": "stream",
     "text": [
      "Digite un número entero positivo: 10\n",
      "Se introdujo el valor 10.\n"
     ]
    }
   ],
   "source": [
    "entero = 0\n",
    "\n",
    "try:\n",
    "    entero = int(input('Digite un número entero positivo: '))\n",
    "except:\n",
    "    print('Debe escribir un valor numérico entero válido.')\n",
    "\n",
    "print(f'Se introdujo el valor {entero}.')"
   ]
  },
  {
   "cell_type": "code",
   "execution_count": 15,
   "metadata": {},
   "outputs": [
    {
     "name": "stdout",
     "output_type": "stream",
     "text": [
      "Help on class int in module builtins:\n",
      "\n",
      "class int(object)\n",
      " |  int([x]) -> integer\n",
      " |  int(x, base=10) -> integer\n",
      " |  \n",
      " |  Convert a number or string to an integer, or return 0 if no arguments\n",
      " |  are given.  If x is a number, return x.__int__().  For floating point\n",
      " |  numbers, this truncates towards zero.\n",
      " |  \n",
      " |  If x is not a number or if base is given, then x must be a string,\n",
      " |  bytes, or bytearray instance representing an integer literal in the\n",
      " |  given base.  The literal can be preceded by '+' or '-' and be surrounded\n",
      " |  by whitespace.  The base defaults to 10.  Valid bases are 0 and 2-36.\n",
      " |  Base 0 means to interpret the base from the string as an integer literal.\n",
      " |  >>> int('0b100', base=0)\n",
      " |  4\n",
      " |  \n",
      " |  Built-in subclasses:\n",
      " |      bool\n",
      " |  \n",
      " |  Methods defined here:\n",
      " |  \n",
      " |  __abs__(self, /)\n",
      " |      abs(self)\n",
      " |  \n",
      " |  __add__(self, value, /)\n",
      " |      Return self+value.\n",
      " |  \n",
      " |  __and__(self, value, /)\n",
      " |      Return self&value.\n",
      " |  \n",
      " |  __bool__(self, /)\n",
      " |      self != 0\n",
      " |  \n",
      " |  __ceil__(...)\n",
      " |      Ceiling of an Integral returns itself.\n",
      " |  \n",
      " |  __divmod__(self, value, /)\n",
      " |      Return divmod(self, value).\n",
      " |  \n",
      " |  __eq__(self, value, /)\n",
      " |      Return self==value.\n",
      " |  \n",
      " |  __float__(self, /)\n",
      " |      float(self)\n",
      " |  \n",
      " |  __floor__(...)\n",
      " |      Flooring an Integral returns itself.\n",
      " |  \n",
      " |  __floordiv__(self, value, /)\n",
      " |      Return self//value.\n",
      " |  \n",
      " |  __format__(self, format_spec, /)\n",
      " |      Default object formatter.\n",
      " |  \n",
      " |  __ge__(self, value, /)\n",
      " |      Return self>=value.\n",
      " |  \n",
      " |  __getattribute__(self, name, /)\n",
      " |      Return getattr(self, name).\n",
      " |  \n",
      " |  __getnewargs__(self, /)\n",
      " |  \n",
      " |  __gt__(self, value, /)\n",
      " |      Return self>value.\n",
      " |  \n",
      " |  __hash__(self, /)\n",
      " |      Return hash(self).\n",
      " |  \n",
      " |  __index__(self, /)\n",
      " |      Return self converted to an integer, if self is suitable for use as an index into a list.\n",
      " |  \n",
      " |  __int__(self, /)\n",
      " |      int(self)\n",
      " |  \n",
      " |  __invert__(self, /)\n",
      " |      ~self\n",
      " |  \n",
      " |  __le__(self, value, /)\n",
      " |      Return self<=value.\n",
      " |  \n",
      " |  __lshift__(self, value, /)\n",
      " |      Return self<<value.\n",
      " |  \n",
      " |  __lt__(self, value, /)\n",
      " |      Return self<value.\n",
      " |  \n",
      " |  __mod__(self, value, /)\n",
      " |      Return self%value.\n",
      " |  \n",
      " |  __mul__(self, value, /)\n",
      " |      Return self*value.\n",
      " |  \n",
      " |  __ne__(self, value, /)\n",
      " |      Return self!=value.\n",
      " |  \n",
      " |  __neg__(self, /)\n",
      " |      -self\n",
      " |  \n",
      " |  __or__(self, value, /)\n",
      " |      Return self|value.\n",
      " |  \n",
      " |  __pos__(self, /)\n",
      " |      +self\n",
      " |  \n",
      " |  __pow__(self, value, mod=None, /)\n",
      " |      Return pow(self, value, mod).\n",
      " |  \n",
      " |  __radd__(self, value, /)\n",
      " |      Return value+self.\n",
      " |  \n",
      " |  __rand__(self, value, /)\n",
      " |      Return value&self.\n",
      " |  \n",
      " |  __rdivmod__(self, value, /)\n",
      " |      Return divmod(value, self).\n",
      " |  \n",
      " |  __repr__(self, /)\n",
      " |      Return repr(self).\n",
      " |  \n",
      " |  __rfloordiv__(self, value, /)\n",
      " |      Return value//self.\n",
      " |  \n",
      " |  __rlshift__(self, value, /)\n",
      " |      Return value<<self.\n",
      " |  \n",
      " |  __rmod__(self, value, /)\n",
      " |      Return value%self.\n",
      " |  \n",
      " |  __rmul__(self, value, /)\n",
      " |      Return value*self.\n",
      " |  \n",
      " |  __ror__(self, value, /)\n",
      " |      Return value|self.\n",
      " |  \n",
      " |  __round__(...)\n",
      " |      Rounding an Integral returns itself.\n",
      " |      Rounding with an ndigits argument also returns an integer.\n",
      " |  \n",
      " |  __rpow__(self, value, mod=None, /)\n",
      " |      Return pow(value, self, mod).\n",
      " |  \n",
      " |  __rrshift__(self, value, /)\n",
      " |      Return value>>self.\n",
      " |  \n",
      " |  __rshift__(self, value, /)\n",
      " |      Return self>>value.\n",
      " |  \n",
      " |  __rsub__(self, value, /)\n",
      " |      Return value-self.\n",
      " |  \n",
      " |  __rtruediv__(self, value, /)\n",
      " |      Return value/self.\n",
      " |  \n",
      " |  __rxor__(self, value, /)\n",
      " |      Return value^self.\n",
      " |  \n",
      " |  __sizeof__(self, /)\n",
      " |      Returns size in memory, in bytes.\n",
      " |  \n",
      " |  __sub__(self, value, /)\n",
      " |      Return self-value.\n",
      " |  \n",
      " |  __truediv__(self, value, /)\n",
      " |      Return self/value.\n",
      " |  \n",
      " |  __trunc__(...)\n",
      " |      Truncating an Integral returns itself.\n",
      " |  \n",
      " |  __xor__(self, value, /)\n",
      " |      Return self^value.\n",
      " |  \n",
      " |  as_integer_ratio(self, /)\n",
      " |      Return integer ratio.\n",
      " |      \n",
      " |      Return a pair of integers, whose ratio is exactly equal to the original int\n",
      " |      and with a positive denominator.\n",
      " |      \n",
      " |      >>> (10).as_integer_ratio()\n",
      " |      (10, 1)\n",
      " |      >>> (-10).as_integer_ratio()\n",
      " |      (-10, 1)\n",
      " |      >>> (0).as_integer_ratio()\n",
      " |      (0, 1)\n",
      " |  \n",
      " |  bit_length(self, /)\n",
      " |      Number of bits necessary to represent self in binary.\n",
      " |      \n",
      " |      >>> bin(37)\n",
      " |      '0b100101'\n",
      " |      >>> (37).bit_length()\n",
      " |      6\n",
      " |  \n",
      " |  conjugate(...)\n",
      " |      Returns self, the complex conjugate of any int.\n",
      " |  \n",
      " |  to_bytes(self, /, length, byteorder, *, signed=False)\n",
      " |      Return an array of bytes representing an integer.\n",
      " |      \n",
      " |      length\n",
      " |        Length of bytes object to use.  An OverflowError is raised if the\n",
      " |        integer is not representable with the given number of bytes.\n",
      " |      byteorder\n",
      " |        The byte order used to represent the integer.  If byteorder is 'big',\n",
      " |        the most significant byte is at the beginning of the byte array.  If\n",
      " |        byteorder is 'little', the most significant byte is at the end of the\n",
      " |        byte array.  To request the native byte order of the host system, use\n",
      " |        `sys.byteorder' as the byte order value.\n",
      " |      signed\n",
      " |        Determines whether two's complement is used to represent the integer.\n",
      " |        If signed is False and a negative integer is given, an OverflowError\n",
      " |        is raised.\n",
      " |  \n",
      " |  ----------------------------------------------------------------------\n",
      " |  Class methods defined here:\n",
      " |  \n",
      " |  from_bytes(bytes, byteorder, *, signed=False) from builtins.type\n",
      " |      Return the integer represented by the given array of bytes.\n",
      " |      \n",
      " |      bytes\n",
      " |        Holds the array of bytes to convert.  The argument must either\n",
      " |        support the buffer protocol or be an iterable object producing bytes.\n",
      " |        Bytes and bytearray are examples of built-in objects that support the\n",
      " |        buffer protocol.\n",
      " |      byteorder\n",
      " |        The byte order used to represent the integer.  If byteorder is 'big',\n",
      " |        the most significant byte is at the beginning of the byte array.  If\n",
      " |        byteorder is 'little', the most significant byte is at the end of the\n",
      " |        byte array.  To request the native byte order of the host system, use\n",
      " |        `sys.byteorder' as the byte order value.\n",
      " |      signed\n",
      " |        Indicates whether two's complement is used to represent the integer.\n",
      " |  \n",
      " |  ----------------------------------------------------------------------\n",
      " |  Static methods defined here:\n",
      " |  \n",
      " |  __new__(*args, **kwargs) from builtins.type\n",
      " |      Create and return a new object.  See help(type) for accurate signature.\n",
      " |  \n",
      " |  ----------------------------------------------------------------------\n",
      " |  Data descriptors defined here:\n",
      " |  \n",
      " |  denominator\n",
      " |      the denominator of a rational number in lowest terms\n",
      " |  \n",
      " |  imag\n",
      " |      the imaginary part of a complex number\n",
      " |  \n",
      " |  numerator\n",
      " |      the numerator of a rational number in lowest terms\n",
      " |  \n",
      " |  real\n",
      " |      the real part of a complex number\n",
      "\n"
     ]
    }
   ],
   "source": [
    "help(int)"
   ]
  },
  {
   "cell_type": "markdown",
   "metadata": {},
   "source": [
    "Podemos utilizar un ciclo `while` indefinido para permitir varios intentos (idefinidos) cuando un bloque de código genere error:"
   ]
  },
  {
   "cell_type": "code",
   "execution_count": 16,
   "metadata": {},
   "outputs": [
    {
     "name": "stdout",
     "output_type": "stream",
     "text": [
      "Digite un número entero positivo: 10\n",
      "\n",
      "Se introdujo el valor 10.\n"
     ]
    }
   ],
   "source": [
    "entero = 0\n",
    "\n",
    "while True:\n",
    "    try:\n",
    "        entero = int(input('Digite un número entero positivo: '))\n",
    "        \n",
    "        break\n",
    "    except:\n",
    "        print('Debe escribir un valor numérico entero válido.')\n",
    "        print()\n",
    "\n",
    "print()\n",
    "print(f'Se introdujo el valor {entero}.')"
   ]
  },
  {
   "cell_type": "code",
   "execution_count": 17,
   "metadata": {},
   "outputs": [
    {
     "name": "stdout",
     "output_type": "stream",
     "text": [
      "Digite un número entero positivo: 10\n",
      "\n",
      "Se introdujo el valor 10.\n"
     ]
    }
   ],
   "source": [
    "entero = 0\n",
    "\n",
    "while True:\n",
    "    try:\n",
    "        entero = int(input('Digite un número entero positivo: '))\n",
    "        \n",
    "        break\n",
    "    except:\n",
    "        print('Debe escribir un valor numérico entero válido.')\n",
    "        print()\n",
    "\n",
    "print()\n",
    "print(f'Se introdujo el valor {entero}.')"
   ]
  },
  {
   "cell_type": "code",
   "execution_count": 18,
   "metadata": {},
   "outputs": [
    {
     "name": "stdout",
     "output_type": "stream",
     "text": [
      "Digite un número entero positivo: 10\n",
      "\n",
      "Se introdujo el valor 10.\n"
     ]
    }
   ],
   "source": [
    "entero = 0\n",
    "\n",
    "while True:\n",
    "    try:\n",
    "        entero = int(input('Digite un número entero positivo: '))\n",
    "        \n",
    "        break\n",
    "    except ValueError:\n",
    "        print('Debe escribir un valor numérico entero válido.')\n",
    "        print()\n",
    "\n",
    "print()\n",
    "print(f'Se introdujo el valor {entero}.')"
   ]
  },
  {
   "cell_type": "code",
   "execution_count": 20,
   "metadata": {},
   "outputs": [
    {
     "name": "stdout",
     "output_type": "stream",
     "text": [
      "Digite un número entero positivo: 10\n",
      "\n",
      "Se introdujo el valor 10.\n"
     ]
    }
   ],
   "source": [
    "entero = 0\n",
    "\n",
    "while True:\n",
    "    try:\n",
    "        entero = int(input('Digite un número entero positivo: '))\n",
    "        \n",
    "        break\n",
    "    except ValueError as e:\n",
    "        print('Información extra de la excepción:')\n",
    "        print('Tipo de dato:', type(e))\n",
    "        print('Mensaje de error:', e)\n",
    "        print('Debe escribir un valor numérico entero válido.')\n",
    "        print()\n",
    "\n",
    "print()\n",
    "print(f'Se introdujo el valor {entero}.')"
   ]
  },
  {
   "cell_type": "markdown",
   "metadata": {},
   "source": [
    "## 11.2 Excepciones de Tipo Aritméticas"
   ]
  },
  {
   "cell_type": "code",
   "execution_count": 21,
   "metadata": {},
   "outputs": [],
   "source": [
    "a = 5\n",
    "b = 2"
   ]
  },
  {
   "cell_type": "code",
   "execution_count": 22,
   "metadata": {},
   "outputs": [
    {
     "data": {
      "text/plain": [
       "2.5"
      ]
     },
     "execution_count": 22,
     "metadata": {},
     "output_type": "execute_result"
    }
   ],
   "source": [
    "a / b"
   ]
  },
  {
   "cell_type": "code",
   "execution_count": 23,
   "metadata": {},
   "outputs": [],
   "source": [
    "b = 0"
   ]
  },
  {
   "cell_type": "code",
   "execution_count": 24,
   "metadata": {},
   "outputs": [],
   "source": [
    "# a / b # Genera el error ZeroDivisionError"
   ]
  },
  {
   "cell_type": "code",
   "execution_count": 25,
   "metadata": {},
   "outputs": [
    {
     "name": "stdout",
     "output_type": "stream",
     "text": [
      "Intento de división entre cero (0).\n"
     ]
    }
   ],
   "source": [
    "try:\n",
    "    division = a / b\n",
    "except ZeroDivisionError:\n",
    "    print('Intento de división entre cero (0).')"
   ]
  },
  {
   "cell_type": "code",
   "execution_count": 26,
   "metadata": {},
   "outputs": [
    {
     "name": "stdout",
     "output_type": "stream",
     "text": [
      "Intento de división entre cero (0).\n",
      "\n",
      "Datos técnicos de la excepción:\n",
      "Tipo de dato de la variable: <class 'ZeroDivisionError'>\n",
      "Mensaje de error: division by zero\n"
     ]
    }
   ],
   "source": [
    "try:\n",
    "    division = a / b\n",
    "except ZeroDivisionError as e:\n",
    "    print('Intento de división entre cero (0).')\n",
    "    print()\n",
    "    print('Datos técnicos de la excepción:')\n",
    "    print('Tipo de dato de la variable:', type(e))\n",
    "    print('Mensaje de error:', e)"
   ]
  },
  {
   "cell_type": "code",
   "execution_count": 27,
   "metadata": {},
   "outputs": [
    {
     "name": "stdout",
     "output_type": "stream",
     "text": [
      "Intento de división entre cero (0).\n",
      "\n",
      "Datos técnicos de la excepción:\n",
      "Tipo de dato de la variable e: <class 'ZeroDivisionError'>\n",
      "Mensaje de error: division by zero\n"
     ]
    }
   ],
   "source": [
    "try:\n",
    "    division = a / b\n",
    "except ArithmeticError as e:\n",
    "    print('Intento de división entre cero (0).')\n",
    "    print()\n",
    "    print('Datos técnicos de la excepción:')\n",
    "    print('Tipo de dato de la variable e:', type(e))\n",
    "    print('Mensaje de error:', e)"
   ]
  },
  {
   "cell_type": "code",
   "execution_count": 28,
   "metadata": {},
   "outputs": [
    {
     "name": "stdout",
     "output_type": "stream",
     "text": [
      "Intento de división entre cero (0).\n",
      "\n",
      "Datos técnicos de la excepción:\n",
      "Tipo de dato de la variable e: <class 'ZeroDivisionError'>\n",
      "Mensaje de error: division by zero\n"
     ]
    }
   ],
   "source": [
    "try:\n",
    "    division = a / b\n",
    "except Exception as e:\n",
    "    print('Intento de división entre cero (0).')\n",
    "    print()\n",
    "    print('Datos técnicos de la excepción:')\n",
    "    print('Tipo de dato de la variable e:', type(e))\n",
    "    print('Mensaje de error:', e)"
   ]
  },
  {
   "cell_type": "markdown",
   "metadata": {},
   "source": [
    "## 11.3 Estudio de la Excepción `IndexError`\n",
    "\n",
    "Esta excepción se genera cuando se sobrepasan los límites de un objeto iterable (cadenas de caracteres (`str`), las listas (`list`), las tuplas (`tuple`), etc.).\n",
    "\n",
    "`[1, 2, 3, 4, 5]`\n",
    "\n",
    "(0, 1, 2, 3, 4)"
   ]
  },
  {
   "cell_type": "code",
   "execution_count": 29,
   "metadata": {},
   "outputs": [],
   "source": [
    "colores = ['Rojo', 'Verde', 'Azul', 'Blanco', 'Negro']"
   ]
  },
  {
   "cell_type": "code",
   "execution_count": 30,
   "metadata": {},
   "outputs": [
    {
     "data": {
      "text/plain": [
       "['Rojo', 'Verde', 'Azul', 'Blanco', 'Negro']"
      ]
     },
     "execution_count": 30,
     "metadata": {},
     "output_type": "execute_result"
    }
   ],
   "source": [
    "colores"
   ]
  },
  {
   "cell_type": "code",
   "execution_count": 31,
   "metadata": {},
   "outputs": [
    {
     "data": {
      "text/plain": [
       "5"
      ]
     },
     "execution_count": 31,
     "metadata": {},
     "output_type": "execute_result"
    }
   ],
   "source": [
    "len(colores)"
   ]
  },
  {
   "cell_type": "code",
   "execution_count": 32,
   "metadata": {},
   "outputs": [
    {
     "data": {
      "text/plain": [
       "'Rojo'"
      ]
     },
     "execution_count": 32,
     "metadata": {},
     "output_type": "execute_result"
    }
   ],
   "source": [
    "colores[0]"
   ]
  },
  {
   "cell_type": "code",
   "execution_count": 33,
   "metadata": {},
   "outputs": [
    {
     "data": {
      "text/plain": [
       "'Verde'"
      ]
     },
     "execution_count": 33,
     "metadata": {},
     "output_type": "execute_result"
    }
   ],
   "source": [
    "colores[1]"
   ]
  },
  {
   "cell_type": "code",
   "execution_count": 34,
   "metadata": {},
   "outputs": [
    {
     "data": {
      "text/plain": [
       "'Negro'"
      ]
     },
     "execution_count": 34,
     "metadata": {},
     "output_type": "execute_result"
    }
   ],
   "source": [
    "colores[4]"
   ]
  },
  {
   "cell_type": "markdown",
   "metadata": {},
   "source": [
    "Se genera error cuando se sobrepasa los límites. La lista `colores` tiene los índices de 0 a 4:"
   ]
  },
  {
   "cell_type": "code",
   "execution_count": 35,
   "metadata": {},
   "outputs": [
    {
     "ename": "IndexError",
     "evalue": "list index out of range",
     "output_type": "error",
     "traceback": [
      "\u001b[1;31m---------------------------------------------------------------------------\u001b[0m",
      "\u001b[1;31mIndexError\u001b[0m                                Traceback (most recent call last)",
      "\u001b[1;32m<ipython-input-35-43857f15b01c>\u001b[0m in \u001b[0;36m<module>\u001b[1;34m\u001b[0m\n\u001b[1;32m----> 1\u001b[1;33m \u001b[0mcolores\u001b[0m\u001b[1;33m[\u001b[0m\u001b[1;36m5\u001b[0m\u001b[1;33m]\u001b[0m\u001b[1;33m\u001b[0m\u001b[1;33m\u001b[0m\u001b[0m\n\u001b[0m",
      "\u001b[1;31mIndexError\u001b[0m: list index out of range"
     ]
    }
   ],
   "source": [
    "colores[5]"
   ]
  },
  {
   "cell_type": "markdown",
   "metadata": {},
   "source": [
    "Esta excepción se puede atrapar (gestionar, manipular, etc.) en un bloque `try...except`:"
   ]
  },
  {
   "cell_type": "code",
   "execution_count": 36,
   "metadata": {},
   "outputs": [
    {
     "name": "stdout",
     "output_type": "stream",
     "text": [
      "Usuario, el índice especificado no es válido. Debe estar en el rango 0 a 4.\n",
      "\n",
      "Mensaje técnico:\n",
      "Tipo del error: <class 'IndexError'>\n",
      "Mensaje: list index out of range\n"
     ]
    }
   ],
   "source": [
    "try:\n",
    "    color = colores[5]\n",
    "except IndexError as e:\n",
    "    print('Usuario, el índice especificado no es válido. Debe estar en el rango 0 a 4.')\n",
    "    print()\n",
    "    print('Mensaje técnico:')\n",
    "    print('Tipo del error:', type(e))\n",
    "    print('Mensaje:', e)"
   ]
  },
  {
   "cell_type": "code",
   "execution_count": 37,
   "metadata": {},
   "outputs": [
    {
     "name": "stdout",
     "output_type": "stream",
     "text": [
      "El valor del índice 5 no está disponible en la lista colores.\n"
     ]
    }
   ],
   "source": [
    "indice = 5\n",
    "\n",
    "if 0 <= indice < len(colores):\n",
    "    print(f'El valor que se encuentra en el índice {indice} es igual a {colores[indice]}.')\n",
    "else:\n",
    "    print(f'El valor del índice {indice} no está disponible en la lista colores.')"
   ]
  },
  {
   "cell_type": "code",
   "execution_count": 38,
   "metadata": {},
   "outputs": [
    {
     "name": "stdout",
     "output_type": "stream",
     "text": [
      "El valor que se encuentra en el índice 4 es igual a Negro.\n"
     ]
    }
   ],
   "source": [
    "indice = 4\n",
    "\n",
    "if 0 <= indice < len(colores):\n",
    "    print(f'El valor que se encuentra en el índice {indice} es igual a {colores[indice]}.')\n",
    "else:\n",
    "    print(f'El valor del índice {indice} no está disponible en la lista colores.')"
   ]
  },
  {
   "cell_type": "markdown",
   "metadata": {},
   "source": [
    "Es posible acceder a un elemento de una lista especificando un índice:\n",
    "\n",
    "`[-n, -1]`:\n",
    "\n",
    "- `-n`: Es el primer elemento de la lista. `n` es la cantidad de elementos que tiene la lista.\n",
    "- `-1`: Es el último elemento de la lista."
   ]
  },
  {
   "cell_type": "code",
   "execution_count": 39,
   "metadata": {},
   "outputs": [
    {
     "data": {
      "text/plain": [
       "['Rojo', 'Verde', 'Azul', 'Blanco', 'Negro']"
      ]
     },
     "execution_count": 39,
     "metadata": {},
     "output_type": "execute_result"
    }
   ],
   "source": [
    "colores"
   ]
  },
  {
   "cell_type": "code",
   "execution_count": 40,
   "metadata": {},
   "outputs": [
    {
     "data": {
      "text/plain": [
       "'Rojo'"
      ]
     },
     "execution_count": 40,
     "metadata": {},
     "output_type": "execute_result"
    }
   ],
   "source": [
    "colores[-5]"
   ]
  },
  {
   "cell_type": "code",
   "execution_count": 41,
   "metadata": {},
   "outputs": [
    {
     "data": {
      "text/plain": [
       "'Rojo'"
      ]
     },
     "execution_count": 41,
     "metadata": {},
     "output_type": "execute_result"
    }
   ],
   "source": [
    "colores[-len(colores)]"
   ]
  },
  {
   "cell_type": "code",
   "execution_count": 42,
   "metadata": {},
   "outputs": [
    {
     "data": {
      "text/plain": [
       "'Negro'"
      ]
     },
     "execution_count": 42,
     "metadata": {},
     "output_type": "execute_result"
    }
   ],
   "source": [
    "colores[-1]"
   ]
  },
  {
   "cell_type": "markdown",
   "metadata": {},
   "source": [
    "El rango válido para la lista `colores` es `[-5, -1]`."
   ]
  },
  {
   "cell_type": "code",
   "execution_count": 43,
   "metadata": {},
   "outputs": [],
   "source": [
    "# colores[-6] # Produce el error IndexError: no es posible acceder a un elemento que esté por fuera del rango."
   ]
  },
  {
   "cell_type": "code",
   "execution_count": 44,
   "metadata": {},
   "outputs": [],
   "source": [
    "# colores[-len(colores) - 5] # Produce el error IndexError."
   ]
  },
  {
   "cell_type": "code",
   "execution_count": 45,
   "metadata": {},
   "outputs": [
    {
     "name": "stdout",
     "output_type": "stream",
     "text": [
      "El índice que se intenta acceder no existe.\n",
      "\n",
      "Tipo de la variable de error: <class 'IndexError'>\n",
      "Mensaje de error: list index out of range\n"
     ]
    }
   ],
   "source": [
    "try:\n",
    "    colores[-len(colores) - 5]\n",
    "except IndexError as e:\n",
    "    print('El índice que se intenta acceder no existe.')\n",
    "    print()\n",
    "    print('Tipo de la variable de error:', type(e))\n",
    "    print('Mensaje de error:', e)"
   ]
  },
  {
   "cell_type": "code",
   "execution_count": 46,
   "metadata": {},
   "outputs": [
    {
     "name": "stdout",
     "output_type": "stream",
     "text": [
      "No existe el índice -10 en la lista colores.\n"
     ]
    }
   ],
   "source": [
    "indice = -10\n",
    "\n",
    "if -len(colores) <= indice <= -1:\n",
    "    print(f'El valor {colores[indice]} se halla en el índice {indice}.')\n",
    "else:\n",
    "    print(f'No existe el índice {indice} en la lista colores.')"
   ]
  },
  {
   "cell_type": "code",
   "execution_count": 47,
   "metadata": {},
   "outputs": [],
   "source": [
    "indice = -3"
   ]
  },
  {
   "cell_type": "code",
   "execution_count": 48,
   "metadata": {},
   "outputs": [
    {
     "name": "stdout",
     "output_type": "stream",
     "text": [
      "El valor Azul se halla en el índice -3.\n"
     ]
    }
   ],
   "source": [
    "if -len(colores) <= indice <= -1:\n",
    "    print(f'El valor {colores[indice]} se halla en el índice {indice}.')\n",
    "else:\n",
    "    print(f'No existe el índice {indice} en la lista colores.')"
   ]
  },
  {
   "cell_type": "code",
   "execution_count": 49,
   "metadata": {},
   "outputs": [],
   "source": [
    "# Rango de índices permitidos para la lista colores: [-1, -5]"
   ]
  },
  {
   "cell_type": "markdown",
   "metadata": {},
   "source": [
    "## 11.4 Gestión de la Excepción `KeyError`\n",
    "\n",
    "Esta excepción se produce cuando se intenta acceder una llave inexiste en un diccionario."
   ]
  },
  {
   "cell_type": "code",
   "execution_count": 50,
   "metadata": {},
   "outputs": [],
   "source": [
    "paises = {\n",
    "    'Colombia': 'Bogotá',\n",
    "    'Alemania': 'Berlín',\n",
    "    'Argentina': 'Buenos Aires',\n",
    "    'Perú': 'Lima',\n",
    "    'Ecuador': 'Quito'\n",
    "}"
   ]
  },
  {
   "cell_type": "code",
   "execution_count": 51,
   "metadata": {},
   "outputs": [
    {
     "data": {
      "text/plain": [
       "{'Colombia': 'Bogotá',\n",
       " 'Alemania': 'Berlín',\n",
       " 'Argentina': 'Buenos Aires',\n",
       " 'Perú': 'Lima',\n",
       " 'Ecuador': 'Quito'}"
      ]
     },
     "execution_count": 51,
     "metadata": {},
     "output_type": "execute_result"
    }
   ],
   "source": [
    "paises"
   ]
  },
  {
   "cell_type": "code",
   "execution_count": 52,
   "metadata": {},
   "outputs": [
    {
     "data": {
      "text/plain": [
       "5"
      ]
     },
     "execution_count": 52,
     "metadata": {},
     "output_type": "execute_result"
    }
   ],
   "source": [
    "len(paises)"
   ]
  },
  {
   "cell_type": "code",
   "execution_count": 53,
   "metadata": {},
   "outputs": [
    {
     "data": {
      "text/plain": [
       "'Bogotá'"
      ]
     },
     "execution_count": 53,
     "metadata": {},
     "output_type": "execute_result"
    }
   ],
   "source": [
    "paises['Colombia']"
   ]
  },
  {
   "cell_type": "code",
   "execution_count": 54,
   "metadata": {},
   "outputs": [
    {
     "data": {
      "text/plain": [
       "'Berlín'"
      ]
     },
     "execution_count": 54,
     "metadata": {},
     "output_type": "execute_result"
    }
   ],
   "source": [
    "paises['Alemania']"
   ]
  },
  {
   "cell_type": "code",
   "execution_count": 55,
   "metadata": {},
   "outputs": [
    {
     "data": {
      "text/plain": [
       "'Quito'"
      ]
     },
     "execution_count": 55,
     "metadata": {},
     "output_type": "execute_result"
    }
   ],
   "source": [
    "paises['Ecuador']"
   ]
  },
  {
   "cell_type": "markdown",
   "metadata": {},
   "source": [
    "¿Qué ocurre cuando una llave no existe en el diccionario?"
   ]
  },
  {
   "cell_type": "code",
   "execution_count": 56,
   "metadata": {},
   "outputs": [],
   "source": [
    "# paises['Bolivia'] # Produce el error KeyError."
   ]
  },
  {
   "cell_type": "code",
   "execution_count": 57,
   "metadata": {},
   "outputs": [],
   "source": [
    "# paises['Peru'] # Las llaves cuando son cadenas son sensibles a minúsculas y mayúsculas"
   ]
  },
  {
   "cell_type": "code",
   "execution_count": 58,
   "metadata": {},
   "outputs": [
    {
     "name": "stdout",
     "output_type": "stream",
     "text": [
      "El país México no está en el diccionario.\n",
      "\n",
      "Información técnica:\n",
      "Tipo de dato de la variable de excepción: <class 'KeyError'>\n",
      "Mensaje de error: 'México'\n"
     ]
    }
   ],
   "source": [
    "try:\n",
    "    print(paises['México'])\n",
    "except KeyError as e:\n",
    "    print('El país México no está en el diccionario.')\n",
    "    print()\n",
    "    print('Información técnica:')\n",
    "    print('Tipo de dato de la variable de excepción:', type(e))\n",
    "    print('Mensaje de error:', e)"
   ]
  },
  {
   "cell_type": "code",
   "execution_count": 59,
   "metadata": {},
   "outputs": [
    {
     "name": "stdout",
     "output_type": "stream",
     "text": [
      "El país Bolivia no está en el diccionario.\n",
      "\n",
      "Información técnica:\n",
      "Tipo de dato de la variable de excepción: <class 'KeyError'>\n",
      "Mensaje de error: 'Bolivia'\n"
     ]
    }
   ],
   "source": [
    "try:\n",
    "    print(paises['Bolivia'])\n",
    "except KeyError as e:\n",
    "    print('El país Bolivia no está en el diccionario.')\n",
    "    print()\n",
    "    print('Información técnica:')\n",
    "    print('Tipo de dato de la variable de excepción:', type(e))\n",
    "    print('Mensaje de error:', e)"
   ]
  },
  {
   "cell_type": "markdown",
   "metadata": {},
   "source": [
    "Obtener otros datos relevantes en un error:\n",
    "\n",
    "1. Tipo de dato\n",
    "2. Archivo\n",
    "3. Número de línea de código"
   ]
  },
  {
   "cell_type": "code",
   "execution_count": 60,
   "metadata": {},
   "outputs": [
    {
     "name": "stdout",
     "output_type": "stream",
     "text": [
      "El país Bolivia no está en el diccionario.\n",
      "\n",
      "Información técnica:\n",
      "Tipo de dato de la variable de excepción: <class 'KeyError'>\n",
      "Mensaje de error: 'Bolivia'\n",
      "Archivo donde se generó el error: G:\\Dropbox\\Pro\\Talleres\\PandasTallerManipulacionDatos\\Taller001-Python-Intro\n",
      "Número de línea donde se generó el error: 4\n"
     ]
    }
   ],
   "source": [
    "import os\n",
    "\n",
    "try:\n",
    "    print(paises['Bolivia'])\n",
    "except KeyError as e:\n",
    "    print('El país Bolivia no está en el diccionario.')\n",
    "    print()\n",
    "    print('Información técnica:')\n",
    "    print('Tipo de dato de la variable de excepción:', type(e))\n",
    "    print('Mensaje de error:', e)\n",
    "    print('Archivo donde se generó el error:', os.path.abspath(''))\n",
    "    print('Número de línea donde se generó el error:', e.__traceback__.tb_lineno)"
   ]
  },
  {
   "cell_type": "markdown",
   "metadata": {},
   "source": [
    "Los objetos de tipo diccionario cuentan con la función `get()`:"
   ]
  },
  {
   "cell_type": "code",
   "execution_count": 61,
   "metadata": {},
   "outputs": [
    {
     "data": {
      "text/plain": [
       "['__class__',\n",
       " '__contains__',\n",
       " '__delattr__',\n",
       " '__delitem__',\n",
       " '__dir__',\n",
       " '__doc__',\n",
       " '__eq__',\n",
       " '__format__',\n",
       " '__ge__',\n",
       " '__getattribute__',\n",
       " '__getitem__',\n",
       " '__gt__',\n",
       " '__hash__',\n",
       " '__init__',\n",
       " '__init_subclass__',\n",
       " '__iter__',\n",
       " '__le__',\n",
       " '__len__',\n",
       " '__lt__',\n",
       " '__ne__',\n",
       " '__new__',\n",
       " '__reduce__',\n",
       " '__reduce_ex__',\n",
       " '__repr__',\n",
       " '__reversed__',\n",
       " '__setattr__',\n",
       " '__setitem__',\n",
       " '__sizeof__',\n",
       " '__str__',\n",
       " '__subclasshook__',\n",
       " 'clear',\n",
       " 'copy',\n",
       " 'fromkeys',\n",
       " 'get',\n",
       " 'items',\n",
       " 'keys',\n",
       " 'pop',\n",
       " 'popitem',\n",
       " 'setdefault',\n",
       " 'update',\n",
       " 'values']"
      ]
     },
     "execution_count": 61,
     "metadata": {},
     "output_type": "execute_result"
    }
   ],
   "source": [
    "dir(paises)"
   ]
  },
  {
   "cell_type": "code",
   "execution_count": 62,
   "metadata": {},
   "outputs": [
    {
     "name": "stdout",
     "output_type": "stream",
     "text": [
      "Help on built-in function get:\n",
      "\n",
      "get(key, default=None, /) method of builtins.dict instance\n",
      "    Return the value for key if key is in the dictionary, else default.\n",
      "\n"
     ]
    }
   ],
   "source": [
    "help(paises.get)"
   ]
  },
  {
   "cell_type": "code",
   "execution_count": 63,
   "metadata": {},
   "outputs": [
    {
     "data": {
      "text/plain": [
       "'Bogotá'"
      ]
     },
     "execution_count": 63,
     "metadata": {},
     "output_type": "execute_result"
    }
   ],
   "source": [
    "paises.get('Colombia')"
   ]
  },
  {
   "cell_type": "code",
   "execution_count": 64,
   "metadata": {},
   "outputs": [
    {
     "data": {
      "text/plain": [
       "'Lima'"
      ]
     },
     "execution_count": 64,
     "metadata": {},
     "output_type": "execute_result"
    }
   ],
   "source": [
    "paises.get('Perú')"
   ]
  },
  {
   "cell_type": "code",
   "execution_count": 65,
   "metadata": {},
   "outputs": [],
   "source": [
    "paises.get('Peru')"
   ]
  },
  {
   "cell_type": "code",
   "execution_count": 66,
   "metadata": {},
   "outputs": [
    {
     "data": {
      "text/plain": [
       "NoneType"
      ]
     },
     "execution_count": 66,
     "metadata": {},
     "output_type": "execute_result"
    }
   ],
   "source": [
    "type(paises.get('Peru'))"
   ]
  },
  {
   "cell_type": "code",
   "execution_count": 67,
   "metadata": {},
   "outputs": [
    {
     "name": "stdout",
     "output_type": "stream",
     "text": [
      "<class 'NoneType'>\n"
     ]
    }
   ],
   "source": [
    "print(type(paises.get('Peru')))"
   ]
  },
  {
   "cell_type": "code",
   "execution_count": 68,
   "metadata": {},
   "outputs": [
    {
     "name": "stdout",
     "output_type": "stream",
     "text": [
      "None\n"
     ]
    }
   ],
   "source": [
    "print(paises.get('Peru'))"
   ]
  },
  {
   "cell_type": "code",
   "execution_count": 69,
   "metadata": {},
   "outputs": [],
   "source": [
    "paises.get('Bolivia')"
   ]
  },
  {
   "cell_type": "markdown",
   "metadata": {},
   "source": [
    "En este tipo de situación lo que hacemos es utilizar un condicional `if` para validar lo que retorna la función en contreto (`get`):"
   ]
  },
  {
   "cell_type": "code",
   "execution_count": 70,
   "metadata": {},
   "outputs": [
    {
     "name": "stdout",
     "output_type": "stream",
     "text": [
      "La capital de Colombia es Bogotá\n"
     ]
    }
   ],
   "source": [
    "if paises.get('Colombia'):\n",
    "    print(f\"La capital de Colombia es {paises.get('Colombia')}\")\n",
    "else:\n",
    "    print('El país indicado no se encuentra en el diccionario.')"
   ]
  },
  {
   "cell_type": "code",
   "execution_count": 71,
   "metadata": {},
   "outputs": [
    {
     "name": "stdout",
     "output_type": "stream",
     "text": [
      "El país indicado no se encuentra en el diccionario.\n"
     ]
    }
   ],
   "source": [
    "if paises.get('Bolivia'):\n",
    "    print(f\"La capital de Bolivia es {paises.get('Bolivia')}\")\n",
    "else:\n",
    "    print('El país indicado no se encuentra en el diccionario.')"
   ]
  },
  {
   "cell_type": "markdown",
   "metadata": {},
   "source": [
    "Es posible especificar un valor predeterminado sobre la función `get()` para indicar que una llave no existe:"
   ]
  },
  {
   "cell_type": "code",
   "execution_count": 72,
   "metadata": {},
   "outputs": [],
   "source": [
    "paises.get('Bolivia')"
   ]
  },
  {
   "cell_type": "code",
   "execution_count": 73,
   "metadata": {},
   "outputs": [
    {
     "data": {
      "text/plain": [
       "'NO_EXISTE'"
      ]
     },
     "execution_count": 73,
     "metadata": {},
     "output_type": "execute_result"
    }
   ],
   "source": [
    "paises.get('Bolivia', 'NO_EXISTE')"
   ]
  },
  {
   "cell_type": "code",
   "execution_count": 74,
   "metadata": {},
   "outputs": [
    {
     "name": "stdout",
     "output_type": "stream",
     "text": [
      "La capital de Bolivia es None\n"
     ]
    }
   ],
   "source": [
    "if paises.get('Bolivia', 'NO_EXISTE'):\n",
    "    print(f\"La capital de Bolivia es {paises.get('Bolivia')}\")\n",
    "else:\n",
    "    print('El país indicado no se encuentra en el diccionario.')"
   ]
  },
  {
   "cell_type": "code",
   "execution_count": 75,
   "metadata": {},
   "outputs": [
    {
     "name": "stdout",
     "output_type": "stream",
     "text": [
      "El país indicado no se encuentra en el diccionario.\n"
     ]
    }
   ],
   "source": [
    "if paises.get('Bolivia', 'NO_EXISTE') != 'NO_EXISTE':\n",
    "    print(f\"La capital de Bolivia es {paises.get('Bolivia')}\")\n",
    "else:\n",
    "    print('El país indicado no se encuentra en el diccionario.')"
   ]
  },
  {
   "cell_type": "code",
   "execution_count": 76,
   "metadata": {},
   "outputs": [
    {
     "name": "stdout",
     "output_type": "stream",
     "text": [
      "La capital de Colombia es Bogotá\n"
     ]
    }
   ],
   "source": [
    "if paises.get('Colombia', 'NO_EXISTE') != 'NO_EXISTE':\n",
    "    print(f\"La capital de Colombia es {paises.get('Colombia')}\")\n",
    "else:\n",
    "    print('El país indicado no se encuentra en el diccionario.')"
   ]
  },
  {
   "cell_type": "markdown",
   "metadata": {},
   "source": [
    "## 11.5 Gestión de la Excepción `AttributeError`\n",
    "\n",
    "Esta excepción ocurre cuando se intenta acceder a un atributo (campo de instancia, o método de instancia) inexistente."
   ]
  },
  {
   "cell_type": "code",
   "execution_count": 77,
   "metadata": {},
   "outputs": [
    {
     "data": {
      "text/plain": [
       "['__class__',\n",
       " '__contains__',\n",
       " '__delattr__',\n",
       " '__delitem__',\n",
       " '__dir__',\n",
       " '__doc__',\n",
       " '__eq__',\n",
       " '__format__',\n",
       " '__ge__',\n",
       " '__getattribute__',\n",
       " '__getitem__',\n",
       " '__gt__',\n",
       " '__hash__',\n",
       " '__init__',\n",
       " '__init_subclass__',\n",
       " '__iter__',\n",
       " '__le__',\n",
       " '__len__',\n",
       " '__lt__',\n",
       " '__ne__',\n",
       " '__new__',\n",
       " '__reduce__',\n",
       " '__reduce_ex__',\n",
       " '__repr__',\n",
       " '__reversed__',\n",
       " '__setattr__',\n",
       " '__setitem__',\n",
       " '__sizeof__',\n",
       " '__str__',\n",
       " '__subclasshook__',\n",
       " 'clear',\n",
       " 'copy',\n",
       " 'fromkeys',\n",
       " 'get',\n",
       " 'items',\n",
       " 'keys',\n",
       " 'pop',\n",
       " 'popitem',\n",
       " 'setdefault',\n",
       " 'update',\n",
       " 'values']"
      ]
     },
     "execution_count": 77,
     "metadata": {},
     "output_type": "execute_result"
    }
   ],
   "source": [
    "dir(paises)"
   ]
  },
  {
   "cell_type": "code",
   "execution_count": 78,
   "metadata": {},
   "outputs": [],
   "source": [
    "# paises.delete('Perú') Genera el error AttributeError"
   ]
  },
  {
   "cell_type": "code",
   "execution_count": 79,
   "metadata": {},
   "outputs": [
    {
     "name": "stdout",
     "output_type": "stream",
     "text": [
      "Los objetos diccionario no cuentan con el método `delete`.\n",
      "\n",
      "Información técnica:\n",
      "Tipo de dato de la variable de error: <class 'AttributeError'>\n",
      "Mensaje de error: 'dict' object has no attribute 'delete'\n"
     ]
    }
   ],
   "source": [
    "try:\n",
    "    paises.delete('Perú')\n",
    "except AttributeError as e:\n",
    "    print('Los objetos diccionario no cuentan con el método `delete`.')\n",
    "    print()\n",
    "    \n",
    "    print('Información técnica:')\n",
    "    print('Tipo de dato de la variable de error:', type(e))\n",
    "    print('Mensaje de error:', e)"
   ]
  },
  {
   "cell_type": "code",
   "execution_count": 80,
   "metadata": {},
   "outputs": [],
   "source": [
    "import math"
   ]
  },
  {
   "cell_type": "code",
   "execution_count": 81,
   "metadata": {},
   "outputs": [
    {
     "data": {
      "text/plain": [
       "3.141592653589793"
      ]
     },
     "execution_count": 81,
     "metadata": {},
     "output_type": "execute_result"
    }
   ],
   "source": [
    "math.pi"
   ]
  },
  {
   "cell_type": "code",
   "execution_count": 82,
   "metadata": {},
   "outputs": [
    {
     "data": {
      "text/plain": [
       "2.718281828459045"
      ]
     },
     "execution_count": 82,
     "metadata": {},
     "output_type": "execute_result"
    }
   ],
   "source": [
    "math.e"
   ]
  },
  {
   "cell_type": "code",
   "execution_count": 83,
   "metadata": {},
   "outputs": [],
   "source": [
    "# math.PI # Genera el error AttributeError ya que el módulo math no cuenta con ese atributo (PI)"
   ]
  },
  {
   "cell_type": "code",
   "execution_count": 84,
   "metadata": {},
   "outputs": [
    {
     "data": {
      "text/plain": [
       "1.2246467991473532e-16"
      ]
     },
     "execution_count": 84,
     "metadata": {},
     "output_type": "execute_result"
    }
   ],
   "source": [
    "math.sin(math.pi)"
   ]
  },
  {
   "cell_type": "code",
   "execution_count": 85,
   "metadata": {},
   "outputs": [],
   "source": [
    "# math.seno(math.pi) # Genera el error AttributeError. seno() no es una función del módulo math."
   ]
  },
  {
   "cell_type": "code",
   "execution_count": 86,
   "metadata": {},
   "outputs": [
    {
     "name": "stdout",
     "output_type": "stream",
     "text": [
      "El módulo math no cuenta con la función seno().\n",
      "\n",
      "Información técnica:\n",
      "Tipo de dato de la variable de error: AttributeError\n",
      "Mensaje de error: module 'math' has no attribute 'seno'\n"
     ]
    }
   ],
   "source": [
    "try:\n",
    "    math.seno(math.pi)\n",
    "except AttributeError as e:\n",
    "    print('El módulo math no cuenta con la función seno().')\n",
    "    print()\n",
    "    \n",
    "    print('Información técnica:')\n",
    "    print('Tipo de dato de la variable de error:', type(e).__name__)\n",
    "    print('Mensaje de error:', e)"
   ]
  },
  {
   "cell_type": "markdown",
   "metadata": {},
   "source": [
    "A través del método `hasattr()` podemos consultar si un objeto o módulo posee un atributo (campo o una función):"
   ]
  },
  {
   "cell_type": "code",
   "execution_count": 87,
   "metadata": {},
   "outputs": [
    {
     "name": "stdout",
     "output_type": "stream",
     "text": [
      "Help on built-in function hasattr in module builtins:\n",
      "\n",
      "hasattr(obj, name, /)\n",
      "    Return whether the object has an attribute with the given name.\n",
      "    \n",
      "    This is done by calling getattr(obj, name) and catching AttributeError.\n",
      "\n"
     ]
    }
   ],
   "source": [
    "help(hasattr)"
   ]
  },
  {
   "cell_type": "code",
   "execution_count": 88,
   "metadata": {},
   "outputs": [
    {
     "data": {
      "text/plain": [
       "False"
      ]
     },
     "execution_count": 88,
     "metadata": {},
     "output_type": "execute_result"
    }
   ],
   "source": [
    "hasattr(math, 'seno')"
   ]
  },
  {
   "cell_type": "code",
   "execution_count": 89,
   "metadata": {},
   "outputs": [
    {
     "data": {
      "text/plain": [
       "True"
      ]
     },
     "execution_count": 89,
     "metadata": {},
     "output_type": "execute_result"
    }
   ],
   "source": [
    "hasattr(math, 'sin')"
   ]
  },
  {
   "cell_type": "code",
   "execution_count": 90,
   "metadata": {},
   "outputs": [
    {
     "name": "stdout",
     "output_type": "stream",
     "text": [
      "El módulo math no cuenta con la función/atributo seno()\n"
     ]
    }
   ],
   "source": [
    "if hasattr(math, 'seno'):\n",
    "    print('El módulo math cuenta con la función seno()')\n",
    "else:\n",
    "    print('El módulo math no cuenta con la función/atributo seno()')"
   ]
  },
  {
   "cell_type": "code",
   "execution_count": 91,
   "metadata": {},
   "outputs": [
    {
     "name": "stdout",
     "output_type": "stream",
     "text": [
      "El módulo math cuenta con la función sin()\n"
     ]
    }
   ],
   "source": [
    "if hasattr(math, 'sin'):\n",
    "    print('El módulo math cuenta con la función sin()')\n",
    "else:\n",
    "    print('El módulo math no cuenta con la función/atributo sin()')"
   ]
  },
  {
   "cell_type": "code",
   "execution_count": 92,
   "metadata": {},
   "outputs": [
    {
     "data": {
      "text/plain": [
       "True"
      ]
     },
     "execution_count": 92,
     "metadata": {},
     "output_type": "execute_result"
    }
   ],
   "source": [
    "hasattr(math, 'pi')"
   ]
  },
  {
   "cell_type": "code",
   "execution_count": 93,
   "metadata": {},
   "outputs": [
    {
     "data": {
      "text/plain": [
       "False"
      ]
     },
     "execution_count": 93,
     "metadata": {},
     "output_type": "execute_result"
    }
   ],
   "source": [
    "hasattr(math, 'PI')"
   ]
  },
  {
   "cell_type": "code",
   "execution_count": 94,
   "metadata": {},
   "outputs": [
    {
     "data": {
      "text/plain": [
       "False"
      ]
     },
     "execution_count": 94,
     "metadata": {},
     "output_type": "execute_result"
    }
   ],
   "source": [
    "hasattr(math, 'Pi')"
   ]
  },
  {
   "cell_type": "markdown",
   "metadata": {},
   "source": [
    "La excepción/error `AttributeError` también se puede generar en una instancia de una clase personalizada:"
   ]
  },
  {
   "cell_type": "code",
   "execution_count": 95,
   "metadata": {},
   "outputs": [],
   "source": [
    "class Computador:\n",
    "    \"\"\"\n",
    "    Representa una entidad tipo computador.\n",
    "    \"\"\"\n",
    "    \n",
    "    def __init__(self, id_, marca, cpu, ram, ssd):\n",
    "        \"\"\"\n",
    "        Inicializa un nuevo objeto de esta clase.\n",
    "        \n",
    "        :param id_: Identificador únivoco para cada computador.\n",
    "        :param marca: Marca del computador.\n",
    "        :param cpu: La marca de la CPU.\n",
    "        :param ram: Capacidad de la memoria primaria (RAM).\n",
    "        :param ssd: Capacidad del disco de estado sólido.\n",
    "        \"\"\"\n",
    "        self.id_ = id_\n",
    "        self.marca = marca\n",
    "        self.cpu = cpu\n",
    "        self.ram = ram\n",
    "        self.ssd = ssd"
   ]
  },
  {
   "cell_type": "code",
   "execution_count": 96,
   "metadata": {},
   "outputs": [],
   "source": [
    "workstation = Computador(1001, 'Clone', 'Intel Core i7 Extreme', 128, 3000)"
   ]
  },
  {
   "cell_type": "code",
   "execution_count": 97,
   "metadata": {},
   "outputs": [
    {
     "data": {
      "text/plain": [
       "__main__.Computador"
      ]
     },
     "execution_count": 97,
     "metadata": {},
     "output_type": "execute_result"
    }
   ],
   "source": [
    "type(workstation)"
   ]
  },
  {
   "cell_type": "code",
   "execution_count": 98,
   "metadata": {},
   "outputs": [
    {
     "data": {
      "text/plain": [
       "1001"
      ]
     },
     "execution_count": 98,
     "metadata": {},
     "output_type": "execute_result"
    }
   ],
   "source": [
    "workstation.id_"
   ]
  },
  {
   "cell_type": "code",
   "execution_count": 99,
   "metadata": {},
   "outputs": [
    {
     "data": {
      "text/plain": [
       "'Clone'"
      ]
     },
     "execution_count": 99,
     "metadata": {},
     "output_type": "execute_result"
    }
   ],
   "source": [
    "workstation.marca"
   ]
  },
  {
   "cell_type": "code",
   "execution_count": 100,
   "metadata": {},
   "outputs": [
    {
     "data": {
      "text/plain": [
       "'Intel Core i7 Extreme'"
      ]
     },
     "execution_count": 100,
     "metadata": {},
     "output_type": "execute_result"
    }
   ],
   "source": [
    "workstation.cpu"
   ]
  },
  {
   "cell_type": "code",
   "execution_count": 101,
   "metadata": {},
   "outputs": [
    {
     "data": {
      "text/plain": [
       "128"
      ]
     },
     "execution_count": 101,
     "metadata": {},
     "output_type": "execute_result"
    }
   ],
   "source": [
    "workstation.ram"
   ]
  },
  {
   "cell_type": "code",
   "execution_count": 102,
   "metadata": {},
   "outputs": [
    {
     "data": {
      "text/plain": [
       "3000"
      ]
     },
     "execution_count": 102,
     "metadata": {},
     "output_type": "execute_result"
    }
   ],
   "source": [
    "workstation.ssd"
   ]
  },
  {
   "cell_type": "code",
   "execution_count": 103,
   "metadata": {},
   "outputs": [
    {
     "data": {
      "text/plain": [
       "['__class__',\n",
       " '__delattr__',\n",
       " '__dict__',\n",
       " '__dir__',\n",
       " '__doc__',\n",
       " '__eq__',\n",
       " '__format__',\n",
       " '__ge__',\n",
       " '__getattribute__',\n",
       " '__gt__',\n",
       " '__hash__',\n",
       " '__init__',\n",
       " '__init_subclass__',\n",
       " '__le__',\n",
       " '__lt__',\n",
       " '__module__',\n",
       " '__ne__',\n",
       " '__new__',\n",
       " '__reduce__',\n",
       " '__reduce_ex__',\n",
       " '__repr__',\n",
       " '__setattr__',\n",
       " '__sizeof__',\n",
       " '__str__',\n",
       " '__subclasshook__',\n",
       " '__weakref__',\n",
       " 'cpu',\n",
       " 'id_',\n",
       " 'marca',\n",
       " 'ram',\n",
       " 'ssd']"
      ]
     },
     "execution_count": 103,
     "metadata": {},
     "output_type": "execute_result"
    }
   ],
   "source": [
    "dir(workstation)"
   ]
  },
  {
   "cell_type": "code",
   "execution_count": 104,
   "metadata": {},
   "outputs": [
    {
     "ename": "AttributeError",
     "evalue": "'Computador' object has no attribute 'board'",
     "output_type": "error",
     "traceback": [
      "\u001b[1;31m---------------------------------------------------------------------------\u001b[0m",
      "\u001b[1;31mAttributeError\u001b[0m                            Traceback (most recent call last)",
      "\u001b[1;32m<ipython-input-104-bbd7ccb97aaa>\u001b[0m in \u001b[0;36m<module>\u001b[1;34m\u001b[0m\n\u001b[1;32m----> 1\u001b[1;33m \u001b[0mworkstation\u001b[0m\u001b[1;33m.\u001b[0m\u001b[0mboard\u001b[0m\u001b[1;33m\u001b[0m\u001b[1;33m\u001b[0m\u001b[0m\n\u001b[0m",
      "\u001b[1;31mAttributeError\u001b[0m: 'Computador' object has no attribute 'board'"
     ]
    }
   ],
   "source": [
    "# workstation.board # Genera el error AttributeError: no se cuenta con el atributo board."
   ]
  },
  {
   "cell_type": "code",
   "execution_count": 105,
   "metadata": {},
   "outputs": [
    {
     "name": "stdout",
     "output_type": "stream",
     "text": [
      "El objeto computador no cuenta con el atributo board.\n"
     ]
    }
   ],
   "source": [
    "if hasattr(workstation, 'board'):\n",
    "    print(workstation.board)\n",
    "else:\n",
    "    print('El objeto computador no cuenta con el atributo board.')"
   ]
  },
  {
   "cell_type": "code",
   "execution_count": 106,
   "metadata": {},
   "outputs": [
    {
     "name": "stdout",
     "output_type": "stream",
     "text": [
      "3000\n"
     ]
    }
   ],
   "source": [
    "if hasattr(workstation, 'ssd'):\n",
    "    print(workstation.ssd) # 3000\n",
    "else:\n",
    "    print('El objeto computador no cuenta con el atributo ssd.')"
   ]
  },
  {
   "cell_type": "markdown",
   "metadata": {},
   "source": [
    "## 11.6 Gestión de la Excepción `FileNotFoundError`\n",
    "\n",
    "Esta excepción se produce/genera cuando se intanta abrir/escribir un archivo que no existe."
   ]
  },
  {
   "cell_type": "code",
   "execution_count": 107,
   "metadata": {},
   "outputs": [
    {
     "ename": "FileNotFoundError",
     "evalue": "[Errno 2] No such file or directory: 'usuarios.txt'",
     "output_type": "error",
     "traceback": [
      "\u001b[1;31m---------------------------------------------------------------------------\u001b[0m",
      "\u001b[1;31mFileNotFoundError\u001b[0m                         Traceback (most recent call last)",
      "\u001b[1;32m<ipython-input-107-bf5658f84b10>\u001b[0m in \u001b[0;36m<module>\u001b[1;34m\u001b[0m\n\u001b[1;32m----> 1\u001b[1;33m \u001b[1;32mwith\u001b[0m \u001b[0mopen\u001b[0m\u001b[1;33m(\u001b[0m\u001b[1;34m'usuarios.txt'\u001b[0m\u001b[1;33m,\u001b[0m \u001b[1;34m'rt'\u001b[0m\u001b[1;33m,\u001b[0m \u001b[0mencoding\u001b[0m\u001b[1;33m=\u001b[0m\u001b[1;34m'utf-8'\u001b[0m\u001b[1;33m)\u001b[0m \u001b[1;32mas\u001b[0m \u001b[0mf\u001b[0m\u001b[1;33m:\u001b[0m\u001b[1;33m\u001b[0m\u001b[1;33m\u001b[0m\u001b[0m\n\u001b[0m\u001b[0;32m      2\u001b[0m     \u001b[0mprint\u001b[0m\u001b[1;33m(\u001b[0m\u001b[0mf\u001b[0m\u001b[1;33m.\u001b[0m\u001b[0mreadlines\u001b[0m\u001b[1;33m(\u001b[0m\u001b[1;33m)\u001b[0m\u001b[1;33m)\u001b[0m\u001b[1;33m\u001b[0m\u001b[1;33m\u001b[0m\u001b[0m\n",
      "\u001b[1;31mFileNotFoundError\u001b[0m: [Errno 2] No such file or directory: 'usuarios.txt'"
     ]
    }
   ],
   "source": [
    "# with open('usuarios.txt', 'rt', encoding='utf-8') as f:\n",
    "#    print(f.readlines())"
   ]
  },
  {
   "cell_type": "code",
   "execution_count": 108,
   "metadata": {},
   "outputs": [
    {
     "name": "stdout",
     "output_type": "stream",
     "text": [
      "El archivo usuarios.txt no existe.\n",
      "\n",
      "Información técnica:\n",
      "Tipo de dato de la variable de error: FileNotFoundError\n",
      "Mensaje de error: [Errno 2] No such file or directory: 'usuarios.txt'\n"
     ]
    }
   ],
   "source": [
    "try:\n",
    "    with open('usuarios.txt', 'rt', encoding='utf-8') as f:\n",
    "        print(f.readlines())\n",
    "except FileNotFoundError as e:\n",
    "    print('El archivo usuarios.txt no existe.')\n",
    "    \n",
    "    print()\n",
    "    print('Información técnica:')\n",
    "    print('Tipo de dato de la variable de error:', type(e).__name__)\n",
    "    print('Mensaje de error:', e)"
   ]
  },
  {
   "cell_type": "code",
   "execution_count": 110,
   "metadata": {},
   "outputs": [
    {
     "name": "stdout",
     "output_type": "stream",
     "text": [
      "['Python es un lenguaje de programación multiparadigma.\\n', 'Con Python es posible crear aplicaciones de escritorio, aplicaciones Web, hacer analítica de datos...']\n"
     ]
    }
   ],
   "source": [
    "try:\n",
    "    with open('T001-11-usuarios.txt', 'rt', encoding='utf-8') as f:\n",
    "        print(f.readlines())\n",
    "except FileNotFoundError as e:\n",
    "    print('El archivo usuarios.txt no existe.')\n",
    "    \n",
    "    print()\n",
    "    print('Información técnica:')\n",
    "    print('Tipo de dato de la variable de error:', type(e).__name__)\n",
    "    print('Mensaje de error:', e)"
   ]
  },
  {
   "cell_type": "markdown",
   "metadata": {},
   "source": [
    "Es posible validar la existencia de un archivo con la función `os.path.exists()`.\n",
    "\n",
    "Gracias a esa alternativa es posible omitir el uso del bloque `try-except`."
   ]
  },
  {
   "cell_type": "code",
   "execution_count": 111,
   "metadata": {},
   "outputs": [],
   "source": [
    "from os import path"
   ]
  },
  {
   "cell_type": "code",
   "execution_count": 112,
   "metadata": {},
   "outputs": [
    {
     "name": "stdout",
     "output_type": "stream",
     "text": [
      "El archivo usuarios.txt no existe.\n"
     ]
    }
   ],
   "source": [
    "if path.exists('usuarios.txt'):\n",
    "    with open('usuarios.txt', 'rt', encoding='utf-8') as f:\n",
    "        print(f.readlines())\n",
    "else:\n",
    "    print('El archivo usuarios.txt no existe.')"
   ]
  },
  {
   "cell_type": "code",
   "execution_count": 113,
   "metadata": {},
   "outputs": [
    {
     "name": "stdout",
     "output_type": "stream",
     "text": [
      "['Python es un lenguaje de programación multiparadigma.\\n', 'Con Python es posible crear aplicaciones de escritorio, aplicaciones Web, hacer analítica de datos...']\n"
     ]
    }
   ],
   "source": [
    "if path.exists('T001-11-usuarios.txt'):\n",
    "    with open('T001-11-usuarios.txt', 'rt', encoding='utf-8') as f:\n",
    "        print(f.readlines())\n",
    "else:\n",
    "    print('El archivo usuarios.txt no existe.')"
   ]
  },
  {
   "cell_type": "markdown",
   "metadata": {},
   "source": [
    "## 11.7 Gestión de la Excepción `NameError`\n",
    "\n",
    "Esta excepción se genera cuando una variable no existe en el contexto de ejecución."
   ]
  },
  {
   "cell_type": "code",
   "execution_count": 114,
   "metadata": {},
   "outputs": [],
   "source": [
    "numero_primo = 19"
   ]
  },
  {
   "cell_type": "code",
   "execution_count": 117,
   "metadata": {},
   "outputs": [
    {
     "ename": "NameError",
     "evalue": "name 'numeroprimo' is not defined",
     "output_type": "error",
     "traceback": [
      "\u001b[1;31m---------------------------------------------------------------------------\u001b[0m",
      "\u001b[1;31mNameError\u001b[0m                                 Traceback (most recent call last)",
      "\u001b[1;32m<ipython-input-117-06e8026ce994>\u001b[0m in \u001b[0;36m<module>\u001b[1;34m\u001b[0m\n\u001b[1;32m----> 1\u001b[1;33m \u001b[0mprint\u001b[0m\u001b[1;33m(\u001b[0m\u001b[0mnumeroprimo\u001b[0m\u001b[1;33m)\u001b[0m \u001b[1;31m# Genera el error NameError: la variable numeroprimo no existe.\u001b[0m\u001b[1;33m\u001b[0m\u001b[1;33m\u001b[0m\u001b[0m\n\u001b[0m",
      "\u001b[1;31mNameError\u001b[0m: name 'numeroprimo' is not defined"
     ]
    }
   ],
   "source": [
    "# print(numeroprimo) # Genera el error NameError: la variable numeroprimo no existe."
   ]
  },
  {
   "cell_type": "code",
   "execution_count": 118,
   "metadata": {},
   "outputs": [
    {
     "data": {
      "text/plain": [
       "19"
      ]
     },
     "execution_count": 118,
     "metadata": {},
     "output_type": "execute_result"
    }
   ],
   "source": [
    "numero_primo"
   ]
  },
  {
   "cell_type": "code",
   "execution_count": 119,
   "metadata": {},
   "outputs": [
    {
     "data": {
      "text/plain": [
       "140722781436256"
      ]
     },
     "execution_count": 119,
     "metadata": {},
     "output_type": "execute_result"
    }
   ],
   "source": [
    "id(numero_primo)"
   ]
  },
  {
   "cell_type": "code",
   "execution_count": 120,
   "metadata": {},
   "outputs": [
    {
     "ename": "NameError",
     "evalue": "name 'prit' is not defined",
     "output_type": "error",
     "traceback": [
      "\u001b[1;31m---------------------------------------------------------------------------\u001b[0m",
      "\u001b[1;31mNameError\u001b[0m                                 Traceback (most recent call last)",
      "\u001b[1;32m<ipython-input-120-469c7e002619>\u001b[0m in \u001b[0;36m<module>\u001b[1;34m\u001b[0m\n\u001b[1;32m----> 1\u001b[1;33m \u001b[0mprit\u001b[0m\u001b[1;33m(\u001b[0m\u001b[0mnumero_primo\u001b[0m\u001b[1;33m)\u001b[0m\u001b[1;33m\u001b[0m\u001b[1;33m\u001b[0m\u001b[0m\n\u001b[0m",
      "\u001b[1;31mNameError\u001b[0m: name 'prit' is not defined"
     ]
    }
   ],
   "source": [
    "# prit(numero_primo) # Se genera el error NameError: la función prit() no existe."
   ]
  },
  {
   "cell_type": "code",
   "execution_count": 121,
   "metadata": {},
   "outputs": [
    {
     "name": "stdout",
     "output_type": "stream",
     "text": [
      "La función prit() no existe.\n",
      "\n",
      "Información técnica:\n",
      "El tipo del error: NameError\n",
      "Mensaje de error: name 'prit' is not defined\n"
     ]
    }
   ],
   "source": [
    "try:\n",
    "    prit(numero_primo)\n",
    "except NameError as e:\n",
    "    print('La función prit() no existe.')\n",
    "    print()\n",
    "    print('Información técnica:')\n",
    "    print('El tipo del error:', type(e).__name__)\n",
    "    print('Mensaje de error:', e)"
   ]
  },
  {
   "cell_type": "code",
   "execution_count": 122,
   "metadata": {},
   "outputs": [
    {
     "name": "stdout",
     "output_type": "stream",
     "text": [
      "19\n"
     ]
    }
   ],
   "source": [
    "try:\n",
    "    print(numero_primo)\n",
    "except NameError as e:\n",
    "    print('La función prit() no existe.')\n",
    "    print()\n",
    "    print('Información técnica:')\n",
    "    print('El tipo del error:', type(e).__name__)\n",
    "    print('Mensaje de error:', e)"
   ]
  },
  {
   "cell_type": "code",
   "execution_count": null,
   "metadata": {},
   "outputs": [],
   "source": []
  }
 ],
 "metadata": {
  "kernelspec": {
   "display_name": "Python 3",
   "language": "python",
   "name": "python3"
  },
  "language_info": {
   "codemirror_mode": {
    "name": "ipython",
    "version": 3
   },
   "file_extension": ".py",
   "mimetype": "text/x-python",
   "name": "python",
   "nbconvert_exporter": "python",
   "pygments_lexer": "ipython3",
   "version": "3.8.3"
  }
 },
 "nbformat": 4,
 "nbformat_minor": 4
}
