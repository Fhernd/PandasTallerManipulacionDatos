{
 "cells": [
  {
   "cell_type": "markdown",
   "metadata": {},
   "source": [
    "# 11. Excepciones y Errores\n",
    "\n",
    "Un programa o un código puede presentar situaciones anómalas durante su ejecución.\n",
    "\n",
    "El programador debe ser capaz de gestionar esas situaciones (excepciones y errores). Con esa habilidad, el programador podrá crear aplicaciones o soluciones software robustas."
   ]
  },
  {
   "cell_type": "code",
   "execution_count": 1,
   "metadata": {},
   "outputs": [
    {
     "name": "stdout",
     "output_type": "stream",
     "text": [
      "Digite un número entero positivo: 10\n"
     ]
    }
   ],
   "source": [
    "numero = input('Digite un número entero positivo: ')"
   ]
  },
  {
   "cell_type": "code",
   "execution_count": 2,
   "metadata": {},
   "outputs": [
    {
     "data": {
      "text/plain": [
       "'10'"
      ]
     },
     "execution_count": 2,
     "metadata": {},
     "output_type": "execute_result"
    }
   ],
   "source": [
    "numero"
   ]
  },
  {
   "cell_type": "code",
   "execution_count": 3,
   "metadata": {},
   "outputs": [
    {
     "data": {
      "text/plain": [
       "str"
      ]
     },
     "execution_count": 3,
     "metadata": {},
     "output_type": "execute_result"
    }
   ],
   "source": [
    "type(numero)"
   ]
  },
  {
   "cell_type": "code",
   "execution_count": 4,
   "metadata": {},
   "outputs": [
    {
     "name": "stdout",
     "output_type": "stream",
     "text": [
      "Digite un número entero positivo: 10\n"
     ]
    }
   ],
   "source": [
    "numero = int(input('Digite un número entero positivo: '))"
   ]
  },
  {
   "cell_type": "code",
   "execution_count": 5,
   "metadata": {},
   "outputs": [
    {
     "data": {
      "text/plain": [
       "10"
      ]
     },
     "execution_count": 5,
     "metadata": {},
     "output_type": "execute_result"
    }
   ],
   "source": [
    "numero"
   ]
  },
  {
   "cell_type": "code",
   "execution_count": 6,
   "metadata": {},
   "outputs": [
    {
     "data": {
      "text/plain": [
       "int"
      ]
     },
     "execution_count": 6,
     "metadata": {},
     "output_type": "execute_result"
    }
   ],
   "source": [
    "type(numero)"
   ]
  },
  {
   "cell_type": "code",
   "execution_count": 7,
   "metadata": {},
   "outputs": [
    {
     "name": "stdout",
     "output_type": "stream",
     "text": [
      "Digite un número entero positivo: 10A\n"
     ]
    },
    {
     "ename": "ValueError",
     "evalue": "invalid literal for int() with base 10: '10A'",
     "output_type": "error",
     "traceback": [
      "\u001b[1;31m---------------------------------------------------------------------------\u001b[0m",
      "\u001b[1;31mValueError\u001b[0m                                Traceback (most recent call last)",
      "\u001b[1;32m<ipython-input-7-e456dbd82ccb>\u001b[0m in \u001b[0;36m<module>\u001b[1;34m\u001b[0m\n\u001b[1;32m----> 1\u001b[1;33m \u001b[0mnumero\u001b[0m \u001b[1;33m=\u001b[0m \u001b[0mint\u001b[0m\u001b[1;33m(\u001b[0m\u001b[0minput\u001b[0m\u001b[1;33m(\u001b[0m\u001b[1;34m'Digite un número entero positivo: '\u001b[0m\u001b[1;33m)\u001b[0m\u001b[1;33m)\u001b[0m\u001b[1;33m\u001b[0m\u001b[1;33m\u001b[0m\u001b[0m\n\u001b[0m",
      "\u001b[1;31mValueError\u001b[0m: invalid literal for int() with base 10: '10A'"
     ]
    }
   ],
   "source": [
    "numero = int(input('Digite un número entero positivo: '))"
   ]
  },
  {
   "cell_type": "markdown",
   "metadata": {},
   "source": [
    "El bloque `try...except` nos ayuda a gestionar (tratar/capturar) un error. El programador será capaz de ejecutar una operación ante el problema generado:\n",
    "\n",
    "- Mostrar un mensaje al usuario\n",
    "- Guardar el mensaje en un soporte de almacenamiento (archivo, base de datos, etc.)\n",
    "- Reintentar las operaciones que han generado el error.\n",
    "\n",
    "Las acciones que se tomen frente al error hacen que el software (código) se robusto."
   ]
  },
  {
   "cell_type": "code",
   "execution_count": 8,
   "metadata": {},
   "outputs": [
    {
     "name": "stdout",
     "output_type": "stream",
     "text": [
      "Digite un número entero positivo: 10\n"
     ]
    }
   ],
   "source": [
    "try:\n",
    "    numero = int(input('Digite un número entero positivo: '))\n",
    "except:\n",
    "    print('Debe escribir un valor numérico entero válido.')"
   ]
  },
  {
   "cell_type": "code",
   "execution_count": 9,
   "metadata": {},
   "outputs": [
    {
     "data": {
      "text/plain": [
       "10"
      ]
     },
     "execution_count": 9,
     "metadata": {},
     "output_type": "execute_result"
    }
   ],
   "source": [
    "numero"
   ]
  },
  {
   "cell_type": "code",
   "execution_count": 10,
   "metadata": {},
   "outputs": [
    {
     "data": {
      "text/plain": [
       "int"
      ]
     },
     "execution_count": 10,
     "metadata": {},
     "output_type": "execute_result"
    }
   ],
   "source": [
    "type(numero)"
   ]
  },
  {
   "cell_type": "code",
   "execution_count": 11,
   "metadata": {},
   "outputs": [
    {
     "name": "stdout",
     "output_type": "stream",
     "text": [
      "Digite un número entero positivo: 10A\n",
      "Debe escribir un valor numérico entero válido.\n"
     ]
    }
   ],
   "source": [
    "try:\n",
    "    numero = int(input('Digite un número entero positivo: '))\n",
    "except:\n",
    "    print('Debe escribir un valor numérico entero válido.')"
   ]
  },
  {
   "cell_type": "code",
   "execution_count": 12,
   "metadata": {},
   "outputs": [
    {
     "name": "stdout",
     "output_type": "stream",
     "text": [
      "Digite un número entero positivo: 10\n",
      "Se introdujo el valor 10.\n"
     ]
    }
   ],
   "source": [
    "try:\n",
    "    numero = int(input('Digite un número entero positivo: '))\n",
    "except:\n",
    "    print('Debe escribir un valor numérico entero válido.')\n",
    "\n",
    "print(f'Se introdujo el valor {numero}.')"
   ]
  },
  {
   "cell_type": "code",
   "execution_count": 13,
   "metadata": {},
   "outputs": [
    {
     "name": "stdout",
     "output_type": "stream",
     "text": [
      "Digite un número entero positivo: 10A\n",
      "Debe escribir un valor numérico entero válido.\n",
      "Se introdujo el valor 10.\n"
     ]
    }
   ],
   "source": [
    "try:\n",
    "    numero = int(input('Digite un número entero positivo: '))\n",
    "except:\n",
    "    print('Debe escribir un valor numérico entero válido.')\n",
    "\n",
    "print(f'Se introdujo el valor {numero}.')"
   ]
  },
  {
   "cell_type": "code",
   "execution_count": 14,
   "metadata": {},
   "outputs": [
    {
     "name": "stdout",
     "output_type": "stream",
     "text": [
      "Digite un número entero positivo: 10A\n",
      "Debe escribir un valor numérico entero válido.\n",
      "Se introdujo el valor 0.\n"
     ]
    }
   ],
   "source": [
    "entero = 0\n",
    "\n",
    "try:\n",
    "    entero = int(input('Digite un número entero positivo: '))\n",
    "except:\n",
    "    print('Debe escribir un valor numérico entero válido.')\n",
    "\n",
    "print(f'Se introdujo el valor {entero}.')"
   ]
  }
 ],
 "metadata": {
  "kernelspec": {
   "display_name": "Python 3",
   "language": "python",
   "name": "python3"
  },
  "language_info": {
   "codemirror_mode": {
    "name": "ipython",
    "version": 3
   },
   "file_extension": ".py",
   "mimetype": "text/x-python",
   "name": "python",
   "nbconvert_exporter": "python",
   "pygments_lexer": "ipython3",
   "version": "3.8.3"
  }
 },
 "nbformat": 4,
 "nbformat_minor": 4
}
