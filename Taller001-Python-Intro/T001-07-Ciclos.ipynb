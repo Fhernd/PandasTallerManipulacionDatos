{
 "cells": [
  {
   "cell_type": "markdown",
   "metadata": {},
   "source": [
    "# Ciclos\n",
    "\n",
    "Patrón que permite la ejecución de un conjunto de instrucciones cierta cantidad de veces.\n",
    "\n",
    "Dentro de un ciclo podemos implementar o especificar una cantidad arbitrar de instrucciones (órdenes).\n",
    "\n",
    "En el lenguaje de programación Python existen dos tipos de ciclos:\n",
    "\n",
    "1. `for`\n",
    "2. `while`"
   ]
  },
  {
   "cell_type": "markdown",
   "metadata": {},
   "source": [
    "## Ciclo `for`\n",
    "\n",
    "Permite ejecutar un conjunto de instrucción cierta cantidad arbitraria de veces."
   ]
  },
  {
   "cell_type": "markdown",
   "metadata": {},
   "source": [
    "Impresión de los números de 1 hasta 10 sin usar ciclos:"
   ]
  },
  {
   "cell_type": "code",
   "execution_count": 1,
   "metadata": {},
   "outputs": [
    {
     "name": "stdout",
     "output_type": "stream",
     "text": [
      "1\n"
     ]
    }
   ],
   "source": [
    "print(1)"
   ]
  },
  {
   "cell_type": "code",
   "execution_count": 2,
   "metadata": {},
   "outputs": [
    {
     "name": "stdout",
     "output_type": "stream",
     "text": [
      "2\n"
     ]
    }
   ],
   "source": [
    "print(2)"
   ]
  },
  {
   "cell_type": "code",
   "execution_count": 3,
   "metadata": {},
   "outputs": [
    {
     "name": "stdout",
     "output_type": "stream",
     "text": [
      "3\n"
     ]
    }
   ],
   "source": [
    "print(3)"
   ]
  },
  {
   "cell_type": "code",
   "execution_count": 4,
   "metadata": {},
   "outputs": [],
   "source": [
    "# ..."
   ]
  },
  {
   "cell_type": "code",
   "execution_count": 5,
   "metadata": {},
   "outputs": [
    {
     "name": "stdout",
     "output_type": "stream",
     "text": [
      "9\n"
     ]
    }
   ],
   "source": [
    "print(9)"
   ]
  },
  {
   "cell_type": "code",
   "execution_count": 6,
   "metadata": {},
   "outputs": [
    {
     "name": "stdout",
     "output_type": "stream",
     "text": [
      "10\n"
     ]
    }
   ],
   "source": [
    "print(10)"
   ]
  },
  {
   "cell_type": "markdown",
   "metadata": {},
   "source": [
    "Impresión de los números de 1 hasta 10 usando ciclos:"
   ]
  },
  {
   "cell_type": "code",
   "execution_count": 8,
   "metadata": {},
   "outputs": [
    {
     "name": "stdout",
     "output_type": "stream",
     "text": [
      "1\n",
      "2\n",
      "3\n",
      "4\n",
      "5\n",
      "6\n",
      "7\n",
      "8\n",
      "9\n",
      "10\n"
     ]
    }
   ],
   "source": [
    "for i in range(1, 11):\n",
    "    print(i)"
   ]
  },
  {
   "cell_type": "markdown",
   "metadata": {},
   "source": [
    "Sumar los números de 1 a 10"
   ]
  },
  {
   "cell_type": "code",
   "execution_count": 9,
   "metadata": {},
   "outputs": [
    {
     "data": {
      "text/plain": [
       "55"
      ]
     },
     "execution_count": 9,
     "metadata": {},
     "output_type": "execute_result"
    }
   ],
   "source": [
    "1 + 2 + 3 + 4 + 5 + 6 + 7 + 8 + 9 + 10"
   ]
  },
  {
   "cell_type": "markdown",
   "metadata": {},
   "source": [
    "$\\frac{n(n+1)}{2}$"
   ]
  },
  {
   "cell_type": "code",
   "execution_count": 10,
   "metadata": {},
   "outputs": [],
   "source": [
    "n = 10"
   ]
  },
  {
   "cell_type": "code",
   "execution_count": 11,
   "metadata": {},
   "outputs": [
    {
     "data": {
      "text/plain": [
       "55.0"
      ]
     },
     "execution_count": 11,
     "metadata": {},
     "output_type": "execute_result"
    }
   ],
   "source": [
    "n*(n + 1) / 2"
   ]
  },
  {
   "cell_type": "code",
   "execution_count": 13,
   "metadata": {},
   "outputs": [
    {
     "data": {
      "text/plain": [
       "55"
      ]
     },
     "execution_count": 13,
     "metadata": {},
     "output_type": "execute_result"
    }
   ],
   "source": [
    "suma = 0\n",
    "\n",
    "for i in range(1, 11):\n",
    "    suma += i # suma = suma + i\n",
    "\n",
    "suma"
   ]
  },
  {
   "cell_type": "code",
   "execution_count": 14,
   "metadata": {},
   "outputs": [
    {
     "data": {
      "text/plain": [
       "5050"
      ]
     },
     "execution_count": 14,
     "metadata": {},
     "output_type": "execute_result"
    }
   ],
   "source": [
    "suma = 0\n",
    "\n",
    "for i in range(1, 101):\n",
    "    suma += i # suma = suma + i\n",
    "\n",
    "suma"
   ]
  },
  {
   "cell_type": "code",
   "execution_count": 15,
   "metadata": {},
   "outputs": [],
   "source": [
    "# 1 + 2 + 3 + 4 + 5 + ... + 97 + 98 + 99 + 100"
   ]
  },
  {
   "cell_type": "markdown",
   "metadata": {},
   "source": [
    "Sumar los números pares de 0 hasta 100:"
   ]
  },
  {
   "cell_type": "code",
   "execution_count": 16,
   "metadata": {},
   "outputs": [
    {
     "data": {
      "text/plain": [
       "2550"
      ]
     },
     "execution_count": 16,
     "metadata": {},
     "output_type": "execute_result"
    }
   ],
   "source": [
    "suma_pares = 0\n",
    "\n",
    "for i in range(0, 101, 2):\n",
    "    suma_pares += i\n",
    "\n",
    "suma_pares"
   ]
  },
  {
   "cell_type": "markdown",
   "metadata": {},
   "source": [
    "Calcular el producto de los números de 1 hasta 10:"
   ]
  },
  {
   "cell_type": "code",
   "execution_count": 17,
   "metadata": {},
   "outputs": [],
   "source": [
    "# 1 * 2 * 3 * ... * 9 * 10"
   ]
  },
  {
   "cell_type": "code",
   "execution_count": 19,
   "metadata": {},
   "outputs": [
    {
     "data": {
      "text/plain": [
       "3628800"
      ]
     },
     "execution_count": 19,
     "metadata": {},
     "output_type": "execute_result"
    }
   ],
   "source": [
    "producto = 1\n",
    "\n",
    "for i in range(1, 11):\n",
    "    producto = producto * i # producto *= i\n",
    "\n",
    "producto"
   ]
  },
  {
   "cell_type": "markdown",
   "metadata": {},
   "source": [
    "Nota: Este proceso que acabamos de realizar se le conoce como productoria."
   ]
  },
  {
   "cell_type": "markdown",
   "metadata": {},
   "source": [
    "$n!$"
   ]
  },
  {
   "cell_type": "code",
   "execution_count": 20,
   "metadata": {},
   "outputs": [],
   "source": [
    "from math import factorial"
   ]
  },
  {
   "cell_type": "code",
   "execution_count": 21,
   "metadata": {},
   "outputs": [
    {
     "data": {
      "text/plain": [
       "3628800"
      ]
     },
     "execution_count": 21,
     "metadata": {},
     "output_type": "execute_result"
    }
   ],
   "source": [
    "factorial(10)"
   ]
  },
  {
   "cell_type": "markdown",
   "metadata": {},
   "source": [
    "## 1.2 Recorrer una lista con un ciclo `for`"
   ]
  },
  {
   "cell_type": "code",
   "execution_count": 22,
   "metadata": {},
   "outputs": [
    {
     "data": {
      "text/plain": [
       "[2, 3, 5, 7, 11, 13]"
      ]
     },
     "execution_count": 22,
     "metadata": {},
     "output_type": "execute_result"
    }
   ],
   "source": [
    "numeros = [2, 3, 5, 7, 11, 13]\n",
    "\n",
    "numeros"
   ]
  },
  {
   "cell_type": "code",
   "execution_count": 23,
   "metadata": {},
   "outputs": [
    {
     "data": {
      "text/plain": [
       "6"
      ]
     },
     "execution_count": 23,
     "metadata": {},
     "output_type": "execute_result"
    }
   ],
   "source": [
    "len(numeros)"
   ]
  },
  {
   "cell_type": "code",
   "execution_count": 25,
   "metadata": {},
   "outputs": [
    {
     "name": "stdout",
     "output_type": "stream",
     "text": [
      "2\n",
      "3\n",
      "5\n",
      "7\n",
      "11\n",
      "13\n"
     ]
    }
   ],
   "source": [
    "for n in numeros:\n",
    "    print(n)"
   ]
  },
  {
   "cell_type": "markdown",
   "metadata": {},
   "source": [
    "Iteración de una lista indicando una variable de iteración por índices:"
   ]
  },
  {
   "cell_type": "code",
   "execution_count": 27,
   "metadata": {},
   "outputs": [
    {
     "name": "stdout",
     "output_type": "stream",
     "text": [
      "En el índice 0 se encuentra el valor 2\n",
      "En el índice 1 se encuentra el valor 3\n",
      "En el índice 2 se encuentra el valor 5\n",
      "En el índice 3 se encuentra el valor 7\n",
      "En el índice 4 se encuentra el valor 11\n",
      "En el índice 5 se encuentra el valor 13\n"
     ]
    }
   ],
   "source": [
    "for i in range(len(numeros)):\n",
    "    print(f'En el índice {i} se encuentra el valor {numeros[i]}')"
   ]
  },
  {
   "cell_type": "markdown",
   "metadata": {},
   "source": [
    "Para obtener el índice y el valor de una lista en un ciclo `for` utilizamos la función `enumerate()`:\n"
   ]
  },
  {
   "cell_type": "code",
   "execution_count": 28,
   "metadata": {},
   "outputs": [
    {
     "name": "stdout",
     "output_type": "stream",
     "text": [
      "En el índice 0 se encuentra el valor 2\n",
      "En el índice 1 se encuentra el valor 3\n",
      "En el índice 2 se encuentra el valor 5\n",
      "En el índice 3 se encuentra el valor 7\n",
      "En el índice 4 se encuentra el valor 11\n",
      "En el índice 5 se encuentra el valor 13\n"
     ]
    }
   ],
   "source": [
    "for i, n in enumerate(numeros):\n",
    "    print(f'En el índice {i} se encuentra el valor {n}')"
   ]
  },
  {
   "cell_type": "markdown",
   "metadata": {},
   "source": [
    "Sumar el conjunto de valores de una lista:"
   ]
  },
  {
   "cell_type": "code",
   "execution_count": 29,
   "metadata": {},
   "outputs": [
    {
     "data": {
      "text/plain": [
       "41"
      ]
     },
     "execution_count": 29,
     "metadata": {},
     "output_type": "execute_result"
    }
   ],
   "source": [
    "suma = 0\n",
    "\n",
    "for n in numeros:\n",
    "    suma += n\n",
    "\n",
    "suma"
   ]
  },
  {
   "cell_type": "markdown",
   "metadata": {},
   "source": [
    "Por medio de la función `sum()` podemos sumar los valores que contiene una lista o una tupla."
   ]
  },
  {
   "cell_type": "code",
   "execution_count": 30,
   "metadata": {},
   "outputs": [
    {
     "data": {
      "text/plain": [
       "41"
      ]
     },
     "execution_count": 30,
     "metadata": {},
     "output_type": "execute_result"
    }
   ],
   "source": [
    "suma = sum(numeros)\n",
    "\n",
    "suma"
   ]
  },
  {
   "cell_type": "markdown",
   "metadata": {},
   "source": [
    "Sumar únicamente los valores que están en posiciones (índices) impares:"
   ]
  },
  {
   "cell_type": "code",
   "execution_count": 31,
   "metadata": {},
   "outputs": [
    {
     "data": {
      "text/plain": [
       "[2, 3, 5, 7, 11, 13]"
      ]
     },
     "execution_count": 31,
     "metadata": {},
     "output_type": "execute_result"
    }
   ],
   "source": [
    "numeros"
   ]
  },
  {
   "cell_type": "code",
   "execution_count": 32,
   "metadata": {},
   "outputs": [
    {
     "data": {
      "text/plain": [
       "23"
      ]
     },
     "execution_count": 32,
     "metadata": {},
     "output_type": "execute_result"
    }
   ],
   "source": [
    "suma = 0\n",
    "\n",
    "for i in range(1, len(numeros), 2):\n",
    "    suma += numeros[i]\n",
    "\n",
    "suma"
   ]
  },
  {
   "cell_type": "markdown",
   "metadata": {},
   "source": [
    "Sumar sólo los valores que están en posiciones pares:"
   ]
  },
  {
   "cell_type": "code",
   "execution_count": 33,
   "metadata": {},
   "outputs": [
    {
     "data": {
      "text/plain": [
       "18"
      ]
     },
     "execution_count": 33,
     "metadata": {},
     "output_type": "execute_result"
    }
   ],
   "source": [
    "suma = 0\n",
    "\n",
    "for i in range(0, len(numeros), 2):\n",
    "    suma += numeros[i]\n",
    "\n",
    "suma"
   ]
  },
  {
   "cell_type": "code",
   "execution_count": 34,
   "metadata": {},
   "outputs": [
    {
     "data": {
      "text/plain": [
       "18"
      ]
     },
     "execution_count": 34,
     "metadata": {},
     "output_type": "execute_result"
    }
   ],
   "source": [
    "suma = 0\n",
    "\n",
    "for i in range(0, len(numeros)):\n",
    "    if i % 2 == 0:\n",
    "        suma += numeros[i]\n",
    "\n",
    "suma"
   ]
  },
  {
   "cell_type": "code",
   "execution_count": 35,
   "metadata": {},
   "outputs": [
    {
     "data": {
      "text/plain": [
       "23"
      ]
     },
     "execution_count": 35,
     "metadata": {},
     "output_type": "execute_result"
    }
   ],
   "source": [
    "suma = 0\n",
    "\n",
    "for i in range(0, len(numeros)):\n",
    "    if i % 2 == 1:\n",
    "        suma += numeros[i]\n",
    "\n",
    "suma"
   ]
  },
  {
   "cell_type": "markdown",
   "metadata": {},
   "source": [
    "## 1.3 Recorrer una tupla utilizando un ciclo `for`"
   ]
  },
  {
   "cell_type": "code",
   "execution_count": 36,
   "metadata": {},
   "outputs": [
    {
     "data": {
      "text/plain": [
       "('Perro', 'Gato', 'Ardilla', 'Búho', 'Águila', 'Cástor', 'Rata', 'Saltamontes')"
      ]
     },
     "execution_count": 36,
     "metadata": {},
     "output_type": "execute_result"
    }
   ],
   "source": [
    "animales = ('Perro', 'Gato', 'Ardilla', 'Búho', 'Águila', 'Cástor', 'Rata', 'Saltamontes')\n",
    "\n",
    "animales"
   ]
  },
  {
   "cell_type": "code",
   "execution_count": 37,
   "metadata": {},
   "outputs": [
    {
     "data": {
      "text/plain": [
       "8"
      ]
     },
     "execution_count": 37,
     "metadata": {},
     "output_type": "execute_result"
    }
   ],
   "source": [
    "len(animales)"
   ]
  },
  {
   "cell_type": "markdown",
   "metadata": {},
   "source": [
    "Iteración por índices de la tupla `animales`:"
   ]
  },
  {
   "cell_type": "code",
   "execution_count": 38,
   "metadata": {},
   "outputs": [
    {
     "name": "stdout",
     "output_type": "stream",
     "text": [
      "Perro\n",
      "Gato\n",
      "Ardilla\n",
      "Búho\n",
      "Águila\n",
      "Cástor\n",
      "Rata\n",
      "Saltamontes\n"
     ]
    }
   ],
   "source": [
    "for i in range(len(animales)):\n",
    "    print(animales[i])"
   ]
  },
  {
   "cell_type": "code",
   "execution_count": 39,
   "metadata": {},
   "outputs": [
    {
     "name": "stdout",
     "output_type": "stream",
     "text": [
      "En el índice 0 se encuentra el elemento Perro.\n",
      "En el índice 1 se encuentra el elemento Gato.\n",
      "En el índice 2 se encuentra el elemento Ardilla.\n",
      "En el índice 3 se encuentra el elemento Búho.\n",
      "En el índice 4 se encuentra el elemento Águila.\n",
      "En el índice 5 se encuentra el elemento Cástor.\n",
      "En el índice 6 se encuentra el elemento Rata.\n",
      "En el índice 7 se encuentra el elemento Saltamontes.\n"
     ]
    }
   ],
   "source": [
    "for i in range(len(animales)):\n",
    "    print(f'En el índice {i} se encuentra el elemento {animales[i]}.')"
   ]
  },
  {
   "cell_type": "markdown",
   "metadata": {},
   "source": [
    "Iteración por los elementos de la tupla `animales`:"
   ]
  },
  {
   "cell_type": "code",
   "execution_count": 40,
   "metadata": {},
   "outputs": [
    {
     "name": "stdout",
     "output_type": "stream",
     "text": [
      "Perro\n",
      "Gato\n",
      "Ardilla\n",
      "Búho\n",
      "Águila\n",
      "Cástor\n",
      "Rata\n",
      "Saltamontes\n"
     ]
    }
   ],
   "source": [
    "for a in animales:\n",
    "    print(a)"
   ]
  },
  {
   "cell_type": "code",
   "execution_count": 41,
   "metadata": {},
   "outputs": [
    {
     "name": "stdout",
     "output_type": "stream",
     "text": [
      "0 Perro\n",
      "1 Gato\n",
      "2 Ardilla\n",
      "3 Búho\n",
      "4 Águila\n",
      "5 Cástor\n",
      "6 Rata\n",
      "7 Saltamontes\n"
     ]
    }
   ],
   "source": [
    "for i, a in enumerate(animales):\n",
    "    print(i, a)"
   ]
  },
  {
   "cell_type": "code",
   "execution_count": 42,
   "metadata": {},
   "outputs": [
    {
     "name": "stdout",
     "output_type": "stream",
     "text": [
      "En el índice 0 se encuentra el elemento Perro.\n",
      "En el índice 1 se encuentra el elemento Gato.\n",
      "En el índice 2 se encuentra el elemento Ardilla.\n",
      "En el índice 3 se encuentra el elemento Búho.\n",
      "En el índice 4 se encuentra el elemento Águila.\n",
      "En el índice 5 se encuentra el elemento Cástor.\n",
      "En el índice 6 se encuentra el elemento Rata.\n",
      "En el índice 7 se encuentra el elemento Saltamontes.\n"
     ]
    }
   ],
   "source": [
    "for i, a in enumerate(animales):\n",
    "    print(f'En el índice {i} se encuentra el elemento {animales[i]}.')"
   ]
  },
  {
   "cell_type": "code",
   "execution_count": 43,
   "metadata": {},
   "outputs": [
    {
     "name": "stdout",
     "output_type": "stream",
     "text": [
      "En el índice 0 se encuentra el elemento Perro.\n",
      "En el índice 1 se encuentra el elemento Gato.\n",
      "En el índice 2 se encuentra el elemento Ardilla.\n",
      "En el índice 3 se encuentra el elemento Búho.\n",
      "En el índice 4 se encuentra el elemento Águila.\n",
      "En el índice 5 se encuentra el elemento Cástor.\n",
      "En el índice 6 se encuentra el elemento Rata.\n",
      "En el índice 7 se encuentra el elemento Saltamontes.\n"
     ]
    }
   ],
   "source": [
    "for i, a in enumerate(animales):\n",
    "    print(f'En el índice {i} se encuentra el elemento {a}.')"
   ]
  },
  {
   "cell_type": "markdown",
   "metadata": {},
   "source": [
    "## 1.4 Iteración de una cadena de caracteres (`str`)"
   ]
  },
  {
   "cell_type": "code",
   "execution_count": 44,
   "metadata": {},
   "outputs": [
    {
     "data": {
      "text/plain": [
       "'Python es un lenguaje de programación.'"
      ]
     },
     "execution_count": 44,
     "metadata": {},
     "output_type": "execute_result"
    }
   ],
   "source": [
    "frase = 'Python es un lenguaje de programación.'\n",
    "\n",
    "frase"
   ]
  },
  {
   "cell_type": "code",
   "execution_count": 45,
   "metadata": {},
   "outputs": [
    {
     "data": {
      "text/plain": [
       "38"
      ]
     },
     "execution_count": 45,
     "metadata": {},
     "output_type": "execute_result"
    }
   ],
   "source": [
    "len(frase)"
   ]
  },
  {
   "cell_type": "markdown",
   "metadata": {},
   "source": [
    "Iteración de uan cadena de caracteres utilizando un índice:"
   ]
  },
  {
   "cell_type": "code",
   "execution_count": 46,
   "metadata": {},
   "outputs": [
    {
     "name": "stdout",
     "output_type": "stream",
     "text": [
      "P\n",
      "y\n",
      "t\n",
      "h\n",
      "o\n",
      "n\n",
      " \n",
      "e\n",
      "s\n",
      " \n",
      "u\n",
      "n\n",
      " \n",
      "l\n",
      "e\n",
      "n\n",
      "g\n",
      "u\n",
      "a\n",
      "j\n",
      "e\n",
      " \n",
      "d\n",
      "e\n",
      " \n",
      "p\n",
      "r\n",
      "o\n",
      "g\n",
      "r\n",
      "a\n",
      "m\n",
      "a\n",
      "c\n",
      "i\n",
      "ó\n",
      "n\n",
      ".\n"
     ]
    }
   ],
   "source": [
    "for i in range(len(frase)):\n",
    "    print(frase[i])"
   ]
  },
  {
   "cell_type": "code",
   "execution_count": 47,
   "metadata": {},
   "outputs": [
    {
     "name": "stdout",
     "output_type": "stream",
     "text": [
      "En el índice 0 se halla el carácter P.\n",
      "En el índice 1 se halla el carácter y.\n",
      "En el índice 2 se halla el carácter t.\n",
      "En el índice 3 se halla el carácter h.\n",
      "En el índice 4 se halla el carácter o.\n",
      "En el índice 5 se halla el carácter n.\n",
      "En el índice 6 se halla el carácter  .\n",
      "En el índice 7 se halla el carácter e.\n",
      "En el índice 8 se halla el carácter s.\n",
      "En el índice 9 se halla el carácter  .\n",
      "En el índice 10 se halla el carácter u.\n",
      "En el índice 11 se halla el carácter n.\n",
      "En el índice 12 se halla el carácter  .\n",
      "En el índice 13 se halla el carácter l.\n",
      "En el índice 14 se halla el carácter e.\n",
      "En el índice 15 se halla el carácter n.\n",
      "En el índice 16 se halla el carácter g.\n",
      "En el índice 17 se halla el carácter u.\n",
      "En el índice 18 se halla el carácter a.\n",
      "En el índice 19 se halla el carácter j.\n",
      "En el índice 20 se halla el carácter e.\n",
      "En el índice 21 se halla el carácter  .\n",
      "En el índice 22 se halla el carácter d.\n",
      "En el índice 23 se halla el carácter e.\n",
      "En el índice 24 se halla el carácter  .\n",
      "En el índice 25 se halla el carácter p.\n",
      "En el índice 26 se halla el carácter r.\n",
      "En el índice 27 se halla el carácter o.\n",
      "En el índice 28 se halla el carácter g.\n",
      "En el índice 29 se halla el carácter r.\n",
      "En el índice 30 se halla el carácter a.\n",
      "En el índice 31 se halla el carácter m.\n",
      "En el índice 32 se halla el carácter a.\n",
      "En el índice 33 se halla el carácter c.\n",
      "En el índice 34 se halla el carácter i.\n",
      "En el índice 35 se halla el carácter ó.\n",
      "En el índice 36 se halla el carácter n.\n",
      "En el índice 37 se halla el carácter ..\n"
     ]
    }
   ],
   "source": [
    "for i in range(len(frase)):\n",
    "    print(f'En el índice {i} se halla el carácter {frase[i]}.')"
   ]
  },
  {
   "cell_type": "markdown",
   "metadata": {},
   "source": [
    "Iteración de una cadena de caracteres con el esquema *por cada elemento* (*foreach*):"
   ]
  },
  {
   "cell_type": "code",
   "execution_count": 48,
   "metadata": {},
   "outputs": [
    {
     "name": "stdout",
     "output_type": "stream",
     "text": [
      "P\n",
      "y\n",
      "t\n",
      "h\n",
      "o\n",
      "n\n",
      " \n",
      "e\n",
      "s\n",
      " \n",
      "u\n",
      "n\n",
      " \n",
      "l\n",
      "e\n",
      "n\n",
      "g\n",
      "u\n",
      "a\n",
      "j\n",
      "e\n",
      " \n",
      "d\n",
      "e\n",
      " \n",
      "p\n",
      "r\n",
      "o\n",
      "g\n",
      "r\n",
      "a\n",
      "m\n",
      "a\n",
      "c\n",
      "i\n",
      "ó\n",
      "n\n",
      ".\n"
     ]
    }
   ],
   "source": [
    "for c in frase:\n",
    "    print(c)"
   ]
  },
  {
   "cell_type": "markdown",
   "metadata": {},
   "source": [
    "Podemos utilizar la función **enumerate()** para iterar por índices y caracteres:"
   ]
  },
  {
   "cell_type": "code",
   "execution_count": 50,
   "metadata": {},
   "outputs": [
    {
     "name": "stdout",
     "output_type": "stream",
     "text": [
      "En el índice 0 se encuentra el carácter P\n",
      "En el índice 1 se encuentra el carácter y\n",
      "En el índice 2 se encuentra el carácter t\n",
      "En el índice 3 se encuentra el carácter h\n",
      "En el índice 4 se encuentra el carácter o\n",
      "En el índice 5 se encuentra el carácter n\n",
      "En el índice 6 se encuentra el carácter  \n",
      "En el índice 7 se encuentra el carácter e\n",
      "En el índice 8 se encuentra el carácter s\n",
      "En el índice 9 se encuentra el carácter  \n",
      "En el índice 10 se encuentra el carácter u\n",
      "En el índice 11 se encuentra el carácter n\n",
      "En el índice 12 se encuentra el carácter  \n",
      "En el índice 13 se encuentra el carácter l\n",
      "En el índice 14 se encuentra el carácter e\n",
      "En el índice 15 se encuentra el carácter n\n",
      "En el índice 16 se encuentra el carácter g\n",
      "En el índice 17 se encuentra el carácter u\n",
      "En el índice 18 se encuentra el carácter a\n",
      "En el índice 19 se encuentra el carácter j\n",
      "En el índice 20 se encuentra el carácter e\n",
      "En el índice 21 se encuentra el carácter  \n",
      "En el índice 22 se encuentra el carácter d\n",
      "En el índice 23 se encuentra el carácter e\n",
      "En el índice 24 se encuentra el carácter  \n",
      "En el índice 25 se encuentra el carácter p\n",
      "En el índice 26 se encuentra el carácter r\n",
      "En el índice 27 se encuentra el carácter o\n",
      "En el índice 28 se encuentra el carácter g\n",
      "En el índice 29 se encuentra el carácter r\n",
      "En el índice 30 se encuentra el carácter a\n",
      "En el índice 31 se encuentra el carácter m\n",
      "En el índice 32 se encuentra el carácter a\n",
      "En el índice 33 se encuentra el carácter c\n",
      "En el índice 34 se encuentra el carácter i\n",
      "En el índice 35 se encuentra el carácter ó\n",
      "En el índice 36 se encuentra el carácter n\n",
      "En el índice 37 se encuentra el carácter .\n"
     ]
    }
   ],
   "source": [
    "for i, c in enumerate(frase):\n",
    "    print(f'En el índice {i} se encuentra el carácter {frase[i]}')"
   ]
  },
  {
   "cell_type": "code",
   "execution_count": 51,
   "metadata": {},
   "outputs": [
    {
     "name": "stdout",
     "output_type": "stream",
     "text": [
      "En el índice 0 se encuentra el carácter P\n",
      "En el índice 1 se encuentra el carácter y\n",
      "En el índice 2 se encuentra el carácter t\n",
      "En el índice 3 se encuentra el carácter h\n",
      "En el índice 4 se encuentra el carácter o\n",
      "En el índice 5 se encuentra el carácter n\n",
      "En el índice 6 se encuentra el carácter  \n",
      "En el índice 7 se encuentra el carácter e\n",
      "En el índice 8 se encuentra el carácter s\n",
      "En el índice 9 se encuentra el carácter  \n",
      "En el índice 10 se encuentra el carácter u\n",
      "En el índice 11 se encuentra el carácter n\n",
      "En el índice 12 se encuentra el carácter  \n",
      "En el índice 13 se encuentra el carácter l\n",
      "En el índice 14 se encuentra el carácter e\n",
      "En el índice 15 se encuentra el carácter n\n",
      "En el índice 16 se encuentra el carácter g\n",
      "En el índice 17 se encuentra el carácter u\n",
      "En el índice 18 se encuentra el carácter a\n",
      "En el índice 19 se encuentra el carácter j\n",
      "En el índice 20 se encuentra el carácter e\n",
      "En el índice 21 se encuentra el carácter  \n",
      "En el índice 22 se encuentra el carácter d\n",
      "En el índice 23 se encuentra el carácter e\n",
      "En el índice 24 se encuentra el carácter  \n",
      "En el índice 25 se encuentra el carácter p\n",
      "En el índice 26 se encuentra el carácter r\n",
      "En el índice 27 se encuentra el carácter o\n",
      "En el índice 28 se encuentra el carácter g\n",
      "En el índice 29 se encuentra el carácter r\n",
      "En el índice 30 se encuentra el carácter a\n",
      "En el índice 31 se encuentra el carácter m\n",
      "En el índice 32 se encuentra el carácter a\n",
      "En el índice 33 se encuentra el carácter c\n",
      "En el índice 34 se encuentra el carácter i\n",
      "En el índice 35 se encuentra el carácter ó\n",
      "En el índice 36 se encuentra el carácter n\n",
      "En el índice 37 se encuentra el carácter .\n"
     ]
    }
   ],
   "source": [
    "for i, c in enumerate(frase):\n",
    "    print(f'En el índice {i} se encuentra el carácter {c}')"
   ]
  },
  {
   "cell_type": "markdown",
   "metadata": {},
   "source": [
    "¿Cómo podemos invertir el contenido de una cadena de caracteres?"
   ]
  },
  {
   "cell_type": "code",
   "execution_count": 52,
   "metadata": {},
   "outputs": [
    {
     "data": {
      "text/plain": [
       "'Python es un lenguaje de programación.'"
      ]
     },
     "execution_count": 52,
     "metadata": {},
     "output_type": "execute_result"
    }
   ],
   "source": [
    "frase"
   ]
  },
  {
   "cell_type": "code",
   "execution_count": 56,
   "metadata": {},
   "outputs": [
    {
     "name": "stdout",
     "output_type": "stream",
     "text": [
      ".nóicamargorp ed ejaugnel nu se nohtyP"
     ]
    }
   ],
   "source": [
    "for i in range(len(frase) - 1, -1, -1):\n",
    "    print(frase[i], end='')"
   ]
  },
  {
   "cell_type": "markdown",
   "metadata": {},
   "source": [
    "Sin embargo, existe un atajo para realizar la misma operación:"
   ]
  },
  {
   "cell_type": "code",
   "execution_count": 58,
   "metadata": {},
   "outputs": [],
   "source": [
    "frase_invertida = frase[::-1]"
   ]
  },
  {
   "cell_type": "code",
   "execution_count": 59,
   "metadata": {},
   "outputs": [
    {
     "data": {
      "text/plain": [
       "'.nóicamargorp ed ejaugnel nu se nohtyP'"
      ]
     },
     "execution_count": 59,
     "metadata": {},
     "output_type": "execute_result"
    }
   ],
   "source": [
    "frase_invertida"
   ]
  },
  {
   "cell_type": "markdown",
   "metadata": {},
   "source": [
    "## 1.5 Iteración de diccionarios con un ciclo `for`:"
   ]
  },
  {
   "cell_type": "code",
   "execution_count": 69,
   "metadata": {},
   "outputs": [
    {
     "data": {
      "text/plain": [
       "{1001: 'Monitor gamer',\n",
       " 1002: 'Teclado retroiluminado',\n",
       " 1003: 'Deademas',\n",
       " 1004: 'Portátil MSi',\n",
       " 1005: 'Lector libros electrónicos'}"
      ]
     },
     "execution_count": 69,
     "metadata": {},
     "output_type": "execute_result"
    }
   ],
   "source": [
    "productos = {\n",
    "    1001: 'Monitor gamer',\n",
    "    1002: 'Teclado retroiluminado',\n",
    "    1003: 'Deademas',\n",
    "    1004: 'Portátil MSi',\n",
    "    1005: 'Lector libros electrónicos'\n",
    "}\n",
    "\n",
    "productos"
   ]
  },
  {
   "cell_type": "code",
   "execution_count": 70,
   "metadata": {},
   "outputs": [
    {
     "data": {
      "text/plain": [
       "5"
      ]
     },
     "execution_count": 70,
     "metadata": {},
     "output_type": "execute_result"
    }
   ],
   "source": [
    "len(productos)"
   ]
  },
  {
   "cell_type": "code",
   "execution_count": 71,
   "metadata": {},
   "outputs": [
    {
     "data": {
      "text/plain": [
       "dict_keys([1001, 1002, 1003, 1004, 1005])"
      ]
     },
     "execution_count": 71,
     "metadata": {},
     "output_type": "execute_result"
    }
   ],
   "source": [
    "productos.keys()"
   ]
  },
  {
   "cell_type": "code",
   "execution_count": 72,
   "metadata": {},
   "outputs": [
    {
     "data": {
      "text/plain": [
       "dict_values(['Monitor gamer', 'Teclado retroiluminado', 'Deademas', 'Portátil MSi', 'Lector libros electrónicos'])"
      ]
     },
     "execution_count": 72,
     "metadata": {},
     "output_type": "execute_result"
    }
   ],
   "source": [
    "productos.values()"
   ]
  },
  {
   "cell_type": "code",
   "execution_count": 73,
   "metadata": {},
   "outputs": [
    {
     "data": {
      "text/plain": [
       "dict_items([(1001, 'Monitor gamer'), (1002, 'Teclado retroiluminado'), (1003, 'Deademas'), (1004, 'Portátil MSi'), (1005, 'Lector libros electrónicos')])"
      ]
     },
     "execution_count": 73,
     "metadata": {},
     "output_type": "execute_result"
    }
   ],
   "source": [
    "productos.items()"
   ]
  },
  {
   "cell_type": "markdown",
   "metadata": {},
   "source": [
    "Iterar cada una de las llaves de un diccionario:"
   ]
  },
  {
   "cell_type": "code",
   "execution_count": 74,
   "metadata": {},
   "outputs": [
    {
     "name": "stdout",
     "output_type": "stream",
     "text": [
      "1001\n",
      "1002\n",
      "1003\n",
      "1004\n",
      "1005\n"
     ]
    }
   ],
   "source": [
    "for k in productos.keys():\n",
    "    print(k)"
   ]
  },
  {
   "cell_type": "code",
   "execution_count": 75,
   "metadata": {},
   "outputs": [
    {
     "name": "stdout",
     "output_type": "stream",
     "text": [
      "La llave 1001 tiene asociado el nombre de producto Monitor gamer.\n",
      "La llave 1002 tiene asociado el nombre de producto Teclado retroiluminado.\n",
      "La llave 1003 tiene asociado el nombre de producto Deademas.\n",
      "La llave 1004 tiene asociado el nombre de producto Portátil MSi.\n",
      "La llave 1005 tiene asociado el nombre de producto Lector libros electrónicos.\n"
     ]
    }
   ],
   "source": [
    "for k in productos.keys():\n",
    "    print(f'La llave {k} tiene asociado el nombre de producto {productos[k]}.')"
   ]
  },
  {
   "cell_type": "markdown",
   "metadata": {},
   "source": [
    "Iterar cada una de los valores de un diccionario:"
   ]
  },
  {
   "cell_type": "code",
   "execution_count": 76,
   "metadata": {},
   "outputs": [
    {
     "name": "stdout",
     "output_type": "stream",
     "text": [
      "Monitor gamer\n",
      "Teclado retroiluminado\n",
      "Deademas\n",
      "Portátil MSi\n",
      "Lector libros electrónicos\n"
     ]
    }
   ],
   "source": [
    "for v in productos.values():\n",
    "    print(v)"
   ]
  },
  {
   "cell_type": "markdown",
   "metadata": {},
   "source": [
    "Iterar las llaves y los valores de un diccionario con el método `items()`:"
   ]
  },
  {
   "cell_type": "code",
   "execution_count": 77,
   "metadata": {},
   "outputs": [
    {
     "name": "stdout",
     "output_type": "stream",
     "text": [
      "1001 Monitor gamer\n",
      "1002 Teclado retroiluminado\n",
      "1003 Deademas\n",
      "1004 Portátil MSi\n",
      "1005 Lector libros electrónicos\n"
     ]
    }
   ],
   "source": [
    "for k, v in productos.items():\n",
    "    print(k, v)"
   ]
  },
  {
   "cell_type": "code",
   "execution_count": 79,
   "metadata": {},
   "outputs": [
    {
     "name": "stdout",
     "output_type": "stream",
     "text": [
      "La llave 1001 tiene asociado el nombre de producto Monitor gamer.\n",
      "La llave 1002 tiene asociado el nombre de producto Teclado retroiluminado.\n",
      "La llave 1003 tiene asociado el nombre de producto Deademas.\n",
      "La llave 1004 tiene asociado el nombre de producto Portátil MSi.\n",
      "La llave 1005 tiene asociado el nombre de producto Lector libros electrónicos.\n"
     ]
    }
   ],
   "source": [
    "for k, v in productos.items():\n",
    "    print(f'La llave {k} tiene asociado el nombre de producto {productos[k]}.')"
   ]
  },
  {
   "cell_type": "code",
   "execution_count": 80,
   "metadata": {},
   "outputs": [
    {
     "name": "stdout",
     "output_type": "stream",
     "text": [
      "La llave 1001 tiene asociado el nombre de producto Monitor gamer.\n",
      "La llave 1002 tiene asociado el nombre de producto Teclado retroiluminado.\n",
      "La llave 1003 tiene asociado el nombre de producto Deademas.\n",
      "La llave 1004 tiene asociado el nombre de producto Portátil MSi.\n",
      "La llave 1005 tiene asociado el nombre de producto Lector libros electrónicos.\n"
     ]
    }
   ],
   "source": [
    "for k, v in productos.items():\n",
    "    print(f'La llave {k} tiene asociado el nombre de producto {v}.')"
   ]
  },
  {
   "cell_type": "markdown",
   "metadata": {},
   "source": [
    "## 1.6 Uso de los elementos `break` y `continue`"
   ]
  },
  {
   "cell_type": "markdown",
   "metadata": {},
   "source": [
    "`break` sirve para detener la ejecución/iteración de un ciclo for."
   ]
  },
  {
   "cell_type": "code",
   "execution_count": 81,
   "metadata": {},
   "outputs": [
    {
     "data": {
      "text/plain": [
       "[3, 7, 5, 11, 2, 13, 19, 17]"
      ]
     },
     "execution_count": 81,
     "metadata": {},
     "output_type": "execute_result"
    }
   ],
   "source": [
    "numeros = [3, 7, 5, 11, 2, 13, 19, 17]\n",
    "\n",
    "numeros"
   ]
  },
  {
   "cell_type": "code",
   "execution_count": 82,
   "metadata": {},
   "outputs": [
    {
     "name": "stdout",
     "output_type": "stream",
     "text": [
      "3\n",
      "7\n",
      "5\n",
      "11\n"
     ]
    }
   ],
   "source": [
    "for n in numeros:\n",
    "    if n % 2 == 1:\n",
    "        print(n)\n",
    "    else:\n",
    "        break"
   ]
  },
  {
   "cell_type": "code",
   "execution_count": 83,
   "metadata": {},
   "outputs": [
    {
     "name": "stdout",
     "output_type": "stream",
     "text": [
      "3\n",
      "7\n",
      "5\n",
      "11\n"
     ]
    }
   ],
   "source": [
    "for i in range(len(numeros)):\n",
    "    if numeros[i] % 2 == 1:\n",
    "        print(numeros[i])\n",
    "    else:\n",
    "        break"
   ]
  },
  {
   "cell_type": "code",
   "execution_count": 84,
   "metadata": {},
   "outputs": [
    {
     "name": "stdout",
     "output_type": "stream",
     "text": [
      "3\n",
      "7\n",
      "5\n",
      "11\n"
     ]
    }
   ],
   "source": [
    "for i in range(len(numeros)):\n",
    "    if numeros[i] % 2 == 0:\n",
    "        break\n",
    "        \n",
    "    print(numeros[i])\n"
   ]
  },
  {
   "cell_type": "markdown",
   "metadata": {},
   "source": [
    "La cláusula `continue` sirve para especificar que un ciclo `for` debe continuar con la siguiente iteración y omitir el resto de instruciones que se encuentran por delante de la línea donde se halla la cláusula `continue`."
   ]
  },
  {
   "cell_type": "code",
   "execution_count": 85,
   "metadata": {},
   "outputs": [
    {
     "data": {
      "text/plain": [
       "['JavaScript', 'C', 'C++', 'Python', 'Java', 'Go', 'PHP']"
      ]
     },
     "execution_count": 85,
     "metadata": {},
     "output_type": "execute_result"
    }
   ],
   "source": [
    "lenguajes = ['JavaScript', 'C', 'C++', 'Python', 'Java', 'Go', 'PHP']\n",
    "\n",
    "lenguajes"
   ]
  },
  {
   "cell_type": "code",
   "execution_count": 86,
   "metadata": {},
   "outputs": [
    {
     "name": "stdout",
     "output_type": "stream",
     "text": [
      "JavaScript\n",
      "C\n",
      "C++\n",
      "Java\n",
      "Go\n"
     ]
    }
   ],
   "source": [
    "for l in lenguajes:\n",
    "    if l[0] == 'P':\n",
    "        continue\n",
    "    \n",
    "    print(l)"
   ]
  },
  {
   "cell_type": "markdown",
   "metadata": {},
   "source": [
    "# 1.7 Función `range()`\n",
    "\n",
    "Permite crear un rango con un inicio, final, y salto específicos."
   ]
  },
  {
   "cell_type": "code",
   "execution_count": 87,
   "metadata": {},
   "outputs": [
    {
     "data": {
      "text/plain": [
       "range(1, 11)"
      ]
     },
     "execution_count": 87,
     "metadata": {},
     "output_type": "execute_result"
    }
   ],
   "source": [
    "rango = range(1, 11)\n",
    "\n",
    "rango"
   ]
  },
  {
   "cell_type": "code",
   "execution_count": 88,
   "metadata": {},
   "outputs": [
    {
     "data": {
      "text/plain": [
       "range"
      ]
     },
     "execution_count": 88,
     "metadata": {},
     "output_type": "execute_result"
    }
   ],
   "source": [
    "type(rango)"
   ]
  },
  {
   "cell_type": "markdown",
   "metadata": {},
   "source": [
    "**Importante**: Un objeto `range` se puede convertir a una lista o tupla."
   ]
  },
  {
   "cell_type": "code",
   "execution_count": 89,
   "metadata": {},
   "outputs": [
    {
     "data": {
      "text/plain": [
       "[1, 2, 3, 4, 5, 6, 7, 8, 9, 10]"
      ]
     },
     "execution_count": 89,
     "metadata": {},
     "output_type": "execute_result"
    }
   ],
   "source": [
    "list(rango)"
   ]
  },
  {
   "cell_type": "code",
   "execution_count": 90,
   "metadata": {},
   "outputs": [
    {
     "data": {
      "text/plain": [
       "(1, 2, 3, 4, 5, 6, 7, 8, 9, 10)"
      ]
     },
     "execution_count": 90,
     "metadata": {},
     "output_type": "execute_result"
    }
   ],
   "source": [
    "tuple(rango)"
   ]
  },
  {
   "cell_type": "markdown",
   "metadata": {},
   "source": [
    "Iterar un objeto rango:"
   ]
  },
  {
   "cell_type": "code",
   "execution_count": 91,
   "metadata": {},
   "outputs": [
    {
     "name": "stdout",
     "output_type": "stream",
     "text": [
      "1\n",
      "2\n",
      "3\n",
      "4\n",
      "5\n",
      "6\n",
      "7\n",
      "8\n",
      "9\n",
      "10\n"
     ]
    }
   ],
   "source": [
    "for i in range(1, 11):\n",
    "    print(i)"
   ]
  },
  {
   "cell_type": "markdown",
   "metadata": {},
   "source": [
    "Crear un rango con los números pares que hay entre 0 y 20:"
   ]
  },
  {
   "cell_type": "code",
   "execution_count": 92,
   "metadata": {},
   "outputs": [],
   "source": [
    "rango_pares = range(0, 21, 2)"
   ]
  },
  {
   "cell_type": "code",
   "execution_count": 93,
   "metadata": {},
   "outputs": [
    {
     "data": {
      "text/plain": [
       "[0, 2, 4, 6, 8, 10, 12, 14, 16, 18, 20]"
      ]
     },
     "execution_count": 93,
     "metadata": {},
     "output_type": "execute_result"
    }
   ],
   "source": [
    "list(rango_pares)"
   ]
  },
  {
   "cell_type": "code",
   "execution_count": 94,
   "metadata": {},
   "outputs": [
    {
     "data": {
      "text/plain": [
       "(0, 2, 4, 6, 8, 10, 12, 14, 16, 18, 20)"
      ]
     },
     "execution_count": 94,
     "metadata": {},
     "output_type": "execute_result"
    }
   ],
   "source": [
    "tuple(rango_pares)"
   ]
  },
  {
   "cell_type": "code",
   "execution_count": 95,
   "metadata": {},
   "outputs": [],
   "source": [
    "lista_pares = list(rango_pares)"
   ]
  },
  {
   "cell_type": "code",
   "execution_count": 96,
   "metadata": {},
   "outputs": [
    {
     "name": "stdout",
     "output_type": "stream",
     "text": [
      "En el índice 0 se encuentra el número par 0.\n",
      "En el índice 1 se encuentra el número par 2.\n",
      "En el índice 2 se encuentra el número par 4.\n",
      "En el índice 3 se encuentra el número par 6.\n",
      "En el índice 4 se encuentra el número par 8.\n",
      "En el índice 5 se encuentra el número par 10.\n",
      "En el índice 6 se encuentra el número par 12.\n",
      "En el índice 7 se encuentra el número par 14.\n",
      "En el índice 8 se encuentra el número par 16.\n",
      "En el índice 9 se encuentra el número par 18.\n",
      "En el índice 10 se encuentra el número par 20.\n"
     ]
    }
   ],
   "source": [
    "for i in range(len(lista_pares)):\n",
    "    print(f'En el índice {i} se encuentra el número par {lista_pares[i]}.')"
   ]
  },
  {
   "cell_type": "code",
   "execution_count": 97,
   "metadata": {},
   "outputs": [
    {
     "name": "stdout",
     "output_type": "stream",
     "text": [
      "0\n",
      "2\n",
      "4\n",
      "6\n",
      "8\n",
      "10\n",
      "12\n",
      "14\n",
      "16\n",
      "18\n",
      "20\n"
     ]
    }
   ],
   "source": [
    "for p in lista_pares:\n",
    "    print(p)"
   ]
  },
  {
   "cell_type": "code",
   "execution_count": 98,
   "metadata": {},
   "outputs": [
    {
     "name": "stdout",
     "output_type": "stream",
     "text": [
      "En el índice 0 se encuentra el número par 0.\n",
      "En el índice 1 se encuentra el número par 2.\n",
      "En el índice 2 se encuentra el número par 4.\n",
      "En el índice 3 se encuentra el número par 6.\n",
      "En el índice 4 se encuentra el número par 8.\n",
      "En el índice 5 se encuentra el número par 10.\n",
      "En el índice 6 se encuentra el número par 12.\n",
      "En el índice 7 se encuentra el número par 14.\n",
      "En el índice 8 se encuentra el número par 16.\n",
      "En el índice 9 se encuentra el número par 18.\n",
      "En el índice 10 se encuentra el número par 20.\n"
     ]
    }
   ],
   "source": [
    "for i, v in enumerate(lista_pares):\n",
    "    print(f'En el índice {i} se encuentra el número par {v}.')"
   ]
  },
  {
   "cell_type": "markdown",
   "metadata": {},
   "source": [
    "Sobre el mismo ciclo `for` es posible crear un rango e iterar los valores que genera la función `range()`:"
   ]
  },
  {
   "cell_type": "code",
   "execution_count": 99,
   "metadata": {},
   "outputs": [
    {
     "name": "stdout",
     "output_type": "stream",
     "text": [
      "0\n",
      "2\n",
      "4\n",
      "6\n",
      "8\n",
      "10\n",
      "12\n",
      "14\n",
      "16\n",
      "18\n",
      "20\n"
     ]
    }
   ],
   "source": [
    "for i in range(0, 21, 2):\n",
    "    print(i)"
   ]
  },
  {
   "cell_type": "code",
   "execution_count": 100,
   "metadata": {},
   "outputs": [
    {
     "name": "stdout",
     "output_type": "stream",
     "text": [
      "1\n",
      "3\n",
      "5\n",
      "7\n",
      "9\n",
      "11\n",
      "13\n",
      "15\n",
      "17\n",
      "19\n"
     ]
    }
   ],
   "source": [
    "for i in range(1, 21, 2):\n",
    "    print(i)"
   ]
  },
  {
   "cell_type": "code",
   "execution_count": 106,
   "metadata": {},
   "outputs": [],
   "source": [
    "lenguajes = ['Python', 'C++', 'JavaScript', 'PHP', 'C#', 'Perl', 'Go', 'Java']"
   ]
  },
  {
   "cell_type": "code",
   "execution_count": 107,
   "metadata": {},
   "outputs": [
    {
     "name": "stdout",
     "output_type": "stream",
     "text": [
      "Python\n",
      "C++\n",
      "JavaScript\n",
      "PHP\n",
      "C#\n",
      "Perl\n",
      "Go\n",
      "Java\n"
     ]
    }
   ],
   "source": [
    "for i in range(len(lenguajes)):\n",
    "    print(lenguajes[i])"
   ]
  },
  {
   "cell_type": "code",
   "execution_count": 108,
   "metadata": {},
   "outputs": [
    {
     "name": "stdout",
     "output_type": "stream",
     "text": [
      "Python\n",
      "JavaScript\n",
      "C#\n",
      "Go\n"
     ]
    }
   ],
   "source": [
    "for i in range(0, len(lenguajes), 2):\n",
    "    print(lenguajes[i])"
   ]
  },
  {
   "cell_type": "code",
   "execution_count": 109,
   "metadata": {},
   "outputs": [
    {
     "name": "stdout",
     "output_type": "stream",
     "text": [
      "C++\n",
      "PHP\n",
      "Perl\n",
      "Java\n"
     ]
    }
   ],
   "source": [
    "for i in range(1, len(lenguajes), 2):\n",
    "    print(lenguajes[i])"
   ]
  },
  {
   "cell_type": "code",
   "execution_count": 110,
   "metadata": {},
   "outputs": [
    {
     "name": "stdout",
     "output_type": "stream",
     "text": [
      "C++\n",
      "C#\n",
      "Java\n"
     ]
    }
   ],
   "source": [
    "for i in range(1, len(lenguajes), 3):\n",
    "    print(lenguajes[i])"
   ]
  },
  {
   "cell_type": "markdown",
   "metadata": {},
   "source": [
    "Imprimir el contenido de una lista desde el último elemento hasta el primero:"
   ]
  },
  {
   "cell_type": "code",
   "execution_count": 113,
   "metadata": {},
   "outputs": [
    {
     "name": "stdout",
     "output_type": "stream",
     "text": [
      "Java\n",
      "Go\n",
      "Perl\n",
      "C#\n",
      "PHP\n",
      "JavaScript\n",
      "C++\n",
      "Python\n"
     ]
    }
   ],
   "source": [
    "for i in range(len(lenguajes) - 1, -1, -1):\n",
    "    print(lenguajes[i])"
   ]
  },
  {
   "cell_type": "markdown",
   "metadata": {},
   "source": [
    "Mostrar una cadena en orden inverso:"
   ]
  },
  {
   "cell_type": "code",
   "execution_count": 114,
   "metadata": {},
   "outputs": [
    {
     "data": {
      "text/plain": [
       "'Edward'"
      ]
     },
     "execution_count": 114,
     "metadata": {},
     "output_type": "execute_result"
    }
   ],
   "source": [
    "nombre = 'Edward'\n",
    "\n",
    "nombre"
   ]
  },
  {
   "cell_type": "code",
   "execution_count": 116,
   "metadata": {},
   "outputs": [
    {
     "name": "stdout",
     "output_type": "stream",
     "text": [
      "drawdE"
     ]
    }
   ],
   "source": [
    "for i in range(len(nombre) - 1, -1, -1):\n",
    "    print(nombre[i], end='')"
   ]
  },
  {
   "cell_type": "code",
   "execution_count": null,
   "metadata": {},
   "outputs": [],
   "source": []
  }
 ],
 "metadata": {
  "kernelspec": {
   "display_name": "Python 3",
   "language": "python",
   "name": "python3"
  },
  "language_info": {
   "codemirror_mode": {
    "name": "ipython",
    "version": 3
   },
   "file_extension": ".py",
   "mimetype": "text/x-python",
   "name": "python",
   "nbconvert_exporter": "python",
   "pygments_lexer": "ipython3",
   "version": "3.8.3"
  }
 },
 "nbformat": 4,
 "nbformat_minor": 4
}
