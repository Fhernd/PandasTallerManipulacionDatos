{
 "cells": [
  {
   "cell_type": "markdown",
   "metadata": {},
   "source": [
    "# Funciones\n",
    "\n",
    "Una función se puede ver o entender como una unidad de encapsulación (agrupación) de funcionalidad de una tarea/proceso/procedimiento.\n",
    "\n",
    "Las funciones tienen un identificador para ser invocadas. Cada una, así mismo, tiene un conjunto de parámetros. Los parámetros son la información que entra (*input*) para ser procesada.\n",
    "\n",
    "Las funciones también pueden (eventualmente) generar un resultado.\n",
    "\n",
    "El lenguaje de programación Python cuenta con una **GRAN** variedad de funciones incoporadas. Ejemplos de esas funciones:\n",
    "\n",
    "- `max()`\n",
    "- `print()`\n",
    "- `range()`\n",
    "- `min()`\n",
    "- `len()`\n",
    "- `int()`\n",
    "- `str()`\n",
    "- `dict()`\n",
    "- `list()`\n",
    "- `tuple()`\n",
    "- `float()`\n",
    "- `input()`\n",
    "- ...\n",
    "\n",
    "Las funciones que crea el programador/analista se llaman funciones personalizadas (*custom funcitons*). Estas funciones se implementan para cumplir requerimientos específicos del problema de datos que estemos resolviendo.\n",
    "\n",
    "**Recomendación**: Consultar en la mayor medida posible la existencia de una función en alguna librería. Esto nos va a ahorar tiempo de desarrollo/anális. Esas funciones están optimizadas y altamente probadas (por la comunidad de programadores de la librería).\n",
    "\n",
    "**MUY IMPORTANTE**: Se puede concebir a una función como unidad de procesamiento que evita la duplicidad de código."
   ]
  },
  {
   "cell_type": "markdown",
   "metadata": {},
   "source": [
    "# 8.1 Funciones incorporadas"
   ]
  },
  {
   "cell_type": "markdown",
   "metadata": {},
   "source": [
    "### 8.1.1 `print()`\n",
    "\n",
    "Imprime contenido en la salida estándar (la consola/la pantalla)."
   ]
  },
  {
   "cell_type": "code",
   "execution_count": 1,
   "metadata": {},
   "outputs": [
    {
     "name": "stdout",
     "output_type": "stream",
     "text": [
      "Help on built-in function print in module builtins:\n",
      "\n",
      "print(...)\n",
      "    print(value, ..., sep=' ', end='\\n', file=sys.stdout, flush=False)\n",
      "    \n",
      "    Prints the values to a stream, or to sys.stdout by default.\n",
      "    Optional keyword arguments:\n",
      "    file:  a file-like object (stream); defaults to the current sys.stdout.\n",
      "    sep:   string inserted between values, default a space.\n",
      "    end:   string appended after the last value, default a newline.\n",
      "    flush: whether to forcibly flush the stream.\n",
      "\n"
     ]
    }
   ],
   "source": [
    "help(print)"
   ]
  },
  {
   "cell_type": "markdown",
   "metadata": {},
   "source": [
    "**Argumento**: Es la información/datos que se pasan a la función para realizar el respectivo cálculo en su interior (implementación)."
   ]
  },
  {
   "cell_type": "code",
   "execution_count": 2,
   "metadata": {},
   "outputs": [
    {
     "name": "stdout",
     "output_type": "stream",
     "text": [
      "Python\n"
     ]
    }
   ],
   "source": [
    "print('Python')"
   ]
  },
  {
   "cell_type": "code",
   "execution_count": 3,
   "metadata": {},
   "outputs": [
    {
     "name": "stdout",
     "output_type": "stream",
     "text": [
      "Python Java C++ JavaScript\n"
     ]
    }
   ],
   "source": [
    "print('Python', 'Java', 'C++', 'JavaScript')"
   ]
  },
  {
   "cell_type": "code",
   "execution_count": 4,
   "metadata": {},
   "outputs": [
    {
     "name": "stdout",
     "output_type": "stream",
     "text": [
      "Daniela Edward Germán Juan Oliva\n"
     ]
    }
   ],
   "source": [
    "print('Daniela', 'Edward', 'Germán', 'Juan', 'Oliva')"
   ]
  },
  {
   "cell_type": "code",
   "execution_count": 5,
   "metadata": {},
   "outputs": [
    {
     "name": "stdout",
     "output_type": "stream",
     "text": [
      "['Daniela', 'Edward', 'Germán', 'Juan', 'Oliva']\n"
     ]
    }
   ],
   "source": [
    "nombres = ['Daniela', 'Edward', 'Germán', 'Juan', 'Oliva']\n",
    "\n",
    "print(nombres)"
   ]
  },
  {
   "cell_type": "code",
   "execution_count": 6,
   "metadata": {},
   "outputs": [
    {
     "name": "stdout",
     "output_type": "stream",
     "text": [
      "(2, 3, -1)\n"
     ]
    }
   ],
   "source": [
    "punto_3d = (2, 3, -1)\n",
    "\n",
    "print(punto_3d)"
   ]
  },
  {
   "cell_type": "markdown",
   "metadata": {},
   "source": [
    "Usar el argumento nombrado `sep` para indicar un separador de las cadenas que se van a imprimir:"
   ]
  },
  {
   "cell_type": "code",
   "execution_count": 7,
   "metadata": {},
   "outputs": [
    {
     "name": "stdout",
     "output_type": "stream",
     "text": [
      "Daniela-Edward-Germán-Juan-Oliva\n"
     ]
    }
   ],
   "source": [
    "print('Daniela', 'Edward', 'Germán', 'Juan', 'Oliva', sep='-')"
   ]
  },
  {
   "cell_type": "code",
   "execution_count": 8,
   "metadata": {},
   "outputs": [
    {
     "name": "stdout",
     "output_type": "stream",
     "text": [
      "Daniela;Edward;Germán;Juan;Oliva\n"
     ]
    }
   ],
   "source": [
    "print('Daniela', 'Edward', 'Germán', 'Juan', 'Oliva', sep=';')"
   ]
  },
  {
   "cell_type": "code",
   "execution_count": 9,
   "metadata": {},
   "outputs": [
    {
     "name": "stdout",
     "output_type": "stream",
     "text": [
      "Daniela\n",
      "Edward\n",
      "Germán\n",
      "Juan\n",
      "Oliva\n"
     ]
    }
   ],
   "source": [
    "print('Daniela', 'Edward', 'Germán', 'Juan', 'Oliva', sep='\\n')"
   ]
  },
  {
   "cell_type": "code",
   "execution_count": null,
   "metadata": {},
   "outputs": [],
   "source": []
  }
 ],
 "metadata": {
  "kernelspec": {
   "display_name": "Python 3",
   "language": "python",
   "name": "python3"
  },
  "language_info": {
   "codemirror_mode": {
    "name": "ipython",
    "version": 3
   },
   "file_extension": ".py",
   "mimetype": "text/x-python",
   "name": "python",
   "nbconvert_exporter": "python",
   "pygments_lexer": "ipython3",
   "version": "3.8.3"
  }
 },
 "nbformat": 4,
 "nbformat_minor": 4
}
