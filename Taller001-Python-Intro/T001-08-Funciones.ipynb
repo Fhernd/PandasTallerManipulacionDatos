{
 "cells": [
  {
   "cell_type": "markdown",
   "metadata": {},
   "source": [
    "# Funciones\n",
    "\n",
    "Una función se puede ver o entender como una unidad de encapsulación (agrupación) de funcionalidad de una tarea/proceso/procedimiento.\n",
    "\n",
    "Las funciones tienen un identificador para ser invocadas. Cada una, así mismo, tiene un conjunto de parámetros. Los parámetros son la información que entra (*input*) para ser procesada.\n",
    "\n",
    "Las funciones también pueden (eventualmente) generar un resultado.\n",
    "\n",
    "El lenguaje de programación Python cuenta con una **GRAN** variedad de funciones incoporadas. Ejemplos de esas funciones:\n",
    "\n",
    "- `max()`\n",
    "- `print()`\n",
    "- `range()`\n",
    "- `min()`\n",
    "- `len()`\n",
    "- `int()`\n",
    "- `str()`\n",
    "- `dict()`\n",
    "- `list()`\n",
    "- `tuple()`\n",
    "- `float()`\n",
    "- `input()`\n",
    "- ...\n",
    "\n",
    "Las funciones que crea el programador/analista se llaman funciones personalizadas (*custom funcitons*). Estas funciones se implementan para cumplir requerimientos específicos del problema de datos que estemos resolviendo.\n",
    "\n",
    "**Recomendación**: Consultar en la mayor medida posible la existencia de una función en alguna librería. Esto nos va a ahorar tiempo de desarrollo/anális. Esas funciones están optimizadas y altamente probadas (por la comunidad de programadores de la librería).\n",
    "\n",
    "**MUY IMPORTANTE**: Se puede concebir a una función como unidad de procesamiento que evita la duplicidad de código."
   ]
  },
  {
   "cell_type": "markdown",
   "metadata": {},
   "source": [
    "# 8.1 Funciones incorporadas"
   ]
  },
  {
   "cell_type": "markdown",
   "metadata": {},
   "source": [
    "### 8.1.1 `print()`\n",
    "\n",
    "Imprime contenido en la salida estándar (la consola/la pantalla)."
   ]
  },
  {
   "cell_type": "code",
   "execution_count": 1,
   "metadata": {},
   "outputs": [
    {
     "name": "stdout",
     "output_type": "stream",
     "text": [
      "Help on built-in function print in module builtins:\n",
      "\n",
      "print(...)\n",
      "    print(value, ..., sep=' ', end='\\n', file=sys.stdout, flush=False)\n",
      "    \n",
      "    Prints the values to a stream, or to sys.stdout by default.\n",
      "    Optional keyword arguments:\n",
      "    file:  a file-like object (stream); defaults to the current sys.stdout.\n",
      "    sep:   string inserted between values, default a space.\n",
      "    end:   string appended after the last value, default a newline.\n",
      "    flush: whether to forcibly flush the stream.\n",
      "\n"
     ]
    }
   ],
   "source": [
    "help(print)"
   ]
  },
  {
   "cell_type": "markdown",
   "metadata": {},
   "source": [
    "**Argumento**: Es la información/datos que se pasan a la función para realizar el respectivo cálculo en su interior (implementación)."
   ]
  },
  {
   "cell_type": "code",
   "execution_count": 2,
   "metadata": {},
   "outputs": [
    {
     "name": "stdout",
     "output_type": "stream",
     "text": [
      "Python\n"
     ]
    }
   ],
   "source": [
    "print('Python')"
   ]
  },
  {
   "cell_type": "code",
   "execution_count": 3,
   "metadata": {},
   "outputs": [
    {
     "name": "stdout",
     "output_type": "stream",
     "text": [
      "Python Java C++ JavaScript\n"
     ]
    }
   ],
   "source": [
    "print('Python', 'Java', 'C++', 'JavaScript')"
   ]
  },
  {
   "cell_type": "code",
   "execution_count": 4,
   "metadata": {},
   "outputs": [
    {
     "name": "stdout",
     "output_type": "stream",
     "text": [
      "Daniela Edward Germán Juan Oliva\n"
     ]
    }
   ],
   "source": [
    "print('Daniela', 'Edward', 'Germán', 'Juan', 'Oliva')"
   ]
  },
  {
   "cell_type": "code",
   "execution_count": 5,
   "metadata": {},
   "outputs": [
    {
     "name": "stdout",
     "output_type": "stream",
     "text": [
      "['Daniela', 'Edward', 'Germán', 'Juan', 'Oliva']\n"
     ]
    }
   ],
   "source": [
    "nombres = ['Daniela', 'Edward', 'Germán', 'Juan', 'Oliva']\n",
    "\n",
    "print(nombres)"
   ]
  },
  {
   "cell_type": "code",
   "execution_count": 6,
   "metadata": {},
   "outputs": [
    {
     "name": "stdout",
     "output_type": "stream",
     "text": [
      "(2, 3, -1)\n"
     ]
    }
   ],
   "source": [
    "punto_3d = (2, 3, -1)\n",
    "\n",
    "print(punto_3d)"
   ]
  },
  {
   "cell_type": "markdown",
   "metadata": {},
   "source": [
    "Usar el argumento nombrado `sep` para indicar un separador de las cadenas que se van a imprimir:"
   ]
  },
  {
   "cell_type": "code",
   "execution_count": 7,
   "metadata": {},
   "outputs": [
    {
     "name": "stdout",
     "output_type": "stream",
     "text": [
      "Daniela-Edward-Germán-Juan-Oliva\n"
     ]
    }
   ],
   "source": [
    "print('Daniela', 'Edward', 'Germán', 'Juan', 'Oliva', sep='-')"
   ]
  },
  {
   "cell_type": "code",
   "execution_count": 8,
   "metadata": {},
   "outputs": [
    {
     "name": "stdout",
     "output_type": "stream",
     "text": [
      "Daniela;Edward;Germán;Juan;Oliva\n"
     ]
    }
   ],
   "source": [
    "print('Daniela', 'Edward', 'Germán', 'Juan', 'Oliva', sep=';')"
   ]
  },
  {
   "cell_type": "code",
   "execution_count": 9,
   "metadata": {},
   "outputs": [
    {
     "name": "stdout",
     "output_type": "stream",
     "text": [
      "Daniela\n",
      "Edward\n",
      "Germán\n",
      "Juan\n",
      "Oliva\n"
     ]
    }
   ],
   "source": [
    "print('Daniela', 'Edward', 'Germán', 'Juan', 'Oliva', sep='\\n')"
   ]
  },
  {
   "cell_type": "code",
   "execution_count": 10,
   "metadata": {},
   "outputs": [
    {
     "name": "stdout",
     "output_type": "stream",
     "text": [
      "Daniela\n",
      "Edward\n",
      "Germán\n",
      "Juan\n",
      "Oliva\n",
      "Más contenido...\n"
     ]
    }
   ],
   "source": [
    "print('Daniela', 'Edward', 'Germán', 'Juan', 'Oliva', sep='\\n')\n",
    "print('Más contenido...')"
   ]
  },
  {
   "cell_type": "code",
   "execution_count": 11,
   "metadata": {},
   "outputs": [
    {
     "name": "stdout",
     "output_type": "stream",
     "text": [
      "Daniela\n",
      "Edward\n",
      "Germán\n",
      "Juan\n",
      "OlivaMás contenido...\n"
     ]
    }
   ],
   "source": [
    "print('Daniela', 'Edward', 'Germán', 'Juan', 'Oliva', sep='\\n', end='')\n",
    "print('Más contenido...')"
   ]
  },
  {
   "cell_type": "code",
   "execution_count": 12,
   "metadata": {},
   "outputs": [
    {
     "data": {
      "text/plain": [
       "['Daniela', 'Edward', 'Germán', 'Juan', 'Oliva']"
      ]
     },
     "execution_count": 12,
     "metadata": {},
     "output_type": "execute_result"
    }
   ],
   "source": [
    "nombres"
   ]
  },
  {
   "cell_type": "code",
   "execution_count": 13,
   "metadata": {},
   "outputs": [
    {
     "name": "stdout",
     "output_type": "stream",
     "text": [
      "Daniela\n",
      "Edward\n",
      "Germán\n",
      "Juan\n",
      "Oliva\n"
     ]
    }
   ],
   "source": [
    "for n in nombres:\n",
    "    print(n)"
   ]
  },
  {
   "cell_type": "code",
   "execution_count": 14,
   "metadata": {},
   "outputs": [
    {
     "name": "stdout",
     "output_type": "stream",
     "text": [
      "DanielaEdwardGermánJuanOliva"
     ]
    }
   ],
   "source": [
    "for n in nombres:\n",
    "    print(n, end='')"
   ]
  },
  {
   "cell_type": "code",
   "execution_count": 15,
   "metadata": {},
   "outputs": [
    {
     "name": "stdout",
     "output_type": "stream",
     "text": [
      "Daniela\tEdward\tGermán\tJuan\tOliva\t"
     ]
    }
   ],
   "source": [
    "for n in nombres:\n",
    "    print(n, end='\\t')"
   ]
  },
  {
   "cell_type": "code",
   "execution_count": 16,
   "metadata": {},
   "outputs": [
    {
     "name": "stdout",
     "output_type": "stream",
     "text": [
      "Daniela;Edward;Germán;Juan;Oliva;"
     ]
    }
   ],
   "source": [
    "for n in nombres:\n",
    "    print(n, end=';')"
   ]
  },
  {
   "cell_type": "markdown",
   "metadata": {},
   "source": [
    "¿Cuál es el tipo de dato del retorno de la función `print()`?"
   ]
  },
  {
   "cell_type": "code",
   "execution_count": 17,
   "metadata": {},
   "outputs": [
    {
     "name": "stdout",
     "output_type": "stream",
     "text": [
      "¡Hola!\n"
     ]
    }
   ],
   "source": [
    "print('¡Hola!')"
   ]
  },
  {
   "cell_type": "code",
   "execution_count": 18,
   "metadata": {},
   "outputs": [
    {
     "name": "stdout",
     "output_type": "stream",
     "text": [
      "¡Hola!\n"
     ]
    },
    {
     "data": {
      "text/plain": [
       "NoneType"
      ]
     },
     "execution_count": 18,
     "metadata": {},
     "output_type": "execute_result"
    }
   ],
   "source": [
    "type(print('¡Hola!'))"
   ]
  },
  {
   "cell_type": "markdown",
   "metadata": {},
   "source": [
    "**Nota importante**: Una función no necesariamente debe retornar un valor una vez finalice su ejecución."
   ]
  },
  {
   "cell_type": "markdown",
   "metadata": {},
   "source": [
    "### 8.1.2 Función `max()`\n",
    "\n",
    "Retorna el mayor de un conjunto de números."
   ]
  },
  {
   "cell_type": "code",
   "execution_count": 19,
   "metadata": {},
   "outputs": [
    {
     "name": "stdout",
     "output_type": "stream",
     "text": [
      "Help on built-in function max in module builtins:\n",
      "\n",
      "max(...)\n",
      "    max(iterable, *[, default=obj, key=func]) -> value\n",
      "    max(arg1, arg2, *args, *[, key=func]) -> value\n",
      "    \n",
      "    With a single iterable argument, return its biggest item. The\n",
      "    default keyword-only argument specifies an object to return if\n",
      "    the provided iterable is empty.\n",
      "    With two or more arguments, return the largest argument.\n",
      "\n"
     ]
    }
   ],
   "source": [
    "help(max)"
   ]
  },
  {
   "cell_type": "code",
   "execution_count": 20,
   "metadata": {},
   "outputs": [
    {
     "data": {
      "text/plain": [
       "19"
      ]
     },
     "execution_count": 20,
     "metadata": {},
     "output_type": "execute_result"
    }
   ],
   "source": [
    "max(11, 3, 19, 7, 5)"
   ]
  },
  {
   "cell_type": "code",
   "execution_count": 21,
   "metadata": {},
   "outputs": [
    {
     "data": {
      "text/plain": [
       "19"
      ]
     },
     "execution_count": 21,
     "metadata": {},
     "output_type": "execute_result"
    }
   ],
   "source": [
    "lista_numeros = [11, 3, 19, 7, 5]\n",
    "\n",
    "max(lista_numeros)"
   ]
  },
  {
   "cell_type": "code",
   "execution_count": 22,
   "metadata": {},
   "outputs": [
    {
     "data": {
      "text/plain": [
       "19"
      ]
     },
     "execution_count": 22,
     "metadata": {},
     "output_type": "execute_result"
    }
   ],
   "source": [
    "tupla_numeros = (11, 3, 19, 7, 5)\n",
    "\n",
    "max(tupla_numeros)"
   ]
  },
  {
   "cell_type": "code",
   "execution_count": 23,
   "metadata": {},
   "outputs": [
    {
     "data": {
      "text/plain": [
       "int"
      ]
     },
     "execution_count": 23,
     "metadata": {},
     "output_type": "execute_result"
    }
   ],
   "source": [
    "type(max(11, 3, 19, 7, 5))"
   ]
  },
  {
   "cell_type": "code",
   "execution_count": 24,
   "metadata": {},
   "outputs": [
    {
     "data": {
      "text/plain": [
       "float"
      ]
     },
     "execution_count": 24,
     "metadata": {},
     "output_type": "execute_result"
    }
   ],
   "source": [
    "type(max(11.17, 3.57, 19.58, 7.13, 5.11))"
   ]
  },
  {
   "cell_type": "markdown",
   "metadata": {},
   "source": [
    "## 8.2 Creación de una función\n",
    "\n",
    "Las funciones que crea el programador/analista/etc., se les conoce como funciones personalizadas (*custom functions*)."
   ]
  },
  {
   "cell_type": "markdown",
   "metadata": {},
   "source": [
    "### 8.2.1 Sintaxis\n",
    "\n",
    "`def nombre_función(parámetros):`<br>\n",
    "&emsp;`# instrucciones`<br>\n",
    "&emsp;`# [return datos]`"
   ]
  },
  {
   "cell_type": "code",
   "execution_count": 25,
   "metadata": {},
   "outputs": [],
   "source": [
    "def saludar():\n",
    "    print('¡Hola!')"
   ]
  },
  {
   "cell_type": "code",
   "execution_count": 26,
   "metadata": {},
   "outputs": [
    {
     "name": "stdout",
     "output_type": "stream",
     "text": [
      "¡Hola!\n"
     ]
    }
   ],
   "source": [
    "saludar()"
   ]
  },
  {
   "cell_type": "code",
   "execution_count": 27,
   "metadata": {},
   "outputs": [
    {
     "name": "stdout",
     "output_type": "stream",
     "text": [
      "¡Hola!\n"
     ]
    }
   ],
   "source": [
    "saludar()"
   ]
  },
  {
   "cell_type": "code",
   "execution_count": 28,
   "metadata": {},
   "outputs": [
    {
     "name": "stdout",
     "output_type": "stream",
     "text": [
      "¡Hola!\n"
     ]
    }
   ],
   "source": [
    "saludar()"
   ]
  },
  {
   "cell_type": "markdown",
   "metadata": {},
   "source": [
    "¿Cuál es el tipo de dato de `saludar`?"
   ]
  },
  {
   "cell_type": "code",
   "execution_count": 29,
   "metadata": {},
   "outputs": [
    {
     "data": {
      "text/plain": [
       "function"
      ]
     },
     "execution_count": 29,
     "metadata": {},
     "output_type": "execute_result"
    }
   ],
   "source": [
    "type(saludar)"
   ]
  },
  {
   "cell_type": "code",
   "execution_count": 30,
   "metadata": {},
   "outputs": [
    {
     "name": "stdout",
     "output_type": "stream",
     "text": [
      "Help on method_descriptor:\n",
      "\n",
      "index(self, value, start=0, stop=9223372036854775807, /)\n",
      "    Return first index of value.\n",
      "    \n",
      "    Raises ValueError if the value is not present.\n",
      "\n"
     ]
    }
   ],
   "source": [
    "help(list.index)"
   ]
  },
  {
   "cell_type": "code",
   "execution_count": 31,
   "metadata": {},
   "outputs": [
    {
     "name": "stdout",
     "output_type": "stream",
     "text": [
      "Help on method_descriptor:\n",
      "\n",
      "count(self, value, /)\n",
      "    Return number of occurrences of value.\n",
      "\n"
     ]
    }
   ],
   "source": [
    "help(tuple.count)"
   ]
  },
  {
   "cell_type": "code",
   "execution_count": 32,
   "metadata": {},
   "outputs": [
    {
     "name": "stdout",
     "output_type": "stream",
     "text": [
      "Help on method_descriptor:\n",
      "\n",
      "lower(self, /)\n",
      "    Return a copy of the string converted to lowercase.\n",
      "\n"
     ]
    }
   ],
   "source": [
    "help(str.lower)"
   ]
  },
  {
   "cell_type": "code",
   "execution_count": 33,
   "metadata": {},
   "outputs": [
    {
     "name": "stdout",
     "output_type": "stream",
     "text": [
      "Help on function saludar in module __main__:\n",
      "\n",
      "saludar()\n",
      "\n"
     ]
    }
   ],
   "source": [
    "help(saludar)"
   ]
  },
  {
   "cell_type": "code",
   "execution_count": 34,
   "metadata": {},
   "outputs": [],
   "source": [
    "def saludar():\n",
    "    \"\"\"\n",
    "    Muestra un mensaje de saludo.\n",
    "    \"\"\"\n",
    "    print('¡Hola!')"
   ]
  },
  {
   "cell_type": "code",
   "execution_count": 35,
   "metadata": {},
   "outputs": [
    {
     "name": "stdout",
     "output_type": "stream",
     "text": [
      "Help on function saludar in module __main__:\n",
      "\n",
      "saludar()\n",
      "    Muestra un mensaje de saludo.\n",
      "\n"
     ]
    }
   ],
   "source": [
    "help(saludar)"
   ]
  },
  {
   "cell_type": "code",
   "execution_count": 36,
   "metadata": {},
   "outputs": [],
   "source": [
    "def saludarPersona(nombre):\n",
    "    print('¡Hola,', nombre, '!')"
   ]
  },
  {
   "cell_type": "code",
   "execution_count": 37,
   "metadata": {},
   "outputs": [
    {
     "name": "stdout",
     "output_type": "stream",
     "text": [
      "Help on function saludarPersona in module __main__:\n",
      "\n",
      "saludarPersona(nombre)\n",
      "\n"
     ]
    }
   ],
   "source": [
    "help(saludarPersona)"
   ]
  },
  {
   "cell_type": "code",
   "execution_count": 38,
   "metadata": {},
   "outputs": [
    {
     "name": "stdout",
     "output_type": "stream",
     "text": [
      "¡Hola, Daniela !\n"
     ]
    }
   ],
   "source": [
    "saludarPersona('Daniela')"
   ]
  },
  {
   "cell_type": "code",
   "execution_count": 39,
   "metadata": {},
   "outputs": [],
   "source": [
    "def saludarPersona(nombre):\n",
    "    print(f'¡Hola, {nombre}!')"
   ]
  },
  {
   "cell_type": "code",
   "execution_count": 40,
   "metadata": {},
   "outputs": [
    {
     "name": "stdout",
     "output_type": "stream",
     "text": [
      "¡Hola, Daniela!\n"
     ]
    }
   ],
   "source": [
    "saludarPersona('Daniela')"
   ]
  },
  {
   "cell_type": "code",
   "execution_count": 41,
   "metadata": {},
   "outputs": [],
   "source": [
    "def saludarPersona(nombre):\n",
    "    \"\"\"\n",
    "    Saluda a una persona especificando su nombre.\n",
    "    \n",
    "    :param str nombre: El nombre de la persona.\n",
    "    \"\"\"\n",
    "    print(f'¡Hola, {nombre}!')"
   ]
  },
  {
   "cell_type": "code",
   "execution_count": 42,
   "metadata": {},
   "outputs": [
    {
     "name": "stdout",
     "output_type": "stream",
     "text": [
      "Help on function saludarPersona in module __main__:\n",
      "\n",
      "saludarPersona(nombre)\n",
      "    Saluda a una persona especificando su nombre.\n",
      "    \n",
      "    :param str nombre: El nombre de la persona\n",
      "\n"
     ]
    }
   ],
   "source": [
    "help(saludarPersona)"
   ]
  },
  {
   "cell_type": "markdown",
   "metadata": {},
   "source": [
    "Una función puede retornar un valor. Para ello debemos utilizar la sentencia `return`."
   ]
  },
  {
   "cell_type": "code",
   "execution_count": 45,
   "metadata": {},
   "outputs": [
    {
     "name": "stdout",
     "output_type": "stream",
     "text": [
      "¡Hola, Daniela!\n"
     ]
    },
    {
     "data": {
      "text/plain": [
       "NoneType"
      ]
     },
     "execution_count": 45,
     "metadata": {},
     "output_type": "execute_result"
    }
   ],
   "source": [
    "type(saludarPersona('Daniela'))"
   ]
  },
  {
   "cell_type": "code",
   "execution_count": 46,
   "metadata": {},
   "outputs": [
    {
     "name": "stdout",
     "output_type": "stream",
     "text": [
      "¡Hola, Daniela!\n"
     ]
    },
    {
     "data": {
      "text/plain": [
       "NoneType"
      ]
     },
     "execution_count": 46,
     "metadata": {},
     "output_type": "execute_result"
    }
   ],
   "source": [
    "resultado = saludarPersona('Daniela')\n",
    "\n",
    "type(resultado)"
   ]
  },
  {
   "cell_type": "code",
   "execution_count": 47,
   "metadata": {},
   "outputs": [],
   "source": [
    "def saludarPersona(nombre):\n",
    "    \"\"\"\n",
    "    Saluda a una persona especificando su nombre.\n",
    "    \n",
    "    :param str nombre: El nombre de la persona.\n",
    "    \"\"\"\n",
    "    return f'¡Hola, {nombre}!'"
   ]
  },
  {
   "cell_type": "code",
   "execution_count": 48,
   "metadata": {},
   "outputs": [
    {
     "data": {
      "text/plain": [
       "'¡Hola, Daniela!'"
      ]
     },
     "execution_count": 48,
     "metadata": {},
     "output_type": "execute_result"
    }
   ],
   "source": [
    "saludarPersona('Daniela')"
   ]
  },
  {
   "cell_type": "code",
   "execution_count": 49,
   "metadata": {},
   "outputs": [
    {
     "data": {
      "text/plain": [
       "str"
      ]
     },
     "execution_count": 49,
     "metadata": {},
     "output_type": "execute_result"
    }
   ],
   "source": [
    "resultado = saludarPersona('Daniela')\n",
    "\n",
    "type(resultado)"
   ]
  },
  {
   "cell_type": "code",
   "execution_count": 50,
   "metadata": {},
   "outputs": [
    {
     "data": {
      "text/plain": [
       "'¡Hola, Daniela!'"
      ]
     },
     "execution_count": 50,
     "metadata": {},
     "output_type": "execute_result"
    }
   ],
   "source": [
    "resultado"
   ]
  },
  {
   "cell_type": "code",
   "execution_count": 51,
   "metadata": {},
   "outputs": [
    {
     "name": "stdout",
     "output_type": "stream",
     "text": [
      "Help on function saludarPersona in module __main__:\n",
      "\n",
      "saludarPersona(nombre)\n",
      "    Saluda a una persona especificando su nombre.\n",
      "    \n",
      "    :param str nombre: El nombre de la persona.\n",
      "\n"
     ]
    }
   ],
   "source": [
    "help(saludarPersona)"
   ]
  },
  {
   "cell_type": "code",
   "execution_count": 52,
   "metadata": {},
   "outputs": [],
   "source": [
    "def saludarPersona(nombre):\n",
    "    \"\"\"\n",
    "    Saluda a una persona especificando su nombre.\n",
    "    \n",
    "    :param str nombre: El nombre de la persona.\n",
    "    :return str: Saludo con el nombre de la persona.\n",
    "    \"\"\"\n",
    "    return f'¡Hola, {nombre}!'"
   ]
  },
  {
   "cell_type": "code",
   "execution_count": 53,
   "metadata": {},
   "outputs": [
    {
     "name": "stdout",
     "output_type": "stream",
     "text": [
      "Help on function saludarPersona in module __main__:\n",
      "\n",
      "saludarPersona(nombre)\n",
      "    Saluda a una persona especificando su nombre.\n",
      "    \n",
      "    :param str nombre: El nombre de la persona.\n",
      "    :return str: Saludo con el nombre de la persona.\n",
      "\n"
     ]
    }
   ],
   "source": [
    "help(saludarPersona)"
   ]
  },
  {
   "cell_type": "markdown",
   "metadata": {},
   "source": [
    "**IMPORTANTE**: Escribir la documentación de una función ayuda a su legibilidad (ayuda a otros programadores a entender lo que hace la función sin necesidad de leer el código).\n",
    "\n",
    "Debe ser lo más concisa posible (lo más breve posible).\n",
    "\n",
    "La documentación debe tener buena ortografía."
   ]
  },
  {
   "cell_type": "markdown",
   "metadata": {},
   "source": [
    "Ejemplo 8.2.1.2\n",
    "\n",
    "Crear una función que calcule la suma de dos números."
   ]
  },
  {
   "cell_type": "code",
   "execution_count": 54,
   "metadata": {},
   "outputs": [],
   "source": [
    "def sumar(numero_1, numero_2):\n",
    "    \"\"\"\n",
    "    Suma dos números (enteros o reales).\n",
    "    \n",
    "    :param float numero_1: primer número a sumar.\n",
    "    :param float numero_2: segundo número a sumar.\n",
    "    :return float: la suma de los dos números.\n",
    "    \"\"\"\n",
    "    \n",
    "    suma = numero_1 + numero_2\n",
    "    \n",
    "    return suma"
   ]
  },
  {
   "cell_type": "code",
   "execution_count": 55,
   "metadata": {},
   "outputs": [
    {
     "data": {
      "text/plain": [
       "function"
      ]
     },
     "execution_count": 55,
     "metadata": {},
     "output_type": "execute_result"
    }
   ],
   "source": [
    "type(sumar)"
   ]
  },
  {
   "cell_type": "code",
   "execution_count": 56,
   "metadata": {},
   "outputs": [
    {
     "name": "stdout",
     "output_type": "stream",
     "text": [
      "Help on function sumar in module __main__:\n",
      "\n",
      "sumar(numero_1, numero_2)\n",
      "    Suma dos números (enteros o reales).\n",
      "    \n",
      "    :param float numero_1: primer número a sumar.\n",
      "    :param float numero_2: segundo número a sumar.\n",
      "    :return float: la suma de los dos números.\n",
      "\n"
     ]
    }
   ],
   "source": [
    "help(sumar)"
   ]
  },
  {
   "cell_type": "code",
   "execution_count": 57,
   "metadata": {},
   "outputs": [
    {
     "data": {
      "text/plain": [
       "5"
      ]
     },
     "execution_count": 57,
     "metadata": {},
     "output_type": "execute_result"
    }
   ],
   "source": [
    "sumar(2, 3) # 5"
   ]
  },
  {
   "cell_type": "code",
   "execution_count": 58,
   "metadata": {},
   "outputs": [
    {
     "data": {
      "text/plain": [
       "7.5"
      ]
     },
     "execution_count": 58,
     "metadata": {},
     "output_type": "execute_result"
    }
   ],
   "source": [
    "sumar(2.3, 5.2) # 7.5"
   ]
  },
  {
   "cell_type": "code",
   "execution_count": 59,
   "metadata": {},
   "outputs": [
    {
     "data": {
      "text/plain": [
       "'2.03.0'"
      ]
     },
     "execution_count": 59,
     "metadata": {},
     "output_type": "execute_result"
    }
   ],
   "source": [
    "sumar('2.0', '3.0')"
   ]
  },
  {
   "cell_type": "code",
   "execution_count": 60,
   "metadata": {},
   "outputs": [
    {
     "ename": "TypeError",
     "evalue": "can only concatenate str (not \"float\") to str",
     "output_type": "error",
     "traceback": [
      "\u001b[1;31m---------------------------------------------------------------------------\u001b[0m",
      "\u001b[1;31mTypeError\u001b[0m                                 Traceback (most recent call last)",
      "\u001b[1;32m<ipython-input-60-f1e6e4b8862e>\u001b[0m in \u001b[0;36m<module>\u001b[1;34m\u001b[0m\n\u001b[1;32m----> 1\u001b[1;33m \u001b[0msumar\u001b[0m\u001b[1;33m(\u001b[0m\u001b[1;34m'2.0'\u001b[0m\u001b[1;33m,\u001b[0m \u001b[1;36m3.0\u001b[0m\u001b[1;33m)\u001b[0m\u001b[1;33m\u001b[0m\u001b[1;33m\u001b[0m\u001b[0m\n\u001b[0m",
      "\u001b[1;32m<ipython-input-54-76d5b3a7c53a>\u001b[0m in \u001b[0;36msumar\u001b[1;34m(numero_1, numero_2)\u001b[0m\n\u001b[0;32m      8\u001b[0m     \"\"\"\n\u001b[0;32m      9\u001b[0m \u001b[1;33m\u001b[0m\u001b[0m\n\u001b[1;32m---> 10\u001b[1;33m     \u001b[0msuma\u001b[0m \u001b[1;33m=\u001b[0m \u001b[0mnumero_1\u001b[0m \u001b[1;33m+\u001b[0m \u001b[0mnumero_2\u001b[0m\u001b[1;33m\u001b[0m\u001b[1;33m\u001b[0m\u001b[0m\n\u001b[0m\u001b[0;32m     11\u001b[0m \u001b[1;33m\u001b[0m\u001b[0m\n\u001b[0;32m     12\u001b[0m     \u001b[1;32mreturn\u001b[0m \u001b[0msuma\u001b[0m\u001b[1;33m\u001b[0m\u001b[1;33m\u001b[0m\u001b[0m\n",
      "\u001b[1;31mTypeError\u001b[0m: can only concatenate str (not \"float\") to str"
     ]
    }
   ],
   "source": [
    "# sumar('2.0', 3.0) # Genera error de tipo TypeError."
   ]
  },
  {
   "cell_type": "code",
   "execution_count": 61,
   "metadata": {},
   "outputs": [
    {
     "ename": "TypeError",
     "evalue": "can only concatenate str (not \"int\") to str",
     "output_type": "error",
     "traceback": [
      "\u001b[1;31m---------------------------------------------------------------------------\u001b[0m",
      "\u001b[1;31mTypeError\u001b[0m                                 Traceback (most recent call last)",
      "\u001b[1;32m<ipython-input-61-5ae69e1f1980>\u001b[0m in \u001b[0;36m<module>\u001b[1;34m\u001b[0m\n\u001b[1;32m----> 1\u001b[1;33m \u001b[0msumar\u001b[0m\u001b[1;33m(\u001b[0m\u001b[1;34m'2.0'\u001b[0m\u001b[1;33m,\u001b[0m \u001b[1;36m3\u001b[0m\u001b[1;33m)\u001b[0m\u001b[1;33m\u001b[0m\u001b[1;33m\u001b[0m\u001b[0m\n\u001b[0m",
      "\u001b[1;32m<ipython-input-54-76d5b3a7c53a>\u001b[0m in \u001b[0;36msumar\u001b[1;34m(numero_1, numero_2)\u001b[0m\n\u001b[0;32m      8\u001b[0m     \"\"\"\n\u001b[0;32m      9\u001b[0m \u001b[1;33m\u001b[0m\u001b[0m\n\u001b[1;32m---> 10\u001b[1;33m     \u001b[0msuma\u001b[0m \u001b[1;33m=\u001b[0m \u001b[0mnumero_1\u001b[0m \u001b[1;33m+\u001b[0m \u001b[0mnumero_2\u001b[0m\u001b[1;33m\u001b[0m\u001b[1;33m\u001b[0m\u001b[0m\n\u001b[0m\u001b[0;32m     11\u001b[0m \u001b[1;33m\u001b[0m\u001b[0m\n\u001b[0;32m     12\u001b[0m     \u001b[1;32mreturn\u001b[0m \u001b[0msuma\u001b[0m\u001b[1;33m\u001b[0m\u001b[1;33m\u001b[0m\u001b[0m\n",
      "\u001b[1;31mTypeError\u001b[0m: can only concatenate str (not \"int\") to str"
     ]
    }
   ],
   "source": [
    "# sumar('2.0', 3) # Genera error de tipo TypeError"
   ]
  },
  {
   "cell_type": "code",
   "execution_count": 62,
   "metadata": {},
   "outputs": [],
   "source": [
    "def sumar(numero_1, numero_2):\n",
    "    \"\"\"\n",
    "    Suma dos números (enteros o reales).\n",
    "    \n",
    "    :param float numero_1: primer número a sumar.\n",
    "    :param float numero_2: segundo número a sumar.\n",
    "    :return float|None: La suma de los dos números. Retorna None cuando los parámetros no son del tipo especifcado.\n",
    "    \"\"\"\n",
    "    \n",
    "    if not isinstance(numero_1, (int, float)) or not isinstance(numero_2, (int, float)):\n",
    "        return None\n",
    "    \n",
    "    suma = numero_1 + numero_2\n",
    "    \n",
    "    return suma"
   ]
  },
  {
   "cell_type": "code",
   "execution_count": 63,
   "metadata": {},
   "outputs": [
    {
     "name": "stdout",
     "output_type": "stream",
     "text": [
      "Help on function sumar in module __main__:\n",
      "\n",
      "sumar(numero_1, numero_2)\n",
      "    Suma dos números (enteros o reales).\n",
      "    \n",
      "    :param float numero_1: primer número a sumar.\n",
      "    :param float numero_2: segundo número a sumar.\n",
      "    :return float|None: La suma de los dos números. Retorna None cuando los parámetros no son del tipo especifcado.\n",
      "\n"
     ]
    }
   ],
   "source": [
    "help(sumar)"
   ]
  },
  {
   "cell_type": "code",
   "execution_count": 64,
   "metadata": {},
   "outputs": [],
   "source": [
    "sumar('2.0', '3.0')"
   ]
  },
  {
   "cell_type": "code",
   "execution_count": 65,
   "metadata": {},
   "outputs": [
    {
     "data": {
      "text/plain": [
       "NoneType"
      ]
     },
     "execution_count": 65,
     "metadata": {},
     "output_type": "execute_result"
    }
   ],
   "source": [
    "type(sumar('2.0', '3.0'))"
   ]
  },
  {
   "cell_type": "code",
   "execution_count": 66,
   "metadata": {},
   "outputs": [],
   "source": [
    "sumar('2.0', 3.0)"
   ]
  },
  {
   "cell_type": "code",
   "execution_count": 67,
   "metadata": {},
   "outputs": [
    {
     "data": {
      "text/plain": [
       "NoneType"
      ]
     },
     "execution_count": 67,
     "metadata": {},
     "output_type": "execute_result"
    }
   ],
   "source": [
    "type(sumar('2.0', 3.0))"
   ]
  },
  {
   "cell_type": "code",
   "execution_count": 68,
   "metadata": {},
   "outputs": [],
   "source": [
    "sumar(2.0, '3.0')"
   ]
  },
  {
   "cell_type": "code",
   "execution_count": 69,
   "metadata": {},
   "outputs": [
    {
     "data": {
      "text/plain": [
       "NoneType"
      ]
     },
     "execution_count": 69,
     "metadata": {},
     "output_type": "execute_result"
    }
   ],
   "source": [
    "type(sumar(2.0, '3.0'))"
   ]
  },
  {
   "cell_type": "code",
   "execution_count": 70,
   "metadata": {},
   "outputs": [
    {
     "data": {
      "text/plain": [
       "5.0"
      ]
     },
     "execution_count": 70,
     "metadata": {},
     "output_type": "execute_result"
    }
   ],
   "source": [
    "sumar(2.0, 3.0)"
   ]
  },
  {
   "cell_type": "code",
   "execution_count": 71,
   "metadata": {},
   "outputs": [],
   "source": [
    "sumar([1, 2, 3], (4, 5, 6))"
   ]
  },
  {
   "cell_type": "code",
   "execution_count": 72,
   "metadata": {},
   "outputs": [
    {
     "data": {
      "text/plain": [
       "NoneType"
      ]
     },
     "execution_count": 72,
     "metadata": {},
     "output_type": "execute_result"
    }
   ],
   "source": [
    "type(sumar([1, 2, 3], (4, 5, 6)))"
   ]
  },
  {
   "cell_type": "code",
   "execution_count": 87,
   "metadata": {},
   "outputs": [],
   "source": [
    "def sumar(numero_1, numero_2):\n",
    "    \"\"\"\n",
    "    Suma dos números (enteros o reales).\n",
    "    \n",
    "    :param float numero_1: primer número a sumar.\n",
    "    :param float numero_2: segundo número a sumar.\n",
    "    :return float: La suma de los dos números. Retorna None cuando los parámetros no son del tipo especifcado.\n",
    "    :raises TypeError: Al menos uno de los dos argumentos no es un número (entero o real).\n",
    "    \"\"\"\n",
    "    \n",
    "    if not type(numero_1) in [int, float]:\n",
    "        raise TypeError('El primer argumento debe ser número (entero o real).')\n",
    "        \n",
    "    if not type(numero_2) in [int, float]:\n",
    "        raise TypeError('El segundo argumento debe ser número (entero o real).')\n",
    "    \n",
    "    suma = numero_1 + numero_2\n",
    "    \n",
    "    return suma"
   ]
  },
  {
   "cell_type": "code",
   "execution_count": 74,
   "metadata": {},
   "outputs": [
    {
     "name": "stdout",
     "output_type": "stream",
     "text": [
      "Help on function sumar in module __main__:\n",
      "\n",
      "sumar(numero_1, numero_2)\n",
      "    Suma dos números (enteros o reales).\n",
      "    \n",
      "    :param float numero_1: primer número a sumar.\n",
      "    :param float numero_2: segundo número a sumar.\n",
      "    :return float: La suma de los dos números. Retorna None cuando los parámetros no son del tipo especifcado.\n",
      "    :raises TypeError: Al menos uno de los dos argumentos no es un número (entero o real).\n",
      "\n"
     ]
    }
   ],
   "source": [
    "help(sumar)"
   ]
  },
  {
   "cell_type": "code",
   "execution_count": 82,
   "metadata": {},
   "outputs": [
    {
     "data": {
      "text/plain": [
       "5"
      ]
     },
     "execution_count": 82,
     "metadata": {},
     "output_type": "execute_result"
    }
   ],
   "source": [
    "sumar(2, 3)"
   ]
  },
  {
   "cell_type": "code",
   "execution_count": 88,
   "metadata": {},
   "outputs": [
    {
     "ename": "TypeError",
     "evalue": "El primer argumento debe ser número (entero o real).",
     "output_type": "error",
     "traceback": [
      "\u001b[1;31m---------------------------------------------------------------------------\u001b[0m",
      "\u001b[1;31mTypeError\u001b[0m                                 Traceback (most recent call last)",
      "\u001b[1;32m<ipython-input-88-d86416f10aaa>\u001b[0m in \u001b[0;36m<module>\u001b[1;34m\u001b[0m\n\u001b[1;32m----> 1\u001b[1;33m \u001b[0msumar\u001b[0m\u001b[1;33m(\u001b[0m\u001b[1;34m'2'\u001b[0m\u001b[1;33m,\u001b[0m \u001b[1;36m3\u001b[0m\u001b[1;33m)\u001b[0m\u001b[1;33m\u001b[0m\u001b[1;33m\u001b[0m\u001b[0m\n\u001b[0m",
      "\u001b[1;32m<ipython-input-87-c2450f3d9654>\u001b[0m in \u001b[0;36msumar\u001b[1;34m(numero_1, numero_2)\u001b[0m\n\u001b[0;32m     10\u001b[0m \u001b[1;33m\u001b[0m\u001b[0m\n\u001b[0;32m     11\u001b[0m     \u001b[1;32mif\u001b[0m \u001b[1;32mnot\u001b[0m \u001b[0mtype\u001b[0m\u001b[1;33m(\u001b[0m\u001b[0mnumero_1\u001b[0m\u001b[1;33m)\u001b[0m \u001b[1;32min\u001b[0m \u001b[1;33m[\u001b[0m\u001b[0mint\u001b[0m\u001b[1;33m,\u001b[0m \u001b[0mfloat\u001b[0m\u001b[1;33m]\u001b[0m\u001b[1;33m:\u001b[0m\u001b[1;33m\u001b[0m\u001b[1;33m\u001b[0m\u001b[0m\n\u001b[1;32m---> 12\u001b[1;33m         \u001b[1;32mraise\u001b[0m \u001b[0mTypeError\u001b[0m\u001b[1;33m(\u001b[0m\u001b[1;34m'El primer argumento debe ser número (entero o real).'\u001b[0m\u001b[1;33m)\u001b[0m\u001b[1;33m\u001b[0m\u001b[1;33m\u001b[0m\u001b[0m\n\u001b[0m\u001b[0;32m     13\u001b[0m \u001b[1;33m\u001b[0m\u001b[0m\n\u001b[0;32m     14\u001b[0m     \u001b[1;32mif\u001b[0m \u001b[1;32mnot\u001b[0m \u001b[0mtype\u001b[0m\u001b[1;33m(\u001b[0m\u001b[0mnumero_2\u001b[0m\u001b[1;33m)\u001b[0m \u001b[1;32min\u001b[0m \u001b[1;33m[\u001b[0m\u001b[0mint\u001b[0m\u001b[1;33m,\u001b[0m \u001b[0mfloat\u001b[0m\u001b[1;33m]\u001b[0m\u001b[1;33m:\u001b[0m\u001b[1;33m\u001b[0m\u001b[1;33m\u001b[0m\u001b[0m\n",
      "\u001b[1;31mTypeError\u001b[0m: El primer argumento debe ser número (entero o real)."
     ]
    }
   ],
   "source": [
    "sumar('2', 3)"
   ]
  },
  {
   "cell_type": "code",
   "execution_count": 89,
   "metadata": {},
   "outputs": [
    {
     "name": "stdout",
     "output_type": "stream",
     "text": [
      "El primer argumento debe ser número (entero o real).\n"
     ]
    }
   ],
   "source": [
    "try:\n",
    "    sumar('2', 3)\n",
    "except TypeError as e:\n",
    "    print(e)"
   ]
  },
  {
   "cell_type": "code",
   "execution_count": 90,
   "metadata": {},
   "outputs": [
    {
     "name": "stdout",
     "output_type": "stream",
     "text": [
      "El segundo argumento debe ser número (entero o real).\n"
     ]
    }
   ],
   "source": [
    "try:\n",
    "    sumar(2, '3')\n",
    "except TypeError as e:\n",
    "    print(e)"
   ]
  },
  {
   "cell_type": "markdown",
   "metadata": {},
   "source": [
    "Crear una firma de una función especificando el tipo de los parámetros y también el tipo de dato para el valor que retorna la función:"
   ]
  },
  {
   "cell_type": "code",
   "execution_count": 91,
   "metadata": {},
   "outputs": [],
   "source": [
    "def sumar(numero_1: float, numero_2: float) -> float:\n",
    "    \"\"\"\n",
    "    Suma dos números (enteros o reales).\n",
    "    \n",
    "    :param float numero_1: primer número a sumar.\n",
    "    :param float numero_2: segundo número a sumar.\n",
    "    :return float: La suma de los dos números. Retorna None cuando los parámetros no son del tipo especifcado.\n",
    "    :raises TypeError: Al menos uno de los dos argumentos no es un número (entero o real).\n",
    "    \"\"\"\n",
    "    \n",
    "    suma = numero_1 + numero_2\n",
    "    \n",
    "    return suma"
   ]
  },
  {
   "cell_type": "code",
   "execution_count": 92,
   "metadata": {},
   "outputs": [
    {
     "name": "stdout",
     "output_type": "stream",
     "text": [
      "Help on function sumar in module __main__:\n",
      "\n",
      "sumar(numero_1: float, numero_2: float) -> float\n",
      "    Suma dos números (enteros o reales).\n",
      "    \n",
      "    :param float numero_1: primer número a sumar.\n",
      "    :param float numero_2: segundo número a sumar.\n",
      "    :return float: La suma de los dos números. Retorna None cuando los parámetros no son del tipo especifcado.\n",
      "    :raises TypeError: Al menos uno de los dos argumentos no es un número (entero o real).\n",
      "\n"
     ]
    }
   ],
   "source": [
    "help(sumar)"
   ]
  },
  {
   "cell_type": "code",
   "execution_count": 93,
   "metadata": {},
   "outputs": [
    {
     "data": {
      "text/plain": [
       "5"
      ]
     },
     "execution_count": 93,
     "metadata": {},
     "output_type": "execute_result"
    }
   ],
   "source": [
    "sumar(2, 3)"
   ]
  },
  {
   "cell_type": "code",
   "execution_count": 94,
   "metadata": {},
   "outputs": [
    {
     "ename": "TypeError",
     "evalue": "can only concatenate str (not \"int\") to str",
     "output_type": "error",
     "traceback": [
      "\u001b[1;31m---------------------------------------------------------------------------\u001b[0m",
      "\u001b[1;31mTypeError\u001b[0m                                 Traceback (most recent call last)",
      "\u001b[1;32m<ipython-input-94-d86416f10aaa>\u001b[0m in \u001b[0;36m<module>\u001b[1;34m\u001b[0m\n\u001b[1;32m----> 1\u001b[1;33m \u001b[0msumar\u001b[0m\u001b[1;33m(\u001b[0m\u001b[1;34m'2'\u001b[0m\u001b[1;33m,\u001b[0m \u001b[1;36m3\u001b[0m\u001b[1;33m)\u001b[0m\u001b[1;33m\u001b[0m\u001b[1;33m\u001b[0m\u001b[0m\n\u001b[0m",
      "\u001b[1;32m<ipython-input-91-a775f59a9fd6>\u001b[0m in \u001b[0;36msumar\u001b[1;34m(numero_1, numero_2)\u001b[0m\n\u001b[0;32m      9\u001b[0m     \"\"\"\n\u001b[0;32m     10\u001b[0m \u001b[1;33m\u001b[0m\u001b[0m\n\u001b[1;32m---> 11\u001b[1;33m     \u001b[0msuma\u001b[0m \u001b[1;33m=\u001b[0m \u001b[0mnumero_1\u001b[0m \u001b[1;33m+\u001b[0m \u001b[0mnumero_2\u001b[0m\u001b[1;33m\u001b[0m\u001b[1;33m\u001b[0m\u001b[0m\n\u001b[0m\u001b[0;32m     12\u001b[0m \u001b[1;33m\u001b[0m\u001b[0m\n\u001b[0;32m     13\u001b[0m     \u001b[1;32mreturn\u001b[0m \u001b[0msuma\u001b[0m\u001b[1;33m\u001b[0m\u001b[1;33m\u001b[0m\u001b[0m\n",
      "\u001b[1;31mTypeError\u001b[0m: can only concatenate str (not \"int\") to str"
     ]
    }
   ],
   "source": [
    "# sumar('2', 3) # Genera la excepción TypeError. No cumple con la especificación de la firma."
   ]
  },
  {
   "cell_type": "code",
   "execution_count": 95,
   "metadata": {},
   "outputs": [
    {
     "ename": "TypeError",
     "evalue": "unsupported operand type(s) for +: 'int' and 'str'",
     "output_type": "error",
     "traceback": [
      "\u001b[1;31m---------------------------------------------------------------------------\u001b[0m",
      "\u001b[1;31mTypeError\u001b[0m                                 Traceback (most recent call last)",
      "\u001b[1;32m<ipython-input-95-3b8f4f85b907>\u001b[0m in \u001b[0;36m<module>\u001b[1;34m\u001b[0m\n\u001b[1;32m----> 1\u001b[1;33m \u001b[0msumar\u001b[0m\u001b[1;33m(\u001b[0m\u001b[1;36m2\u001b[0m\u001b[1;33m,\u001b[0m \u001b[1;34m'3'\u001b[0m\u001b[1;33m)\u001b[0m\u001b[1;33m\u001b[0m\u001b[1;33m\u001b[0m\u001b[0m\n\u001b[0m",
      "\u001b[1;32m<ipython-input-91-a775f59a9fd6>\u001b[0m in \u001b[0;36msumar\u001b[1;34m(numero_1, numero_2)\u001b[0m\n\u001b[0;32m      9\u001b[0m     \"\"\"\n\u001b[0;32m     10\u001b[0m \u001b[1;33m\u001b[0m\u001b[0m\n\u001b[1;32m---> 11\u001b[1;33m     \u001b[0msuma\u001b[0m \u001b[1;33m=\u001b[0m \u001b[0mnumero_1\u001b[0m \u001b[1;33m+\u001b[0m \u001b[0mnumero_2\u001b[0m\u001b[1;33m\u001b[0m\u001b[1;33m\u001b[0m\u001b[0m\n\u001b[0m\u001b[0;32m     12\u001b[0m \u001b[1;33m\u001b[0m\u001b[0m\n\u001b[0;32m     13\u001b[0m     \u001b[1;32mreturn\u001b[0m \u001b[0msuma\u001b[0m\u001b[1;33m\u001b[0m\u001b[1;33m\u001b[0m\u001b[0m\n",
      "\u001b[1;31mTypeError\u001b[0m: unsupported operand type(s) for +: 'int' and 'str'"
     ]
    }
   ],
   "source": [
    "# sumar(2, '3') # Genera el error TypeError. "
   ]
  },
  {
   "cell_type": "markdown",
   "metadata": {},
   "source": [
    "## 8.3 Funciones con parámetros por defecto.\n",
    "\n",
    "Son funciones que en la especificación (encabezado o *signture*) se asigna valores por defecto para los parámetros."
   ]
  },
  {
   "cell_type": "code",
   "execution_count": 96,
   "metadata": {},
   "outputs": [
    {
     "name": "stdout",
     "output_type": "stream",
     "text": [
      "Python\n",
      "\n",
      "v.3.9.1\n"
     ]
    }
   ],
   "source": [
    "print('Python')\n",
    "print()\n",
    "print('v.3.9.1')"
   ]
  },
  {
   "cell_type": "code",
   "execution_count": 97,
   "metadata": {},
   "outputs": [
    {
     "name": "stdout",
     "output_type": "stream",
     "text": [
      "Python\n",
      "\n",
      "v.3.9.1\n"
     ]
    }
   ],
   "source": [
    "print('Python')\n",
    "print(end='\\n')\n",
    "print('v.3.9.1')"
   ]
  },
  {
   "cell_type": "code",
   "execution_count": 98,
   "metadata": {},
   "outputs": [
    {
     "name": "stdout",
     "output_type": "stream",
     "text": [
      "Python\n",
      "-v.3.9.1\n"
     ]
    }
   ],
   "source": [
    "print('Python')\n",
    "print(end='-')\n",
    "print('v.3.9.1')"
   ]
  },
  {
   "cell_type": "markdown",
   "metadata": {},
   "source": [
    "Ejemplo 8.3.1: Crear una función para la operación de exponenciación.\n",
    "\n",
    "$x^{n}$"
   ]
  },
  {
   "cell_type": "code",
   "execution_count": 99,
   "metadata": {},
   "outputs": [],
   "source": [
    "def potencia(base, exponente=2):\n",
    "    \"\"\"\n",
    "    Calcula la potencia de una base.\n",
    "    \n",
    "    :param float base: base de la exponenciación.\n",
    "    :param exponente float exponente=2: exponente de la exponenciación.\n",
    "    :return float: exponenciación de los dos números pasados como argumento.\n",
    "    \"\"\"\n",
    "    \n",
    "    resultado = base ** exponente\n",
    "    \n",
    "    return resultado"
   ]
  },
  {
   "cell_type": "code",
   "execution_count": 100,
   "metadata": {},
   "outputs": [
    {
     "name": "stdout",
     "output_type": "stream",
     "text": [
      "Help on function potencia in module __main__:\n",
      "\n",
      "potencia(base, exponente=2)\n",
      "    Calcula la potencia de una base.\n",
      "    \n",
      "    :param float base: base de la exponenciación.\n",
      "    :param exponente float exponente=2: exponente de la exponenciación.\n",
      "    :return float: exponenciación de los dos números pasados como argumento.\n",
      "\n"
     ]
    }
   ],
   "source": [
    "help(potencia)"
   ]
  },
  {
   "cell_type": "code",
   "execution_count": 101,
   "metadata": {},
   "outputs": [
    {
     "data": {
      "text/plain": [
       "4"
      ]
     },
     "execution_count": 101,
     "metadata": {},
     "output_type": "execute_result"
    }
   ],
   "source": [
    "potencia(2)"
   ]
  },
  {
   "cell_type": "code",
   "execution_count": 102,
   "metadata": {},
   "outputs": [
    {
     "data": {
      "text/plain": [
       "9"
      ]
     },
     "execution_count": 102,
     "metadata": {},
     "output_type": "execute_result"
    }
   ],
   "source": [
    "potencia(3)"
   ]
  },
  {
   "cell_type": "code",
   "execution_count": 103,
   "metadata": {},
   "outputs": [
    {
     "data": {
      "text/plain": [
       "8"
      ]
     },
     "execution_count": 103,
     "metadata": {},
     "output_type": "execute_result"
    }
   ],
   "source": [
    "potencia(2, 3)"
   ]
  },
  {
   "cell_type": "code",
   "execution_count": 104,
   "metadata": {},
   "outputs": [
    {
     "data": {
      "text/plain": [
       "8"
      ]
     },
     "execution_count": 104,
     "metadata": {},
     "output_type": "execute_result"
    }
   ],
   "source": [
    "potencia(base=2, exponente=3)"
   ]
  },
  {
   "cell_type": "code",
   "execution_count": 105,
   "metadata": {},
   "outputs": [
    {
     "data": {
      "text/plain": [
       "8"
      ]
     },
     "execution_count": 105,
     "metadata": {},
     "output_type": "execute_result"
    }
   ],
   "source": [
    "potencia(exponente=3, base=2)"
   ]
  },
  {
   "cell_type": "code",
   "execution_count": 106,
   "metadata": {},
   "outputs": [
    {
     "ename": "SyntaxError",
     "evalue": "positional argument follows keyword argument (<ipython-input-106-47d373192cea>, line 1)",
     "output_type": "error",
     "traceback": [
      "\u001b[1;36m  File \u001b[1;32m\"<ipython-input-106-47d373192cea>\"\u001b[1;36m, line \u001b[1;32m1\u001b[0m\n\u001b[1;33m    potencia(exponente=3, 2)\u001b[0m\n\u001b[1;37m                          ^\u001b[0m\n\u001b[1;31mSyntaxError\u001b[0m\u001b[1;31m:\u001b[0m positional argument follows keyword argument\n"
     ]
    }
   ],
   "source": [
    "# potencia(exponente=3, 2) # Genera el error SyntaxError."
   ]
  },
  {
   "cell_type": "code",
   "execution_count": 107,
   "metadata": {},
   "outputs": [
    {
     "data": {
      "text/plain": [
       "8"
      ]
     },
     "execution_count": 107,
     "metadata": {},
     "output_type": "execute_result"
    }
   ],
   "source": [
    "potencia(2, exponente=3)"
   ]
  },
  {
   "cell_type": "markdown",
   "metadata": {},
   "source": [
    "## 8.4 Funciones con parámetros de longitud variable"
   ]
  },
  {
   "cell_type": "code",
   "execution_count": 108,
   "metadata": {},
   "outputs": [
    {
     "name": "stdout",
     "output_type": "stream",
     "text": [
      "Help on built-in function print in module builtins:\n",
      "\n",
      "print(...)\n",
      "    print(value, ..., sep=' ', end='\\n', file=sys.stdout, flush=False)\n",
      "    \n",
      "    Prints the values to a stream, or to sys.stdout by default.\n",
      "    Optional keyword arguments:\n",
      "    file:  a file-like object (stream); defaults to the current sys.stdout.\n",
      "    sep:   string inserted between values, default a space.\n",
      "    end:   string appended after the last value, default a newline.\n",
      "    flush: whether to forcibly flush the stream.\n",
      "\n"
     ]
    }
   ],
   "source": [
    "help(print)"
   ]
  },
  {
   "cell_type": "code",
   "execution_count": 109,
   "metadata": {},
   "outputs": [
    {
     "name": "stdout",
     "output_type": "stream",
     "text": [
      "1 2 3 4 5 6 7 8 9 10\n"
     ]
    }
   ],
   "source": [
    "print(1, 2, 3, 4, 5, 6, 7, 8, 9, 10)"
   ]
  },
  {
   "cell_type": "code",
   "execution_count": 110,
   "metadata": {},
   "outputs": [
    {
     "name": "stdout",
     "output_type": "stream",
     "text": [
      "\n"
     ]
    }
   ],
   "source": [
    "print()"
   ]
  },
  {
   "cell_type": "code",
   "execution_count": 111,
   "metadata": {},
   "outputs": [
    {
     "name": "stdout",
     "output_type": "stream",
     "text": [
      "1\n"
     ]
    }
   ],
   "source": [
    "print(1)"
   ]
  },
  {
   "cell_type": "markdown",
   "metadata": {},
   "source": [
    "Ejemplo 8.4.1: Crear una función que sume una cantidad variable de números."
   ]
  },
  {
   "cell_type": "code",
   "execution_count": 112,
   "metadata": {},
   "outputs": [],
   "source": [
    "def sumar(*numeros):\n",
    "    \"\"\"\n",
    "    Suma una cantidad variable de números.\n",
    "    \n",
    "    :param numeros: conjunto de números a sumar.\n",
    "    :return float: suma de los números.\n",
    "    \"\"\"\n",
    "    \n",
    "    print(type(numeros))"
   ]
  },
  {
   "cell_type": "code",
   "execution_count": 113,
   "metadata": {},
   "outputs": [
    {
     "name": "stdout",
     "output_type": "stream",
     "text": [
      "<class 'tuple'>\n"
     ]
    }
   ],
   "source": [
    "sumar(1, 2, 3)"
   ]
  },
  {
   "cell_type": "code",
   "execution_count": 115,
   "metadata": {},
   "outputs": [],
   "source": [
    "def sumar(*numeros):\n",
    "    \"\"\"\n",
    "    Suma una cantidad variable de números.\n",
    "    \n",
    "    :param tuple numeros: conjunto de números a sumar.\n",
    "    :return float: suma de los números.\n",
    "    \"\"\"\n",
    "    \n",
    "    suma = 0\n",
    "    \n",
    "    for n in numeros:\n",
    "        suma += n\n",
    "    \n",
    "    return suma"
   ]
  },
  {
   "cell_type": "code",
   "execution_count": 116,
   "metadata": {},
   "outputs": [
    {
     "name": "stdout",
     "output_type": "stream",
     "text": [
      "Help on function sumar in module __main__:\n",
      "\n",
      "sumar(*numeros)\n",
      "    Suma una cantidad variable de números.\n",
      "    \n",
      "    :param tuple numeros: conjunto de números a sumar.\n",
      "    :return float: suma de los números.\n",
      "\n"
     ]
    }
   ],
   "source": [
    "help(sumar)"
   ]
  },
  {
   "cell_type": "code",
   "execution_count": 117,
   "metadata": {},
   "outputs": [
    {
     "data": {
      "text/plain": [
       "0"
      ]
     },
     "execution_count": 117,
     "metadata": {},
     "output_type": "execute_result"
    }
   ],
   "source": [
    "sumar()"
   ]
  },
  {
   "cell_type": "code",
   "execution_count": 118,
   "metadata": {},
   "outputs": [
    {
     "data": {
      "text/plain": [
       "15"
      ]
     },
     "execution_count": 118,
     "metadata": {},
     "output_type": "execute_result"
    }
   ],
   "source": [
    "sumar(1, 2, 3, 4, 5)"
   ]
  },
  {
   "cell_type": "code",
   "execution_count": 119,
   "metadata": {},
   "outputs": [
    {
     "data": {
      "text/plain": [
       "3"
      ]
     },
     "execution_count": 119,
     "metadata": {},
     "output_type": "execute_result"
    }
   ],
   "source": [
    "sumar(1, 2)"
   ]
  },
  {
   "cell_type": "code",
   "execution_count": 120,
   "metadata": {},
   "outputs": [
    {
     "data": {
      "text/plain": [
       "[1, 2, 3, 4, 5, 6, 7, 8, 9, 10]"
      ]
     },
     "execution_count": 120,
     "metadata": {},
     "output_type": "execute_result"
    }
   ],
   "source": [
    "numeros = list(range(1, 11))\n",
    "\n",
    "numeros"
   ]
  },
  {
   "cell_type": "code",
   "execution_count": 121,
   "metadata": {},
   "outputs": [
    {
     "name": "stdout",
     "output_type": "stream",
     "text": [
      "[1, 2, 3, 4, 5, 6, 7, 8, 9, 10]\n"
     ]
    }
   ],
   "source": [
    "print(numeros)"
   ]
  },
  {
   "cell_type": "code",
   "execution_count": 122,
   "metadata": {},
   "outputs": [
    {
     "name": "stdout",
     "output_type": "stream",
     "text": [
      "1 2 3 4 5 6 7 8 9 10\n"
     ]
    }
   ],
   "source": [
    "print(*numeros)"
   ]
  },
  {
   "cell_type": "code",
   "execution_count": 124,
   "metadata": {},
   "outputs": [
    {
     "name": "stdout",
     "output_type": "stream",
     "text": [
      "[1, 2, 3, 4, 5, 6, 7, 8, 9, 10]\n"
     ]
    }
   ],
   "source": [
    "print(numeros, sep=';')"
   ]
  },
  {
   "cell_type": "markdown",
   "metadata": {},
   "source": [
    "Expande (de-construye) la lista `numeros` y cada elemento individual se convierte en argumento de la función `print()`.\n",
    "\n",
    "Además, cada elemento (número) cuando imprima va a quedar separado por un punto y coma (;)."
   ]
  },
  {
   "cell_type": "code",
   "execution_count": 125,
   "metadata": {},
   "outputs": [
    {
     "name": "stdout",
     "output_type": "stream",
     "text": [
      "1;2;3;4;5;6;7;8;9;10\n"
     ]
    }
   ],
   "source": [
    "print(*numeros, sep=';')"
   ]
  },
  {
   "cell_type": "code",
   "execution_count": 126,
   "metadata": {},
   "outputs": [
    {
     "data": {
      "text/plain": [
       "55"
      ]
     },
     "execution_count": 126,
     "metadata": {},
     "output_type": "execute_result"
    }
   ],
   "source": [
    "sumar(*numeros)"
   ]
  },
  {
   "cell_type": "markdown",
   "metadata": {},
   "source": [
    "## 8.5 Parámetros llave/valor"
   ]
  },
  {
   "cell_type": "code",
   "execution_count": 127,
   "metadata": {},
   "outputs": [],
   "source": [
    "def funcion(**parametros):\n",
    "    print(type(parametros))\n",
    "    print(parametros)"
   ]
  },
  {
   "cell_type": "code",
   "execution_count": 128,
   "metadata": {},
   "outputs": [
    {
     "data": {
      "text/plain": [
       "function"
      ]
     },
     "execution_count": 128,
     "metadata": {},
     "output_type": "execute_result"
    }
   ],
   "source": [
    "type(funcion)"
   ]
  },
  {
   "cell_type": "code",
   "execution_count": 129,
   "metadata": {},
   "outputs": [
    {
     "name": "stdout",
     "output_type": "stream",
     "text": [
      "Help on function funcion in module __main__:\n",
      "\n",
      "funcion(**parametros)\n",
      "\n"
     ]
    }
   ],
   "source": [
    "help(funcion)"
   ]
  },
  {
   "cell_type": "code",
   "execution_count": 130,
   "metadata": {},
   "outputs": [
    {
     "name": "stdout",
     "output_type": "stream",
     "text": [
      "<class 'dict'>\n",
      "{'llave1': 100, 'llave2': 200, 'llave': 300}\n"
     ]
    }
   ],
   "source": [
    "funcion(llave1=100, llave2=200, llave3=300)"
   ]
  },
  {
   "cell_type": "code",
   "execution_count": 132,
   "metadata": {},
   "outputs": [
    {
     "data": {
      "text/plain": [
       "{'llave1': 100, 'llave2': 200, 'llave3': 300}"
      ]
     },
     "execution_count": 132,
     "metadata": {},
     "output_type": "execute_result"
    }
   ],
   "source": [
    "datos = {'llave1': 100, 'llave2': 200, 'llave3': 300}\n",
    "\n",
    "datos"
   ]
  },
  {
   "cell_type": "code",
   "execution_count": 134,
   "metadata": {},
   "outputs": [
    {
     "name": "stdout",
     "output_type": "stream",
     "text": [
      "<class 'dict'>\n",
      "{'llave1': 100, 'llave2': 200, 'llave3': 300}\n"
     ]
    }
   ],
   "source": [
    "funcion(**datos)"
   ]
  },
  {
   "cell_type": "code",
   "execution_count": 144,
   "metadata": {},
   "outputs": [],
   "source": [
    "def calcular_total_salarios(**datos):\n",
    "    \"\"\"\n",
    "    Calcula el total de los n salarios que se pasan como argumentos.\n",
    "    \n",
    "    :param dict datos: diccionario con los datos de los salarios (nombre_trabajador: salario).\n",
    "    :return float: salarios incrementados en 19%.\n",
    "    \"\"\"\n",
    "    \n",
    "    for k, v in datos.items():\n",
    "        datos[k] = v * 1.19\n",
    "    \n",
    "    return datos"
   ]
  },
  {
   "cell_type": "code",
   "execution_count": 145,
   "metadata": {},
   "outputs": [
    {
     "name": "stdout",
     "output_type": "stream",
     "text": [
      "Help on function calcular_total_salarios in module __main__:\n",
      "\n",
      "calcular_total_salarios(**datos)\n",
      "    Calcula el total de los n salarios que se pasan como argumentos.\n",
      "    \n",
      "    :param dict datos: diccionario con los datos de los salarios (nombre_trabajador: salario).\n",
      "    :return float: salarios incrementados en 19%.\n",
      "\n"
     ]
    }
   ],
   "source": [
    "help(calcular_total_salarios)"
   ]
  },
  {
   "cell_type": "code",
   "execution_count": 146,
   "metadata": {},
   "outputs": [
    {
     "data": {
      "text/plain": [
       "{'Diana': 1000, 'Kevin': 1500, 'Alex': 1000, 'Angela': 2500}"
      ]
     },
     "execution_count": 146,
     "metadata": {},
     "output_type": "execute_result"
    }
   ],
   "source": [
    "trabajadores = {'Diana': 1000, 'Kevin': 1500, 'Alex': 1000, 'Angela': 2500}\n",
    "\n",
    "trabajadores"
   ]
  },
  {
   "cell_type": "code",
   "execution_count": 148,
   "metadata": {},
   "outputs": [
    {
     "data": {
      "text/plain": [
       "{'Diana': 1190.0, 'Kevin': 1785.0, 'Alex': 1190.0, 'Angela': 2975.0}"
      ]
     },
     "execution_count": 148,
     "metadata": {},
     "output_type": "execute_result"
    }
   ],
   "source": [
    "resultado = calcular_total_salarios(**trabajadores)\n",
    "\n",
    "resultado"
   ]
  },
  {
   "cell_type": "code",
   "execution_count": 149,
   "metadata": {},
   "outputs": [
    {
     "data": {
      "text/plain": [
       "{'Diana': 1000, 'Kevin': 1500, 'Alex': 1000, 'Angela': 2500, 'Marcela': 2300}"
      ]
     },
     "execution_count": 149,
     "metadata": {},
     "output_type": "execute_result"
    }
   ],
   "source": [
    "trabajadores['Marcela'] = 2300\n",
    "\n",
    "trabajadores"
   ]
  },
  {
   "cell_type": "code",
   "execution_count": 150,
   "metadata": {},
   "outputs": [],
   "source": [
    "resultado = calcular_total_salarios(**trabajadores)"
   ]
  },
  {
   "cell_type": "code",
   "execution_count": 152,
   "metadata": {},
   "outputs": [
    {
     "data": {
      "text/plain": [
       "{'Diana': 1190.0,\n",
       " 'Kevin': 1785.0,\n",
       " 'Alex': 1190.0,\n",
       " 'Angela': 2975.0,\n",
       " 'Marcela': 2737.0}"
      ]
     },
     "execution_count": 152,
     "metadata": {},
     "output_type": "execute_result"
    }
   ],
   "source": [
    "resultado"
   ]
  },
  {
   "cell_type": "markdown",
   "metadata": {},
   "source": [
    "## 8.6 Funciones generadores\n",
    "\n",
    "Es un tipo de función que genera valores a partir de un cuerpo de implementación (conjunto de operaciones).\n",
    "\n",
    "Las funciones generadores producen valores **según se vayan necesitando**.\n",
    "\n",
    "Una de las diferencias esenciales respecto a una función común y corriente consiste en que las funciones generadores no terminan hasta que se cumpla una condición. Esa condición viene determinada por el número de apariciones de la sentencia `yield`."
   ]
  },
  {
   "cell_type": "code",
   "execution_count": 153,
   "metadata": {},
   "outputs": [],
   "source": [
    "def generar_enteros():\n",
    "    n = 0\n",
    "    while True:\n",
    "        yield n\n",
    "        n += 1"
   ]
  },
  {
   "cell_type": "code",
   "execution_count": 154,
   "metadata": {},
   "outputs": [],
   "source": [
    "generador = generar_enteros()"
   ]
  },
  {
   "cell_type": "code",
   "execution_count": 155,
   "metadata": {},
   "outputs": [
    {
     "data": {
      "text/plain": [
       "0"
      ]
     },
     "execution_count": 155,
     "metadata": {},
     "output_type": "execute_result"
    }
   ],
   "source": [
    "next(generador)"
   ]
  },
  {
   "cell_type": "code",
   "execution_count": 156,
   "metadata": {},
   "outputs": [
    {
     "data": {
      "text/plain": [
       "1"
      ]
     },
     "execution_count": 156,
     "metadata": {},
     "output_type": "execute_result"
    }
   ],
   "source": [
    "next(generador)"
   ]
  },
  {
   "cell_type": "code",
   "execution_count": 157,
   "metadata": {},
   "outputs": [
    {
     "data": {
      "text/plain": [
       "2"
      ]
     },
     "execution_count": 157,
     "metadata": {},
     "output_type": "execute_result"
    }
   ],
   "source": [
    "next(generador)"
   ]
  },
  {
   "cell_type": "code",
   "execution_count": 158,
   "metadata": {},
   "outputs": [
    {
     "data": {
      "text/plain": [
       "3"
      ]
     },
     "execution_count": 158,
     "metadata": {},
     "output_type": "execute_result"
    }
   ],
   "source": [
    "next(generador)"
   ]
  },
  {
   "cell_type": "code",
   "execution_count": 159,
   "metadata": {},
   "outputs": [
    {
     "data": {
      "text/plain": [
       "4"
      ]
     },
     "execution_count": 159,
     "metadata": {},
     "output_type": "execute_result"
    }
   ],
   "source": [
    "next(generador)"
   ]
  },
  {
   "cell_type": "markdown",
   "metadata": {},
   "source": [
    "Ejemplo 8.6.1:\n",
    "\n",
    "Crear una función generadora para generar números primos.\n",
    "\n",
    "Un número primo es aquel número natural que es divisible por sí mismo y la unidad."
   ]
  },
  {
   "cell_type": "code",
   "execution_count": 160,
   "metadata": {},
   "outputs": [],
   "source": [
    "def generar_primos():\n",
    "    \"\"\"\n",
    "    Genera un números primos de forma indefinida.\n",
    "    \n",
    "    :yield: es un número primo.\n",
    "    \"\"\"\n",
    "    numero = 2\n",
    "    yield numero\n",
    "    \n",
    "    while True:\n",
    "        numero_temporal = numero + 1\n",
    "        contador = 0\n",
    "        \n",
    "        for i in range(1, numero_temporal + 1):\n",
    "            if numero_temporal % i == 0:\n",
    "                contador += 1\n",
    "        \n",
    "        numero = numero_temporal\n",
    "        if contador == 2:\n",
    "            yield numero"
   ]
  },
  {
   "cell_type": "code",
   "execution_count": 161,
   "metadata": {},
   "outputs": [
    {
     "name": "stdout",
     "output_type": "stream",
     "text": [
      "Help on function generar_primos in module __main__:\n",
      "\n",
      "generar_primos()\n",
      "    Genera un números primos de forma indefinida.\n",
      "    \n",
      "    :yield: es un número primo.\n",
      "\n"
     ]
    }
   ],
   "source": [
    "help(generar_primos)"
   ]
  },
  {
   "cell_type": "code",
   "execution_count": 162,
   "metadata": {},
   "outputs": [],
   "source": [
    "generador = generar_primos()"
   ]
  },
  {
   "cell_type": "code",
   "execution_count": 163,
   "metadata": {},
   "outputs": [
    {
     "data": {
      "text/plain": [
       "generator"
      ]
     },
     "execution_count": 163,
     "metadata": {},
     "output_type": "execute_result"
    }
   ],
   "source": [
    "type(generador)"
   ]
  },
  {
   "cell_type": "code",
   "execution_count": 165,
   "metadata": {},
   "outputs": [
    {
     "data": {
      "text/plain": [
       "2"
      ]
     },
     "execution_count": 165,
     "metadata": {},
     "output_type": "execute_result"
    }
   ],
   "source": [
    "next(generador)"
   ]
  },
  {
   "cell_type": "code",
   "execution_count": 166,
   "metadata": {},
   "outputs": [
    {
     "name": "stdout",
     "output_type": "stream",
     "text": [
      "3\n",
      "5\n",
      "7\n",
      "11\n",
      "13\n",
      "17\n",
      "19\n",
      "23\n",
      "29\n",
      "31\n"
     ]
    }
   ],
   "source": [
    "for i in range(10):\n",
    "    print(next(generador))"
   ]
  },
  {
   "cell_type": "code",
   "execution_count": null,
   "metadata": {},
   "outputs": [],
   "source": []
  }
 ],
 "metadata": {
  "kernelspec": {
   "display_name": "Python 3",
   "language": "python",
   "name": "python3"
  },
  "language_info": {
   "codemirror_mode": {
    "name": "ipython",
    "version": 3
   },
   "file_extension": ".py",
   "mimetype": "text/x-python",
   "name": "python",
   "nbconvert_exporter": "python",
   "pygments_lexer": "ipython3",
   "version": "3.8.3"
  }
 },
 "nbformat": 4,
 "nbformat_minor": 4
}
