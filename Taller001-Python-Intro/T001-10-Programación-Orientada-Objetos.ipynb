{
 "cells": [
  {
   "cell_type": "markdown",
   "metadata": {},
   "source": [
    "# 10. Programación Orientada a Objetos (POO)\n",
    "\n",
    "El mundo real (o el mundo natural) está compuesto de objetos. Esos objetos (o entidades) se pueden representar computacionalmente para la creación de aplicaciones de software.\n",
    "\n",
    "La POO es una técnica o una tecnología que permite simular la realidad con el fin de resolver problemas de una manera más exacta y eficiente.\n",
    "\n",
    "Miembros de una clase:\n",
    "- Campos de instancia: representan el estado del objeto.\n",
    "- Métodos de instancia: representan el comportamiento del objeto."
   ]
  },
  {
   "cell_type": "markdown",
   "metadata": {},
   "source": [
    "## 10.1 Crear una clase de objeto"
   ]
  },
  {
   "cell_type": "code",
   "execution_count": 1,
   "metadata": {},
   "outputs": [],
   "source": [
    "class Persona:\n",
    "    \n",
    "    def __init__(self, documento, nombre_completo, email, direccion):\n",
    "        self.documento = documento\n",
    "        self.nombre_completo = nombre_completo\n",
    "        self.email = email\n",
    "        self.direccion = direccion"
   ]
  },
  {
   "cell_type": "code",
   "execution_count": null,
   "metadata": {},
   "outputs": [],
   "source": []
  }
 ],
 "metadata": {
  "kernelspec": {
   "display_name": "Python 3",
   "language": "python",
   "name": "python3"
  },
  "language_info": {
   "codemirror_mode": {
    "name": "ipython",
    "version": 3
   },
   "file_extension": ".py",
   "mimetype": "text/x-python",
   "name": "python",
   "nbconvert_exporter": "python",
   "pygments_lexer": "ipython3",
   "version": "3.8.3"
  }
 },
 "nbformat": 4,
 "nbformat_minor": 4
}
