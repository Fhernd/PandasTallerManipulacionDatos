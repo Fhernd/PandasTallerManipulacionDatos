{
 "cells": [
  {
   "cell_type": "markdown",
   "metadata": {},
   "source": [
    "# 10. Programación Orientada a Objetos (POO)\n",
    "\n",
    "El mundo real (o el mundo natural) está compuesto de objetos. Esos objetos (o entidades) se pueden representar computacionalmente para la creación de aplicaciones de software.\n",
    "\n",
    "La POO es una técnica o una tecnología que permite simular la realidad con el fin de resolver problemas de una manera más exacta y eficiente.\n",
    "\n",
    "Miembros de una clase:\n",
    "- Campos de instancia: representan el estado del objeto.\n",
    "- Métodos de instancia: representan el comportamiento del objeto."
   ]
  },
  {
   "cell_type": "markdown",
   "metadata": {},
   "source": [
    "## 10.1 Crear una clase de objeto"
   ]
  },
  {
   "cell_type": "code",
   "execution_count": 1,
   "metadata": {},
   "outputs": [],
   "source": [
    "class Persona:\n",
    "    \n",
    "    def __init__(self, documento, nombre_completo, email, direccion):\n",
    "        self.documento = documento\n",
    "        self.nombre_completo = nombre_completo\n",
    "        self.email = email\n",
    "        self.direccion = direccion\n",
    "    \n",
    "    def caminar(self):\n",
    "        print('La persona está caminando.')\n",
    "    \n",
    "    def trabajar(self):\n",
    "        print('La persona está trabajando.')"
   ]
  },
  {
   "cell_type": "markdown",
   "metadata": {},
   "source": [
    "## 10.2 Instanciación de un objeto a partir de una clase"
   ]
  },
  {
   "cell_type": "code",
   "execution_count": 2,
   "metadata": {},
   "outputs": [],
   "source": [
    "cristian = Persona(123456789, 'Cristián Javier Ocampo', 'cristian@mail.co', 'Carrera 10 134-93')"
   ]
  },
  {
   "cell_type": "code",
   "execution_count": 3,
   "metadata": {},
   "outputs": [
    {
     "data": {
      "text/plain": [
       "<__main__.Persona at 0x27fbd672940>"
      ]
     },
     "execution_count": 3,
     "metadata": {},
     "output_type": "execute_result"
    }
   ],
   "source": [
    "cristian"
   ]
  },
  {
   "cell_type": "code",
   "execution_count": 4,
   "metadata": {},
   "outputs": [
    {
     "data": {
      "text/plain": [
       "__main__.Persona"
      ]
     },
     "execution_count": 4,
     "metadata": {},
     "output_type": "execute_result"
    }
   ],
   "source": [
    "type(cristian)"
   ]
  },
  {
   "cell_type": "markdown",
   "metadata": {},
   "source": [
    "## 10.3 Acceso a las propiedades de un objeto"
   ]
  },
  {
   "cell_type": "code",
   "execution_count": 5,
   "metadata": {},
   "outputs": [
    {
     "data": {
      "text/plain": [
       "123456789"
      ]
     },
     "execution_count": 5,
     "metadata": {},
     "output_type": "execute_result"
    }
   ],
   "source": [
    "cristian.documento"
   ]
  },
  {
   "cell_type": "code",
   "execution_count": 6,
   "metadata": {},
   "outputs": [
    {
     "data": {
      "text/plain": [
       "'Carrera 10 134-93'"
      ]
     },
     "execution_count": 6,
     "metadata": {},
     "output_type": "execute_result"
    }
   ],
   "source": [
    "cristian.direccion"
   ]
  },
  {
   "cell_type": "code",
   "execution_count": 7,
   "metadata": {},
   "outputs": [
    {
     "data": {
      "text/plain": [
       "'Cristián Javier Ocampo'"
      ]
     },
     "execution_count": 7,
     "metadata": {},
     "output_type": "execute_result"
    }
   ],
   "source": [
    "cristian.nombre_completo"
   ]
  },
  {
   "cell_type": "code",
   "execution_count": 8,
   "metadata": {},
   "outputs": [
    {
     "data": {
      "text/plain": [
       "'cristian@mail.co'"
      ]
     },
     "execution_count": 8,
     "metadata": {},
     "output_type": "execute_result"
    }
   ],
   "source": [
    "cristian.email"
   ]
  },
  {
   "cell_type": "markdown",
   "metadata": {},
   "source": [
    "## 10.4 Invocar (llamar) funciones de un objeto\n",
    "\n",
    "A las funciones en un objeto se les conoce como métodos."
   ]
  },
  {
   "cell_type": "code",
   "execution_count": 9,
   "metadata": {},
   "outputs": [
    {
     "name": "stdout",
     "output_type": "stream",
     "text": [
      "La persona está caminando.\n"
     ]
    }
   ],
   "source": [
    "cristian.caminar()"
   ]
  },
  {
   "cell_type": "code",
   "execution_count": 10,
   "metadata": {},
   "outputs": [
    {
     "name": "stdout",
     "output_type": "stream",
     "text": [
      "La persona está trabajando.\n"
     ]
    }
   ],
   "source": [
    "cristian.trabajar()"
   ]
  },
  {
   "cell_type": "markdown",
   "metadata": {},
   "source": [
    "**Ejemplo 10.1**:\n",
    "\n",
    "Crear una clase que represente la entidad calculadora. Dentro de la implementación se deben crear los métodos asociados a las operaciones aritméticas básicas (suma, resta, multiplicación, y división)."
   ]
  },
  {
   "cell_type": "code",
   "execution_count": 11,
   "metadata": {},
   "outputs": [],
   "source": [
    "class Calculadora:\n",
    "    \n",
    "    def sumar(self, a, b):\n",
    "        \"\"\"\n",
    "        Suma dos valores numéricos.\n",
    "        \n",
    "        a: Primer número a sumar.\n",
    "        b: Segundo número a sumar.\n",
    "        \n",
    "        return: Suma de los dos valores.\n",
    "        \"\"\"\n",
    "        suma = a + b\n",
    "        \n",
    "        return suma\n",
    "    \n",
    "    def restar(self, a, b):\n",
    "        \"\"\"\n",
    "        Resta dos valores numéricos.\n",
    "        \n",
    "        a: Primer número a restar.\n",
    "        b: Segundo número a restar.\n",
    "        \n",
    "        return: Resta de los dos valores.\n",
    "        \"\"\"\n",
    "        resta = a - b\n",
    "        \n",
    "        return resta\n",
    "    \n",
    "    def multiplicar(self, a, b):\n",
    "        \"\"\"\n",
    "        Multiplica dos valores numéricos.\n",
    "        \n",
    "        a: Primer número a multiplicar.\n",
    "        b: Segundo número a multiplicar.\n",
    "        \n",
    "        return: Multiplicación de los dos valores.\n",
    "        \"\"\"\n",
    "        multiplicacion = a * b\n",
    "        \n",
    "        return multiplicacion\n",
    "    \n",
    "    def dividir(self, a, b):\n",
    "        \"\"\"\n",
    "        Divide dos valores numéricos.\n",
    "        \n",
    "        a: Primer número a dividir.\n",
    "        b: Segundo número a dividir.\n",
    "        \n",
    "        return: División de los dos valores.\n",
    "        \"\"\"\n",
    "        division = a / b\n",
    "        \n",
    "        return division"
   ]
  },
  {
   "cell_type": "code",
   "execution_count": 12,
   "metadata": {},
   "outputs": [],
   "source": [
    "calculadora_basica = Calculadora()"
   ]
  },
  {
   "cell_type": "code",
   "execution_count": 13,
   "metadata": {},
   "outputs": [
    {
     "data": {
      "text/plain": [
       "__main__.Calculadora"
      ]
     },
     "execution_count": 13,
     "metadata": {},
     "output_type": "execute_result"
    }
   ],
   "source": [
    "type(calculadora_basica)"
   ]
  },
  {
   "cell_type": "code",
   "execution_count": 14,
   "metadata": {},
   "outputs": [
    {
     "data": {
      "text/plain": [
       "2747662015072"
      ]
     },
     "execution_count": 14,
     "metadata": {},
     "output_type": "execute_result"
    }
   ],
   "source": [
    "id(calculadora_basica)"
   ]
  },
  {
   "cell_type": "code",
   "execution_count": 15,
   "metadata": {},
   "outputs": [],
   "source": [
    "calculadora_aritmetica = Calculadora()"
   ]
  },
  {
   "cell_type": "code",
   "execution_count": 16,
   "metadata": {},
   "outputs": [
    {
     "data": {
      "text/plain": [
       "__main__.Calculadora"
      ]
     },
     "execution_count": 16,
     "metadata": {},
     "output_type": "execute_result"
    }
   ],
   "source": [
    "type(calculadora_aritmetica)"
   ]
  },
  {
   "cell_type": "code",
   "execution_count": 17,
   "metadata": {},
   "outputs": [
    {
     "data": {
      "text/plain": [
       "2747662015696"
      ]
     },
     "execution_count": 17,
     "metadata": {},
     "output_type": "execute_result"
    }
   ],
   "source": [
    "id(calculadora_aritmetica)"
   ]
  },
  {
   "cell_type": "code",
   "execution_count": 18,
   "metadata": {},
   "outputs": [
    {
     "data": {
      "text/plain": [
       "False"
      ]
     },
     "execution_count": 18,
     "metadata": {},
     "output_type": "execute_result"
    }
   ],
   "source": [
    "id(calculadora_basica) == id(calculadora_aritmetica)"
   ]
  },
  {
   "cell_type": "markdown",
   "metadata": {},
   "source": [
    "**Nota:** Cada objeto/instancia tiene recursos computacionales asociados. No pueden existir dos objetos diferentes que ocupen el mismo espacio en memoria."
   ]
  },
  {
   "cell_type": "markdown",
   "metadata": {},
   "source": [
    "Cada instancia/objeto tiene los mismos métodos y atributos, **PERO** con estado diferente."
   ]
  },
  {
   "cell_type": "code",
   "execution_count": 19,
   "metadata": {},
   "outputs": [
    {
     "data": {
      "text/plain": [
       "True"
      ]
     },
     "execution_count": 19,
     "metadata": {},
     "output_type": "execute_result"
    }
   ],
   "source": [
    "isinstance(calculadora_basica, Calculadora)"
   ]
  },
  {
   "cell_type": "code",
   "execution_count": 20,
   "metadata": {},
   "outputs": [
    {
     "data": {
      "text/plain": [
       "True"
      ]
     },
     "execution_count": 20,
     "metadata": {},
     "output_type": "execute_result"
    }
   ],
   "source": [
    "isinstance(calculadora_aritmetica, Calculadora)"
   ]
  },
  {
   "cell_type": "code",
   "execution_count": 21,
   "metadata": {},
   "outputs": [],
   "source": [
    "numeros = [2, 3, 5]"
   ]
  },
  {
   "cell_type": "code",
   "execution_count": 22,
   "metadata": {},
   "outputs": [
    {
     "data": {
      "text/plain": [
       "list"
      ]
     },
     "execution_count": 22,
     "metadata": {},
     "output_type": "execute_result"
    }
   ],
   "source": [
    "type(numeros)"
   ]
  },
  {
   "cell_type": "code",
   "execution_count": 23,
   "metadata": {},
   "outputs": [
    {
     "data": {
      "text/plain": [
       "False"
      ]
     },
     "execution_count": 23,
     "metadata": {},
     "output_type": "execute_result"
    }
   ],
   "source": [
    "isinstance(numeros, Calculadora)"
   ]
  },
  {
   "cell_type": "markdown",
   "metadata": {},
   "source": [
    "Llamar/invocar los métodos de una instancia de una clase:"
   ]
  },
  {
   "cell_type": "code",
   "execution_count": 24,
   "metadata": {},
   "outputs": [
    {
     "data": {
      "text/plain": [
       "5"
      ]
     },
     "execution_count": 24,
     "metadata": {},
     "output_type": "execute_result"
    }
   ],
   "source": [
    "calculadora_basica.sumar(2, 3)"
   ]
  },
  {
   "cell_type": "code",
   "execution_count": 25,
   "metadata": {},
   "outputs": [
    {
     "data": {
      "text/plain": [
       "-1"
      ]
     },
     "execution_count": 25,
     "metadata": {},
     "output_type": "execute_result"
    }
   ],
   "source": [
    "calculadora_basica.restar(2, 3)"
   ]
  },
  {
   "cell_type": "code",
   "execution_count": 26,
   "metadata": {},
   "outputs": [
    {
     "data": {
      "text/plain": [
       "6"
      ]
     },
     "execution_count": 26,
     "metadata": {},
     "output_type": "execute_result"
    }
   ],
   "source": [
    "calculadora_basica.multiplicar(2, 3)"
   ]
  },
  {
   "cell_type": "code",
   "execution_count": 27,
   "metadata": {},
   "outputs": [
    {
     "data": {
      "text/plain": [
       "0.6666666666666666"
      ]
     },
     "execution_count": 27,
     "metadata": {},
     "output_type": "execute_result"
    }
   ],
   "source": [
    "calculadora_basica.dividir(2, 3)"
   ]
  },
  {
   "cell_type": "code",
   "execution_count": 28,
   "metadata": {},
   "outputs": [
    {
     "data": {
      "text/plain": [
       "5"
      ]
     },
     "execution_count": 28,
     "metadata": {},
     "output_type": "execute_result"
    }
   ],
   "source": [
    "calculadora_aritmetica.sumar(2, 3)"
   ]
  },
  {
   "cell_type": "code",
   "execution_count": 29,
   "metadata": {},
   "outputs": [
    {
     "data": {
      "text/plain": [
       "-1"
      ]
     },
     "execution_count": 29,
     "metadata": {},
     "output_type": "execute_result"
    }
   ],
   "source": [
    "calculadora_aritmetica.restar(2, 3)"
   ]
  },
  {
   "cell_type": "code",
   "execution_count": 30,
   "metadata": {},
   "outputs": [
    {
     "data": {
      "text/plain": [
       "6"
      ]
     },
     "execution_count": 30,
     "metadata": {},
     "output_type": "execute_result"
    }
   ],
   "source": [
    "calculadora_aritmetica.multiplicar(2, 3)"
   ]
  },
  {
   "cell_type": "code",
   "execution_count": 31,
   "metadata": {},
   "outputs": [
    {
     "data": {
      "text/plain": [
       "0.6666666666666666"
      ]
     },
     "execution_count": 31,
     "metadata": {},
     "output_type": "execute_result"
    }
   ],
   "source": [
    "calculadora_aritmetica.dividir(2, 3)"
   ]
  },
  {
   "cell_type": "markdown",
   "metadata": {},
   "source": [
    "Consultar la documentación de funciones que están definidas en una clase:"
   ]
  },
  {
   "cell_type": "code",
   "execution_count": 32,
   "metadata": {},
   "outputs": [
    {
     "name": "stdout",
     "output_type": "stream",
     "text": [
      "Help on method sumar in module __main__:\n",
      "\n",
      "sumar(a, b) method of __main__.Calculadora instance\n",
      "    Suma dos valores numéricos.\n",
      "    \n",
      "    a: Primer número a sumar.\n",
      "    b: Segundo número a sumar.\n",
      "    \n",
      "    return: Suma de los dos valores.\n",
      "\n"
     ]
    }
   ],
   "source": [
    "help(calculadora_aritmetica.sumar)"
   ]
  },
  {
   "cell_type": "code",
   "execution_count": 33,
   "metadata": {},
   "outputs": [
    {
     "name": "stdout",
     "output_type": "stream",
     "text": [
      "Help on method multiplicar in module __main__:\n",
      "\n",
      "multiplicar(a, b) method of __main__.Calculadora instance\n",
      "    Multiplica dos valores numéricos.\n",
      "    \n",
      "    a: Primer número a multiplicar.\n",
      "    b: Segundo número a multiplicar.\n",
      "    \n",
      "    return: Multiplicación de los dos valores.\n",
      "\n"
     ]
    }
   ],
   "source": [
    "help(calculadora_aritmetica.multiplicar)"
   ]
  },
  {
   "cell_type": "markdown",
   "metadata": {},
   "source": [
    "# 10.5 Cambiar el estado de un objeto a través de métodos de instancia\n",
    "\n",
    "Los métodos de instancia son funciones especiales que pertenecen a una clase. Cada objeto que se instancie tendrá acceso a esos métodos.\n",
    "\n",
    "Estos métodos tienen un parámetro obligatorio: `self`.\n",
    "\n",
    "Las funciones (métodos de instancia) definen lo que el objeto (entidad) puede hacer (comportamiento)."
   ]
  },
  {
   "cell_type": "markdown",
   "metadata": {},
   "source": [
    "**Ejemplo 10.2:**\n",
    "\n",
    "Crear una clase que represente una cuenta bancaria.\n",
    "\n",
    "Sobre una cuenta bancaria se pueden realizar las siguientes operaciones:\n",
    "\n",
    "1. Abrir cuenta\n",
    "2. Depositar dinero\n",
    "3. Retirar dinero\n",
    "4. Consultar saldo\n",
    "5. Cerrar cuenta\n",
    "\n",
    "También se deben incluir atributos (propiedades o características) como:\n",
    "\n",
    "1. Nombre del cliente\n",
    "2. Número de la cuenta\n",
    "3. Saldo\n",
    "4. Estado (activo o inactivo)"
   ]
  },
  {
   "cell_type": "code",
   "execution_count": 34,
   "metadata": {},
   "outputs": [],
   "source": [
    "class CuentaBancaria:\n",
    "    \n",
    "    def __init__(self, numero, cliente, saldo=10000, estado=True):\n",
    "        self.numero = numero\n",
    "        self.cliente = cliente\n",
    "        self.saldo = saldo\n",
    "        self.estado = estado\n",
    "    \n",
    "    def depositar(self, cantidad):\n",
    "        \"\"\"\n",
    "        Deposita cierta cantidad de dinero en la cuenta.\n",
    "        \n",
    "        :cantidad: Cantidad de dinero a depositar.\n",
    "        \"\"\"\n",
    "        if self.estado and cantidad > 0:\n",
    "            self.saldo += cantidad\n",
    "    \n",
    "    def retirar(self, cantidad):\n",
    "        \"\"\"\n",
    "        Retira cierta cantidad de dinero.\n",
    "        \n",
    "        :cantidad: Cantidad de dinero a retirar.\n",
    "        \"\"\"\n",
    "        if self.estado and cantidad > 0 and cantidad <= self.saldo:\n",
    "            self.saldo -= cantidad\n",
    "    \n",
    "    def cerrar_cuenta(self):\n",
    "        \"\"\"\n",
    "        Cierra la cuenta bancaria.\n",
    "        \"\"\"\n",
    "        self.estado = False"
   ]
  },
  {
   "cell_type": "code",
   "execution_count": 35,
   "metadata": {},
   "outputs": [],
   "source": [
    "cuenta_ahorros = CuentaBancaria(123456789, 'Juan Urbano', 50000)"
   ]
  },
  {
   "cell_type": "code",
   "execution_count": 36,
   "metadata": {},
   "outputs": [
    {
     "data": {
      "text/plain": [
       "<__main__.CuentaBancaria at 0x27fbd6c68e0>"
      ]
     },
     "execution_count": 36,
     "metadata": {},
     "output_type": "execute_result"
    }
   ],
   "source": [
    "cuenta_ahorros"
   ]
  },
  {
   "cell_type": "code",
   "execution_count": 37,
   "metadata": {},
   "outputs": [
    {
     "data": {
      "text/plain": [
       "'Juan Urbano'"
      ]
     },
     "execution_count": 37,
     "metadata": {},
     "output_type": "execute_result"
    }
   ],
   "source": [
    "cuenta_ahorros.cliente"
   ]
  },
  {
   "cell_type": "code",
   "execution_count": 38,
   "metadata": {},
   "outputs": [
    {
     "data": {
      "text/plain": [
       "True"
      ]
     },
     "execution_count": 38,
     "metadata": {},
     "output_type": "execute_result"
    }
   ],
   "source": [
    "cuenta_ahorros.estado"
   ]
  },
  {
   "cell_type": "code",
   "execution_count": 39,
   "metadata": {},
   "outputs": [
    {
     "data": {
      "text/plain": [
       "123456789"
      ]
     },
     "execution_count": 39,
     "metadata": {},
     "output_type": "execute_result"
    }
   ],
   "source": [
    "cuenta_ahorros.numero"
   ]
  },
  {
   "cell_type": "code",
   "execution_count": 40,
   "metadata": {},
   "outputs": [
    {
     "data": {
      "text/plain": [
       "50000"
      ]
     },
     "execution_count": 40,
     "metadata": {},
     "output_type": "execute_result"
    }
   ],
   "source": [
    "cuenta_ahorros.saldo"
   ]
  },
  {
   "cell_type": "markdown",
   "metadata": {},
   "source": [
    "Podemos preguntar por el tipo de dato de una variable utilizando la función `type()`:"
   ]
  },
  {
   "cell_type": "code",
   "execution_count": 41,
   "metadata": {},
   "outputs": [
    {
     "data": {
      "text/plain": [
       "__main__.CuentaBancaria"
      ]
     },
     "execution_count": 41,
     "metadata": {},
     "output_type": "execute_result"
    }
   ],
   "source": [
    "type(cuenta_ahorros)"
   ]
  },
  {
   "cell_type": "code",
   "execution_count": 42,
   "metadata": {},
   "outputs": [
    {
     "data": {
      "text/plain": [
       "True"
      ]
     },
     "execution_count": 42,
     "metadata": {},
     "output_type": "execute_result"
    }
   ],
   "source": [
    "isinstance(cuenta_ahorros, CuentaBancaria)"
   ]
  },
  {
   "cell_type": "code",
   "execution_count": 43,
   "metadata": {},
   "outputs": [
    {
     "data": {
      "text/plain": [
       "True"
      ]
     },
     "execution_count": 43,
     "metadata": {},
     "output_type": "execute_result"
    }
   ],
   "source": [
    "type(cuenta_ahorros) in [CuentaBancaria]"
   ]
  },
  {
   "cell_type": "code",
   "execution_count": 44,
   "metadata": {},
   "outputs": [
    {
     "data": {
      "text/plain": [
       "False"
      ]
     },
     "execution_count": 44,
     "metadata": {},
     "output_type": "execute_result"
    }
   ],
   "source": [
    "type('Python') in [CuentaBancaria]"
   ]
  },
  {
   "cell_type": "markdown",
   "metadata": {},
   "source": [
    "Realizar operaciones sobre un objeto de tipo `CuentaBancaria`:"
   ]
  },
  {
   "cell_type": "code",
   "execution_count": 45,
   "metadata": {},
   "outputs": [
    {
     "data": {
      "text/plain": [
       "['__class__',\n",
       " '__delattr__',\n",
       " '__dict__',\n",
       " '__dir__',\n",
       " '__doc__',\n",
       " '__eq__',\n",
       " '__format__',\n",
       " '__ge__',\n",
       " '__getattribute__',\n",
       " '__gt__',\n",
       " '__hash__',\n",
       " '__init__',\n",
       " '__init_subclass__',\n",
       " '__le__',\n",
       " '__lt__',\n",
       " '__module__',\n",
       " '__ne__',\n",
       " '__new__',\n",
       " '__reduce__',\n",
       " '__reduce_ex__',\n",
       " '__repr__',\n",
       " '__setattr__',\n",
       " '__sizeof__',\n",
       " '__str__',\n",
       " '__subclasshook__',\n",
       " '__weakref__',\n",
       " 'cerrar_cuenta',\n",
       " 'cliente',\n",
       " 'depositar',\n",
       " 'estado',\n",
       " 'numero',\n",
       " 'retirar',\n",
       " 'saldo']"
      ]
     },
     "execution_count": 45,
     "metadata": {},
     "output_type": "execute_result"
    }
   ],
   "source": [
    "dir(cuenta_ahorros)"
   ]
  },
  {
   "cell_type": "code",
   "execution_count": 46,
   "metadata": {},
   "outputs": [
    {
     "data": {
      "text/plain": [
       "50000"
      ]
     },
     "execution_count": 46,
     "metadata": {},
     "output_type": "execute_result"
    }
   ],
   "source": [
    "cuenta_ahorros.saldo"
   ]
  },
  {
   "cell_type": "code",
   "execution_count": 47,
   "metadata": {},
   "outputs": [],
   "source": [
    "cuenta_ahorros.depositar(10000)"
   ]
  },
  {
   "cell_type": "code",
   "execution_count": 48,
   "metadata": {},
   "outputs": [
    {
     "data": {
      "text/plain": [
       "60000"
      ]
     },
     "execution_count": 48,
     "metadata": {},
     "output_type": "execute_result"
    }
   ],
   "source": [
    "cuenta_ahorros.saldo"
   ]
  },
  {
   "cell_type": "code",
   "execution_count": 49,
   "metadata": {},
   "outputs": [],
   "source": [
    "cuenta_ahorros.depositar(-10000)"
   ]
  },
  {
   "cell_type": "code",
   "execution_count": 50,
   "metadata": {},
   "outputs": [
    {
     "data": {
      "text/plain": [
       "60000"
      ]
     },
     "execution_count": 50,
     "metadata": {},
     "output_type": "execute_result"
    }
   ],
   "source": [
    "cuenta_ahorros.saldo"
   ]
  },
  {
   "cell_type": "code",
   "execution_count": 51,
   "metadata": {},
   "outputs": [],
   "source": [
    "cuenta_ahorros.retirar(20000)"
   ]
  },
  {
   "cell_type": "code",
   "execution_count": 52,
   "metadata": {},
   "outputs": [
    {
     "data": {
      "text/plain": [
       "40000"
      ]
     },
     "execution_count": 52,
     "metadata": {},
     "output_type": "execute_result"
    }
   ],
   "source": [
    "cuenta_ahorros.saldo"
   ]
  },
  {
   "cell_type": "code",
   "execution_count": 53,
   "metadata": {},
   "outputs": [],
   "source": [
    "cuenta_ahorros.retirar(-20000)"
   ]
  },
  {
   "cell_type": "code",
   "execution_count": 54,
   "metadata": {},
   "outputs": [
    {
     "data": {
      "text/plain": [
       "40000"
      ]
     },
     "execution_count": 54,
     "metadata": {},
     "output_type": "execute_result"
    }
   ],
   "source": [
    "cuenta_ahorros.saldo"
   ]
  },
  {
   "cell_type": "code",
   "execution_count": 55,
   "metadata": {},
   "outputs": [
    {
     "data": {
      "text/plain": [
       "__main__.CuentaBancaria"
      ]
     },
     "execution_count": 55,
     "metadata": {},
     "output_type": "execute_result"
    }
   ],
   "source": [
    "type(cuenta_ahorros)"
   ]
  },
  {
   "cell_type": "markdown",
   "metadata": {},
   "source": [
    "1. Crear un nuevo objeto de tipo `CuentaBancaria`.\n",
    "2. Enviar dinero de una cuenta a otra."
   ]
  },
  {
   "cell_type": "code",
   "execution_count": 56,
   "metadata": {},
   "outputs": [],
   "source": [
    "cuenta_corriente = CuentaBancaria(95185123, 'Angela Burgos', 100000)"
   ]
  },
  {
   "cell_type": "code",
   "execution_count": 57,
   "metadata": {},
   "outputs": [
    {
     "data": {
      "text/plain": [
       "__main__.CuentaBancaria"
      ]
     },
     "execution_count": 57,
     "metadata": {},
     "output_type": "execute_result"
    }
   ],
   "source": [
    "type(cuenta_corriente)"
   ]
  },
  {
   "cell_type": "code",
   "execution_count": 58,
   "metadata": {},
   "outputs": [
    {
     "name": "stdout",
     "output_type": "stream",
     "text": [
      "95185123 Angela Burgos 100000 True\n"
     ]
    }
   ],
   "source": [
    "print(cuenta_corriente.numero, cuenta_corriente.cliente, cuenta_corriente.saldo, cuenta_corriente.estado)"
   ]
  },
  {
   "cell_type": "code",
   "execution_count": 59,
   "metadata": {},
   "outputs": [],
   "source": [
    "dinero = 20000"
   ]
  },
  {
   "cell_type": "code",
   "execution_count": 60,
   "metadata": {},
   "outputs": [],
   "source": [
    "cuenta_corriente.retirar(dinero)"
   ]
  },
  {
   "cell_type": "code",
   "execution_count": 61,
   "metadata": {},
   "outputs": [
    {
     "data": {
      "text/plain": [
       "80000"
      ]
     },
     "execution_count": 61,
     "metadata": {},
     "output_type": "execute_result"
    }
   ],
   "source": [
    "cuenta_corriente.saldo"
   ]
  },
  {
   "cell_type": "code",
   "execution_count": 62,
   "metadata": {},
   "outputs": [
    {
     "name": "stdout",
     "output_type": "stream",
     "text": [
      "123456789 Juan Urbano 40000 True\n"
     ]
    }
   ],
   "source": [
    "print(cuenta_ahorros.numero, cuenta_ahorros.cliente, cuenta_ahorros.saldo, cuenta_ahorros.estado)"
   ]
  },
  {
   "cell_type": "code",
   "execution_count": 63,
   "metadata": {},
   "outputs": [],
   "source": [
    "cuenta_ahorros.depositar(dinero)"
   ]
  },
  {
   "cell_type": "code",
   "execution_count": 64,
   "metadata": {},
   "outputs": [
    {
     "data": {
      "text/plain": [
       "60000"
      ]
     },
     "execution_count": 64,
     "metadata": {},
     "output_type": "execute_result"
    }
   ],
   "source": [
    "cuenta_ahorros.saldo"
   ]
  },
  {
   "cell_type": "code",
   "execution_count": 65,
   "metadata": {},
   "outputs": [],
   "source": [
    "dinero = cuenta_corriente.saldo"
   ]
  },
  {
   "cell_type": "code",
   "execution_count": 66,
   "metadata": {},
   "outputs": [
    {
     "data": {
      "text/plain": [
       "80000"
      ]
     },
     "execution_count": 66,
     "metadata": {},
     "output_type": "execute_result"
    }
   ],
   "source": [
    "dinero"
   ]
  },
  {
   "cell_type": "code",
   "execution_count": 67,
   "metadata": {},
   "outputs": [],
   "source": [
    "cuenta_ahorros.depositar(dinero)"
   ]
  },
  {
   "cell_type": "code",
   "execution_count": 68,
   "metadata": {},
   "outputs": [
    {
     "data": {
      "text/plain": [
       "140000"
      ]
     },
     "execution_count": 68,
     "metadata": {},
     "output_type": "execute_result"
    }
   ],
   "source": [
    "cuenta_ahorros.saldo"
   ]
  },
  {
   "cell_type": "code",
   "execution_count": 69,
   "metadata": {},
   "outputs": [],
   "source": [
    "cuenta_corriente.cerrar_cuenta()"
   ]
  },
  {
   "cell_type": "code",
   "execution_count": 70,
   "metadata": {},
   "outputs": [
    {
     "data": {
      "text/plain": [
       "False"
      ]
     },
     "execution_count": 70,
     "metadata": {},
     "output_type": "execute_result"
    }
   ],
   "source": [
    "cuenta_corriente.estado"
   ]
  },
  {
   "cell_type": "markdown",
   "metadata": {},
   "source": [
    "## 10.6 Cambiar la funcionalidad que se hereda desde otro objeto"
   ]
  },
  {
   "cell_type": "code",
   "execution_count": 71,
   "metadata": {},
   "outputs": [
    {
     "name": "stdout",
     "output_type": "stream",
     "text": [
      "<__main__.CuentaBancaria object at 0x0000027FBD6C68E0>\n"
     ]
    }
   ],
   "source": [
    "print(cuenta_ahorros)"
   ]
  },
  {
   "cell_type": "code",
   "execution_count": 72,
   "metadata": {},
   "outputs": [],
   "source": [
    "class CuentaBancaria(object):\n",
    "    \n",
    "    def __init__(self, numero, cliente, saldo=10000, estado=True):\n",
    "        self.numero = numero\n",
    "        self.cliente = cliente\n",
    "        self.saldo = saldo\n",
    "        self.estado = estado\n",
    "    \n",
    "    def depositar(self, cantidad):\n",
    "        \"\"\"\n",
    "        Deposita cierta cantidad de dinero en la cuenta.\n",
    "        \n",
    "        :cantidad: Cantidad de dinero a depositar.\n",
    "        \"\"\"\n",
    "        if self.estado and cantidad > 0:\n",
    "            self.saldo += cantidad\n",
    "    \n",
    "    def retirar(self, cantidad):\n",
    "        \"\"\"\n",
    "        Retira cierta cantidad de dinero.\n",
    "        \n",
    "        :cantidad: Cantidad de dinero a retirar.\n",
    "        \"\"\"\n",
    "        if self.estado and cantidad > 0 and cantidad <= self.saldo:\n",
    "            self.saldo -= cantidad\n",
    "    \n",
    "    def cerrar_cuenta(self):\n",
    "        \"\"\"\n",
    "        Cierra la cuenta bancaria.\n",
    "        \"\"\"\n",
    "        self.estado = False\n",
    "    \n",
    "    def __str__(self):\n",
    "        return f'{self.numero};{self.cliente};{self.saldo};{self.estado}'"
   ]
  },
  {
   "cell_type": "code",
   "execution_count": 73,
   "metadata": {},
   "outputs": [],
   "source": [
    "cuenta_ahorros = CuentaBancaria(123456789, 'Juan Urbano', 50000)"
   ]
  },
  {
   "cell_type": "code",
   "execution_count": 74,
   "metadata": {},
   "outputs": [
    {
     "name": "stdout",
     "output_type": "stream",
     "text": [
      "123456789;Juan Urbano;50000;True\n"
     ]
    }
   ],
   "source": [
    "print(cuenta_ahorros)"
   ]
  },
  {
   "cell_type": "code",
   "execution_count": 75,
   "metadata": {},
   "outputs": [
    {
     "name": "stdout",
     "output_type": "stream",
     "text": [
      "123456789;Juan Urbano;50000;True\n"
     ]
    }
   ],
   "source": [
    "print(cuenta_ahorros.__str__())"
   ]
  },
  {
   "cell_type": "code",
   "execution_count": 76,
   "metadata": {},
   "outputs": [
    {
     "data": {
      "text/plain": [
       "<__main__.CuentaBancaria at 0x27fbd6f2670>"
      ]
     },
     "execution_count": 76,
     "metadata": {},
     "output_type": "execute_result"
    }
   ],
   "source": [
    "cuenta_ahorros"
   ]
  },
  {
   "cell_type": "code",
   "execution_count": 77,
   "metadata": {},
   "outputs": [
    {
     "data": {
      "text/plain": [
       "'123456789;Juan Urbano;50000;True'"
      ]
     },
     "execution_count": 77,
     "metadata": {},
     "output_type": "execute_result"
    }
   ],
   "source": [
    "cuenta_ahorros.__str__()"
   ]
  },
  {
   "cell_type": "markdown",
   "metadata": {},
   "source": [
    "## 10.7 Variables de instancia privadas\n",
    "\n",
    "Miembro privado: Es una variable que **sólo** es visible para el cuerpo de declaración de una clase.\n",
    "\n",
    "Esto apoya el concepto de encapsulación.\n",
    "\n",
    "**Encapsulación**: patrón de diseño para definir los miembros que sólo son visibles al interior de una entidad (clase)."
   ]
  },
  {
   "cell_type": "markdown",
   "metadata": {},
   "source": [
    "Lectura recomendada: consultar acerca de los pilares de la programación orientada a objetos.\n",
    "\n",
    "1. Abstracción (A)\n",
    "2. Polimorfismo (P)\n",
    "3. Herencia (I)\n",
    "4. Encapsulación (E)\n",
    "\n",
    "A-PIE"
   ]
  },
  {
   "cell_type": "code",
   "execution_count": 78,
   "metadata": {},
   "outputs": [],
   "source": [
    "class Perro(object):\n",
    "    \"\"\"\n",
    "    Representa la entidad Perro.\n",
    "    \"\"\"\n",
    "    def __init__(self, nombre, edad, amo):\n",
    "        self._nombre = nombre\n",
    "        self._edad = edad\n",
    "        self._amo = amo"
   ]
  },
  {
   "cell_type": "code",
   "execution_count": 79,
   "metadata": {},
   "outputs": [],
   "source": [
    "tony = Perro('Tony', 35, 'Alexander')"
   ]
  },
  {
   "cell_type": "code",
   "execution_count": 80,
   "metadata": {},
   "outputs": [
    {
     "data": {
      "text/plain": [
       "'Tony'"
      ]
     },
     "execution_count": 80,
     "metadata": {},
     "output_type": "execute_result"
    }
   ],
   "source": [
    "tony._nombre"
   ]
  },
  {
   "cell_type": "code",
   "execution_count": 81,
   "metadata": {},
   "outputs": [
    {
     "data": {
      "text/plain": [
       "35"
      ]
     },
     "execution_count": 81,
     "metadata": {},
     "output_type": "execute_result"
    }
   ],
   "source": [
    "tony._edad"
   ]
  },
  {
   "cell_type": "code",
   "execution_count": 82,
   "metadata": {},
   "outputs": [
    {
     "data": {
      "text/plain": [
       "'Alexander'"
      ]
     },
     "execution_count": 82,
     "metadata": {},
     "output_type": "execute_result"
    }
   ],
   "source": [
    "tony._amo"
   ]
  },
  {
   "cell_type": "code",
   "execution_count": 83,
   "metadata": {},
   "outputs": [],
   "source": [
    "tony._edad = 7"
   ]
  },
  {
   "cell_type": "code",
   "execution_count": 84,
   "metadata": {},
   "outputs": [
    {
     "data": {
      "text/plain": [
       "7"
      ]
     },
     "execution_count": 84,
     "metadata": {},
     "output_type": "execute_result"
    }
   ],
   "source": [
    "tony._edad"
   ]
  },
  {
   "cell_type": "code",
   "execution_count": 85,
   "metadata": {},
   "outputs": [],
   "source": [
    "class Perro(object):\n",
    "    \"\"\"\n",
    "    Representa la entidad Perro.\n",
    "    \"\"\"\n",
    "    def __init__(self, nombre, edad, amo):\n",
    "        \"\"\"\n",
    "        Inicializa (o instancia) un nuevo objeto de la clase Perro.\n",
    "        \"\"\"\n",
    "        self._nombre = nombre\n",
    "        self._edad = edad\n",
    "        self._amo = amo\n",
    "    \n",
    "    def get_nombre(self):\n",
    "        \"\"\"\n",
    "        Obtiene el nombre del perro.\n",
    "        \n",
    "        return: Nombre del perro.\n",
    "        \"\"\"\n",
    "        return self._nombre\n",
    "    \n",
    "    def set_nombre(self, nombre):\n",
    "        \"\"\"\n",
    "        Establece un nuevo nombre para el perro.\n",
    "        \n",
    "        :param nombre: Nuevo nombre para el perro.\n",
    "        \"\"\"\n",
    "        self._nombre = nombre\n",
    "    \n",
    "    def get_edad(self):\n",
    "        \"\"\"\n",
    "        Obtiene la edad del perro.\n",
    "        \n",
    "        return: Edad del perro.\n",
    "        \"\"\"\n",
    "        return self._edad\n",
    "    \n",
    "    def set_edad(self, edad):\n",
    "        \"\"\"\n",
    "        Establece la nueva edad del perro.\n",
    "        \n",
    "        :param edad: Nueva edad del perro.\n",
    "        \"\"\"\n",
    "        self._edad = edad\n",
    "    \n",
    "    def get_amo(self):\n",
    "        \"\"\"\n",
    "        Obtiene el nombre del amo del perro.\n",
    "        \n",
    "        :return: Nombre del amo del perro.\n",
    "        \"\"\"\n",
    "        return self._amo\n",
    "    \n",
    "    def set_amo(self, amo):\n",
    "        \"\"\"\n",
    "        Establece el nuevo nombre del amo del perro.\n",
    "        \n",
    "        :param amo: Nuevo nombre del amo del perro.\n",
    "        \"\"\"\n",
    "        self._amo = amo"
   ]
  },
  {
   "cell_type": "code",
   "execution_count": 86,
   "metadata": {},
   "outputs": [],
   "source": [
    "tony = Perro('Tony', 3, 'Alexander')"
   ]
  },
  {
   "cell_type": "code",
   "execution_count": 87,
   "metadata": {},
   "outputs": [
    {
     "data": {
      "text/plain": [
       "<__main__.Perro at 0x27fbd6e7dc0>"
      ]
     },
     "execution_count": 87,
     "metadata": {},
     "output_type": "execute_result"
    }
   ],
   "source": [
    "tony"
   ]
  },
  {
   "cell_type": "code",
   "execution_count": 88,
   "metadata": {},
   "outputs": [
    {
     "data": {
      "text/plain": [
       "['__class__',\n",
       " '__delattr__',\n",
       " '__dict__',\n",
       " '__dir__',\n",
       " '__doc__',\n",
       " '__eq__',\n",
       " '__format__',\n",
       " '__ge__',\n",
       " '__getattribute__',\n",
       " '__gt__',\n",
       " '__hash__',\n",
       " '__init__',\n",
       " '__init_subclass__',\n",
       " '__le__',\n",
       " '__lt__',\n",
       " '__module__',\n",
       " '__ne__',\n",
       " '__new__',\n",
       " '__reduce__',\n",
       " '__reduce_ex__',\n",
       " '__repr__',\n",
       " '__setattr__',\n",
       " '__sizeof__',\n",
       " '__str__',\n",
       " '__subclasshook__',\n",
       " '__weakref__',\n",
       " '_amo',\n",
       " '_edad',\n",
       " '_nombre',\n",
       " 'get_amo',\n",
       " 'get_edad',\n",
       " 'get_nombre',\n",
       " 'set_amo',\n",
       " 'set_edad',\n",
       " 'set_nombre']"
      ]
     },
     "execution_count": 88,
     "metadata": {},
     "output_type": "execute_result"
    }
   ],
   "source": [
    "dir(tony)"
   ]
  },
  {
   "cell_type": "code",
   "execution_count": 89,
   "metadata": {},
   "outputs": [
    {
     "data": {
      "text/plain": [
       "'Alexander'"
      ]
     },
     "execution_count": 89,
     "metadata": {},
     "output_type": "execute_result"
    }
   ],
   "source": [
    "tony.get_amo()"
   ]
  },
  {
   "cell_type": "code",
   "execution_count": 90,
   "metadata": {},
   "outputs": [
    {
     "data": {
      "text/plain": [
       "3"
      ]
     },
     "execution_count": 90,
     "metadata": {},
     "output_type": "execute_result"
    }
   ],
   "source": [
    "tony.get_edad()"
   ]
  },
  {
   "cell_type": "code",
   "execution_count": 91,
   "metadata": {},
   "outputs": [
    {
     "data": {
      "text/plain": [
       "'Tony'"
      ]
     },
     "execution_count": 91,
     "metadata": {},
     "output_type": "execute_result"
    }
   ],
   "source": [
    "tony.get_nombre()"
   ]
  },
  {
   "cell_type": "code",
   "execution_count": 92,
   "metadata": {},
   "outputs": [],
   "source": [
    "tony.set_edad(4)"
   ]
  },
  {
   "cell_type": "code",
   "execution_count": 93,
   "metadata": {},
   "outputs": [
    {
     "data": {
      "text/plain": [
       "4"
      ]
     },
     "execution_count": 93,
     "metadata": {},
     "output_type": "execute_result"
    }
   ],
   "source": [
    "tony.get_edad()"
   ]
  },
  {
   "cell_type": "code",
   "execution_count": 94,
   "metadata": {},
   "outputs": [],
   "source": [
    "tony.set_amo('Alexander Ordoñez')"
   ]
  },
  {
   "cell_type": "code",
   "execution_count": 95,
   "metadata": {},
   "outputs": [
    {
     "data": {
      "text/plain": [
       "'Alexander Ordoñez'"
      ]
     },
     "execution_count": 95,
     "metadata": {},
     "output_type": "execute_result"
    }
   ],
   "source": [
    "tony.get_amo()"
   ]
  },
  {
   "cell_type": "code",
   "execution_count": 96,
   "metadata": {},
   "outputs": [],
   "source": [
    "tony._edad = 5"
   ]
  },
  {
   "cell_type": "code",
   "execution_count": 97,
   "metadata": {},
   "outputs": [
    {
     "data": {
      "text/plain": [
       "5"
      ]
     },
     "execution_count": 97,
     "metadata": {},
     "output_type": "execute_result"
    }
   ],
   "source": [
    "tony._edad"
   ]
  },
  {
   "cell_type": "code",
   "execution_count": 98,
   "metadata": {},
   "outputs": [
    {
     "name": "stdout",
     "output_type": "stream",
     "text": [
      "Help on class Perro in module __main__:\n",
      "\n",
      "class Perro(builtins.object)\n",
      " |  Perro(nombre, edad, amo)\n",
      " |  \n",
      " |  Representa la entidad Perro.\n",
      " |  \n",
      " |  Methods defined here:\n",
      " |  \n",
      " |  __init__(self, nombre, edad, amo)\n",
      " |      Inicializa (o instancia) un nuevo objeto de la clase Perro.\n",
      " |  \n",
      " |  get_amo(self)\n",
      " |      Obtiene el nombre del amo del perro.\n",
      " |      \n",
      " |      :return: Nombre del amo del perro.\n",
      " |  \n",
      " |  get_edad(self)\n",
      " |      Obtiene la edad del perro.\n",
      " |      \n",
      " |      return: Edad del perro.\n",
      " |  \n",
      " |  get_nombre(self)\n",
      " |      Obtiene el nombre del perro.\n",
      " |      \n",
      " |      return: Nombre del perro.\n",
      " |  \n",
      " |  set_amo(self, amo)\n",
      " |      Establece el nuevo nombre del amo del perro.\n",
      " |      \n",
      " |      :param amo: Nuevo nombre del amo del perro.\n",
      " |  \n",
      " |  set_edad(self, edad)\n",
      " |      Establece la nueva edad del perro.\n",
      " |      \n",
      " |      :param edad: Nueva edad del perro.\n",
      " |  \n",
      " |  set_nombre(self, nombre)\n",
      " |      Establece un nuevo nombre para el perro.\n",
      " |      \n",
      " |      :param nombre: Nuevo nombre para el perro.\n",
      " |  \n",
      " |  ----------------------------------------------------------------------\n",
      " |  Data descriptors defined here:\n",
      " |  \n",
      " |  __dict__\n",
      " |      dictionary for instance variables (if defined)\n",
      " |  \n",
      " |  __weakref__\n",
      " |      list of weak references to the object (if defined)\n",
      "\n"
     ]
    }
   ],
   "source": [
    "help(Perro)"
   ]
  },
  {
   "cell_type": "markdown",
   "metadata": {},
   "source": [
    "## 10.8 Uso de atributos para establecer el acceso y modificación de variables de instancia\n",
    "\n",
    "`@nombre_atributo`"
   ]
  },
  {
   "cell_type": "code",
   "execution_count": 99,
   "metadata": {},
   "outputs": [],
   "source": [
    "class Perro(object):\n",
    "    \"\"\"\n",
    "    Representa la entidad Perro.\n",
    "    \"\"\"\n",
    "    def __init__(self, nombre, edad, amo):\n",
    "        \"\"\"\n",
    "        Inicializa (o instancia) un nuevo objeto de la clase Perro.\n",
    "        \"\"\"\n",
    "        self._nombre = nombre\n",
    "        self._edad = edad\n",
    "        self._amo = amo\n",
    "    \n",
    "    @property\n",
    "    def nombre(self):\n",
    "        \"\"\"\n",
    "        Obtiene el nombre del perro.\n",
    "        \n",
    "        return: Nombre del perro.\n",
    "        \"\"\"\n",
    "        return self._nombre\n",
    "    \n",
    "    @nombre.setter\n",
    "    def nombre(self, nombre):\n",
    "        \"\"\"\n",
    "        Establece un nuevo nombre para el perro.\n",
    "        \n",
    "        :param nombre: Nuevo nombre para el perro.\n",
    "        \"\"\"\n",
    "        self._nombre = nombre\n",
    "    \n",
    "    @property\n",
    "    def edad(self):\n",
    "        \"\"\"\n",
    "        Obtiene la edad del perro.\n",
    "        \n",
    "        return: Edad del perro.\n",
    "        \"\"\"\n",
    "        return self._edad\n",
    "    \n",
    "    @edad.setter\n",
    "    def edad(self, edad):\n",
    "        \"\"\"\n",
    "        Establece la nueva edad del perro.\n",
    "        \n",
    "        :param edad: Nueva edad del perro.\n",
    "        \"\"\"\n",
    "        self._edad = edad\n",
    "    \n",
    "    @property\n",
    "    def amo(self):\n",
    "        \"\"\"\n",
    "        Obtiene el nombre del amo del perro.\n",
    "        \n",
    "        :return: Nombre del amo del perro.\n",
    "        \"\"\"\n",
    "        return self._amo\n",
    "    \n",
    "    @amo.setter\n",
    "    def amo(self, amo):\n",
    "        \"\"\"\n",
    "        Establece el nuevo nombre del amo del perro.\n",
    "        \n",
    "        :param amo: Nuevo nombre del amo del perro.\n",
    "        \"\"\"\n",
    "        self._amo = amo"
   ]
  },
  {
   "cell_type": "code",
   "execution_count": 100,
   "metadata": {},
   "outputs": [
    {
     "name": "stdout",
     "output_type": "stream",
     "text": [
      "Help on class Perro in module __main__:\n",
      "\n",
      "class Perro(builtins.object)\n",
      " |  Perro(nombre, edad, amo)\n",
      " |  \n",
      " |  Representa la entidad Perro.\n",
      " |  \n",
      " |  Methods defined here:\n",
      " |  \n",
      " |  __init__(self, nombre, edad, amo)\n",
      " |      Inicializa (o instancia) un nuevo objeto de la clase Perro.\n",
      " |  \n",
      " |  ----------------------------------------------------------------------\n",
      " |  Data descriptors defined here:\n",
      " |  \n",
      " |  __dict__\n",
      " |      dictionary for instance variables (if defined)\n",
      " |  \n",
      " |  __weakref__\n",
      " |      list of weak references to the object (if defined)\n",
      " |  \n",
      " |  amo\n",
      " |      Obtiene el nombre del amo del perro.\n",
      " |      \n",
      " |      :return: Nombre del amo del perro.\n",
      " |  \n",
      " |  edad\n",
      " |      Obtiene la edad del perro.\n",
      " |      \n",
      " |      return: Edad del perro.\n",
      " |  \n",
      " |  nombre\n",
      " |      Obtiene el nombre del perro.\n",
      " |      \n",
      " |      return: Nombre del perro.\n",
      "\n"
     ]
    }
   ],
   "source": [
    "help(Perro)"
   ]
  },
  {
   "cell_type": "code",
   "execution_count": 101,
   "metadata": {},
   "outputs": [],
   "source": [
    "tony = Perro('Tony', 3, 'Alexander')"
   ]
  },
  {
   "cell_type": "code",
   "execution_count": 102,
   "metadata": {},
   "outputs": [
    {
     "data": {
      "text/plain": [
       "2747662056656"
      ]
     },
     "execution_count": 102,
     "metadata": {},
     "output_type": "execute_result"
    }
   ],
   "source": [
    "id(tony)"
   ]
  },
  {
   "cell_type": "code",
   "execution_count": 103,
   "metadata": {},
   "outputs": [
    {
     "data": {
      "text/plain": [
       "__main__.Perro"
      ]
     },
     "execution_count": 103,
     "metadata": {},
     "output_type": "execute_result"
    }
   ],
   "source": [
    "type(tony)"
   ]
  },
  {
   "cell_type": "code",
   "execution_count": 104,
   "metadata": {},
   "outputs": [
    {
     "data": {
      "text/plain": [
       "<__main__.Perro at 0x27fbd6bbcd0>"
      ]
     },
     "execution_count": 104,
     "metadata": {},
     "output_type": "execute_result"
    }
   ],
   "source": [
    "tony"
   ]
  },
  {
   "cell_type": "code",
   "execution_count": 105,
   "metadata": {},
   "outputs": [
    {
     "data": {
      "text/plain": [
       "'Tony'"
      ]
     },
     "execution_count": 105,
     "metadata": {},
     "output_type": "execute_result"
    }
   ],
   "source": [
    "tony.nombre"
   ]
  },
  {
   "cell_type": "code",
   "execution_count": 106,
   "metadata": {},
   "outputs": [
    {
     "data": {
      "text/plain": [
       "3"
      ]
     },
     "execution_count": 106,
     "metadata": {},
     "output_type": "execute_result"
    }
   ],
   "source": [
    "tony.edad"
   ]
  },
  {
   "cell_type": "code",
   "execution_count": 107,
   "metadata": {},
   "outputs": [
    {
     "data": {
      "text/plain": [
       "'Alexander'"
      ]
     },
     "execution_count": 107,
     "metadata": {},
     "output_type": "execute_result"
    }
   ],
   "source": [
    "tony.amo"
   ]
  },
  {
   "cell_type": "code",
   "execution_count": 108,
   "metadata": {},
   "outputs": [],
   "source": [
    "tony.edad = 4"
   ]
  },
  {
   "cell_type": "code",
   "execution_count": 109,
   "metadata": {},
   "outputs": [
    {
     "data": {
      "text/plain": [
       "4"
      ]
     },
     "execution_count": 109,
     "metadata": {},
     "output_type": "execute_result"
    }
   ],
   "source": [
    "tony.edad"
   ]
  },
  {
   "cell_type": "code",
   "execution_count": 110,
   "metadata": {},
   "outputs": [],
   "source": [
    "tony.amo = 'Alexander Meneses'"
   ]
  },
  {
   "cell_type": "code",
   "execution_count": 111,
   "metadata": {},
   "outputs": [
    {
     "data": {
      "text/plain": [
       "'Alexander Meneses'"
      ]
     },
     "execution_count": 111,
     "metadata": {},
     "output_type": "execute_result"
    }
   ],
   "source": [
    "tony.amo"
   ]
  },
  {
   "cell_type": "code",
   "execution_count": 112,
   "metadata": {},
   "outputs": [],
   "source": [
    "class Carro(object):\n",
    "    \"\"\"\n",
    "    Representa la clase base para una jerarquía de herencia de vehículos.\n",
    "    \"\"\"\n",
    "    def __init__(self, placa, marca, modelo, pais_procedencia):\n",
    "        \"\"\"\n",
    "        Crear un nuevo carro.\n",
    "        \n",
    "        :param self: este mismo objeto.\n",
    "        :param placa: placa del carro.\n",
    "        :param modelo: modelo del carro.\n",
    "        :param pais_procedencia: país de procedencia.\n",
    "        \n",
    "        :return: None.\n",
    "        \"\"\"\n",
    "        self.placa = placa\n",
    "        self.marca = marca\n",
    "        self.modelo = modelo\n",
    "        self.pais_procedencia = pais_procedencia\n",
    "        self.estado = False\n",
    "        self.velocidad = 0\n",
    "    \n",
    "    def encender(self):\n",
    "        \"\"\"\n",
    "        Enciende el carro.\n",
    "        \"\"\"\n",
    "        if not self.estado:\n",
    "            self.estado = True\n",
    "    \n",
    "    def apagar(self):\n",
    "        \"\"\"\n",
    "        Apaga el carro.\n",
    "        \"\"\"\n",
    "        if self.estado:\n",
    "            self.estado = False\n",
    "    \n",
    "    def acelerar(self):\n",
    "        \"\"\"\n",
    "        Acelara el carro.\n",
    "        \"\"\"\n",
    "        if self.estado:\n",
    "            self.velocidad += 2\n",
    "    \n",
    "    def frenar(self):\n",
    "        \"\"\"\n",
    "        Frena el carro.\n",
    "        \"\"\"\n",
    "        if self.estado:\n",
    "            self.velocidad = 0"
   ]
  },
  {
   "cell_type": "code",
   "execution_count": 169,
   "metadata": {},
   "outputs": [],
   "source": [
    "class Camion(Carro):\n",
    "    \"\"\"\n",
    "    Representa un camión en la jerarquía de herencia de carros.\n",
    "    \"\"\"\n",
    "    def __init__(self, placa, marca, modelo, pais_procedencia, capacidad_carga):\n",
    "        \"\"\"\n",
    "        Crear un nuevo camión.\n",
    "        \"\"\"\n",
    "        super().__init__(placa, marca, modelo, pais_procedencia)\n",
    "        \n",
    "        self.capacidad_carga = capacidad_carga\n",
    "        self.carga_actual = 0\n",
    "    \n",
    "    def cargar_mercancia(self, cantidad):\n",
    "        \"\"\"\n",
    "        Carga cierta cantidad de mercancía sin exceder la capacidad de carga.\n",
    "        \n",
    "        :param cantidad:int: Cantidad de mercancía a cargar.\n",
    "        \"\"\"\n",
    "        if self.carga_actual + cantidad <= self.capacidad_carga:\n",
    "            self.carga_actual += cantidad\n",
    "    \n",
    "    def descargar_mercancia(self):\n",
    "        \"\"\"\n",
    "        Descarga  toda la mercancía que hay en el camión.\n",
    "        \"\"\"\n",
    "        self.carga_actual = 0"
   ]
  },
  {
   "cell_type": "code",
   "execution_count": 114,
   "metadata": {},
   "outputs": [],
   "source": [
    "class Deportivo(Carro):\n",
    "    \"\"\"\n",
    "    Representa un carro deportivo.\n",
    "    \"\"\"\n",
    "    def __init__(self, placa, marca, modelo, pais_procedencia, marca_rines, tipo):\n",
    "        \"\"\"\n",
    "        Crea un nuevo carro deportivo.\n",
    "        \n",
    "        :param placa: Placa del carro.\n",
    "        :param marca: Marca del carro.\n",
    "        :param modelo: modelo del carro.\n",
    "        :param pais_procedencia: país de procedencia.\n",
    "        :param marca_rines: Marca de los rines del carro deportivo.\n",
    "        :param tipo: Tipo del carro deportivo.\n",
    "        \"\"\"\n",
    "        super().__init__(placa, marca, modelo, pais_procedencia)\n",
    "        \n",
    "        self.marca_rines = marca_rines\n",
    "        self.tipo = tipo\n",
    "        self.puertas_abiertas = False\n",
    "    \n",
    "    def abrir_puertas(self):\n",
    "        \"\"\"\n",
    "        Abre las puertas del carro deportivo.\n",
    "        \"\"\"\n",
    "        if not self.puertas_abiertas:\n",
    "            self.puertas_abiertas = True\n",
    "    \n",
    "    def cerrar_puertas(self):\n",
    "        \"\"\"\n",
    "        Cierra las puertas del carro deportivo.\n",
    "        \"\"\"\n",
    "        if self.puertas_abiertas:\n",
    "            self.puertas_abiertas = False"
   ]
  },
  {
   "cell_type": "code",
   "execution_count": 115,
   "metadata": {},
   "outputs": [],
   "source": [
    "class Formula1(Carro):\n",
    "    \"\"\"\n",
    "    Representa un carro de Fórmula 1.\n",
    "    \"\"\"\n",
    "    def __init__(self, placa, marca, modelo, pais_procedencia, peso):\n",
    "        \"\"\"\n",
    "        Crea un nuevo carro de Fórmula 1.\n",
    "        \n",
    "        :param placa: Placa del carro.\n",
    "        :param marca: Marca del carro.\n",
    "        :param modelo: modelo del carro.\n",
    "        :param pais_procedencia: país de procedencia.\n",
    "        :param peso: Peso del carro de Fórmula 1.\n",
    "        \"\"\"\n",
    "        super().__init__(placa, marca, modelo, pais_procedencia)\n",
    "        \n",
    "        self.peso = peso\n",
    "    \n",
    "    def competir(self):\n",
    "        \"\"\"\n",
    "        El carro de Fórmula 1 compite.\n",
    "        \"\"\"\n",
    "        print('El carro está compitiendo...')"
   ]
  },
  {
   "cell_type": "code",
   "execution_count": 116,
   "metadata": {},
   "outputs": [],
   "source": [
    "class Volqueta(Carro):\n",
    "    \"\"\"\n",
    "    Representa la entidad volqueta.\n",
    "    \"\"\"\n",
    "    def __init__(self, placa, marca, modelo, pais_procedencia, capacidad_carga, costo_servicio):\n",
    "        \"\"\"\n",
    "        Crea un nuevo carro tipo volqueta.\n",
    "        \n",
    "        :param placa: Placa del carro.\n",
    "        :param marca: Marca del carro.\n",
    "        :param modelo: modelo del carro.\n",
    "        :param pais_procedencia: país de procedencia.\n",
    "        :param capacidad_carga: Capacidad de carga de la volqueta.\n",
    "        :param costo_servicio: Costo del servicio de la volqueta.\n",
    "        \"\"\"\n",
    "        super().__init__(placa, marca, modelo, pais_procedencia)\n",
    "        \n",
    "        self.capacidad_carga = capacidad_carga\n",
    "        self.costo_servicio = costo_servicio\n",
    "        self.carga_actual = 0\n",
    "    \n",
    "    def cargar_material(self, cantidad):\n",
    "        \"\"\"\n",
    "        Carga material en la volqueta.\n",
    "        \n",
    "        :param cantidad: Cantidad de material a cargar en la volqueta.\n",
    "        \"\"\"\n",
    "        if cantidad + self.carga_actual <= self.capacidad_carga:\n",
    "            self.carga_actual += cantidad\n",
    "    \n",
    "    def descargar_material(self):\n",
    "        \"\"\"\n",
    "        Descarga el material actual de la volqueta.\n",
    "        \"\"\"\n",
    "        self.cargar_actual = 0"
   ]
  },
  {
   "cell_type": "code",
   "execution_count": 117,
   "metadata": {},
   "outputs": [],
   "source": [
    "carro_chevrolet = Carro('ABC-123', 'Chevrolet', 2010, 'Estados Unidos')"
   ]
  },
  {
   "cell_type": "code",
   "execution_count": 118,
   "metadata": {},
   "outputs": [
    {
     "data": {
      "text/plain": [
       "__main__.Carro"
      ]
     },
     "execution_count": 118,
     "metadata": {},
     "output_type": "execute_result"
    }
   ],
   "source": [
    "type(carro_chevrolet)"
   ]
  },
  {
   "cell_type": "code",
   "execution_count": 119,
   "metadata": {},
   "outputs": [
    {
     "data": {
      "text/plain": [
       "'Carro'"
      ]
     },
     "execution_count": 119,
     "metadata": {},
     "output_type": "execute_result"
    }
   ],
   "source": [
    "type(carro_chevrolet).__name__"
   ]
  },
  {
   "cell_type": "code",
   "execution_count": 120,
   "metadata": {},
   "outputs": [
    {
     "data": {
      "text/plain": [
       "'ABC-123'"
      ]
     },
     "execution_count": 120,
     "metadata": {},
     "output_type": "execute_result"
    }
   ],
   "source": [
    "carro_chevrolet.placa"
   ]
  },
  {
   "cell_type": "code",
   "execution_count": 121,
   "metadata": {},
   "outputs": [
    {
     "data": {
      "text/plain": [
       "'Chevrolet'"
      ]
     },
     "execution_count": 121,
     "metadata": {},
     "output_type": "execute_result"
    }
   ],
   "source": [
    "carro_chevrolet.marca"
   ]
  },
  {
   "cell_type": "code",
   "execution_count": 122,
   "metadata": {},
   "outputs": [
    {
     "data": {
      "text/plain": [
       "2010"
      ]
     },
     "execution_count": 122,
     "metadata": {},
     "output_type": "execute_result"
    }
   ],
   "source": [
    "carro_chevrolet.modelo"
   ]
  },
  {
   "cell_type": "code",
   "execution_count": 123,
   "metadata": {},
   "outputs": [
    {
     "data": {
      "text/plain": [
       "'Estados Unidos'"
      ]
     },
     "execution_count": 123,
     "metadata": {},
     "output_type": "execute_result"
    }
   ],
   "source": [
    "carro_chevrolet.pais_procedencia"
   ]
  },
  {
   "cell_type": "code",
   "execution_count": 124,
   "metadata": {},
   "outputs": [
    {
     "data": {
      "text/plain": [
       "['__class__',\n",
       " '__delattr__',\n",
       " '__dict__',\n",
       " '__dir__',\n",
       " '__doc__',\n",
       " '__eq__',\n",
       " '__format__',\n",
       " '__ge__',\n",
       " '__getattribute__',\n",
       " '__gt__',\n",
       " '__hash__',\n",
       " '__init__',\n",
       " '__init_subclass__',\n",
       " '__le__',\n",
       " '__lt__',\n",
       " '__module__',\n",
       " '__ne__',\n",
       " '__new__',\n",
       " '__reduce__',\n",
       " '__reduce_ex__',\n",
       " '__repr__',\n",
       " '__setattr__',\n",
       " '__sizeof__',\n",
       " '__str__',\n",
       " '__subclasshook__',\n",
       " '__weakref__',\n",
       " 'acelerar',\n",
       " 'apagar',\n",
       " 'encender',\n",
       " 'estado',\n",
       " 'frenar',\n",
       " 'marca',\n",
       " 'modelo',\n",
       " 'pais_procedencia',\n",
       " 'placa',\n",
       " 'velocidad']"
      ]
     },
     "execution_count": 124,
     "metadata": {},
     "output_type": "execute_result"
    }
   ],
   "source": [
    "dir(carro_chevrolet)"
   ]
  },
  {
   "cell_type": "code",
   "execution_count": 125,
   "metadata": {},
   "outputs": [
    {
     "data": {
      "text/plain": [
       "False"
      ]
     },
     "execution_count": 125,
     "metadata": {},
     "output_type": "execute_result"
    }
   ],
   "source": [
    "carro_chevrolet.estado"
   ]
  },
  {
   "cell_type": "code",
   "execution_count": 126,
   "metadata": {},
   "outputs": [
    {
     "name": "stdout",
     "output_type": "stream",
     "text": [
      "El carro Chevrolet no está encendido.\n"
     ]
    }
   ],
   "source": [
    "if carro_chevrolet.estado:\n",
    "    print('El carro Chevrolet está encendido.')\n",
    "else:\n",
    "    print('El carro Chevrolet no está encendido.')"
   ]
  },
  {
   "cell_type": "code",
   "execution_count": 127,
   "metadata": {},
   "outputs": [],
   "source": [
    "carro_chevrolet.encender()"
   ]
  },
  {
   "cell_type": "code",
   "execution_count": 128,
   "metadata": {},
   "outputs": [
    {
     "data": {
      "text/plain": [
       "True"
      ]
     },
     "execution_count": 128,
     "metadata": {},
     "output_type": "execute_result"
    }
   ],
   "source": [
    "carro_chevrolet.estado"
   ]
  },
  {
   "cell_type": "code",
   "execution_count": 129,
   "metadata": {},
   "outputs": [
    {
     "name": "stdout",
     "output_type": "stream",
     "text": [
      "El carro Chevrolet está encendido.\n"
     ]
    }
   ],
   "source": [
    "if carro_chevrolet.estado:\n",
    "    print('El carro Chevrolet está encendido.')\n",
    "else:\n",
    "    print('El carro Chevrolet no está encendido.')"
   ]
  },
  {
   "cell_type": "code",
   "execution_count": 130,
   "metadata": {},
   "outputs": [],
   "source": [
    "carro_chevrolet.apagar()"
   ]
  },
  {
   "cell_type": "code",
   "execution_count": 131,
   "metadata": {},
   "outputs": [
    {
     "name": "stdout",
     "output_type": "stream",
     "text": [
      "El carro Chevrolet no está encendido.\n"
     ]
    }
   ],
   "source": [
    "if carro_chevrolet.estado:\n",
    "    print('El carro Chevrolet está encendido.')\n",
    "else:\n",
    "    print('El carro Chevrolet no está encendido.')"
   ]
  },
  {
   "cell_type": "code",
   "execution_count": 132,
   "metadata": {},
   "outputs": [
    {
     "data": {
      "text/plain": [
       "0"
      ]
     },
     "execution_count": 132,
     "metadata": {},
     "output_type": "execute_result"
    }
   ],
   "source": [
    "carro_chevrolet.velocidad"
   ]
  },
  {
   "cell_type": "code",
   "execution_count": 133,
   "metadata": {},
   "outputs": [],
   "source": [
    "carro_chevrolet.acelerar()"
   ]
  },
  {
   "cell_type": "code",
   "execution_count": 134,
   "metadata": {},
   "outputs": [
    {
     "data": {
      "text/plain": [
       "0"
      ]
     },
     "execution_count": 134,
     "metadata": {},
     "output_type": "execute_result"
    }
   ],
   "source": [
    "carro_chevrolet.velocidad"
   ]
  },
  {
   "cell_type": "code",
   "execution_count": 135,
   "metadata": {},
   "outputs": [],
   "source": [
    "carro_chevrolet.encender()"
   ]
  },
  {
   "cell_type": "code",
   "execution_count": 136,
   "metadata": {},
   "outputs": [
    {
     "data": {
      "text/plain": [
       "0"
      ]
     },
     "execution_count": 136,
     "metadata": {},
     "output_type": "execute_result"
    }
   ],
   "source": [
    "carro_chevrolet.velocidad"
   ]
  },
  {
   "cell_type": "code",
   "execution_count": 137,
   "metadata": {},
   "outputs": [],
   "source": [
    "carro_chevrolet.acelerar()"
   ]
  },
  {
   "cell_type": "code",
   "execution_count": 138,
   "metadata": {},
   "outputs": [
    {
     "data": {
      "text/plain": [
       "2"
      ]
     },
     "execution_count": 138,
     "metadata": {},
     "output_type": "execute_result"
    }
   ],
   "source": [
    "carro_chevrolet.velocidad"
   ]
  },
  {
   "cell_type": "code",
   "execution_count": 139,
   "metadata": {},
   "outputs": [],
   "source": [
    "carro_chevrolet.acelerar()"
   ]
  },
  {
   "cell_type": "code",
   "execution_count": 140,
   "metadata": {},
   "outputs": [
    {
     "data": {
      "text/plain": [
       "4"
      ]
     },
     "execution_count": 140,
     "metadata": {},
     "output_type": "execute_result"
    }
   ],
   "source": [
    "carro_chevrolet.velocidad"
   ]
  },
  {
   "cell_type": "code",
   "execution_count": 141,
   "metadata": {},
   "outputs": [],
   "source": [
    "carro_chevrolet.frenar()"
   ]
  },
  {
   "cell_type": "code",
   "execution_count": 142,
   "metadata": {},
   "outputs": [
    {
     "data": {
      "text/plain": [
       "0"
      ]
     },
     "execution_count": 142,
     "metadata": {},
     "output_type": "execute_result"
    }
   ],
   "source": [
    "carro_chevrolet.velocidad"
   ]
  },
  {
   "cell_type": "code",
   "execution_count": 143,
   "metadata": {},
   "outputs": [
    {
     "data": {
      "text/plain": [
       "True"
      ]
     },
     "execution_count": 143,
     "metadata": {},
     "output_type": "execute_result"
    }
   ],
   "source": [
    "carro_chevrolet.estado"
   ]
  },
  {
   "cell_type": "code",
   "execution_count": 144,
   "metadata": {},
   "outputs": [],
   "source": [
    "carro_chevrolet.apagar()"
   ]
  },
  {
   "cell_type": "markdown",
   "metadata": {},
   "source": [
    "Instanciación de un objeto de la clase `Camion`:"
   ]
  },
  {
   "cell_type": "code",
   "execution_count": 170,
   "metadata": {},
   "outputs": [],
   "source": [
    "camion_carga = Camion('ABD-456', 'Scania', 2015, 'China', 2000)"
   ]
  },
  {
   "cell_type": "code",
   "execution_count": 171,
   "metadata": {},
   "outputs": [
    {
     "data": {
      "text/plain": [
       "__main__.Camion"
      ]
     },
     "execution_count": 171,
     "metadata": {},
     "output_type": "execute_result"
    }
   ],
   "source": [
    "type(camion_carga)"
   ]
  },
  {
   "cell_type": "code",
   "execution_count": 172,
   "metadata": {},
   "outputs": [
    {
     "data": {
      "text/plain": [
       "'Camion'"
      ]
     },
     "execution_count": 172,
     "metadata": {},
     "output_type": "execute_result"
    }
   ],
   "source": [
    "type(camion_carga).__name__"
   ]
  },
  {
   "cell_type": "code",
   "execution_count": 173,
   "metadata": {},
   "outputs": [
    {
     "data": {
      "text/plain": [
       "<__main__.Camion at 0x27fbfae3640>"
      ]
     },
     "execution_count": 173,
     "metadata": {},
     "output_type": "execute_result"
    }
   ],
   "source": [
    "camion_carga"
   ]
  },
  {
   "cell_type": "code",
   "execution_count": 174,
   "metadata": {},
   "outputs": [
    {
     "data": {
      "text/plain": [
       "True"
      ]
     },
     "execution_count": 174,
     "metadata": {},
     "output_type": "execute_result"
    }
   ],
   "source": [
    "isinstance(camion_carga, Camion)"
   ]
  },
  {
   "cell_type": "code",
   "execution_count": 175,
   "metadata": {},
   "outputs": [
    {
     "data": {
      "text/plain": [
       "False"
      ]
     },
     "execution_count": 175,
     "metadata": {},
     "output_type": "execute_result"
    }
   ],
   "source": [
    "isinstance(camion_carga, Formula1)"
   ]
  },
  {
   "cell_type": "code",
   "execution_count": 176,
   "metadata": {},
   "outputs": [
    {
     "data": {
      "text/plain": [
       "True"
      ]
     },
     "execution_count": 176,
     "metadata": {},
     "output_type": "execute_result"
    }
   ],
   "source": [
    "isinstance(camion_carga, Carro)"
   ]
  },
  {
   "cell_type": "code",
   "execution_count": 177,
   "metadata": {},
   "outputs": [
    {
     "data": {
      "text/plain": [
       "'ABD-456'"
      ]
     },
     "execution_count": 177,
     "metadata": {},
     "output_type": "execute_result"
    }
   ],
   "source": [
    "camion_carga.placa"
   ]
  },
  {
   "cell_type": "code",
   "execution_count": 178,
   "metadata": {},
   "outputs": [
    {
     "data": {
      "text/plain": [
       "'Scania'"
      ]
     },
     "execution_count": 178,
     "metadata": {},
     "output_type": "execute_result"
    }
   ],
   "source": [
    "camion_carga.marca"
   ]
  },
  {
   "cell_type": "code",
   "execution_count": 179,
   "metadata": {},
   "outputs": [
    {
     "data": {
      "text/plain": [
       "2015"
      ]
     },
     "execution_count": 179,
     "metadata": {},
     "output_type": "execute_result"
    }
   ],
   "source": [
    "camion_carga.modelo"
   ]
  },
  {
   "cell_type": "code",
   "execution_count": 180,
   "metadata": {},
   "outputs": [
    {
     "data": {
      "text/plain": [
       "'China'"
      ]
     },
     "execution_count": 180,
     "metadata": {},
     "output_type": "execute_result"
    }
   ],
   "source": [
    "camion_carga.pais_procedencia"
   ]
  },
  {
   "cell_type": "code",
   "execution_count": 181,
   "metadata": {},
   "outputs": [
    {
     "data": {
      "text/plain": [
       "False"
      ]
     },
     "execution_count": 181,
     "metadata": {},
     "output_type": "execute_result"
    }
   ],
   "source": [
    "camion_carga.estado"
   ]
  },
  {
   "cell_type": "code",
   "execution_count": 182,
   "metadata": {},
   "outputs": [
    {
     "data": {
      "text/plain": [
       "2000"
      ]
     },
     "execution_count": 182,
     "metadata": {},
     "output_type": "execute_result"
    }
   ],
   "source": [
    "camion_carga.capacidad_carga"
   ]
  },
  {
   "cell_type": "code",
   "execution_count": 183,
   "metadata": {},
   "outputs": [],
   "source": [
    "camion_carga.encender()"
   ]
  },
  {
   "cell_type": "code",
   "execution_count": 184,
   "metadata": {},
   "outputs": [
    {
     "data": {
      "text/plain": [
       "True"
      ]
     },
     "execution_count": 184,
     "metadata": {},
     "output_type": "execute_result"
    }
   ],
   "source": [
    "camion_carga.estado"
   ]
  },
  {
   "cell_type": "code",
   "execution_count": 185,
   "metadata": {},
   "outputs": [
    {
     "name": "stdout",
     "output_type": "stream",
     "text": [
      "El camión está encendido.\n"
     ]
    }
   ],
   "source": [
    "if camion_carga.estado:\n",
    "    print('El camión está encendido.')\n",
    "else:\n",
    "    print('El camión no está encendido.')"
   ]
  },
  {
   "cell_type": "code",
   "execution_count": 186,
   "metadata": {},
   "outputs": [
    {
     "data": {
      "text/plain": [
       "['__class__',\n",
       " '__delattr__',\n",
       " '__dict__',\n",
       " '__dir__',\n",
       " '__doc__',\n",
       " '__eq__',\n",
       " '__format__',\n",
       " '__ge__',\n",
       " '__getattribute__',\n",
       " '__gt__',\n",
       " '__hash__',\n",
       " '__init__',\n",
       " '__init_subclass__',\n",
       " '__le__',\n",
       " '__lt__',\n",
       " '__module__',\n",
       " '__ne__',\n",
       " '__new__',\n",
       " '__reduce__',\n",
       " '__reduce_ex__',\n",
       " '__repr__',\n",
       " '__setattr__',\n",
       " '__sizeof__',\n",
       " '__str__',\n",
       " '__subclasshook__',\n",
       " '__weakref__',\n",
       " 'acelerar',\n",
       " 'apagar',\n",
       " 'capacidad_carga',\n",
       " 'carga_actual',\n",
       " 'cargar_mercancia',\n",
       " 'descargar_mercancia',\n",
       " 'encender',\n",
       " 'estado',\n",
       " 'frenar',\n",
       " 'marca',\n",
       " 'modelo',\n",
       " 'pais_procedencia',\n",
       " 'placa',\n",
       " 'velocidad']"
      ]
     },
     "execution_count": 186,
     "metadata": {},
     "output_type": "execute_result"
    }
   ],
   "source": [
    "dir(camion_carga)"
   ]
  },
  {
   "cell_type": "code",
   "execution_count": 187,
   "metadata": {},
   "outputs": [
    {
     "name": "stdout",
     "output_type": "stream",
     "text": [
      "Help on method cargar_mercancia in module __main__:\n",
      "\n",
      "cargar_mercancia(cantidad) method of __main__.Camion instance\n",
      "    Carga cierta cantidad de mercancía sin exceder la capacidad de carga.\n",
      "    \n",
      "    :param cantidad:int: Cantidad de mercancía a cargar.\n",
      "\n"
     ]
    }
   ],
   "source": [
    "help(camion_carga.cargar_mercancia)"
   ]
  },
  {
   "cell_type": "code",
   "execution_count": 188,
   "metadata": {},
   "outputs": [],
   "source": [
    "camion_carga.cargar_mercancia(1000)"
   ]
  },
  {
   "cell_type": "code",
   "execution_count": 189,
   "metadata": {},
   "outputs": [
    {
     "data": {
      "text/plain": [
       "1000"
      ]
     },
     "execution_count": 189,
     "metadata": {},
     "output_type": "execute_result"
    }
   ],
   "source": [
    "camion_carga.carga_actual"
   ]
  },
  {
   "cell_type": "code",
   "execution_count": 190,
   "metadata": {},
   "outputs": [],
   "source": [
    "camion_carga.cargar_mercancia(3000)"
   ]
  },
  {
   "cell_type": "code",
   "execution_count": 191,
   "metadata": {},
   "outputs": [
    {
     "data": {
      "text/plain": [
       "1000"
      ]
     },
     "execution_count": 191,
     "metadata": {},
     "output_type": "execute_result"
    }
   ],
   "source": [
    "camion_carga.carga_actual"
   ]
  },
  {
   "cell_type": "code",
   "execution_count": 192,
   "metadata": {},
   "outputs": [],
   "source": [
    "camion_carga.descargar_mercancia()"
   ]
  },
  {
   "cell_type": "code",
   "execution_count": 193,
   "metadata": {},
   "outputs": [
    {
     "data": {
      "text/plain": [
       "0"
      ]
     },
     "execution_count": 193,
     "metadata": {},
     "output_type": "execute_result"
    }
   ],
   "source": [
    "camion_carga.carga_actual"
   ]
  },
  {
   "cell_type": "code",
   "execution_count": 194,
   "metadata": {},
   "outputs": [],
   "source": [
    "camion_carga.apagar()"
   ]
  },
  {
   "cell_type": "code",
   "execution_count": 195,
   "metadata": {},
   "outputs": [
    {
     "name": "stdout",
     "output_type": "stream",
     "text": [
      "El camión no está encendido.\n"
     ]
    }
   ],
   "source": [
    "if camion_carga.estado:\n",
    "    print('El camión está encendido.')\n",
    "else:\n",
    "    print('El camión no está encendido.')"
   ]
  },
  {
   "cell_type": "code",
   "execution_count": 196,
   "metadata": {},
   "outputs": [
    {
     "data": {
      "text/plain": [
       "False"
      ]
     },
     "execution_count": 196,
     "metadata": {},
     "output_type": "execute_result"
    }
   ],
   "source": [
    "camion_carga.estado"
   ]
  },
  {
   "cell_type": "code",
   "execution_count": null,
   "metadata": {},
   "outputs": [],
   "source": []
  }
 ],
 "metadata": {
  "kernelspec": {
   "display_name": "Python 3",
   "language": "python",
   "name": "python3"
  },
  "language_info": {
   "codemirror_mode": {
    "name": "ipython",
    "version": 3
   },
   "file_extension": ".py",
   "mimetype": "text/x-python",
   "name": "python",
   "nbconvert_exporter": "python",
   "pygments_lexer": "ipython3",
   "version": "3.8.3"
  }
 },
 "nbformat": 4,
 "nbformat_minor": 4
}
