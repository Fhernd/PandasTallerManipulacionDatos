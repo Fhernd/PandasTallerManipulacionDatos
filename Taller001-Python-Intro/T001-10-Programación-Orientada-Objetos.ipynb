{
 "cells": [
  {
   "cell_type": "markdown",
   "metadata": {},
   "source": [
    "# Programación Orientada a Objetos (POO)\n",
    "\n",
    "El mundo real (o el mundo natural) está compuesto de objetos. Esos objetos (o entidades) se pueden representar computacionalmente para la creación de aplicaciones de software.\n",
    "\n",
    "La POO es una técnica o una tecnología que permite simular la realidad con el fin de resolver problemas de una manera más exacta y eficiente."
   ]
  },
  {
   "cell_type": "code",
   "execution_count": null,
   "metadata": {},
   "outputs": [],
   "source": []
  }
 ],
 "metadata": {
  "kernelspec": {
   "display_name": "Python 3",
   "language": "python",
   "name": "python3"
  },
  "language_info": {
   "codemirror_mode": {
    "name": "ipython",
    "version": 3
   },
   "file_extension": ".py",
   "mimetype": "text/x-python",
   "name": "python",
   "nbconvert_exporter": "python",
   "pygments_lexer": "ipython3",
   "version": "3.8.3"
  }
 },
 "nbformat": 4,
 "nbformat_minor": 4
}
