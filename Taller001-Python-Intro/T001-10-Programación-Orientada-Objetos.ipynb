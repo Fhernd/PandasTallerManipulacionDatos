{
 "cells": [
  {
   "cell_type": "markdown",
   "metadata": {},
   "source": [
    "# 10. Programación Orientada a Objetos (POO)\n",
    "\n",
    "El mundo real (o el mundo natural) está compuesto de objetos. Esos objetos (o entidades) se pueden representar computacionalmente para la creación de aplicaciones de software.\n",
    "\n",
    "La POO es una técnica o una tecnología que permite simular la realidad con el fin de resolver problemas de una manera más exacta y eficiente.\n",
    "\n",
    "Miembros de una clase:\n",
    "- Campos de instancia: representan el estado del objeto.\n",
    "- Métodos de instancia: representan el comportamiento del objeto."
   ]
  },
  {
   "cell_type": "markdown",
   "metadata": {},
   "source": [
    "## 10.1 Crear una clase de objeto"
   ]
  },
  {
   "cell_type": "code",
   "execution_count": 1,
   "metadata": {},
   "outputs": [],
   "source": [
    "class Persona:\n",
    "    \n",
    "    def __init__(self, documento, nombre_completo, email, direccion):\n",
    "        self.documento = documento\n",
    "        self.nombre_completo = nombre_completo\n",
    "        self.email = email\n",
    "        self.direccion = direccion\n",
    "    \n",
    "    def caminar(self):\n",
    "        print('La persona está caminando.')\n",
    "    \n",
    "    def trabajar(self):\n",
    "        print('La persona está trabajando.')"
   ]
  },
  {
   "cell_type": "markdown",
   "metadata": {},
   "source": [
    "## 10.2 Instanciación de un objeto a partir de una clase"
   ]
  },
  {
   "cell_type": "code",
   "execution_count": 2,
   "metadata": {},
   "outputs": [],
   "source": [
    "cristian = Persona(123456789, 'Cristián Javier Ocampo', 'cristian@mail.co', 'Carrera 10 134-93')"
   ]
  },
  {
   "cell_type": "code",
   "execution_count": 3,
   "metadata": {},
   "outputs": [
    {
     "data": {
      "text/plain": [
       "<__main__.Persona at 0x1aad851bcd0>"
      ]
     },
     "execution_count": 3,
     "metadata": {},
     "output_type": "execute_result"
    }
   ],
   "source": [
    "cristian"
   ]
  },
  {
   "cell_type": "code",
   "execution_count": 4,
   "metadata": {},
   "outputs": [
    {
     "data": {
      "text/plain": [
       "__main__.Persona"
      ]
     },
     "execution_count": 4,
     "metadata": {},
     "output_type": "execute_result"
    }
   ],
   "source": [
    "type(cristian)"
   ]
  },
  {
   "cell_type": "markdown",
   "metadata": {},
   "source": [
    "## 10.3 Acceso a las propiedades de un objeto"
   ]
  },
  {
   "cell_type": "code",
   "execution_count": 5,
   "metadata": {},
   "outputs": [
    {
     "data": {
      "text/plain": [
       "123456789"
      ]
     },
     "execution_count": 5,
     "metadata": {},
     "output_type": "execute_result"
    }
   ],
   "source": [
    "cristian.documento"
   ]
  },
  {
   "cell_type": "code",
   "execution_count": 6,
   "metadata": {},
   "outputs": [
    {
     "data": {
      "text/plain": [
       "'Carrera 10 134-93'"
      ]
     },
     "execution_count": 6,
     "metadata": {},
     "output_type": "execute_result"
    }
   ],
   "source": [
    "cristian.direccion"
   ]
  },
  {
   "cell_type": "code",
   "execution_count": 7,
   "metadata": {},
   "outputs": [
    {
     "data": {
      "text/plain": [
       "'Cristián Javier Ocampo'"
      ]
     },
     "execution_count": 7,
     "metadata": {},
     "output_type": "execute_result"
    }
   ],
   "source": [
    "cristian.nombre_completo"
   ]
  },
  {
   "cell_type": "code",
   "execution_count": 8,
   "metadata": {},
   "outputs": [
    {
     "data": {
      "text/plain": [
       "'cristian@mail.co'"
      ]
     },
     "execution_count": 8,
     "metadata": {},
     "output_type": "execute_result"
    }
   ],
   "source": [
    "cristian.email"
   ]
  },
  {
   "cell_type": "markdown",
   "metadata": {},
   "source": [
    "## 10.4 Invocar (llamar) funciones de un objeto\n",
    "\n",
    "A las funciones en un objeto se les conoce como métodos."
   ]
  },
  {
   "cell_type": "code",
   "execution_count": 9,
   "metadata": {},
   "outputs": [
    {
     "name": "stdout",
     "output_type": "stream",
     "text": [
      "La persona está caminando.\n"
     ]
    }
   ],
   "source": [
    "cristian.caminar()"
   ]
  },
  {
   "cell_type": "code",
   "execution_count": 10,
   "metadata": {},
   "outputs": [
    {
     "name": "stdout",
     "output_type": "stream",
     "text": [
      "La persona está trabajando.\n"
     ]
    }
   ],
   "source": [
    "cristian.trabajar()"
   ]
  },
  {
   "cell_type": "markdown",
   "metadata": {},
   "source": [
    "**Ejemplo 10.1**:\n",
    "\n",
    "Crear una clase que represente la entidad calculadora. Dentro de la implementación se deben crear los métodos asociados a las operaciones aritméticas básicas (suma, resta, multiplicación, y división)."
   ]
  },
  {
   "cell_type": "code",
   "execution_count": 11,
   "metadata": {},
   "outputs": [],
   "source": [
    "class Calculadora:\n",
    "    \n",
    "    def sumar(self, a, b):\n",
    "        \"\"\"\n",
    "        Suma dos valores numéricos.\n",
    "        \n",
    "        a: Primer número a sumar.\n",
    "        b: Segundo número a sumar.\n",
    "        \n",
    "        return: Suma de los dos valores.\n",
    "        \"\"\"\n",
    "        suma = a + b\n",
    "        \n",
    "        return suma\n",
    "    \n",
    "    def restar(self, a, b):\n",
    "        \"\"\"\n",
    "        Resta dos valores numéricos.\n",
    "        \n",
    "        a: Primer número a restar.\n",
    "        b: Segundo número a restar.\n",
    "        \n",
    "        return: Resta de los dos valores.\n",
    "        \"\"\"\n",
    "        resta = a - b\n",
    "        \n",
    "        return resta\n",
    "    \n",
    "    def multiplicar(self, a, b):\n",
    "        \"\"\"\n",
    "        Multiplica dos valores numéricos.\n",
    "        \n",
    "        a: Primer número a multiplicar.\n",
    "        b: Segundo número a multiplicar.\n",
    "        \n",
    "        return: Multiplicación de los dos valores.\n",
    "        \"\"\"\n",
    "        multiplicacion = a * b\n",
    "        \n",
    "        return multiplicacion\n",
    "    \n",
    "    def dividir(self, a, b):\n",
    "        \"\"\"\n",
    "        Divide dos valores numéricos.\n",
    "        \n",
    "        a: Primer número a dividir.\n",
    "        b: Segundo número a dividir.\n",
    "        \n",
    "        return: División de los dos valores.\n",
    "        \"\"\"\n",
    "        division = a / b\n",
    "        \n",
    "        return division"
   ]
  },
  {
   "cell_type": "code",
   "execution_count": 12,
   "metadata": {},
   "outputs": [],
   "source": [
    "calculadora_basica = Calculadora()"
   ]
  },
  {
   "cell_type": "code",
   "execution_count": 13,
   "metadata": {},
   "outputs": [
    {
     "data": {
      "text/plain": [
       "__main__.Calculadora"
      ]
     },
     "execution_count": 13,
     "metadata": {},
     "output_type": "execute_result"
    }
   ],
   "source": [
    "type(calculadora_basica)"
   ]
  },
  {
   "cell_type": "code",
   "execution_count": 14,
   "metadata": {},
   "outputs": [
    {
     "data": {
      "text/plain": [
       "1833285664480"
      ]
     },
     "execution_count": 14,
     "metadata": {},
     "output_type": "execute_result"
    }
   ],
   "source": [
    "id(calculadora_basica)"
   ]
  },
  {
   "cell_type": "code",
   "execution_count": 15,
   "metadata": {},
   "outputs": [],
   "source": [
    "calculadora_aritmetica = Calculadora()"
   ]
  },
  {
   "cell_type": "code",
   "execution_count": 16,
   "metadata": {},
   "outputs": [
    {
     "data": {
      "text/plain": [
       "__main__.Calculadora"
      ]
     },
     "execution_count": 16,
     "metadata": {},
     "output_type": "execute_result"
    }
   ],
   "source": [
    "type(calculadora_aritmetica)"
   ]
  },
  {
   "cell_type": "code",
   "execution_count": 17,
   "metadata": {},
   "outputs": [
    {
     "data": {
      "text/plain": [
       "1833285714944"
      ]
     },
     "execution_count": 17,
     "metadata": {},
     "output_type": "execute_result"
    }
   ],
   "source": [
    "id(calculadora_aritmetica)"
   ]
  },
  {
   "cell_type": "code",
   "execution_count": 18,
   "metadata": {},
   "outputs": [
    {
     "data": {
      "text/plain": [
       "False"
      ]
     },
     "execution_count": 18,
     "metadata": {},
     "output_type": "execute_result"
    }
   ],
   "source": [
    "id(calculadora_basica) == id(calculadora_aritmetica)"
   ]
  },
  {
   "cell_type": "markdown",
   "metadata": {},
   "source": [
    "**Nota:** Cada objeto/instancia tiene recursos computacionales asociados. No pueden existir dos objetos diferentes que ocupen el mismo espacio en memoria."
   ]
  },
  {
   "cell_type": "markdown",
   "metadata": {},
   "source": [
    "Cada instancia/objeto tiene los mismos métodos y atributos, **PERO** con estado diferente."
   ]
  },
  {
   "cell_type": "code",
   "execution_count": 19,
   "metadata": {},
   "outputs": [
    {
     "data": {
      "text/plain": [
       "True"
      ]
     },
     "execution_count": 19,
     "metadata": {},
     "output_type": "execute_result"
    }
   ],
   "source": [
    "isinstance(calculadora_basica, Calculadora)"
   ]
  },
  {
   "cell_type": "code",
   "execution_count": 20,
   "metadata": {},
   "outputs": [
    {
     "data": {
      "text/plain": [
       "True"
      ]
     },
     "execution_count": 20,
     "metadata": {},
     "output_type": "execute_result"
    }
   ],
   "source": [
    "isinstance(calculadora_aritmetica, Calculadora)"
   ]
  },
  {
   "cell_type": "code",
   "execution_count": 21,
   "metadata": {},
   "outputs": [],
   "source": [
    "numeros = [2, 3, 5]"
   ]
  },
  {
   "cell_type": "code",
   "execution_count": 22,
   "metadata": {},
   "outputs": [
    {
     "data": {
      "text/plain": [
       "list"
      ]
     },
     "execution_count": 22,
     "metadata": {},
     "output_type": "execute_result"
    }
   ],
   "source": [
    "type(numeros)"
   ]
  },
  {
   "cell_type": "code",
   "execution_count": 23,
   "metadata": {},
   "outputs": [
    {
     "data": {
      "text/plain": [
       "False"
      ]
     },
     "execution_count": 23,
     "metadata": {},
     "output_type": "execute_result"
    }
   ],
   "source": [
    "isinstance(numeros, Calculadora)"
   ]
  },
  {
   "cell_type": "markdown",
   "metadata": {},
   "source": [
    "Llamar/invocar los métodos de una instancia de una clase:"
   ]
  },
  {
   "cell_type": "code",
   "execution_count": 24,
   "metadata": {},
   "outputs": [
    {
     "data": {
      "text/plain": [
       "5"
      ]
     },
     "execution_count": 24,
     "metadata": {},
     "output_type": "execute_result"
    }
   ],
   "source": [
    "calculadora_basica.sumar(2, 3)"
   ]
  },
  {
   "cell_type": "code",
   "execution_count": 25,
   "metadata": {},
   "outputs": [
    {
     "data": {
      "text/plain": [
       "-1"
      ]
     },
     "execution_count": 25,
     "metadata": {},
     "output_type": "execute_result"
    }
   ],
   "source": [
    "calculadora_basica.restar(2, 3)"
   ]
  },
  {
   "cell_type": "code",
   "execution_count": 26,
   "metadata": {},
   "outputs": [
    {
     "data": {
      "text/plain": [
       "6"
      ]
     },
     "execution_count": 26,
     "metadata": {},
     "output_type": "execute_result"
    }
   ],
   "source": [
    "calculadora_basica.multiplicar(2, 3)"
   ]
  },
  {
   "cell_type": "code",
   "execution_count": 27,
   "metadata": {},
   "outputs": [
    {
     "data": {
      "text/plain": [
       "0.6666666666666666"
      ]
     },
     "execution_count": 27,
     "metadata": {},
     "output_type": "execute_result"
    }
   ],
   "source": [
    "calculadora_basica.dividir(2, 3)"
   ]
  },
  {
   "cell_type": "code",
   "execution_count": 28,
   "metadata": {},
   "outputs": [
    {
     "data": {
      "text/plain": [
       "5"
      ]
     },
     "execution_count": 28,
     "metadata": {},
     "output_type": "execute_result"
    }
   ],
   "source": [
    "calculadora_aritmetica.sumar(2, 3)"
   ]
  },
  {
   "cell_type": "code",
   "execution_count": 29,
   "metadata": {},
   "outputs": [
    {
     "data": {
      "text/plain": [
       "-1"
      ]
     },
     "execution_count": 29,
     "metadata": {},
     "output_type": "execute_result"
    }
   ],
   "source": [
    "calculadora_aritmetica.restar(2, 3)"
   ]
  },
  {
   "cell_type": "code",
   "execution_count": 30,
   "metadata": {},
   "outputs": [
    {
     "data": {
      "text/plain": [
       "6"
      ]
     },
     "execution_count": 30,
     "metadata": {},
     "output_type": "execute_result"
    }
   ],
   "source": [
    "calculadora_aritmetica.multiplicar(2, 3)"
   ]
  },
  {
   "cell_type": "code",
   "execution_count": 31,
   "metadata": {},
   "outputs": [
    {
     "data": {
      "text/plain": [
       "0.6666666666666666"
      ]
     },
     "execution_count": 31,
     "metadata": {},
     "output_type": "execute_result"
    }
   ],
   "source": [
    "calculadora_aritmetica.dividir(2, 3)"
   ]
  },
  {
   "cell_type": "markdown",
   "metadata": {},
   "source": [
    "Consultar la documentación de funciones que están definidas en una clase:"
   ]
  },
  {
   "cell_type": "code",
   "execution_count": 32,
   "metadata": {},
   "outputs": [
    {
     "name": "stdout",
     "output_type": "stream",
     "text": [
      "Help on method sumar in module __main__:\n",
      "\n",
      "sumar(a, b) method of __main__.Calculadora instance\n",
      "    Suma dos valores numéricos.\n",
      "    \n",
      "    a: Primer número a sumar.\n",
      "    b: Segundo número a sumar.\n",
      "    \n",
      "    return: Suma de los dos valores.\n",
      "\n"
     ]
    }
   ],
   "source": [
    "help(calculadora_aritmetica.sumar)"
   ]
  },
  {
   "cell_type": "code",
   "execution_count": 33,
   "metadata": {},
   "outputs": [
    {
     "name": "stdout",
     "output_type": "stream",
     "text": [
      "Help on method multiplicar in module __main__:\n",
      "\n",
      "multiplicar(a, b) method of __main__.Calculadora instance\n",
      "    Multiplica dos valores numéricos.\n",
      "    \n",
      "    a: Primer número a multiplicar.\n",
      "    b: Segundo número a multiplicar.\n",
      "    \n",
      "    return: Multiplicación de los dos valores.\n",
      "\n"
     ]
    }
   ],
   "source": [
    "help(calculadora_aritmetica.multiplicar)"
   ]
  },
  {
   "cell_type": "markdown",
   "metadata": {},
   "source": [
    "# 10.5 Cambiar el estado de un objeto a través de métodos de instancia\n",
    "\n",
    "Los métodos de instancia son funciones especiales que pertenecen a una clase. Cada objeto que se instancie tendrá acceso a esos métodos.\n",
    "\n",
    "Estos métodos tienen un parámetro obligatorio: `self`.\n",
    "\n",
    "Las funciones (métodos de instancia) definen lo que el objeto (entidad) puede hacer (comportamiento)."
   ]
  },
  {
   "cell_type": "markdown",
   "metadata": {},
   "source": [
    "**Ejemplo 10.2:**\n",
    "\n",
    "Crear una clase que represente una cuenta bancaria.\n",
    "\n",
    "Sobre una cuenta bancaria se pueden realizar las siguientes operaciones:\n",
    "\n",
    "1. Abrir cuenta\n",
    "2. Depositar dinero\n",
    "3. Retirar dinero\n",
    "4. Consultar saldo\n",
    "5. Cerrar cuenta\n",
    "\n",
    "También se deben incluir atributos (propiedades o características) como:\n",
    "\n",
    "1. Nombre del cliente\n",
    "2. Número de la cuenta\n",
    "3. Saldo\n",
    "4. Estado (activo o inactivo)"
   ]
  },
  {
   "cell_type": "code",
   "execution_count": 34,
   "metadata": {},
   "outputs": [],
   "source": [
    "class CuentaBancaria:\n",
    "    \n",
    "    def __init__(self, numero, cliente, saldo=10000, estado=True):\n",
    "        self.numero = numero\n",
    "        self.cliente = cliente\n",
    "        self.saldo = saldo\n",
    "        self.estado = estado\n",
    "    \n",
    "    def depositar(self, cantidad):\n",
    "        \"\"\"\n",
    "        Deposita cierta cantidad de dinero en la cuenta.\n",
    "        \n",
    "        :cantidad: Cantidad de dinero a depositar.\n",
    "        \"\"\"\n",
    "        if self.estado and cantidad > 0:\n",
    "            self.saldo += cantidad\n",
    "    \n",
    "    def retirar(self, cantidad):\n",
    "        \"\"\"\n",
    "        Retira cierta cantidad de dinero.\n",
    "        \n",
    "        :cantidad: Cantidad de dinero a retirar.\n",
    "        \"\"\"\n",
    "        if self.estado and cantidad > 0 and cantidad <= self.saldo:\n",
    "            self.saldo -= cantidad\n",
    "    \n",
    "    def cerrar_cuenta(self):\n",
    "        \"\"\"\n",
    "        Cierra la cuenta bancaria.\n",
    "        \"\"\"\n",
    "        self.estado = False"
   ]
  },
  {
   "cell_type": "code",
   "execution_count": 35,
   "metadata": {},
   "outputs": [],
   "source": [
    "cuenta_ahorros = CuentaBancaria(123456789, 'Juan Urbano', 50000)"
   ]
  },
  {
   "cell_type": "code",
   "execution_count": 36,
   "metadata": {},
   "outputs": [
    {
     "data": {
      "text/plain": [
       "<__main__.CuentaBancaria at 0x1aad85739a0>"
      ]
     },
     "execution_count": 36,
     "metadata": {},
     "output_type": "execute_result"
    }
   ],
   "source": [
    "cuenta_ahorros"
   ]
  },
  {
   "cell_type": "code",
   "execution_count": 37,
   "metadata": {},
   "outputs": [
    {
     "data": {
      "text/plain": [
       "'Juan Urbano'"
      ]
     },
     "execution_count": 37,
     "metadata": {},
     "output_type": "execute_result"
    }
   ],
   "source": [
    "cuenta_ahorros.cliente"
   ]
  },
  {
   "cell_type": "code",
   "execution_count": 38,
   "metadata": {},
   "outputs": [
    {
     "data": {
      "text/plain": [
       "True"
      ]
     },
     "execution_count": 38,
     "metadata": {},
     "output_type": "execute_result"
    }
   ],
   "source": [
    "cuenta_ahorros.estado"
   ]
  },
  {
   "cell_type": "code",
   "execution_count": 39,
   "metadata": {},
   "outputs": [
    {
     "data": {
      "text/plain": [
       "123456789"
      ]
     },
     "execution_count": 39,
     "metadata": {},
     "output_type": "execute_result"
    }
   ],
   "source": [
    "cuenta_ahorros.numero"
   ]
  },
  {
   "cell_type": "code",
   "execution_count": 40,
   "metadata": {},
   "outputs": [
    {
     "data": {
      "text/plain": [
       "50000"
      ]
     },
     "execution_count": 40,
     "metadata": {},
     "output_type": "execute_result"
    }
   ],
   "source": [
    "cuenta_ahorros.saldo"
   ]
  },
  {
   "cell_type": "markdown",
   "metadata": {},
   "source": [
    "Podemos preguntar por el tipo de dato de una variable utilizando la función `type()`:"
   ]
  },
  {
   "cell_type": "code",
   "execution_count": 41,
   "metadata": {},
   "outputs": [
    {
     "data": {
      "text/plain": [
       "__main__.CuentaBancaria"
      ]
     },
     "execution_count": 41,
     "metadata": {},
     "output_type": "execute_result"
    }
   ],
   "source": [
    "type(cuenta_ahorros)"
   ]
  },
  {
   "cell_type": "code",
   "execution_count": 42,
   "metadata": {},
   "outputs": [
    {
     "data": {
      "text/plain": [
       "True"
      ]
     },
     "execution_count": 42,
     "metadata": {},
     "output_type": "execute_result"
    }
   ],
   "source": [
    "isinstance(cuenta_ahorros, CuentaBancaria)"
   ]
  },
  {
   "cell_type": "code",
   "execution_count": 43,
   "metadata": {},
   "outputs": [
    {
     "data": {
      "text/plain": [
       "True"
      ]
     },
     "execution_count": 43,
     "metadata": {},
     "output_type": "execute_result"
    }
   ],
   "source": [
    "type(cuenta_ahorros) in [CuentaBancaria]"
   ]
  },
  {
   "cell_type": "code",
   "execution_count": 44,
   "metadata": {},
   "outputs": [
    {
     "data": {
      "text/plain": [
       "False"
      ]
     },
     "execution_count": 44,
     "metadata": {},
     "output_type": "execute_result"
    }
   ],
   "source": [
    "type('Python') in [CuentaBancaria]"
   ]
  },
  {
   "cell_type": "markdown",
   "metadata": {},
   "source": [
    "Realizar operaciones sobre un objeto de tipo `CuentaBancaria`:"
   ]
  },
  {
   "cell_type": "code",
   "execution_count": 45,
   "metadata": {},
   "outputs": [
    {
     "data": {
      "text/plain": [
       "['__class__',\n",
       " '__delattr__',\n",
       " '__dict__',\n",
       " '__dir__',\n",
       " '__doc__',\n",
       " '__eq__',\n",
       " '__format__',\n",
       " '__ge__',\n",
       " '__getattribute__',\n",
       " '__gt__',\n",
       " '__hash__',\n",
       " '__init__',\n",
       " '__init_subclass__',\n",
       " '__le__',\n",
       " '__lt__',\n",
       " '__module__',\n",
       " '__ne__',\n",
       " '__new__',\n",
       " '__reduce__',\n",
       " '__reduce_ex__',\n",
       " '__repr__',\n",
       " '__setattr__',\n",
       " '__sizeof__',\n",
       " '__str__',\n",
       " '__subclasshook__',\n",
       " '__weakref__',\n",
       " 'cerrar_cuenta',\n",
       " 'cliente',\n",
       " 'depositar',\n",
       " 'estado',\n",
       " 'numero',\n",
       " 'retirar',\n",
       " 'saldo']"
      ]
     },
     "execution_count": 45,
     "metadata": {},
     "output_type": "execute_result"
    }
   ],
   "source": [
    "dir(cuenta_ahorros)"
   ]
  },
  {
   "cell_type": "code",
   "execution_count": 46,
   "metadata": {},
   "outputs": [
    {
     "data": {
      "text/plain": [
       "50000"
      ]
     },
     "execution_count": 46,
     "metadata": {},
     "output_type": "execute_result"
    }
   ],
   "source": [
    "cuenta_ahorros.saldo"
   ]
  },
  {
   "cell_type": "code",
   "execution_count": 47,
   "metadata": {},
   "outputs": [],
   "source": [
    "cuenta_ahorros.depositar(10000)"
   ]
  },
  {
   "cell_type": "code",
   "execution_count": 48,
   "metadata": {},
   "outputs": [
    {
     "data": {
      "text/plain": [
       "60000"
      ]
     },
     "execution_count": 48,
     "metadata": {},
     "output_type": "execute_result"
    }
   ],
   "source": [
    "cuenta_ahorros.saldo"
   ]
  },
  {
   "cell_type": "code",
   "execution_count": 49,
   "metadata": {},
   "outputs": [],
   "source": [
    "cuenta_ahorros.depositar(-10000)"
   ]
  },
  {
   "cell_type": "code",
   "execution_count": 50,
   "metadata": {},
   "outputs": [
    {
     "data": {
      "text/plain": [
       "60000"
      ]
     },
     "execution_count": 50,
     "metadata": {},
     "output_type": "execute_result"
    }
   ],
   "source": [
    "cuenta_ahorros.saldo"
   ]
  },
  {
   "cell_type": "code",
   "execution_count": 51,
   "metadata": {},
   "outputs": [],
   "source": [
    "cuenta_ahorros.retirar(20000)"
   ]
  },
  {
   "cell_type": "code",
   "execution_count": 52,
   "metadata": {},
   "outputs": [
    {
     "data": {
      "text/plain": [
       "40000"
      ]
     },
     "execution_count": 52,
     "metadata": {},
     "output_type": "execute_result"
    }
   ],
   "source": [
    "cuenta_ahorros.saldo"
   ]
  },
  {
   "cell_type": "code",
   "execution_count": 53,
   "metadata": {},
   "outputs": [],
   "source": [
    "cuenta_ahorros.retirar(-20000)"
   ]
  },
  {
   "cell_type": "code",
   "execution_count": 54,
   "metadata": {},
   "outputs": [
    {
     "data": {
      "text/plain": [
       "40000"
      ]
     },
     "execution_count": 54,
     "metadata": {},
     "output_type": "execute_result"
    }
   ],
   "source": [
    "cuenta_ahorros.saldo"
   ]
  },
  {
   "cell_type": "code",
   "execution_count": 55,
   "metadata": {},
   "outputs": [
    {
     "data": {
      "text/plain": [
       "__main__.CuentaBancaria"
      ]
     },
     "execution_count": 55,
     "metadata": {},
     "output_type": "execute_result"
    }
   ],
   "source": [
    "type(cuenta_ahorros)"
   ]
  },
  {
   "cell_type": "markdown",
   "metadata": {},
   "source": [
    "1. Crear un nuevo objeto de tipo `CuentaBancaria`.\n",
    "2. Enviar dinero de una cuenta a otra."
   ]
  },
  {
   "cell_type": "code",
   "execution_count": 56,
   "metadata": {},
   "outputs": [],
   "source": [
    "cuenta_corriente = CuentaBancaria(95185123, 'Angela Burgos', 100000)"
   ]
  },
  {
   "cell_type": "code",
   "execution_count": 57,
   "metadata": {},
   "outputs": [
    {
     "data": {
      "text/plain": [
       "__main__.CuentaBancaria"
      ]
     },
     "execution_count": 57,
     "metadata": {},
     "output_type": "execute_result"
    }
   ],
   "source": [
    "type(cuenta_corriente)"
   ]
  },
  {
   "cell_type": "code",
   "execution_count": 58,
   "metadata": {},
   "outputs": [
    {
     "name": "stdout",
     "output_type": "stream",
     "text": [
      "95185123 Angela Burgos 100000 True\n"
     ]
    }
   ],
   "source": [
    "print(cuenta_corriente.numero, cuenta_corriente.cliente, cuenta_corriente.saldo, cuenta_corriente.estado)"
   ]
  },
  {
   "cell_type": "code",
   "execution_count": 59,
   "metadata": {},
   "outputs": [],
   "source": [
    "dinero = 20000"
   ]
  },
  {
   "cell_type": "code",
   "execution_count": 60,
   "metadata": {},
   "outputs": [],
   "source": [
    "cuenta_corriente.retirar(dinero)"
   ]
  },
  {
   "cell_type": "code",
   "execution_count": 61,
   "metadata": {},
   "outputs": [
    {
     "data": {
      "text/plain": [
       "80000"
      ]
     },
     "execution_count": 61,
     "metadata": {},
     "output_type": "execute_result"
    }
   ],
   "source": [
    "cuenta_corriente.saldo"
   ]
  },
  {
   "cell_type": "code",
   "execution_count": 62,
   "metadata": {},
   "outputs": [
    {
     "name": "stdout",
     "output_type": "stream",
     "text": [
      "123456789 Juan Urbano 40000 True\n"
     ]
    }
   ],
   "source": [
    "print(cuenta_ahorros.numero, cuenta_ahorros.cliente, cuenta_ahorros.saldo, cuenta_ahorros.estado)"
   ]
  },
  {
   "cell_type": "code",
   "execution_count": 63,
   "metadata": {},
   "outputs": [],
   "source": [
    "cuenta_ahorros.depositar(dinero)"
   ]
  },
  {
   "cell_type": "code",
   "execution_count": 64,
   "metadata": {},
   "outputs": [
    {
     "data": {
      "text/plain": [
       "60000"
      ]
     },
     "execution_count": 64,
     "metadata": {},
     "output_type": "execute_result"
    }
   ],
   "source": [
    "cuenta_ahorros.saldo"
   ]
  },
  {
   "cell_type": "code",
   "execution_count": 65,
   "metadata": {},
   "outputs": [],
   "source": [
    "dinero = cuenta_corriente.saldo"
   ]
  },
  {
   "cell_type": "code",
   "execution_count": 66,
   "metadata": {},
   "outputs": [
    {
     "data": {
      "text/plain": [
       "80000"
      ]
     },
     "execution_count": 66,
     "metadata": {},
     "output_type": "execute_result"
    }
   ],
   "source": [
    "dinero"
   ]
  },
  {
   "cell_type": "code",
   "execution_count": 67,
   "metadata": {},
   "outputs": [],
   "source": [
    "cuenta_ahorros.depositar(dinero)"
   ]
  },
  {
   "cell_type": "code",
   "execution_count": 68,
   "metadata": {},
   "outputs": [
    {
     "data": {
      "text/plain": [
       "140000"
      ]
     },
     "execution_count": 68,
     "metadata": {},
     "output_type": "execute_result"
    }
   ],
   "source": [
    "cuenta_ahorros.saldo"
   ]
  },
  {
   "cell_type": "code",
   "execution_count": 69,
   "metadata": {},
   "outputs": [],
   "source": [
    "cuenta_corriente.cerrar_cuenta()"
   ]
  },
  {
   "cell_type": "code",
   "execution_count": 70,
   "metadata": {},
   "outputs": [
    {
     "data": {
      "text/plain": [
       "False"
      ]
     },
     "execution_count": 70,
     "metadata": {},
     "output_type": "execute_result"
    }
   ],
   "source": [
    "cuenta_corriente.estado"
   ]
  },
  {
   "cell_type": "markdown",
   "metadata": {},
   "source": [
    "## 10.6 Cambiar la funcionalidad que se hereda desde otro objeto"
   ]
  },
  {
   "cell_type": "code",
   "execution_count": 71,
   "metadata": {},
   "outputs": [
    {
     "name": "stdout",
     "output_type": "stream",
     "text": [
      "<__main__.CuentaBancaria object at 0x000001AAD85739A0>\n"
     ]
    }
   ],
   "source": [
    "print(cuenta_ahorros)"
   ]
  },
  {
   "cell_type": "code",
   "execution_count": 72,
   "metadata": {},
   "outputs": [],
   "source": [
    "class CuentaBancaria(object):\n",
    "    \n",
    "    def __init__(self, numero, cliente, saldo=10000, estado=True):\n",
    "        self.numero = numero\n",
    "        self.cliente = cliente\n",
    "        self.saldo = saldo\n",
    "        self.estado = estado\n",
    "    \n",
    "    def depositar(self, cantidad):\n",
    "        \"\"\"\n",
    "        Deposita cierta cantidad de dinero en la cuenta.\n",
    "        \n",
    "        :cantidad: Cantidad de dinero a depositar.\n",
    "        \"\"\"\n",
    "        if self.estado and cantidad > 0:\n",
    "            self.saldo += cantidad\n",
    "    \n",
    "    def retirar(self, cantidad):\n",
    "        \"\"\"\n",
    "        Retira cierta cantidad de dinero.\n",
    "        \n",
    "        :cantidad: Cantidad de dinero a retirar.\n",
    "        \"\"\"\n",
    "        if self.estado and cantidad > 0 and cantidad <= self.saldo:\n",
    "            self.saldo -= cantidad\n",
    "    \n",
    "    def cerrar_cuenta(self):\n",
    "        \"\"\"\n",
    "        Cierra la cuenta bancaria.\n",
    "        \"\"\"\n",
    "        self.estado = False\n",
    "    \n",
    "    def __str__(self):\n",
    "        return f'{self.numero};{self.cliente};{self.saldo};{self.estado}'"
   ]
  },
  {
   "cell_type": "code",
   "execution_count": 73,
   "metadata": {},
   "outputs": [],
   "source": [
    "cuenta_ahorros = CuentaBancaria(123456789, 'Juan Urbano', 50000)"
   ]
  },
  {
   "cell_type": "code",
   "execution_count": 74,
   "metadata": {},
   "outputs": [
    {
     "name": "stdout",
     "output_type": "stream",
     "text": [
      "123456789;Juan Urbano;50000;True\n"
     ]
    }
   ],
   "source": [
    "print(cuenta_ahorros)"
   ]
  },
  {
   "cell_type": "code",
   "execution_count": 75,
   "metadata": {},
   "outputs": [
    {
     "name": "stdout",
     "output_type": "stream",
     "text": [
      "123456789;Juan Urbano;50000;True\n"
     ]
    }
   ],
   "source": [
    "print(cuenta_ahorros.__str__())"
   ]
  },
  {
   "cell_type": "code",
   "execution_count": 76,
   "metadata": {},
   "outputs": [
    {
     "data": {
      "text/plain": [
       "<__main__.CuentaBancaria at 0x1aad85ae790>"
      ]
     },
     "execution_count": 76,
     "metadata": {},
     "output_type": "execute_result"
    }
   ],
   "source": [
    "cuenta_ahorros"
   ]
  },
  {
   "cell_type": "code",
   "execution_count": 77,
   "metadata": {},
   "outputs": [
    {
     "data": {
      "text/plain": [
       "'123456789;Juan Urbano;50000;True'"
      ]
     },
     "execution_count": 77,
     "metadata": {},
     "output_type": "execute_result"
    }
   ],
   "source": [
    "cuenta_ahorros.__str__()"
   ]
  },
  {
   "cell_type": "markdown",
   "metadata": {},
   "source": [
    "## 10.7 Variables de instancia privadas\n",
    "\n",
    "Miembro privado: Es una variable que **sólo** es visible para el cuerpo de declaración de una clase.\n",
    "\n",
    "Esto apoya el concepto de encapsulación.\n",
    "\n",
    "**Encapsulación**: patrón de diseño para definir los miembros que sólo son visibles al interior de una entidad (clase)."
   ]
  },
  {
   "cell_type": "markdown",
   "metadata": {},
   "source": [
    "Lectura recomendada: consultar acerca de los pilares de la programación orientada a objetos.\n",
    "\n",
    "1. Abstracción (A)\n",
    "2. Polimorfismo (P)\n",
    "3. Herencia (I)\n",
    "4. Encapsulación (E)\n",
    "\n",
    "A-PIE"
   ]
  },
  {
   "cell_type": "code",
   "execution_count": 78,
   "metadata": {},
   "outputs": [],
   "source": [
    "class Perro(object):\n",
    "    \"\"\"\n",
    "    Representa la entidad Perro.\n",
    "    \"\"\"\n",
    "    def __init__(self, nombre, edad, amo):\n",
    "        self._nombre = nombre\n",
    "        self._edad = edad\n",
    "        self._amo = amo"
   ]
  },
  {
   "cell_type": "code",
   "execution_count": 79,
   "metadata": {},
   "outputs": [],
   "source": [
    "tony = Perro('Tony', 35, 'Alexander')"
   ]
  },
  {
   "cell_type": "code",
   "execution_count": 81,
   "metadata": {},
   "outputs": [
    {
     "data": {
      "text/plain": [
       "'Tony'"
      ]
     },
     "execution_count": 81,
     "metadata": {},
     "output_type": "execute_result"
    }
   ],
   "source": [
    "tony._nombre"
   ]
  },
  {
   "cell_type": "code",
   "execution_count": 82,
   "metadata": {},
   "outputs": [
    {
     "data": {
      "text/plain": [
       "35"
      ]
     },
     "execution_count": 82,
     "metadata": {},
     "output_type": "execute_result"
    }
   ],
   "source": [
    "tony._edad"
   ]
  },
  {
   "cell_type": "code",
   "execution_count": 83,
   "metadata": {},
   "outputs": [
    {
     "data": {
      "text/plain": [
       "'Alexander'"
      ]
     },
     "execution_count": 83,
     "metadata": {},
     "output_type": "execute_result"
    }
   ],
   "source": [
    "tony._amo"
   ]
  },
  {
   "cell_type": "code",
   "execution_count": 84,
   "metadata": {},
   "outputs": [],
   "source": [
    "tony._edad = 7"
   ]
  },
  {
   "cell_type": "code",
   "execution_count": 85,
   "metadata": {},
   "outputs": [
    {
     "data": {
      "text/plain": [
       "7"
      ]
     },
     "execution_count": 85,
     "metadata": {},
     "output_type": "execute_result"
    }
   ],
   "source": [
    "tony._edad"
   ]
  },
  {
   "cell_type": "code",
   "execution_count": null,
   "metadata": {},
   "outputs": [],
   "source": []
  }
 ],
 "metadata": {
  "kernelspec": {
   "display_name": "Python 3",
   "language": "python",
   "name": "python3"
  },
  "language_info": {
   "codemirror_mode": {
    "name": "ipython",
    "version": 3
   },
   "file_extension": ".py",
   "mimetype": "text/x-python",
   "name": "python",
   "nbconvert_exporter": "python",
   "pygments_lexer": "ipython3",
   "version": "3.8.3"
  }
 },
 "nbformat": 4,
 "nbformat_minor": 4
}
